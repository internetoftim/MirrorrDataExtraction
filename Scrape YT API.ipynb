{
 "cells": [
  {
   "cell_type": "code",
   "execution_count": 257,
   "metadata": {},
   "outputs": [],
   "source": [
    "# Sample Python code for user authorization\n",
    "import os\n",
    "import google.oauth2.credentials\n",
    "from googleapiclient.discovery import build\n",
    "from googleapiclient.errors import HttpError\n",
    "from google_auth_oauthlib.flow import InstalledAppFlow\n",
    "from selenium import webdriver\n",
    "from selenium.webdriver.common.by import By\n",
    "from selenium.webdriver.support.ui import WebDriverWait\n",
    "from selenium.webdriver.support import expected_conditions as EC\n",
    "from selenium.webdriver.common.keys import Keys\n",
    "from selenium.webdriver.support.ui import Select\n",
    "from selenium.webdriver.common.action_chains import ActionChains\n",
    "import requests, re, json ,pprint\n",
    "from bs4 import BeautifulSoup\n",
    "import pandas as pd\n",
    "import urllib\n",
    "import urllib.request\n",
    "from selenium.webdriver.common.keys import Keys\n",
    "from IPython.display import Image\n",
    "from urllib.parse import urlparse\n",
    "from time import sleep\n",
    "import datetime\n",
    "import pytz # new import\n",
    "new_timezone = pytz.timezone(\"US/Eastern\")\n",
    "import spacy\n",
    "import en_core_web_sm\n",
    "import en_core_web_lg\n",
    "import en_vectors_web_lg\n",
    "import en_core_web_md\n",
    "\n",
    "from dateparser.search import search_dates\n",
    "import arrow\n",
    "import datetime\n",
    "import dateutil.parser\n",
    "import csv\n"
   ]
  },
  {
   "cell_type": "code",
   "execution_count": null,
   "metadata": {},
   "outputs": [],
   "source": [
    "# The CLIENT_SECRETS_FILE variable specifies the name of a file that contains\n",
    "# the OAuth 2.0 information for this application, including its client_id and\n",
    "# client_secret.\n",
    "CLIENT_SECRETS_FILE = \"client_secret.json\"\n",
    "\n",
    "# This OAuth 2.0 access scope allows for full read/write access to the\n",
    "# authenticated user's account and requires requests to use an SSL connection.\n",
    "SCOPES = ['https://www.googleapis.com/auth/youtube.force-ssl']\n",
    "API_SERVICE_NAME = 'youtube'\n",
    "API_VERSION = 'v3'\n",
    "\n",
    "def get_authenticated_service():\n",
    "    flow = InstalledAppFlow.from_client_secrets_file(CLIENT_SECRETS_FILE, SCOPES)\n",
    "    credentials = flow.run_console()\n",
    "    return build(API_SERVICE_NAME, API_VERSION, credentials = credentials)"
   ]
  },
  {
   "cell_type": "code",
   "execution_count": null,
   "metadata": {},
   "outputs": [],
   "source": [
    "os.environ['OAUTHLIB_INSECURE_TRANSPORT'] = '1'\n",
    "service = get_authenticated_service()"
   ]
  },
  {
   "cell_type": "markdown",
   "metadata": {},
   "source": [
    "## Initialize Variables from Codebook"
   ]
  },
  {
   "cell_type": "code",
   "execution_count": null,
   "metadata": {},
   "outputs": [],
   "source": [
    "# Get the channel title from pdf on the column \"Channel Name\"\n",
    "channel_title='The Daily Wire'"
   ]
  },
  {
   "cell_type": "code",
   "execution_count": null,
   "metadata": {},
   "outputs": [],
   "source": [
    "# Get the series title from pdf on the column \"Series Name\"\n",
    "series = 'The Ben Shapiro Show'    "
   ]
  },
  {
   "cell_type": "code",
   "execution_count": null,
   "metadata": {},
   "outputs": [],
   "source": [
    "# Input the filename \n",
    "csv_output = \"benshapiro.csv\""
   ]
  },
  {
   "cell_type": "markdown",
   "metadata": {},
   "source": [
    "## Get Channel Playlists"
   ]
  },
  {
   "cell_type": "code",
   "execution_count": 154,
   "metadata": {},
   "outputs": [],
   "source": [
    "# channel_title='The Daily Wire'"
   ]
  },
  {
   "cell_type": "code",
   "execution_count": 165,
   "metadata": {},
   "outputs": [],
   "source": [
    "# result = service.search().list(\\\n",
    "# q=channel_title,part='snippet',\n",
    "# maxResults=5).execute()\n"
   ]
  },
  {
   "cell_type": "code",
   "execution_count": 308,
   "metadata": {},
   "outputs": [],
   "source": [
    "def get_channel_id (channel_title='The Daily Wire'):\n",
    "    result = service.search().list(\n",
    "        q=channel_title,part='snippet',\n",
    "        maxResults=5).execute()\n",
    "    for res in result['items']:\n",
    "        if(res['snippet']['title']==channel_title):\n",
    "            print(res['id']['channelId'])\n",
    "            channel_id = res['id']['channelId'] \n",
    "            break\n",
    "    return channel_id\n",
    "    "
   ]
  },
  {
   "cell_type": "code",
   "execution_count": null,
   "metadata": {},
   "outputs": [],
   "source": [
    "def transform_date(input_date_str,new_timezone=new_timezone):\n",
    "    video_date_posted_iso = dateutil.parser.parse(input_date_str).astimezone(new_timezone)\n",
    "    video_date_posted = video_date_posted_iso.strftime(\"%Y_%m_%d_%H_%M_%S\")\n",
    "    return video_date_posted,video_date_posted_iso\n",
    "def transform_date_custom(input_date_str,new_timezone=new_timezone):\n",
    "    video_date_posted_iso = dateutil.parser.parse(input_date_str).astimezone(new_timezone)\n",
    "    video_date_posted = video_date_posted_iso.strftime(\"%Y_%m_%d_%H_%M_%S\")\n",
    "    return video_date_posted\n",
    "def transform_date_iso(input_date_str,new_timezone=new_timezone):\n",
    "    video_date_posted_iso = dateutil.parser.parse(input_date_str).astimezone(new_timezone)\n",
    "    return video_date_posted_iso"
   ]
  },
  {
   "cell_type": "code",
   "execution_count": 365,
   "metadata": {},
   "outputs": [],
   "source": [
    "def set_flags (flag):\n",
    "    video=0\n",
    "    comment=0\n",
    "    reply=0\n",
    "    if flag=='video':\n",
    "        video=1\n",
    "    elif flag=='comment':\n",
    "        comment=1\n",
    "    elif flag=='reply':\n",
    "        reply=1\n",
    "    return video,comment,reply"
   ]
  },
  {
   "cell_type": "code",
   "execution_count": 176,
   "metadata": {},
   "outputs": [
    {
     "name": "stdout",
     "output_type": "stream",
     "text": [
      "UCaeO5vkdj5xOQHp4UmIN6dw\n"
     ]
    }
   ],
   "source": [
    "# Search the channelId using the channel title\n",
    "channel_id = get_channel_id(channel_title=channel_title)"
   ]
  },
  {
   "cell_type": "markdown",
   "metadata": {},
   "source": [
    "## Get Playlists from Channel"
   ]
  },
  {
   "cell_type": "code",
   "execution_count": 191,
   "metadata": {},
   "outputs": [],
   "source": [
    "# series = 'The Ben Shapiro Show'                        "
   ]
  },
  {
   "cell_type": "code",
   "execution_count": 315,
   "metadata": {},
   "outputs": [
    {
     "name": "stdout",
     "output_type": "stream",
     "text": [
      "The Ben Shapiro Show\n",
      "PLlVjFVMet3OXfEi7b2w50OUc7QMnpfKqK\n"
     ]
    }
   ],
   "source": [
    "nextPageToken=''\n",
    "while True:\n",
    "    playlist_result = service.playlists().list(\\\n",
    "    channelId=channel_id,part='snippet,contentDetails',\\\n",
    "    maxResults=50,pageToken=nextPageToken).execute()\n",
    "\n",
    "    #This will check if the given playlist is in youtube playlist\n",
    "\n",
    "    for playlist in playlist_result['items']:\n",
    "        if playlist['snippet']['title']==series:\n",
    "            print(series)\n",
    "            print(playlist['id'])\n",
    "            playlist_id = playlist['id']\n",
    "            video_count = playlist['contentDetails']['itemCount']\n",
    "            break\n",
    "    try:\n",
    "        nextPageToken = playlist_result['nextPageToken']\n",
    "    except:\n",
    "        break"
   ]
  },
  {
   "cell_type": "code",
   "execution_count": 316,
   "metadata": {},
   "outputs": [
    {
     "data": {
      "text/plain": [
       "585"
      ]
     },
     "execution_count": 316,
     "metadata": {},
     "output_type": "execute_result"
    }
   ],
   "source": [
    "video_count"
   ]
  },
  {
   "cell_type": "markdown",
   "metadata": {},
   "source": [
    "## Get videos in playlist"
   ]
  },
  {
   "cell_type": "code",
   "execution_count": 223,
   "metadata": {},
   "outputs": [],
   "source": [
    "result_vids = service.playlistItems().list(\\\n",
    "playlistId=playlist_id,part='snippet,contentDetails',\\\n",
    "maxResults=max_results).execute()\n",
    "                                           "
   ]
  },
  {
   "cell_type": "markdown",
   "metadata": {},
   "source": [
    "### Write video details to CSV"
   ]
  },
  {
   "cell_type": "code",
   "execution_count": 300,
   "metadata": {},
   "outputs": [
    {
     "data": {
      "text/plain": [
       "'Russian Roulette | The Ben Shapiro Show Ep. 670'"
      ]
     },
     "metadata": {},
     "output_type": "display_data"
    },
    {
     "data": {
      "text/plain": [
       "1100"
      ]
     },
     "metadata": {},
     "output_type": "display_data"
    },
    {
     "data": {
      "text/plain": [
       "'The ‘Real’ Jews | The Ben Shapiro Show Ep. 669'"
      ]
     },
     "metadata": {},
     "output_type": "display_data"
    },
    {
     "data": {
      "text/plain": [
       "1100"
      ]
     },
     "metadata": {},
     "output_type": "display_data"
    },
    {
     "data": {
      "text/plain": [
       "'Mulling Over Mueller | The Ben Shapiro Show Ep. 668'"
      ]
     },
     "metadata": {},
     "output_type": "display_data"
    },
    {
     "data": {
      "text/plain": [
       "1100"
      ]
     },
     "metadata": {},
     "output_type": "display_data"
    },
    {
     "data": {
      "text/plain": [
       "'The Politics Of Crisis | The Ben Shapiro Show Ep. 667'"
      ]
     },
     "metadata": {},
     "output_type": "display_data"
    },
    {
     "data": {
      "text/plain": [
       "1100"
      ]
     },
     "metadata": {},
     "output_type": "display_data"
    },
    {
     "data": {
      "text/plain": [
       "'Saying The Unsayable | The Ben Shapiro Show Ep. 666'"
      ]
     },
     "metadata": {},
     "output_type": "display_data"
    },
    {
     "data": {
      "text/plain": [
       "1100"
      ]
     },
     "metadata": {},
     "output_type": "display_data"
    },
    {
     "data": {
      "text/plain": [
       "'La Di Da Di, We Like To Saudi | The Ben Shapiro Show Ep. 665'"
      ]
     },
     "metadata": {},
     "output_type": "display_data"
    },
    {
     "data": {
      "text/plain": [
       "1100"
      ]
     },
     "metadata": {},
     "output_type": "display_data"
    },
    {
     "data": {
      "text/plain": [
       "'Hillary’s Email Revenge | Ep. 664'"
      ]
     },
     "metadata": {},
     "output_type": "display_data"
    },
    {
     "data": {
      "text/plain": [
       "1100"
      ]
     },
     "metadata": {},
     "output_type": "display_data"
    },
    {
     "data": {
      "text/plain": [
       "'The New York Slimes | The Ben Shapiro Show Ep. 663'"
      ]
     },
     "metadata": {},
     "output_type": "display_data"
    },
    {
     "data": {
      "text/plain": [
       "1100"
      ]
     },
     "metadata": {},
     "output_type": "display_data"
    },
    {
     "data": {
      "text/plain": [
       "'Sunday Special Ep 28: Stephen Harper'"
      ]
     },
     "metadata": {},
     "output_type": "display_data"
    },
    {
     "data": {
      "text/plain": [
       "1100"
      ]
     },
     "metadata": {},
     "output_type": "display_data"
    },
    {
     "data": {
      "text/plain": [
       "'The Florida Project | The Ben Shapiro Show Ep. 662'"
      ]
     },
     "metadata": {},
     "output_type": "display_data"
    },
    {
     "data": {
      "text/plain": [
       "1100"
      ]
     },
     "metadata": {},
     "output_type": "display_data"
    },
    {
     "data": {
      "text/plain": [
       "'To Have And Avenatti | The Ben Shapiro Show Ep. 661'"
      ]
     },
     "metadata": {},
     "output_type": "display_data"
    },
    {
     "data": {
      "text/plain": [
       "1100"
      ]
     },
     "metadata": {},
     "output_type": "display_data"
    },
    {
     "data": {
      "text/plain": [
       "'Congress Will Be Fun! | The Ben Shapiro Show Ep. 660'"
      ]
     },
     "metadata": {},
     "output_type": "display_data"
    },
    {
     "data": {
      "text/plain": [
       "1100"
      ]
     },
     "metadata": {},
     "output_type": "display_data"
    },
    {
     "data": {
      "text/plain": [
       "'Welcome To The Jungle | The Ben Shapiro Show Ep. 659'"
      ]
     },
     "metadata": {},
     "output_type": "display_data"
    },
    {
     "data": {
      "text/plain": [
       "1100"
      ]
     },
     "metadata": {},
     "output_type": "display_data"
    },
    {
     "data": {
      "text/plain": [
       "'The Future Of Politics | The Ben Shapiro Show Ep. 658'"
      ]
     },
     "metadata": {},
     "output_type": "display_data"
    },
    {
     "data": {
      "text/plain": [
       "1100"
      ]
     },
     "metadata": {},
     "output_type": "display_data"
    },
    {
     "data": {
      "text/plain": [
       "'The Slow Wave | The Ben Shapiro Show Ep. 657'"
      ]
     },
     "metadata": {},
     "output_type": "display_data"
    },
    {
     "data": {
      "text/plain": [
       "1100"
      ]
     },
     "metadata": {},
     "output_type": "display_data"
    },
    {
     "data": {
      "text/plain": [
       "'The Day After | The Ben Shapiro Show Ep. 656'"
      ]
     },
     "metadata": {},
     "output_type": "display_data"
    },
    {
     "data": {
      "text/plain": [
       "1100"
      ]
     },
     "metadata": {},
     "output_type": "display_data"
    },
    {
     "data": {
      "text/plain": [
       "'The Great Divide | The Ben Shapiro Show Ep. 655'"
      ]
     },
     "metadata": {},
     "output_type": "display_data"
    },
    {
     "data": {
      "text/plain": [
       "1100"
      ]
     },
     "metadata": {},
     "output_type": "display_data"
    },
    {
     "data": {
      "text/plain": [
       "'So It Begins | The Ben Shapiro Show Ep. 654'"
      ]
     },
     "metadata": {},
     "output_type": "display_data"
    },
    {
     "data": {
      "text/plain": [
       "1100"
      ]
     },
     "metadata": {},
     "output_type": "display_data"
    },
    {
     "data": {
      "text/plain": [
       "'One Day More | The Ben Shapiro Show Ep. 653'"
      ]
     },
     "metadata": {},
     "output_type": "display_data"
    },
    {
     "data": {
      "text/plain": [
       "1100"
      ]
     },
     "metadata": {},
     "output_type": "display_data"
    },
    {
     "data": {
      "text/plain": [
       "'Sunday\\xa0Special\\xa0Ep 26:\\xa0Tucker Carlson'"
      ]
     },
     "metadata": {},
     "output_type": "display_data"
    },
    {
     "data": {
      "text/plain": [
       "1100"
      ]
     },
     "metadata": {},
     "output_type": "display_data"
    },
    {
     "data": {
      "text/plain": [
       "'The Final Countdown | The Ben Shapiro Show Ep. 652'"
      ]
     },
     "metadata": {},
     "output_type": "display_data"
    },
    {
     "data": {
      "text/plain": [
       "1100"
      ]
     },
     "metadata": {},
     "output_type": "display_data"
    },
    {
     "data": {
      "text/plain": [
       "'CARAVAN DOWN BY THE RIVER | The Ben Shapiro Show Ep. 651'"
      ]
     },
     "metadata": {},
     "output_type": "display_data"
    },
    {
     "data": {
      "text/plain": [
       "1100"
      ]
     },
     "metadata": {},
     "output_type": "display_data"
    },
    {
     "data": {
      "text/plain": [
       "'Ye, Verily Ye | The Ben Shapiro Show Ep. 650'"
      ]
     },
     "metadata": {},
     "output_type": "display_data"
    },
    {
     "data": {
      "text/plain": [
       "1100"
      ]
     },
     "metadata": {},
     "output_type": "display_data"
    },
    {
     "data": {
      "text/plain": [
       "'The Knowledge Of Good And Evil | The Ben Shapiro Show Ep. 649'"
      ]
     },
     "metadata": {},
     "output_type": "display_data"
    },
    {
     "data": {
      "text/plain": [
       "1100"
      ]
     },
     "metadata": {},
     "output_type": "display_data"
    },
    {
     "data": {
      "text/plain": [
       "'The Tree Of Life | The Ben Shapiro Show Ep. 648'"
      ]
     },
     "metadata": {},
     "output_type": "display_data"
    },
    {
     "data": {
      "text/plain": [
       "1100"
      ]
     },
     "metadata": {},
     "output_type": "display_data"
    },
    {
     "data": {
      "text/plain": [
       "'Sunday\\xa0Special\\xa0Ep 25:\\xa0Scott Adams'"
      ]
     },
     "metadata": {},
     "output_type": "display_data"
    },
    {
     "data": {
      "text/plain": [
       "1100"
      ]
     },
     "metadata": {},
     "output_type": "display_data"
    },
    {
     "data": {
      "text/plain": [
       "'Mail Bomber Identified: A Crazy Person | The Ben Shapiro Show Ep. 647'"
      ]
     },
     "metadata": {},
     "output_type": "display_data"
    },
    {
     "data": {
      "text/plain": [
       "1100"
      ]
     },
     "metadata": {},
     "output_type": "display_data"
    },
    {
     "data": {
      "text/plain": [
       "'The Great Leap Backward | The Ben Shapiro Show Ep. 646'"
      ]
     },
     "metadata": {},
     "output_type": "display_data"
    },
    {
     "data": {
      "text/plain": [
       "1100"
      ]
     },
     "metadata": {},
     "output_type": "display_data"
    },
    {
     "data": {
      "text/plain": [
       "'The Question Of Motives | The Ben Shapiro Show Ep. 645'"
      ]
     },
     "metadata": {},
     "output_type": "display_data"
    },
    {
     "data": {
      "text/plain": [
       "1100"
      ]
     },
     "metadata": {},
     "output_type": "display_data"
    },
    {
     "data": {
      "text/plain": [
       "'The New Democratic Agenda | The Ben Shapiro Show Ep. 644'"
      ]
     },
     "metadata": {},
     "output_type": "display_data"
    },
    {
     "data": {
      "text/plain": [
       "1100"
      ]
     },
     "metadata": {},
     "output_type": "display_data"
    },
    {
     "data": {
      "text/plain": [
       "'The Republicans’ Best Friend | The Ben Shapiro Show Ep. 643'"
      ]
     },
     "metadata": {},
     "output_type": "display_data"
    },
    {
     "data": {
      "text/plain": [
       "1100"
      ]
     },
     "metadata": {},
     "output_type": "display_data"
    },
    {
     "data": {
      "text/plain": [
       "'Sunday\\xa0Special\\xa0Ep 24:\\xa0Andrew Klavan'"
      ]
     },
     "metadata": {},
     "output_type": "display_data"
    },
    {
     "data": {
      "text/plain": [
       "1100"
      ]
     },
     "metadata": {},
     "output_type": "display_data"
    },
    {
     "data": {
      "text/plain": [
       "'The She-Woman Men Haters Club | The Ben Shapiro Show Ep. 642'"
      ]
     },
     "metadata": {},
     "output_type": "display_data"
    },
    {
     "data": {
      "text/plain": [
       "1100"
      ]
     },
     "metadata": {},
     "output_type": "display_data"
    },
    {
     "data": {
      "text/plain": [
       "'The Attack On Capitalism | The Ben Shapiro Show Ep. 641'"
      ]
     },
     "metadata": {},
     "output_type": "display_data"
    },
    {
     "data": {
      "text/plain": [
       "1100"
      ]
     },
     "metadata": {},
     "output_type": "display_data"
    },
    {
     "data": {
      "text/plain": [
       "'The Saudi Conundrum | The Ben Shapiro Show Ep. 640'"
      ]
     },
     "metadata": {},
     "output_type": "display_data"
    },
    {
     "data": {
      "text/plain": [
       "1100"
      ]
     },
     "metadata": {},
     "output_type": "display_data"
    },
    {
     "data": {
      "text/plain": [
       "'The Sad Story Of Fauxcahontas | The Ben Shapiro Show Ep. 639'"
      ]
     },
     "metadata": {},
     "output_type": "display_data"
    },
    {
     "data": {
      "text/plain": [
       "1100"
      ]
     },
     "metadata": {},
     "output_type": "display_data"
    },
    {
     "data": {
      "text/plain": [
       "'The Real Bitter Clingers | The Ben Shapiro Show Ep. 638'"
      ]
     },
     "metadata": {},
     "output_type": "display_data"
    },
    {
     "data": {
      "text/plain": [
       "1100"
      ]
     },
     "metadata": {},
     "output_type": "display_data"
    },
    {
     "data": {
      "text/plain": [
       "'Sunday\\xa0Special\\xa0Ep 23:\\xa0Jocko Willink'"
      ]
     },
     "metadata": {},
     "output_type": "display_data"
    },
    {
     "data": {
      "text/plain": [
       "1100"
      ]
     },
     "metadata": {},
     "output_type": "display_data"
    },
    {
     "data": {
      "text/plain": [
       "'How The West Was Won | The Ben Shapiro Show Ep. 637'"
      ]
     },
     "metadata": {},
     "output_type": "display_data"
    },
    {
     "data": {
      "text/plain": [
       "1100"
      ]
     },
     "metadata": {},
     "output_type": "display_data"
    },
    {
     "data": {
      "text/plain": [
       "'Screaming To Victory | The Ben Shapiro Show Ep. 636'"
      ]
     },
     "metadata": {},
     "output_type": "display_data"
    },
    {
     "data": {
      "text/plain": [
       "1100"
      ]
     },
     "metadata": {},
     "output_type": "display_data"
    },
    {
     "data": {
      "text/plain": [
       "'The End Of Civility | The Ben Shapiro Show Ep. 635'"
      ]
     },
     "metadata": {},
     "output_type": "display_data"
    },
    {
     "data": {
      "text/plain": [
       "1100"
      ]
     },
     "metadata": {},
     "output_type": "display_data"
    },
    {
     "data": {
      "text/plain": [
       "'We’re Never Ever Ever…Getting Back Together | The Ben Shapiro Show Ep. 634'"
      ]
     },
     "metadata": {},
     "output_type": "display_data"
    },
    {
     "data": {
      "text/plain": [
       "1100"
      ]
     },
     "metadata": {},
     "output_type": "display_data"
    },
    {
     "data": {
      "text/plain": [
       "'The Day After | The Ben Shapiro Show Ep. 633'"
      ]
     },
     "metadata": {},
     "output_type": "display_data"
    },
    {
     "data": {
      "text/plain": [
       "1100"
      ]
     },
     "metadata": {},
     "output_type": "display_data"
    },
    {
     "data": {
      "text/plain": [
       "'The Greatest Whine Of All | The Ben Shapiro Show Ep. 632'"
      ]
     },
     "metadata": {},
     "output_type": "display_data"
    },
    {
     "data": {
      "text/plain": [
       "1100"
      ]
     },
     "metadata": {},
     "output_type": "display_data"
    },
    {
     "data": {
      "text/plain": [
       "'The Kavanaugh-calypse Approacheth | The Ben Shapiro Show Ep. 631'"
      ]
     },
     "metadata": {},
     "output_type": "display_data"
    },
    {
     "data": {
      "text/plain": [
       "1100"
      ]
     },
     "metadata": {},
     "output_type": "display_data"
    },
    {
     "data": {
      "text/plain": [
       "'Did The Kavanaugh Allegations Just Implode? | The Ben Shapiro Show Ep. 630'"
      ]
     },
     "metadata": {},
     "output_type": "display_data"
    },
    {
     "data": {
      "text/plain": [
       "1100"
      ]
     },
     "metadata": {},
     "output_type": "display_data"
    },
    {
     "data": {
      "text/plain": [
       "'The Kavanaugh Comeback | The Ben Shapiro Show Ep. 629'"
      ]
     },
     "metadata": {},
     "output_type": "display_data"
    },
    {
     "data": {
      "text/plain": [
       "1100"
      ]
     },
     "metadata": {},
     "output_type": "display_data"
    },
    {
     "data": {
      "text/plain": [
       "'The Big Day | The Ben Shapiro Show Ep. 628'"
      ]
     },
     "metadata": {},
     "output_type": "display_data"
    },
    {
     "data": {
      "text/plain": [
       "1100"
      ]
     },
     "metadata": {},
     "output_type": "display_data"
    },
    {
     "data": {
      "text/plain": [
       "'Insanity *Intensifies* | The Ben Shapiro Show Ep. 627'"
      ]
     },
     "metadata": {},
     "output_type": "display_data"
    },
    {
     "data": {
      "text/plain": [
       "1100"
      ]
     },
     "metadata": {},
     "output_type": "display_data"
    },
    {
     "data": {
      "text/plain": [
       "'The Kavanaugh Showdown | The Ben Shapiro Show Ep. 624'"
      ]
     },
     "metadata": {},
     "output_type": "display_data"
    },
    {
     "data": {
      "text/plain": [
       "1100"
      ]
     },
     "metadata": {},
     "output_type": "display_data"
    },
    {
     "data": {
      "text/plain": [
       "'The Kavanaugh #MeToo Moment | The Ben Shapiro Show Ep. 623'"
      ]
     },
     "metadata": {},
     "output_type": "display_data"
    },
    {
     "data": {
      "text/plain": [
       "1100"
      ]
     },
     "metadata": {},
     "output_type": "display_data"
    },
    {
     "data": {
      "text/plain": [
       "'Sunday\\xa0Special\\xa0Ep 19: Steven Crowder'"
      ]
     },
     "metadata": {},
     "output_type": "display_data"
    },
    {
     "data": {
      "text/plain": [
       "1100"
      ]
     },
     "metadata": {},
     "output_type": "display_data"
    },
    {
     "data": {
      "text/plain": [
       "'The Dirtiest Trick In The Book | The Ben Shapiro Show Ep. 622'"
      ]
     },
     "metadata": {},
     "output_type": "display_data"
    },
    {
     "data": {
      "text/plain": [
       "1100"
      ]
     },
     "metadata": {},
     "output_type": "display_data"
    },
    {
     "data": {
      "text/plain": [
       "'Getting Googly-Eyed Over Google | The Ben Shapiro Show Ep. 621'"
      ]
     },
     "metadata": {},
     "output_type": "display_data"
    },
    {
     "data": {
      "text/plain": [
       "1100"
      ]
     },
     "metadata": {},
     "output_type": "display_data"
    },
    {
     "data": {
      "text/plain": [
       "'Is Rhetoric Dangerous? | The Ben Shapiro Show Ep. 620'"
      ]
     },
     "metadata": {},
     "output_type": "display_data"
    },
    {
     "data": {
      "text/plain": [
       "1100"
      ]
     },
     "metadata": {},
     "output_type": "display_data"
    },
    {
     "data": {
      "text/plain": [
       "'Sunday\\xa0Special\\xa0Ep 18: Christina Hoff Sommers'"
      ]
     },
     "metadata": {},
     "output_type": "display_data"
    },
    {
     "data": {
      "text/plain": [
       "1100"
      ]
     },
     "metadata": {},
     "output_type": "display_data"
    },
    {
     "data": {
      "text/plain": [
       "'American Grandstand | The Ben Shapiro Show Ep. 619'"
      ]
     },
     "metadata": {},
     "output_type": "display_data"
    },
    {
     "data": {
      "text/plain": [
       "1100"
      ]
     },
     "metadata": {},
     "output_type": "display_data"
    },
    {
     "data": {
      "text/plain": [
       "'The Molehunt Is On! | The Ben Shapiro Show Ep. 618'"
      ]
     },
     "metadata": {},
     "output_type": "display_data"
    },
    {
     "data": {
      "text/plain": [
       "1100"
      ]
     },
     "metadata": {},
     "output_type": "display_data"
    },
    {
     "data": {
      "text/plain": [
       "'Twist And Shout…About Kavanaugh | The Ben Shapiro Show Ep. 617'"
      ]
     },
     "metadata": {},
     "output_type": "display_data"
    },
    {
     "data": {
      "text/plain": [
       "1100"
      ]
     },
     "metadata": {},
     "output_type": "display_data"
    },
    {
     "data": {
      "text/plain": [
       "'The Anti-Trump Culture War | The Ben Shapiro Show Ep. 616'"
      ]
     },
     "metadata": {},
     "output_type": "display_data"
    },
    {
     "data": {
      "text/plain": [
       "1100"
      ]
     },
     "metadata": {},
     "output_type": "display_data"
    },
    {
     "data": {
      "text/plain": [
       "'Sunday\\xa0Special\\xa0Ep 17: Edward Feser'"
      ]
     },
     "metadata": {},
     "output_type": "display_data"
    },
    {
     "data": {
      "text/plain": [
       "1100"
      ]
     },
     "metadata": {},
     "output_type": "display_data"
    },
    {
     "data": {
      "text/plain": [
       "'Canadian On The Moon | The Ben Shapiro Show Ep. 615'"
      ]
     },
     "metadata": {},
     "output_type": "display_data"
    },
    {
     "data": {
      "text/plain": [
       "1100"
      ]
     },
     "metadata": {},
     "output_type": "display_data"
    },
    {
     "data": {
      "text/plain": [
       "'Crying Wolf About Dog Whistles | The Ben Shapiro Show Ep. 614'"
      ]
     },
     "metadata": {},
     "output_type": "display_data"
    },
    {
     "data": {
      "text/plain": [
       "1100"
      ]
     },
     "metadata": {},
     "output_type": "display_data"
    },
    {
     "data": {
      "text/plain": [
       "'The Worst Headline Of The Month | The Ben Shapiro Show Ep. 613'"
      ]
     },
     "metadata": {},
     "output_type": "display_data"
    },
    {
     "data": {
      "text/plain": [
       "1100"
      ]
     },
     "metadata": {},
     "output_type": "display_data"
    },
    {
     "data": {
      "text/plain": [
       "'The Democratic Platform | The Ben Shapiro Show Ep. 612'"
      ]
     },
     "metadata": {},
     "output_type": "display_data"
    },
    {
     "data": {
      "text/plain": [
       "1100"
      ]
     },
     "metadata": {},
     "output_type": "display_data"
    },
    {
     "data": {
      "text/plain": [
       "'Goodbye To A Hero | The Ben Shapiro Show Ep. 611'"
      ]
     },
     "metadata": {},
     "output_type": "display_data"
    },
    {
     "data": {
      "text/plain": [
       "1100"
      ]
     },
     "metadata": {},
     "output_type": "display_data"
    },
    {
     "data": {
      "text/plain": [
       "'Sunday\\xa0Special\\xa0Ep 16: Clay Travis'"
      ]
     },
     "metadata": {},
     "output_type": "display_data"
    },
    {
     "data": {
      "text/plain": [
       "1100"
      ]
     },
     "metadata": {},
     "output_type": "display_data"
    },
    {
     "data": {
      "text/plain": [
       "'The Actual Big Issue | The Ben Shapiro Show Ep. 610'"
      ]
     },
     "metadata": {},
     "output_type": "display_data"
    },
    {
     "data": {
      "text/plain": [
       "1100"
      ]
     },
     "metadata": {},
     "output_type": "display_data"
    },
    {
     "data": {
      "text/plain": [
       "'The Day After | The Ben Shapiro Show Ep. 609'"
      ]
     },
     "metadata": {},
     "output_type": "display_data"
    },
    {
     "data": {
      "text/plain": [
       "1100"
      ]
     },
     "metadata": {},
     "output_type": "display_data"
    },
    {
     "data": {
      "text/plain": [
       "'It’s Apocalypse Day! | The Ben Shapiro Show Ep. 608'"
      ]
     },
     "metadata": {},
     "output_type": "display_data"
    },
    {
     "data": {
      "text/plain": [
       "1100"
      ]
     },
     "metadata": {},
     "output_type": "display_data"
    },
    {
     "data": {
      "text/plain": [
       "'The Democratic Elitism Problem | The Ben Shapiro Show Ep. 607'"
      ]
     },
     "metadata": {},
     "output_type": "display_data"
    },
    {
     "data": {
      "text/plain": [
       "1100"
      ]
     },
     "metadata": {},
     "output_type": "display_data"
    },
    {
     "data": {
      "text/plain": [
       "'The Giuliani Problem | The Ben Shapiro Show Ep. 606'"
      ]
     },
     "metadata": {},
     "output_type": "display_data"
    },
    {
     "data": {
      "text/plain": [
       "1100"
      ]
     },
     "metadata": {},
     "output_type": "display_data"
    },
    {
     "data": {
      "text/plain": [
       "'The Colluding Press | The Ben Shapiro Show Ep. 605'"
      ]
     },
     "metadata": {},
     "output_type": "display_data"
    },
    {
     "data": {
      "text/plain": [
       "1100"
      ]
     },
     "metadata": {},
     "output_type": "display_data"
    },
    {
     "data": {
      "text/plain": [
       "'The Rise Of The Socialists | The Ben Shapiro Show Ep. 604'"
      ]
     },
     "metadata": {},
     "output_type": "display_data"
    },
    {
     "data": {
      "text/plain": [
       "1100"
      ]
     },
     "metadata": {},
     "output_type": "display_data"
    },
    {
     "data": {
      "text/plain": [
       "'The Alt-Right Fizzle | The Ben Shapiro Show Ep. 601'"
      ]
     },
     "metadata": {},
     "output_type": "display_data"
    },
    {
     "data": {
      "text/plain": [
       "1100"
      ]
     },
     "metadata": {},
     "output_type": "display_data"
    },
    {
     "data": {
      "text/plain": [
       "'Sunday\\xa0Special\\xa0Ep 14: Tai Lopez'"
      ]
     },
     "metadata": {},
     "output_type": "display_data"
    },
    {
     "data": {
      "text/plain": [
       "1100"
      ]
     },
     "metadata": {},
     "output_type": "display_data"
    },
    {
     "data": {
      "text/plain": [
       "'Oh My, Omarosa | The Ben Shapiro Show Ep. 599'"
      ]
     },
     "metadata": {},
     "output_type": "display_data"
    },
    {
     "data": {
      "text/plain": [
       "1100"
      ]
     },
     "metadata": {},
     "output_type": "display_data"
    },
    {
     "data": {
      "text/plain": [
       "'Is The Blue Wave Coming? | The Ben Shapiro Show Ep. 598'"
      ]
     },
     "metadata": {},
     "output_type": "display_data"
    },
    {
     "data": {
      "text/plain": [
       "1100"
      ]
     },
     "metadata": {},
     "output_type": "display_data"
    },
    {
     "data": {
      "text/plain": [
       "'The Self-Pitying Media | The Ben Shapiro Show Ep. 597'"
      ]
     },
     "metadata": {},
     "output_type": "display_data"
    },
    {
     "data": {
      "text/plain": [
       "1100"
      ]
     },
     "metadata": {},
     "output_type": "display_data"
    },
    {
     "data": {
      "text/plain": [
       "'An Epic Trump Tweetstorm | The Ben Shapiro Show Ep. 596'"
      ]
     },
     "metadata": {},
     "output_type": "display_data"
    },
    {
     "data": {
      "text/plain": [
       "1100"
      ]
     },
     "metadata": {},
     "output_type": "display_data"
    },
    {
     "data": {
      "text/plain": [
       "'Sunday\\xa0Special\\xa0Ep 13: David Mamet'"
      ]
     },
     "metadata": {},
     "output_type": "display_data"
    },
    {
     "data": {
      "text/plain": [
       "1100"
      ]
     },
     "metadata": {},
     "output_type": "display_data"
    },
    {
     "data": {
      "text/plain": [
       "'Why Don’t People Trust The Media? | The Ben Shapiro Show Ep. 595'"
      ]
     },
     "metadata": {},
     "output_type": "display_data"
    },
    {
     "data": {
      "text/plain": [
       "1100"
      ]
     },
     "metadata": {},
     "output_type": "display_data"
    },
    {
     "data": {
      "text/plain": [
       "'The Seductiveness Of Power | The Ben Shapiro Show Ep. 594'"
      ]
     },
     "metadata": {},
     "output_type": "display_data"
    },
    {
     "data": {
      "text/plain": [
       "1100"
      ]
     },
     "metadata": {},
     "output_type": "display_data"
    },
    {
     "data": {
      "text/plain": [
       "'Ben Shapiro Debunks 3D-Gun Printing Myth'"
      ]
     },
     "metadata": {},
     "output_type": "display_data"
    },
    {
     "data": {
      "text/plain": [
       "1100"
      ]
     },
     "metadata": {},
     "output_type": "display_data"
    },
    {
     "data": {
      "text/plain": [
       "'Is The Second Civil War Coming? | The Ben Shapiro Show Ep. 593'"
      ]
     },
     "metadata": {},
     "output_type": "display_data"
    },
    {
     "data": {
      "text/plain": [
       "1100"
      ]
     },
     "metadata": {},
     "output_type": "display_data"
    },
    {
     "data": {
      "text/plain": [
       "'Hath Not A Giuliani Eyes? | The Ben Shapiro Show Ep. 592'"
      ]
     },
     "metadata": {},
     "output_type": "display_data"
    },
    {
     "data": {
      "text/plain": [
       "1100"
      ]
     },
     "metadata": {},
     "output_type": "display_data"
    },
    {
     "data": {
      "text/plain": [
       "'Path To 2018 | The Ben Shapiro Show Ep. 591'"
      ]
     },
     "metadata": {},
     "output_type": "display_data"
    },
    {
     "data": {
      "text/plain": [
       "1100"
      ]
     },
     "metadata": {},
     "output_type": "display_data"
    },
    {
     "data": {
      "text/plain": [
       "'The Wrongthink Police | The Ben Shapiro Show Ep. 590'"
      ]
     },
     "metadata": {},
     "output_type": "display_data"
    },
    {
     "data": {
      "text/plain": [
       "1100"
      ]
     },
     "metadata": {},
     "output_type": "display_data"
    },
    {
     "data": {
      "text/plain": [
       "'The Wrongthink Police | The Ben Shapiro Show Ep. 590'"
      ]
     },
     "metadata": {},
     "output_type": "display_data"
    },
    {
     "data": {
      "text/plain": [
       "1100"
      ]
     },
     "metadata": {},
     "output_type": "display_data"
    },
    {
     "data": {
      "text/plain": [
       "'Good Trump, Bad Trump | The Ben Shapiro Show Ep. 589'"
      ]
     },
     "metadata": {},
     "output_type": "display_data"
    },
    {
     "data": {
      "text/plain": [
       "1100"
      ]
     },
     "metadata": {},
     "output_type": "display_data"
    },
    {
     "data": {
      "text/plain": [
       "'The Tale Of The Tape | The Ben Shapiro Show Ep. 588'"
      ]
     },
     "metadata": {},
     "output_type": "display_data"
    },
    {
     "data": {
      "text/plain": [
       "1100"
      ]
     },
     "metadata": {},
     "output_type": "display_data"
    },
    {
     "data": {
      "text/plain": [
       "'Of Virtue Signaling And Vice | The Ben Shapiro Show Ep. 587'"
      ]
     },
     "metadata": {},
     "output_type": "display_data"
    },
    {
     "data": {
      "text/plain": [
       "1100"
      ]
     },
     "metadata": {},
     "output_type": "display_data"
    },
    {
     "data": {
      "text/plain": [
       "'Trump vs. The Intelligence Community | The Ben Shapiro Show Ep. 585'"
      ]
     },
     "metadata": {},
     "output_type": "display_data"
    },
    {
     "data": {
      "text/plain": [
       "1100"
      ]
     },
     "metadata": {},
     "output_type": "display_data"
    },
    {
     "data": {
      "text/plain": [
       "'Being Nice Is Against The Rules | The Ben Shapiro Show Ep. 584'"
      ]
     },
     "metadata": {},
     "output_type": "display_data"
    },
    {
     "data": {
      "text/plain": [
       "1100"
      ]
     },
     "metadata": {},
     "output_type": "display_data"
    },
    {
     "data": {
      "text/plain": [
       "'Is Honesty Dead? | The Ben Shapiro Show Ep. 583'"
      ]
     },
     "metadata": {},
     "output_type": "display_data"
    },
    {
     "data": {
      "text/plain": [
       "1100"
      ]
     },
     "metadata": {},
     "output_type": "display_data"
    },
    {
     "data": {
      "text/plain": [
       "'The Russian Connection | The Ben Shapiro Show Ep. 582'"
      ]
     },
     "metadata": {},
     "output_type": "display_data"
    },
    {
     "data": {
      "text/plain": [
       "1100"
      ]
     },
     "metadata": {},
     "output_type": "display_data"
    },
    {
     "data": {
      "text/plain": [
       "'To Russia, With Love | The Ben Shapiro Show Ep. 581'"
      ]
     },
     "metadata": {},
     "output_type": "display_data"
    },
    {
     "data": {
      "text/plain": [
       "1100"
      ]
     },
     "metadata": {},
     "output_type": "display_data"
    },
    {
     "data": {
      "text/plain": [
       "'Thunder Strzok | The Ben Shapiro Show Ep. 580'"
      ]
     },
     "metadata": {},
     "output_type": "display_data"
    },
    {
     "data": {
      "text/plain": [
       "1100"
      ]
     },
     "metadata": {},
     "output_type": "display_data"
    },
    {
     "data": {
      "text/plain": [
       "'It’s A Trumpnato! | The Ben Shapiro Show Ep. 579'"
      ]
     },
     "metadata": {},
     "output_type": "display_data"
    },
    {
     "data": {
      "text/plain": [
       "1100"
      ]
     },
     "metadata": {},
     "output_type": "display_data"
    },
    {
     "data": {
      "text/plain": [
       "'Trump Swings At NATO | The Ben Shapiro Show Ep. 578'"
      ]
     },
     "metadata": {},
     "output_type": "display_data"
    },
    {
     "data": {
      "text/plain": [
       "1100"
      ]
     },
     "metadata": {},
     "output_type": "display_data"
    },
    {
     "data": {
      "text/plain": [
       "'Kavanaugh, Kava-yes! | The Ben Shapiro Show Ep. 577'"
      ]
     },
     "metadata": {},
     "output_type": "display_data"
    },
    {
     "data": {
      "text/plain": [
       "1100"
      ]
     },
     "metadata": {},
     "output_type": "display_data"
    },
    {
     "data": {
      "text/plain": [
       "'It’s The Supreme Day | The Ben Shapiro Show Ep. 576'"
      ]
     },
     "metadata": {},
     "output_type": "display_data"
    },
    {
     "data": {
      "text/plain": [
       "1100"
      ]
     },
     "metadata": {},
     "output_type": "display_data"
    },
    {
     "data": {
      "text/plain": [
       "'Goodbye To Pruitt | The Ben Shapiro Show Ep. 575'"
      ]
     },
     "metadata": {},
     "output_type": "display_data"
    },
    {
     "data": {
      "text/plain": [
       "1100"
      ]
     },
     "metadata": {},
     "output_type": "display_data"
    },
    {
     "data": {
      "text/plain": [
       "'Is The Left Creating A New Agenda? | The Ben Shapiro Show Ep. 574'"
      ]
     },
     "metadata": {},
     "output_type": "display_data"
    },
    {
     "data": {
      "text/plain": [
       "1100"
      ]
     },
     "metadata": {},
     "output_type": "display_data"
    },
    {
     "data": {
      "text/plain": [
       "'Are You Proud To Be An American? | The Ben Shapiro Show Ep. 573'"
      ]
     },
     "metadata": {},
     "output_type": "display_data"
    },
    {
     "data": {
      "text/plain": [
       "1100"
      ]
     },
     "metadata": {},
     "output_type": "display_data"
    },
    {
     "data": {
      "text/plain": [
       "'So Much Earth-Shattering Bravery | The Ben Shapiro Show Ep. 572'"
      ]
     },
     "metadata": {},
     "output_type": "display_data"
    },
    {
     "data": {
      "text/plain": [
       "1100"
      ]
     },
     "metadata": {},
     "output_type": "display_data"
    },
    {
     "data": {
      "text/plain": [
       "'You’re Blaming The Wrong People | The Ben Shapiro Show Ep. 571'"
      ]
     },
     "metadata": {},
     "output_type": "display_data"
    },
    {
     "data": {
      "text/plain": [
       "1100"
      ]
     },
     "metadata": {},
     "output_type": "display_data"
    },
    {
     "data": {
      "text/plain": [
       "'The Biggest Move In A Generation | The Ben Shapiro Show Ep. 570'"
      ]
     },
     "metadata": {},
     "output_type": "display_data"
    },
    {
     "data": {
      "text/plain": [
       "1100"
      ]
     },
     "metadata": {},
     "output_type": "display_data"
    },
    {
     "data": {
      "text/plain": [
       "'The Democrats Swing Far Left | The Ben Shapiro Show Ep. 569'"
      ]
     },
     "metadata": {},
     "output_type": "display_data"
    },
    {
     "data": {
      "text/plain": [
       "1100"
      ]
     },
     "metadata": {},
     "output_type": "display_data"
    },
    {
     "data": {
      "text/plain": [
       "'The Rise Of The Mobocracy | The Ben Shapiro Show Ep. 568'"
      ]
     },
     "metadata": {},
     "output_type": "display_data"
    },
    {
     "data": {
      "text/plain": [
       "1100"
      ]
     },
     "metadata": {},
     "output_type": "display_data"
    },
    {
     "data": {
      "text/plain": [
       "'Burning The Social Fabric | The Ben Shapiro Show Ep. 567'"
      ]
     },
     "metadata": {},
     "output_type": "display_data"
    },
    {
     "data": {
      "text/plain": [
       "1100"
      ]
     },
     "metadata": {},
     "output_type": "display_data"
    },
    {
     "data": {
      "text/plain": [
       "'I Really Don’t Care, Do U? | The Ben Shapiro Show Ep. 566'"
      ]
     },
     "metadata": {},
     "output_type": "display_data"
    },
    {
     "data": {
      "text/plain": [
       "1100"
      ]
     },
     "metadata": {},
     "output_type": "display_data"
    },
    {
     "data": {
      "text/plain": [
       "'The Great Reversal | The Ben Shapiro Show Ep. 565'"
      ]
     },
     "metadata": {},
     "output_type": "display_data"
    },
    {
     "data": {
      "text/plain": [
       "1100"
      ]
     },
     "metadata": {},
     "output_type": "display_data"
    },
    {
     "data": {
      "text/plain": [
       "'The Time Of Feelings | The Ben Shapiro Show Ep. 564'"
      ]
     },
     "metadata": {},
     "output_type": "display_data"
    },
    {
     "data": {
      "text/plain": [
       "1100"
      ]
     },
     "metadata": {},
     "output_type": "display_data"
    },
    {
     "data": {
      "text/plain": [
       "'The Immigration Wars Heat Up | The Ben Shapiro Show Ep. 563'"
      ]
     },
     "metadata": {},
     "output_type": "display_data"
    },
    {
     "data": {
      "text/plain": [
       "1100"
      ]
     },
     "metadata": {},
     "output_type": "display_data"
    },
    {
     "data": {
      "text/plain": [
       "'Is Trump Tearing Children From Their Parents? | The Ben Shapiro Show Ep. 562'"
      ]
     },
     "metadata": {},
     "output_type": "display_data"
    },
    {
     "data": {
      "text/plain": [
       "1100"
      ]
     },
     "metadata": {},
     "output_type": "display_data"
    },
    {
     "data": {
      "text/plain": [
       "'What In The World? | The Ben Shapiro Show Ep. 561'"
      ]
     },
     "metadata": {},
     "output_type": "display_data"
    },
    {
     "data": {
      "text/plain": [
       "1100"
      ]
     },
     "metadata": {},
     "output_type": "display_data"
    },
    {
     "data": {
      "text/plain": [
       "\"The FBI's Big Booboo | The Ben Shapiro Show Ep. 560\""
      ]
     },
     "metadata": {},
     "output_type": "display_data"
    },
    {
     "data": {
      "text/plain": [
       "1100"
      ]
     },
     "metadata": {},
     "output_type": "display_data"
    },
    {
     "data": {
      "text/plain": [
       "'Don’t Eat The Homophobic Chicken | The Ben Shapiro Show Ep. 559'"
      ]
     },
     "metadata": {},
     "output_type": "display_data"
    },
    {
     "data": {
      "text/plain": [
       "1100"
      ]
     },
     "metadata": {},
     "output_type": "display_data"
    },
    {
     "data": {
      "text/plain": [
       "'The Big Meeting | The Ben Shapiro Show Ep. 558'"
      ]
     },
     "metadata": {},
     "output_type": "display_data"
    },
    {
     "data": {
      "text/plain": [
       "1100"
      ]
     },
     "metadata": {},
     "output_type": "display_data"
    },
    {
     "data": {
      "text/plain": [
       "'The Art Of The Deal | The Ben Shapiro Show Ep. 557'"
      ]
     },
     "metadata": {},
     "output_type": "display_data"
    },
    {
     "data": {
      "text/plain": [
       "1100"
      ]
     },
     "metadata": {},
     "output_type": "display_data"
    },
    {
     "data": {
      "text/plain": [
       "'The Suicide Epidemic | The Ben Shapiro Show Ep. 556'"
      ]
     },
     "metadata": {},
     "output_type": "display_data"
    },
    {
     "data": {
      "text/plain": [
       "1100"
      ]
     },
     "metadata": {},
     "output_type": "display_data"
    },
    {
     "data": {
      "text/plain": [
       "'The Kim Kardashian Pardon | The Ben Shapiro Show Ep. 555'"
      ]
     },
     "metadata": {},
     "output_type": "display_data"
    },
    {
     "data": {
      "text/plain": [
       "1100"
      ]
     },
     "metadata": {},
     "output_type": "display_data"
    },
    {
     "data": {
      "text/plain": [
       "'The Coming Apocalypse Nobody Cares About | The Ben Shapiro Show Ep. 554'"
      ]
     },
     "metadata": {},
     "output_type": "display_data"
    },
    {
     "data": {
      "text/plain": [
       "1100"
      ]
     },
     "metadata": {},
     "output_type": "display_data"
    },
    {
     "data": {
      "text/plain": [
       "'Sit, Eagle, Sit | The Ben Shapiro Show Ep. 553'"
      ]
     },
     "metadata": {},
     "output_type": "display_data"
    },
    {
     "data": {
      "text/plain": [
       "1100"
      ]
     },
     "metadata": {},
     "output_type": "display_data"
    },
    {
     "data": {
      "text/plain": [
       "'The Tide Goes Out On The Blue Wave | The Ben Shapiro Show Ep. 552'"
      ]
     },
     "metadata": {},
     "output_type": "display_data"
    },
    {
     "data": {
      "text/plain": [
       "1100"
      ]
     },
     "metadata": {},
     "output_type": "display_data"
    },
    {
     "data": {
      "text/plain": [
       "'To Bee Or Not To Bee | The Ben Shapiro Show Ep. 551'"
      ]
     },
     "metadata": {},
     "output_type": "display_data"
    },
    {
     "data": {
      "text/plain": [
       "1100"
      ]
     },
     "metadata": {},
     "output_type": "display_data"
    },
    {
     "data": {
      "text/plain": [
       "'The Saddest Story Ever Told | The Ben Shapiro Show Ep. 550'"
      ]
     },
     "metadata": {},
     "output_type": "display_data"
    },
    {
     "data": {
      "text/plain": [
       "1100"
      ]
     },
     "metadata": {},
     "output_type": "display_data"
    },
    {
     "data": {
      "text/plain": [
       "'Goodbye, Roseanne | The Ben Shapiro Show Ep. 549'"
      ]
     },
     "metadata": {},
     "output_type": "display_data"
    },
    {
     "data": {
      "text/plain": [
       "1100"
      ]
     },
     "metadata": {},
     "output_type": "display_data"
    },
    {
     "data": {
      "text/plain": [
       "'The West’s Suicide Note | The Ben Shapiro Show Ep. 548'"
      ]
     },
     "metadata": {},
     "output_type": "display_data"
    },
    {
     "data": {
      "text/plain": [
       "1100"
      ]
     },
     "metadata": {},
     "output_type": "display_data"
    },
    {
     "data": {
      "text/plain": [
       "'Remember Our Soldiers | The Ben Shapiro Show Ep. 547'"
      ]
     },
     "metadata": {},
     "output_type": "display_data"
    },
    {
     "data": {
      "text/plain": [
       "1100"
      ]
     },
     "metadata": {},
     "output_type": "display_data"
    },
    {
     "data": {
      "text/plain": [
       "'Hollywood’s God Is Gross | The Ben Shapiro Show Ep. 546'"
      ]
     },
     "metadata": {},
     "output_type": "display_data"
    },
    {
     "data": {
      "text/plain": [
       "1100"
      ]
     },
     "metadata": {},
     "output_type": "display_data"
    },
    {
     "data": {
      "text/plain": [
       "'The Kneel Strong-Arm | The Ben Shapiro Show Ep. 545'"
      ]
     },
     "metadata": {},
     "output_type": "display_data"
    },
    {
     "data": {
      "text/plain": [
       "1100"
      ]
     },
     "metadata": {},
     "output_type": "display_data"
    },
    {
     "data": {
      "text/plain": [
       "'The Power Of Being A Jerk | The Ben Shapiro Show Ep. 544'"
      ]
     },
     "metadata": {},
     "output_type": "display_data"
    },
    {
     "data": {
      "text/plain": [
       "1100"
      ]
     },
     "metadata": {},
     "output_type": "display_data"
    },
    {
     "data": {
      "text/plain": [
       "'The Spy Who Hated Me | The Ben Shapiro Show Ep. 543'"
      ]
     },
     "metadata": {},
     "output_type": "display_data"
    },
    {
     "data": {
      "text/plain": [
       "1100"
      ]
     },
     "metadata": {},
     "output_type": "display_data"
    },
    {
     "data": {
      "text/plain": [
       "'Is It Mueller Time? | The Ben Shapiro Show Ep. 542'"
      ]
     },
     "metadata": {},
     "output_type": "display_data"
    },
    {
     "data": {
      "text/plain": [
       "1100"
      ]
     },
     "metadata": {},
     "output_type": "display_data"
    },
    {
     "data": {
      "text/plain": [
       "'How the Media Are Turning America Trumpy | The Ben Shapiro Show Ep. 541'"
      ]
     },
     "metadata": {},
     "output_type": "display_data"
    },
    {
     "data": {
      "text/plain": [
       "1100"
      ]
     },
     "metadata": {},
     "output_type": "display_data"
    },
    {
     "data": {
      "text/plain": [
       "'Why The Media Get Gaza Wrong | The Ben Shapiro Show Ep. 540'"
      ]
     },
     "metadata": {},
     "output_type": "display_data"
    },
    {
     "data": {
      "text/plain": [
       "1100"
      ]
     },
     "metadata": {},
     "output_type": "display_data"
    },
    {
     "data": {
      "text/plain": [
       "\"The Media's Blood Libel | The Ben Shapiro Show Ep. 539\""
      ]
     },
     "metadata": {},
     "output_type": "display_data"
    },
    {
     "data": {
      "text/plain": [
       "1100"
      ]
     },
     "metadata": {},
     "output_type": "display_data"
    },
    {
     "data": {
      "text/plain": [
       "'If I Forget You, O Jerusalem | The Ben Shapiro Show Ep. 538'"
      ]
     },
     "metadata": {},
     "output_type": "display_data"
    },
    {
     "data": {
      "text/plain": [
       "1100"
      ]
     },
     "metadata": {},
     "output_type": "display_data"
    },
    {
     "data": {
      "text/plain": [
       "'Delusional Democrats’ Failing Foreign Policy | The Ben Shapiro Show Ep. 537'"
      ]
     },
     "metadata": {},
     "output_type": "display_data"
    },
    {
     "data": {
      "text/plain": [
       "1100"
      ]
     },
     "metadata": {},
     "output_type": "display_data"
    },
    {
     "data": {
      "text/plain": [
       "'The Iranian War | The Ben Shapiro Show Ep. 536'"
      ]
     },
     "metadata": {},
     "output_type": "display_data"
    },
    {
     "data": {
      "text/plain": [
       "1100"
      ]
     },
     "metadata": {},
     "output_type": "display_data"
    },
    {
     "data": {
      "text/plain": [
       "'Ep. 535 - Trump Wrecks Obama’s Legacy | The Ben Shapiro Show Ep. 535'"
      ]
     },
     "metadata": {},
     "output_type": "display_data"
    },
    {
     "data": {
      "text/plain": [
       "1100"
      ]
     },
     "metadata": {},
     "output_type": "display_data"
    },
    {
     "data": {
      "text/plain": [
       "'Schneiderman On The Schneid | The Ben Shapiro Show Ep. 534'"
      ]
     },
     "metadata": {},
     "output_type": "display_data"
    },
    {
     "data": {
      "text/plain": [
       "1100"
      ]
     },
     "metadata": {},
     "output_type": "display_data"
    },
    {
     "data": {
      "text/plain": [
       "'The Media’s Big Boo Boo | The Ben Shapiro Show Ep. 532'"
      ]
     },
     "metadata": {},
     "output_type": "display_data"
    },
    {
     "data": {
      "text/plain": [
       "1100"
      ]
     },
     "metadata": {},
     "output_type": "display_data"
    },
    {
     "data": {
      "text/plain": [
       "'Stormy Weather | The Ben Shapiro Show Ep. 531'"
      ]
     },
     "metadata": {},
     "output_type": "display_data"
    },
    {
     "data": {
      "text/plain": [
       "1100"
      ]
     },
     "metadata": {},
     "output_type": "display_data"
    },
    {
     "data": {
      "text/plain": [
       "'Pod Save The Iran Deal | The Ben Shapiro Show Ep. 530'"
      ]
     },
     "metadata": {},
     "output_type": "display_data"
    },
    {
     "data": {
      "text/plain": [
       "1100"
      ]
     },
     "metadata": {},
     "output_type": "display_data"
    },
    {
     "data": {
      "text/plain": [
       "'Revenge Of The Mossad | The Ben Shapiro Show Ep. 529'"
      ]
     },
     "metadata": {},
     "output_type": "display_data"
    },
    {
     "data": {
      "text/plain": [
       "1100"
      ]
     },
     "metadata": {},
     "output_type": "display_data"
    },
    {
     "data": {
      "text/plain": [
       "'The White House Correspondents’ Dog’s Breakfast | The Ben Shapiro Show Ep. 528'"
      ]
     },
     "metadata": {},
     "output_type": "display_data"
    },
    {
     "data": {
      "text/plain": [
       "1100"
      ]
     },
     "metadata": {},
     "output_type": "display_data"
    },
    {
     "data": {
      "text/plain": [
       "'Murder Is Not Dying With Dignity | The Ben Shapiro Show Ep. 527'"
      ]
     },
     "metadata": {},
     "output_type": "display_data"
    },
    {
     "data": {
      "text/plain": [
       "1100"
      ]
     },
     "metadata": {},
     "output_type": "display_data"
    },
    {
     "data": {
      "text/plain": [
       "'Murder Is Not Dying With Dignity | The Ben Shapiro Show Ep. 527'"
      ]
     },
     "metadata": {},
     "output_type": "display_data"
    },
    {
     "data": {
      "text/plain": [
       "1100"
      ]
     },
     "metadata": {},
     "output_type": "display_data"
    },
    {
     "data": {
      "text/plain": [
       "'Make Rap Great Again | The Ben Shapiro Show Ep. 526'"
      ]
     },
     "metadata": {},
     "output_type": "display_data"
    },
    {
     "data": {
      "text/plain": [
       "1100"
      ]
     },
     "metadata": {},
     "output_type": "display_data"
    },
    {
     "data": {
      "text/plain": [
       "'Kanye Believe It? | The Ben Shapiro Show Ep. 525'"
      ]
     },
     "metadata": {},
     "output_type": "display_data"
    },
    {
     "data": {
      "text/plain": [
       "1100"
      ]
     },
     "metadata": {},
     "output_type": "display_data"
    },
    {
     "data": {
      "text/plain": [
       "'When Tyranny Leads To Death | The Ben Shapiro Show Ep. 524'"
      ]
     },
     "metadata": {},
     "output_type": "display_data"
    },
    {
     "data": {
      "text/plain": [
       "1100"
      ]
     },
     "metadata": {},
     "output_type": "display_data"
    },
    {
     "data": {
      "text/plain": [
       "'The Worst Arguments For Gun Control | The Ben Shapiro Show Ep. 523'"
      ]
     },
     "metadata": {},
     "output_type": "display_data"
    },
    {
     "data": {
      "text/plain": [
       "1100"
      ]
     },
     "metadata": {},
     "output_type": "display_data"
    },
    {
     "data": {
      "text/plain": [
       "'The Comey Memos | The Ben Shapiro Show Ep. 522'"
      ]
     },
     "metadata": {},
     "output_type": "display_data"
    },
    {
     "data": {
      "text/plain": [
       "1100"
      ]
     },
     "metadata": {},
     "output_type": "display_data"
    },
    {
     "data": {
      "text/plain": [
       "'Is Starbucks Racist? | The Ben Shapiro Show Ep. 521'"
      ]
     },
     "metadata": {},
     "output_type": "display_data"
    },
    {
     "data": {
      "text/plain": [
       "1100"
      ]
     },
     "metadata": {},
     "output_type": "display_data"
    },
    {
     "data": {
      "text/plain": [
       "'Thank You, Barbara Bush |The Ben Shapiro Show Ep. 520'"
      ]
     },
     "metadata": {},
     "output_type": "display_data"
    },
    {
     "data": {
      "text/plain": [
       "1100"
      ]
     },
     "metadata": {},
     "output_type": "display_data"
    },
    {
     "data": {
      "text/plain": [
       "'Cohen’s Big Day | The Ben Shapiro Show Ep. 519'"
      ]
     },
     "metadata": {},
     "output_type": "display_data"
    },
    {
     "data": {
      "text/plain": [
       "1100"
      ]
     },
     "metadata": {},
     "output_type": "display_data"
    },
    {
     "data": {
      "text/plain": [
       "'The Full Comey | The Ben Shapiro Show Ep. 518'"
      ]
     },
     "metadata": {},
     "output_type": "display_data"
    },
    {
     "data": {
      "text/plain": [
       "1100"
      ]
     },
     "metadata": {},
     "output_type": "display_data"
    },
    {
     "data": {
      "text/plain": [
       "'Come-y On Already | The Ben Shapiro Show Ep. 517'"
      ]
     },
     "metadata": {},
     "output_type": "display_data"
    },
    {
     "data": {
      "text/plain": [
       "1100"
      ]
     },
     "metadata": {},
     "output_type": "display_data"
    },
    {
     "data": {
      "text/plain": [
       "'Crisis Point | The Ben Shapiro Show Ep. 516'"
      ]
     },
     "metadata": {},
     "output_type": "display_data"
    },
    {
     "data": {
      "text/plain": [
       "1100"
      ]
     },
     "metadata": {},
     "output_type": "display_data"
    },
    {
     "data": {
      "text/plain": [
       "'Paul Ryan Exits | The Ben Shapiro Show Ep. 515'"
      ]
     },
     "metadata": {},
     "output_type": "display_data"
    },
    {
     "data": {
      "text/plain": [
       "1100"
      ]
     },
     "metadata": {},
     "output_type": "display_data"
    },
    {
     "data": {
      "text/plain": [
       "'The Great Raid | The Ben Shapiro Show Ep. 514'"
      ]
     },
     "metadata": {},
     "output_type": "display_data"
    },
    {
     "data": {
      "text/plain": [
       "1100"
      ]
     },
     "metadata": {},
     "output_type": "display_data"
    },
    {
     "data": {
      "text/plain": [
       "'The Situation In Syria | The Ben Shapiro Show Ep. 513'"
      ]
     },
     "metadata": {},
     "output_type": "display_data"
    },
    {
     "data": {
      "text/plain": [
       "1100"
      ]
     },
     "metadata": {},
     "output_type": "display_data"
    },
    {
     "data": {
      "text/plain": [
       "'The Radical Left Rises | The Ben Shapiro Show Ep. 512'"
      ]
     },
     "metadata": {},
     "output_type": "display_data"
    },
    {
     "data": {
      "text/plain": [
       "1100"
      ]
     },
     "metadata": {},
     "output_type": "display_data"
    },
    {
     "data": {
      "text/plain": [
       "'What Was MLK’s Legacy? | The Ben Shapiro Show Ep. 511'"
      ]
     },
     "metadata": {},
     "output_type": "display_data"
    },
    {
     "data": {
      "text/plain": [
       "1100"
      ]
     },
     "metadata": {},
     "output_type": "display_data"
    },
    {
     "data": {
      "text/plain": [
       "'Trouble At YouTube | The Ben Shapiro Show Ep. 510'"
      ]
     },
     "metadata": {},
     "output_type": "display_data"
    },
    {
     "data": {
      "text/plain": [
       "1100"
      ]
     },
     "metadata": {},
     "output_type": "display_data"
    },
    {
     "data": {
      "text/plain": [
       "'Standing Up To The Outrage Police | The Ben Shapiro Show Ep. 509'"
      ]
     },
     "metadata": {},
     "output_type": "display_data"
    },
    {
     "data": {
      "text/plain": [
       "1100"
      ]
     },
     "metadata": {},
     "output_type": "display_data"
    },
    {
     "data": {
      "text/plain": [
       "'The Media’s Self-Defeating War | The Ben Shapiro Show Ep. 508'"
      ]
     },
     "metadata": {},
     "output_type": "display_data"
    },
    {
     "data": {
      "text/plain": [
       "1100"
      ]
     },
     "metadata": {},
     "output_type": "display_data"
    },
    {
     "data": {
      "text/plain": [
       "'Conservatives Not Welcome | The Ben Shapiro Show Ep. 507'"
      ]
     },
     "metadata": {},
     "output_type": "display_data"
    },
    {
     "data": {
      "text/plain": [
       "1100"
      ]
     },
     "metadata": {},
     "output_type": "display_data"
    },
    {
     "data": {
      "text/plain": [
       "'The Media Goes Hogg Wild | The Ben Shapiro Show Ep. 506'"
      ]
     },
     "metadata": {},
     "output_type": "display_data"
    },
    {
     "data": {
      "text/plain": [
       "1100"
      ]
     },
     "metadata": {},
     "output_type": "display_data"
    },
    {
     "data": {
      "text/plain": [
       "'Roseanne Is Back! | The Ben Shapiro Show Ep. 505'"
      ]
     },
     "metadata": {},
     "output_type": "display_data"
    },
    {
     "data": {
      "text/plain": [
       "1100"
      ]
     },
     "metadata": {},
     "output_type": "display_data"
    },
    {
     "data": {
      "text/plain": [
       "'Are Victims Sacrosanct? | The Ben Shapiro Show Ep. 504'"
      ]
     },
     "metadata": {},
     "output_type": "display_data"
    },
    {
     "data": {
      "text/plain": [
       "1100"
      ]
     },
     "metadata": {},
     "output_type": "display_data"
    },
    {
     "data": {
      "text/plain": [
       "'Children, Scandals, and Tariffs, Oh My! | The Ben Shapiro Show  Ep. 503'"
      ]
     },
     "metadata": {},
     "output_type": "display_data"
    },
    {
     "data": {
      "text/plain": [
       "1100"
      ]
     },
     "metadata": {},
     "output_type": "display_data"
    },
    {
     "data": {
      "text/plain": [
       "'McMaster’s Boltin’, Bolton’s Master | The Ben Shapiro Show Ep. 502'"
      ]
     },
     "metadata": {},
     "output_type": "display_data"
    },
    {
     "data": {
      "text/plain": [
       "1100"
      ]
     },
     "metadata": {},
     "output_type": "display_data"
    },
    {
     "data": {
      "text/plain": [
       "'Facebook On The Hot Seat | The Ben Shapiro Show Ep. 501'"
      ]
     },
     "metadata": {},
     "output_type": "display_data"
    },
    {
     "data": {
      "text/plain": [
       "1100"
      ]
     },
     "metadata": {},
     "output_type": "display_data"
    },
    {
     "data": {
      "text/plain": [
       "'Is America Punishing Young Black Boys? | The Ben Shapiro Show Ep. 500'"
      ]
     },
     "metadata": {},
     "output_type": "display_data"
    },
    {
     "data": {
      "text/plain": [
       "1100"
      ]
     },
     "metadata": {},
     "output_type": "display_data"
    },
    {
     "data": {
      "text/plain": [
       "\"The Left's Great Social Media Scam | The Ben Shapiro Show Ep. 499\""
      ]
     },
     "metadata": {},
     "output_type": "display_data"
    },
    {
     "data": {
      "text/plain": [
       "1100"
      ]
     },
     "metadata": {},
     "output_type": "display_data"
    },
    {
     "data": {
      "text/plain": [
       "'Is A Constitutional Crisis Coming? | The Ben Shapiro Show Ep. 498'"
      ]
     },
     "metadata": {},
     "output_type": "display_data"
    },
    {
     "data": {
      "text/plain": [
       "1100"
      ]
     },
     "metadata": {},
     "output_type": "display_data"
    },
    {
     "data": {
      "text/plain": [
       "'Does The Free Market Work? | The Ben Shapiro Show Ep. 497'"
      ]
     },
     "metadata": {},
     "output_type": "display_data"
    },
    {
     "data": {
      "text/plain": [
       "1100"
      ]
     },
     "metadata": {},
     "output_type": "display_data"
    },
    {
     "data": {
      "text/plain": [
       "'The Big School Walkout | The Ben Shapiro Show Ep. 496'"
      ]
     },
     "metadata": {},
     "output_type": "display_data"
    },
    {
     "data": {
      "text/plain": [
       "1100"
      ]
     },
     "metadata": {},
     "output_type": "display_data"
    },
    {
     "data": {
      "text/plain": [
       "'Bad Moon Rising | The Ben Shapiro Show Ep. 495'"
      ]
     },
     "metadata": {},
     "output_type": "display_data"
    },
    {
     "data": {
      "text/plain": [
       "1100"
      ]
     },
     "metadata": {},
     "output_type": "display_data"
    },
    {
     "data": {
      "text/plain": [
       "'Hillary’s Back | The Ben Shapiro Show Ep. 494'"
      ]
     },
     "metadata": {},
     "output_type": "display_data"
    },
    {
     "data": {
      "text/plain": [
       "1100"
      ]
     },
     "metadata": {},
     "output_type": "display_data"
    },
    {
     "data": {
      "text/plain": [
       "'The Left Unleashes Its Crazy | The Ben Shapiro Show Ep. 493'"
      ]
     },
     "metadata": {},
     "output_type": "display_data"
    },
    {
     "data": {
      "text/plain": [
       "1100"
      ]
     },
     "metadata": {},
     "output_type": "display_data"
    },
    {
     "data": {
      "text/plain": [
       "'Trump’s Nobel Prize? | The Ben Shapiro Show Ep. 492'"
      ]
     },
     "metadata": {},
     "output_type": "display_data"
    },
    {
     "data": {
      "text/plain": [
       "1100"
      ]
     },
     "metadata": {},
     "output_type": "display_data"
    },
    {
     "data": {
      "text/plain": [
       "'Trump’s California Dreamin’ | The Ben Shapiro Show Ep. 491'"
      ]
     },
     "metadata": {},
     "output_type": "display_data"
    },
    {
     "data": {
      "text/plain": [
       "1100"
      ]
     },
     "metadata": {},
     "output_type": "display_data"
    },
    {
     "data": {
      "text/plain": [
       "'As The Globalists Turn | The Ben Shapiro Show Ep. Ep. 490'"
      ]
     },
     "metadata": {},
     "output_type": "display_data"
    },
    {
     "data": {
      "text/plain": [
       "1100"
      ]
     },
     "metadata": {},
     "output_type": "display_data"
    },
    {
     "data": {
      "text/plain": [
       "'Putting Crazy People On TV | The Ben Shapiro Show Ep. 489'"
      ]
     },
     "metadata": {},
     "output_type": "display_data"
    },
    {
     "data": {
      "text/plain": [
       "1100"
      ]
     },
     "metadata": {},
     "output_type": "display_data"
    },
    {
     "data": {
      "text/plain": [
       "'Hollywood’s Night Of Posturing | The Ben Shapiro Show Ep. 488'"
      ]
     },
     "metadata": {},
     "output_type": "display_data"
    },
    {
     "data": {
      "text/plain": [
       "1100"
      ]
     },
     "metadata": {},
     "output_type": "display_data"
    },
    {
     "data": {
      "text/plain": [
       "'Governance By Chaos | The Ben Shapiro Show Ep. 487'"
      ]
     },
     "metadata": {},
     "output_type": "display_data"
    },
    {
     "data": {
      "text/plain": [
       "1100"
      ]
     },
     "metadata": {},
     "output_type": "display_data"
    },
    {
     "data": {
      "text/plain": [
       "'Wait, Trump Just Said WHAT? | The Ben Shapiro Show Ep. 486'"
      ]
     },
     "metadata": {},
     "output_type": "display_data"
    },
    {
     "data": {
      "text/plain": [
       "1100"
      ]
     },
     "metadata": {},
     "output_type": "display_data"
    },
    {
     "data": {
      "text/plain": [
       "'How Late Night Went Left | The Ben Shapiro Show Ep. 485'"
      ]
     },
     "metadata": {},
     "output_type": "display_data"
    },
    {
     "data": {
      "text/plain": [
       "1100"
      ]
     },
     "metadata": {},
     "output_type": "display_data"
    },
    {
     "data": {
      "text/plain": [
       "'The Parkland Story Gets Even Worse | The Ben Shapiro Show Ep. 484'"
      ]
     },
     "metadata": {},
     "output_type": "display_data"
    },
    {
     "data": {
      "text/plain": [
       "1100"
      ]
     },
     "metadata": {},
     "output_type": "display_data"
    },
    {
     "data": {
      "text/plain": [
       "'Resign, Sheriff Israel | The Ben Shapiro Show Ep. 483'"
      ]
     },
     "metadata": {},
     "output_type": "display_data"
    },
    {
     "data": {
      "text/plain": [
       "1100"
      ]
     },
     "metadata": {},
     "output_type": "display_data"
    },
    {
     "data": {
      "text/plain": [
       "'The Most Shocking Failure In The Parkland Massacre | The Ben Shapiro Show Ep. 482'"
      ]
     },
     "metadata": {},
     "output_type": "display_data"
    },
    {
     "data": {
      "text/plain": [
       "1100"
      ]
     },
     "metadata": {},
     "output_type": "display_data"
    },
    {
     "data": {
      "text/plain": [
       "\"CNN's Hour Of Anti-Gun Hate | The Ben Shapiro Show Ep. 481\""
      ]
     },
     "metadata": {},
     "output_type": "display_data"
    },
    {
     "data": {
      "text/plain": [
       "1100"
      ]
     },
     "metadata": {},
     "output_type": "display_data"
    },
    {
     "data": {
      "text/plain": [
       "\"CNN's Hour Of Anti-Gun Hate | The Ben Shapiro Show Ep. 481\""
      ]
     },
     "metadata": {},
     "output_type": "display_data"
    },
    {
     "data": {
      "text/plain": [
       "1100"
      ]
     },
     "metadata": {},
     "output_type": "display_data"
    },
    {
     "data": {
      "text/plain": [
       "'Lies, Damned Lies, And Media Manipulation | The Ben Shapiro Show Ep. 480'"
      ]
     },
     "metadata": {},
     "output_type": "display_data"
    },
    {
     "data": {
      "text/plain": [
       "1100"
      ]
     },
     "metadata": {},
     "output_type": "display_data"
    },
    {
     "data": {
      "text/plain": [
       "'The Children’s Crusade | The Ben Shapiro Show Ep. 479'"
      ]
     },
     "metadata": {},
     "output_type": "display_data"
    },
    {
     "data": {
      "text/plain": [
       "1100"
      ]
     },
     "metadata": {},
     "output_type": "display_data"
    },
    {
     "data": {
      "text/plain": [
       "'The Gun Control Movement Ramps Up | The Ben Shapiro Show Ep. 478'"
      ]
     },
     "metadata": {},
     "output_type": "display_data"
    },
    {
     "data": {
      "text/plain": [
       "1100"
      ]
     },
     "metadata": {},
     "output_type": "display_data"
    },
    {
     "data": {
      "text/plain": [
       "'The Gun Control Movement Ramps Up | The Ben Shapiro Show Ep. 478'"
      ]
     },
     "metadata": {},
     "output_type": "display_data"
    },
    {
     "data": {
      "text/plain": [
       "1100"
      ]
     },
     "metadata": {},
     "output_type": "display_data"
    },
    {
     "data": {
      "text/plain": [
       "'Repeal the 2nd Amendment? | The Ben Shapiro Show Ep. 477'"
      ]
     },
     "metadata": {},
     "output_type": "display_data"
    },
    {
     "data": {
      "text/plain": [
       "1100"
      ]
     },
     "metadata": {},
     "output_type": "display_data"
    },
    {
     "data": {
      "text/plain": [
       "'Another Horrific Shooting | The Ben Shapiro Show Ep. 476'"
      ]
     },
     "metadata": {},
     "output_type": "display_data"
    },
    {
     "data": {
      "text/plain": [
       "1100"
      ]
     },
     "metadata": {},
     "output_type": "display_data"
    },
    {
     "data": {
      "text/plain": [
       "'Another Horrific Shooting | The Ben Shapiro Show Ep. 476'"
      ]
     },
     "metadata": {},
     "output_type": "display_data"
    },
    {
     "data": {
      "text/plain": [
       "1100"
      ]
     },
     "metadata": {},
     "output_type": "display_data"
    },
    {
     "data": {
      "text/plain": [
       "'Are We About To See War In The Middle East? | The Ben Shapiro Show Ep. 475'"
      ]
     },
     "metadata": {},
     "output_type": "display_data"
    },
    {
     "data": {
      "text/plain": [
       "1100"
      ]
     },
     "metadata": {},
     "output_type": "display_data"
    },
    {
     "data": {
      "text/plain": [
       "'Making Wakanda Great Again | The Ben Shapiro Show Ep. 474'"
      ]
     },
     "metadata": {},
     "output_type": "display_data"
    },
    {
     "data": {
      "text/plain": [
       "1100"
      ]
     },
     "metadata": {},
     "output_type": "display_data"
    },
    {
     "data": {
      "text/plain": [
       "'The Media Love Them Some North Korea | The Ben Shapiro Show Ep. 473'"
      ]
     },
     "metadata": {},
     "output_type": "display_data"
    },
    {
     "data": {
      "text/plain": [
       "1100"
      ]
     },
     "metadata": {},
     "output_type": "display_data"
    },
    {
     "data": {
      "text/plain": [
       "'Corruption, Chaos, And Cretinism | The Ben Shapiro Show Ep. 472'"
      ]
     },
     "metadata": {},
     "output_type": "display_data"
    },
    {
     "data": {
      "text/plain": [
       "1100"
      ]
     },
     "metadata": {},
     "output_type": "display_data"
    },
    {
     "data": {
      "text/plain": [
       "'A Black Eye For The Trump Administration | The Ben Shapiro Show Ep. 471'"
      ]
     },
     "metadata": {},
     "output_type": "display_data"
    },
    {
     "data": {
      "text/plain": [
       "1100"
      ]
     },
     "metadata": {},
     "output_type": "display_data"
    },
    {
     "data": {
      "text/plain": [
       "'Who’s Endangering The Republic? | The Ben Shapiro Show Ep. 470'"
      ]
     },
     "metadata": {},
     "output_type": "display_data"
    },
    {
     "data": {
      "text/plain": [
       "1100"
      ]
     },
     "metadata": {},
     "output_type": "display_data"
    },
    {
     "data": {
      "text/plain": [
       "'The Bear Market Arrives | The Ben Shapiro Show Ep. 469'"
      ]
     },
     "metadata": {},
     "output_type": "display_data"
    },
    {
     "data": {
      "text/plain": [
       "1100"
      ]
     },
     "metadata": {},
     "output_type": "display_data"
    },
    {
     "data": {
      "text/plain": [
       "'Does The Super Bowl Matter? | The Ben Shapiro Show Ep. 468'"
      ]
     },
     "metadata": {},
     "output_type": "display_data"
    },
    {
     "data": {
      "text/plain": [
       "1100"
      ]
     },
     "metadata": {},
     "output_type": "display_data"
    },
    {
     "data": {
      "text/plain": [
       "'It’s Memo Day | The Ben Shapiro Show Ep. 467'"
      ]
     },
     "metadata": {},
     "output_type": "display_data"
    },
    {
     "data": {
      "text/plain": [
       "1100"
      ]
     },
     "metadata": {},
     "output_type": "display_data"
    },
    {
     "data": {
      "text/plain": [
       "'Memo Fight 2018! | The Ben Shapiro Show Ep. 466'"
      ]
     },
     "metadata": {},
     "output_type": "display_data"
    },
    {
     "data": {
      "text/plain": [
       "1100"
      ]
     },
     "metadata": {},
     "output_type": "display_data"
    },
    {
     "data": {
      "text/plain": [
       "'Trump Drives Democrats Up A Wall | The Ben Shapiro Show Ep. 465'"
      ]
     },
     "metadata": {},
     "output_type": "display_data"
    },
    {
     "data": {
      "text/plain": [
       "1100"
      ]
     },
     "metadata": {},
     "output_type": "display_data"
    },
    {
     "data": {
      "text/plain": [
       "'McCabe And Mrs. Clinton | The Ben Shapiro Show Ep. 464'"
      ]
     },
     "metadata": {},
     "output_type": "display_data"
    },
    {
     "data": {
      "text/plain": [
       "1100"
      ]
     },
     "metadata": {},
     "output_type": "display_data"
    },
    {
     "data": {
      "text/plain": [
       "'Politics By The Grammy | The Ben Shapiro Show Ep. 463'"
      ]
     },
     "metadata": {},
     "output_type": "display_data"
    },
    {
     "data": {
      "text/plain": [
       "1100"
      ]
     },
     "metadata": {},
     "output_type": "display_data"
    },
    {
     "data": {
      "text/plain": [
       "'Mulling Over Mueller | The Ben Shapiro Show  Ep. 462'"
      ]
     },
     "metadata": {},
     "output_type": "display_data"
    },
    {
     "data": {
      "text/plain": [
       "1100"
      ]
     },
     "metadata": {},
     "output_type": "display_data"
    },
    {
     "data": {
      "text/plain": [
       "'Is Trump About To Collapse On Immigration? | The Ben Shapiro Show Ep. 461'"
      ]
     },
     "metadata": {},
     "output_type": "display_data"
    },
    {
     "data": {
      "text/plain": [
       "1100"
      ]
     },
     "metadata": {},
     "output_type": "display_data"
    },
    {
     "data": {
      "text/plain": [
       "'The Imploding Russia Probe | The Ben Shapiro Show Ep. 460'"
      ]
     },
     "metadata": {},
     "output_type": "display_data"
    },
    {
     "data": {
      "text/plain": [
       "1100"
      ]
     },
     "metadata": {},
     "output_type": "display_data"
    },
    {
     "data": {
      "text/plain": [
       "'The Day After | The Ben Shapiro Show Ep. 459'"
      ]
     },
     "metadata": {},
     "output_type": "display_data"
    },
    {
     "data": {
      "text/plain": [
       "1100"
      ]
     },
     "metadata": {},
     "output_type": "display_data"
    },
    {
     "data": {
      "text/plain": [
       "'Shutdown Showdown | The Ben Shapiro Show Ep. 458'"
      ]
     },
     "metadata": {},
     "output_type": "display_data"
    },
    {
     "data": {
      "text/plain": [
       "1100"
      ]
     },
     "metadata": {},
     "output_type": "display_data"
    },
    {
     "data": {
      "text/plain": [
       "'The Fusion GPS Scandal | The Ben Shapiro Show Ep. 457'"
      ]
     },
     "metadata": {},
     "output_type": "display_data"
    },
    {
     "data": {
      "text/plain": [
       "1100"
      ]
     },
     "metadata": {},
     "output_type": "display_data"
    },
    {
     "data": {
      "text/plain": [
       "'The Fake News Awards | The Ben Shapiro Show Ep. 456'"
      ]
     },
     "metadata": {},
     "output_type": "display_data"
    },
    {
     "data": {
      "text/plain": [
       "1100"
      ]
     },
     "metadata": {},
     "output_type": "display_data"
    },
    {
     "data": {
      "text/plain": [
       "'Weeping Toward Victory | The Ben Shapiro Show Ep. 455'"
      ]
     },
     "metadata": {},
     "output_type": "display_data"
    },
    {
     "data": {
      "text/plain": [
       "1100"
      ]
     },
     "metadata": {},
     "output_type": "display_data"
    },
    {
     "data": {
      "text/plain": [
       "'Is #MeToo Falling Apart? | The Ben Shapiro Show Ep. 454'"
      ]
     },
     "metadata": {},
     "output_type": "display_data"
    },
    {
     "data": {
      "text/plain": [
       "1100"
      ]
     },
     "metadata": {},
     "output_type": "display_data"
    },
    {
     "data": {
      "text/plain": [
       "'Is Trump Biased? | The Ben Shapiro Show Ep. 453'"
      ]
     },
     "metadata": {},
     "output_type": "display_data"
    },
    {
     "data": {
      "text/plain": [
       "1100"
      ]
     },
     "metadata": {},
     "output_type": "display_data"
    },
    {
     "data": {
      "text/plain": [
       "'Of Trump, Racism, And S***holes | The Ben Shapiro Show Ep. 452'"
      ]
     },
     "metadata": {},
     "output_type": "display_data"
    },
    {
     "data": {
      "text/plain": [
       "1100"
      ]
     },
     "metadata": {},
     "output_type": "display_data"
    },
    {
     "data": {
      "text/plain": [
       "'The Fight To Control Your News | The Ben Shapiro Show Ep. 451'"
      ]
     },
     "metadata": {},
     "output_type": "display_data"
    },
    {
     "data": {
      "text/plain": [
       "1100"
      ]
     },
     "metadata": {},
     "output_type": "display_data"
    },
    {
     "data": {
      "text/plain": [
       "'Trump’s Immigration Push | The Ben Shapiro Show Ep. 450'"
      ]
     },
     "metadata": {},
     "output_type": "display_data"
    },
    {
     "data": {
      "text/plain": [
       "1100"
      ]
     },
     "metadata": {},
     "output_type": "display_data"
    },
    {
     "data": {
      "text/plain": [
       "'Trump’s America | The Ben Shapiro Show Ep. 449'"
      ]
     },
     "metadata": {},
     "output_type": "display_data"
    },
    {
     "data": {
      "text/plain": [
       "1100"
      ]
     },
     "metadata": {},
     "output_type": "display_data"
    },
    {
     "data": {
      "text/plain": [
       "'Oprah For President? | The Ben Shapiro Show Ep. 448'"
      ]
     },
     "metadata": {},
     "output_type": "display_data"
    },
    {
     "data": {
      "text/plain": [
       "1100"
      ]
     },
     "metadata": {},
     "output_type": "display_data"
    },
    {
     "data": {
      "text/plain": [
       "'The Feds Target Weed | The Ben Shapiro Show Ep. 447'"
      ]
     },
     "metadata": {},
     "output_type": "display_data"
    },
    {
     "data": {
      "text/plain": [
       "1100"
      ]
     },
     "metadata": {},
     "output_type": "display_data"
    },
    {
     "data": {
      "text/plain": [
       "'Trump Destroys Bannon, Salts The Earth | The Ben Shapiro Show Ep. 446'"
      ]
     },
     "metadata": {},
     "output_type": "display_data"
    },
    {
     "data": {
      "text/plain": [
       "1100"
      ]
     },
     "metadata": {},
     "output_type": "display_data"
    },
    {
     "data": {
      "text/plain": [
       "'Can Somebody Please Steal Trump’s Phone? | The Ben Shapiro Show Ep. 445'"
      ]
     },
     "metadata": {},
     "output_type": "display_data"
    },
    {
     "data": {
      "text/plain": [
       "1100"
      ]
     },
     "metadata": {},
     "output_type": "display_data"
    },
    {
     "data": {
      "text/plain": [
       "\"It's a Brand New Year! | The Ben Shapiro Show Ep. 444\""
      ]
     },
     "metadata": {},
     "output_type": "display_data"
    },
    {
     "data": {
      "text/plain": [
       "1100"
      ]
     },
     "metadata": {},
     "output_type": "display_data"
    },
    {
     "data": {
      "text/plain": [
       "'Say Goodbye To 2017 | The Ben Shapiro Show Ep. 443'"
      ]
     },
     "metadata": {},
     "output_type": "display_data"
    },
    {
     "data": {
      "text/plain": [
       "1100"
      ]
     },
     "metadata": {},
     "output_type": "display_data"
    },
    {
     "data": {
      "text/plain": [
       "'A Big Leftist Myth Implodes On Taxes | The Ben Shapiro Show Ep. 442'"
      ]
     },
     "metadata": {},
     "output_type": "display_data"
    },
    {
     "data": {
      "text/plain": [
       "1100"
      ]
     },
     "metadata": {},
     "output_type": "display_data"
    },
    {
     "data": {
      "text/plain": [
       "'Everyone Just Died…AGAIN | The Ben Shapiro Show Ep. 441'"
      ]
     },
     "metadata": {},
     "output_type": "display_data"
    },
    {
     "data": {
      "text/plain": [
       "1100"
      ]
     },
     "metadata": {},
     "output_type": "display_data"
    },
    {
     "data": {
      "text/plain": [
       "'Trump’s Big Tax Day | The Ben Shapiro Show Ep. 440'"
      ]
     },
     "metadata": {},
     "output_type": "display_data"
    },
    {
     "data": {
      "text/plain": [
       "1100"
      ]
     },
     "metadata": {},
     "output_type": "display_data"
    },
    {
     "data": {
      "text/plain": [
       "'Is Trump Finally Winning? | The Ben Shapiro Show Ep. 439'"
      ]
     },
     "metadata": {},
     "output_type": "display_data"
    },
    {
     "data": {
      "text/plain": [
       "1100"
      ]
     },
     "metadata": {},
     "output_type": "display_data"
    },
    {
     "data": {
      "text/plain": [
       "'Is It The End Of The Internet? | The Ben Shapiro Show Ep. 438'"
      ]
     },
     "metadata": {},
     "output_type": "display_data"
    },
    {
     "data": {
      "text/plain": [
       "1100"
      ]
     },
     "metadata": {},
     "output_type": "display_data"
    },
    {
     "data": {
      "text/plain": [
       "'Will Sexual Allegations Cross A Line? | The Ben Shapiro Show Ep. 437'"
      ]
     },
     "metadata": {},
     "output_type": "display_data"
    },
    {
     "data": {
      "text/plain": [
       "1100"
      ]
     },
     "metadata": {},
     "output_type": "display_data"
    },
    {
     "data": {
      "text/plain": [
       "'The Tide Rolls Over Roy Moore | The Ben Shapiro Show Ep. 436'"
      ]
     },
     "metadata": {},
     "output_type": "display_data"
    },
    {
     "data": {
      "text/plain": [
       "1100"
      ]
     },
     "metadata": {},
     "output_type": "display_data"
    },
    {
     "data": {
      "text/plain": [
       "'Jimmy Kimmel Weaponizes His Baby...Again | The Ben Shapiro Show Ep. 435'"
      ]
     },
     "metadata": {},
     "output_type": "display_data"
    },
    {
     "data": {
      "text/plain": [
       "1100"
      ]
     },
     "metadata": {},
     "output_type": "display_data"
    },
    {
     "data": {
      "text/plain": [
       "'No Moral High Ground, Just Political High Ground | The Ben Shapiro Show Ep. 433'"
      ]
     },
     "metadata": {},
     "output_type": "display_data"
    },
    {
     "data": {
      "text/plain": [
       "1100"
      ]
     },
     "metadata": {},
     "output_type": "display_data"
    },
    {
     "data": {
      "text/plain": [
       "'The Democrats Move From Moore To Trump | The Ben Shapiro Show Ep. 434'"
      ]
     },
     "metadata": {},
     "output_type": "display_data"
    },
    {
     "data": {
      "text/plain": [
       "1100"
      ]
     },
     "metadata": {},
     "output_type": "display_data"
    },
    {
     "data": {
      "text/plain": [
       "'No Moral High Ground, Just Political High Ground | The Ben Shapiro Show Ep. 433'"
      ]
     },
     "metadata": {},
     "output_type": "display_data"
    },
    {
     "data": {
      "text/plain": [
       "1100"
      ]
     },
     "metadata": {},
     "output_type": "display_data"
    },
    {
     "data": {
      "text/plain": [
       "'Franken’s Frank Is Cooked | The Ben Shapiro Show Ep. 432'"
      ]
     },
     "metadata": {},
     "output_type": "display_data"
    },
    {
     "data": {
      "text/plain": [
       "1100"
      ]
     },
     "metadata": {},
     "output_type": "display_data"
    },
    {
     "data": {
      "text/plain": [
       "\"Trump's Gutsy Jerusalem Call | The Ben Shapiro Show Ep. 431\""
      ]
     },
     "metadata": {},
     "output_type": "display_data"
    },
    {
     "data": {
      "text/plain": [
       "1100"
      ]
     },
     "metadata": {},
     "output_type": "display_data"
    },
    {
     "data": {
      "text/plain": [
       "'The FBI Screw-Ups: Incompetence Or Malice? | The Ben Shapiro Show Ep. 430'"
      ]
     },
     "metadata": {},
     "output_type": "display_data"
    },
    {
     "data": {
      "text/plain": [
       "1100"
      ]
     },
     "metadata": {},
     "output_type": "display_data"
    },
    {
     "data": {
      "text/plain": [
       "'A Scandal About Lying To The FBI About…A Nothingburger? | The Ben Shapiro Show Ep. 429'"
      ]
     },
     "metadata": {},
     "output_type": "display_data"
    },
    {
     "data": {
      "text/plain": [
       "1100"
      ]
     },
     "metadata": {},
     "output_type": "display_data"
    },
    {
     "data": {
      "text/plain": [
       "'A Grave Injustice In California | The Ben Shapiro Show Ep. 428'"
      ]
     },
     "metadata": {},
     "output_type": "display_data"
    },
    {
     "data": {
      "text/plain": [
       "1100"
      ]
     },
     "metadata": {},
     "output_type": "display_data"
    },
    {
     "data": {
      "text/plain": [
       "'Trump On The Brink Of A Big Win | The Ben Shapiro Show Ep. 427'"
      ]
     },
     "metadata": {},
     "output_type": "display_data"
    },
    {
     "data": {
      "text/plain": [
       "1100"
      ]
     },
     "metadata": {},
     "output_type": "display_data"
    },
    {
     "data": {
      "text/plain": [
       "'Trump On The Brink Of A Big Win | The Ben Shapiro Show Ep. 427'"
      ]
     },
     "metadata": {},
     "output_type": "display_data"
    },
    {
     "data": {
      "text/plain": [
       "1100"
      ]
     },
     "metadata": {},
     "output_type": "display_data"
    },
    {
     "data": {
      "text/plain": [
       "\"Lauer's No Longer | The Ben Shapiro Show Ep. 426\""
      ]
     },
     "metadata": {},
     "output_type": "display_data"
    },
    {
     "data": {
      "text/plain": [
       "1100"
      ]
     },
     "metadata": {},
     "output_type": "display_data"
    },
    {
     "data": {
      "text/plain": [
       "'Can You Paint With All The Colors Of The Stupid? | The Ben Shapiro Show Ep. 425'"
      ]
     },
     "metadata": {},
     "output_type": "display_data"
    },
    {
     "data": {
      "text/plain": [
       "1100"
      ]
     },
     "metadata": {},
     "output_type": "display_data"
    },
    {
     "data": {
      "text/plain": [
       "'The Democrats Give Up The Moral High Ground | The Ben Shapiro Show Ep. 424'"
      ]
     },
     "metadata": {},
     "output_type": "display_data"
    },
    {
     "data": {
      "text/plain": [
       "1100"
      ]
     },
     "metadata": {},
     "output_type": "display_data"
    },
    {
     "data": {
      "text/plain": [
       "'So Many Turkeys, So Little Time | The Ben Shapiro Show Ep. 423'"
      ]
     },
     "metadata": {},
     "output_type": "display_data"
    },
    {
     "data": {
      "text/plain": [
       "1100"
      ]
     },
     "metadata": {},
     "output_type": "display_data"
    },
    {
     "data": {
      "text/plain": [
       "'Your Taxpayer Bucks Pay For Congress’ Sexual Kicks | The Ben Shapiro Show Ep. 422'"
      ]
     },
     "metadata": {},
     "output_type": "display_data"
    },
    {
     "data": {
      "text/plain": [
       "1100"
      ]
     },
     "metadata": {},
     "output_type": "display_data"
    },
    {
     "data": {
      "text/plain": [
       "'WARNING: Category 5 Tweetstorm | The Ben Shapiro Show Ep. 421'"
      ]
     },
     "metadata": {},
     "output_type": "display_data"
    },
    {
     "data": {
      "text/plain": [
       "1100"
      ]
     },
     "metadata": {},
     "output_type": "display_data"
    },
    {
     "data": {
      "text/plain": [
       "'The Garbage Fires To End All Garbage Fires | The Ben Shapiro Show Ep. 420'"
      ]
     },
     "metadata": {},
     "output_type": "display_data"
    },
    {
     "data": {
      "text/plain": [
       "1100"
      ]
     },
     "metadata": {},
     "output_type": "display_data"
    },
    {
     "data": {
      "text/plain": [
       "'Now We Find Out Whether The Democrats Are Full Of Crap\\xa0| The Ben Shapiro Show\\xa0Ep. 419'"
      ]
     },
     "metadata": {},
     "output_type": "display_data"
    },
    {
     "data": {
      "text/plain": [
       "1100"
      ]
     },
     "metadata": {},
     "output_type": "display_data"
    },
    {
     "data": {
      "text/plain": [
       "'How Prevalent Is Sexual Harassment? | The Ben Shapiro Show Ep. 418'"
      ]
     },
     "metadata": {},
     "output_type": "display_data"
    },
    {
     "data": {
      "text/plain": [
       "1100"
      ]
     },
     "metadata": {},
     "output_type": "display_data"
    },
    {
     "data": {
      "text/plain": [
       "'Moore Comes Unmoored | The Ben Shapiro Show Ep. 417'"
      ]
     },
     "metadata": {},
     "output_type": "display_data"
    },
    {
     "data": {
      "text/plain": [
       "1100"
      ]
     },
     "metadata": {},
     "output_type": "display_data"
    },
    {
     "data": {
      "text/plain": [
       "'The Hit On Hannity, And Much Much Moore | The Ben Shapiro Show Ep. 416'"
      ]
     },
     "metadata": {},
     "output_type": "display_data"
    },
    {
     "data": {
      "text/plain": [
       "1100"
      ]
     },
     "metadata": {},
     "output_type": "display_data"
    },
    {
     "data": {
      "text/plain": [
       "'Should Republicans Dump Moore? | The Ben Shapiro Show Ep. 415'"
      ]
     },
     "metadata": {},
     "output_type": "display_data"
    },
    {
     "data": {
      "text/plain": [
       "1100"
      ]
     },
     "metadata": {},
     "output_type": "display_data"
    },
    {
     "data": {
      "text/plain": [
       "'Another Day, Another Mass Shooting | The Ben Shapiro Show Ep. 411'"
      ]
     },
     "metadata": {},
     "output_type": "display_data"
    },
    {
     "data": {
      "text/plain": [
       "1100"
      ]
     },
     "metadata": {},
     "output_type": "display_data"
    },
    {
     "data": {
      "text/plain": [
       "'Are We All Members Of Cults?\\xa0| The Ben Shapiro Show Ep. 414'"
      ]
     },
     "metadata": {},
     "output_type": "display_data"
    },
    {
     "data": {
      "text/plain": [
       "1100"
      ]
     },
     "metadata": {},
     "output_type": "display_data"
    },
    {
     "data": {
      "text/plain": [
       "'The Democratic Tsunami, Or Just Another Ripple? | The Ben Shapiro Show Ep. 413'"
      ]
     },
     "metadata": {},
     "output_type": "display_data"
    },
    {
     "data": {
      "text/plain": [
       "1100"
      ]
     },
     "metadata": {},
     "output_type": "display_data"
    },
    {
     "data": {
      "text/plain": [
       "'A Good Man With A Gun | The Ben Shapiro Show Ep. 412'"
      ]
     },
     "metadata": {},
     "output_type": "display_data"
    },
    {
     "data": {
      "text/plain": [
       "1100"
      ]
     },
     "metadata": {},
     "output_type": "display_data"
    },
    {
     "data": {
      "text/plain": [
       "'Another Day, Another Mass Shooting | The Ben Shapiro Show Ep. 411'"
      ]
     },
     "metadata": {},
     "output_type": "display_data"
    },
    {
     "data": {
      "text/plain": [
       "1100"
      ]
     },
     "metadata": {},
     "output_type": "display_data"
    },
    {
     "data": {
      "text/plain": [
       "'It’s Bernie’s Party Now | The Ben Shapiro Show Ep. 410'"
      ]
     },
     "metadata": {},
     "output_type": "display_data"
    },
    {
     "data": {
      "text/plain": [
       "1100"
      ]
     },
     "metadata": {},
     "output_type": "display_data"
    },
    {
     "data": {
      "text/plain": [
       "'How Hillary and Obama Wrecked The Democratic Party | The Ben Shapiro Show Ep. 409'"
      ]
     },
     "metadata": {},
     "output_type": "display_data"
    },
    {
     "data": {
      "text/plain": [
       "1100"
      ]
     },
     "metadata": {},
     "output_type": "display_data"
    },
    {
     "data": {
      "text/plain": [
       "'Islamist Terror Hits New York -- Again | The Ben Shapiro Show Ep. 408'"
      ]
     },
     "metadata": {},
     "output_type": "display_data"
    },
    {
     "data": {
      "text/plain": [
       "1100"
      ]
     },
     "metadata": {},
     "output_type": "display_data"
    },
    {
     "data": {
      "text/plain": [
       "'Happy Halloween! | The Ben Shapiro Show Ep. 407'"
      ]
     },
     "metadata": {},
     "output_type": "display_data"
    },
    {
     "data": {
      "text/plain": [
       "1100"
      ]
     },
     "metadata": {},
     "output_type": "display_data"
    },
    {
     "data": {
      "text/plain": [
       "'It’s Indictment Day! | The Ben Shapiro Show Ep. 406'"
      ]
     },
     "metadata": {},
     "output_type": "display_data"
    },
    {
     "data": {
      "text/plain": [
       "1100"
      ]
     },
     "metadata": {},
     "output_type": "display_data"
    },
    {
     "data": {
      "text/plain": [
       "'The Media Sexual Harassment Scandal | The Ben Shapiro Show Ep. 405'"
      ]
     },
     "metadata": {},
     "output_type": "display_data"
    },
    {
     "data": {
      "text/plain": [
       "1100"
      ]
     },
     "metadata": {},
     "output_type": "display_data"
    },
    {
     "data": {
      "text/plain": [
       "'Is Everything Sexual Assault Now? | The Ben Shapiro Show Ep. 404'"
      ]
     },
     "metadata": {},
     "output_type": "display_data"
    },
    {
     "data": {
      "text/plain": [
       "1100"
      ]
     },
     "metadata": {},
     "output_type": "display_data"
    },
    {
     "data": {
      "text/plain": [
       "'Clintonian Lies And A Republican Flake Out | The Ben Shapiro Show Ep. 403'"
      ]
     },
     "metadata": {},
     "output_type": "display_data"
    },
    {
     "data": {
      "text/plain": [
       "1100"
      ]
     },
     "metadata": {},
     "output_type": "display_data"
    },
    {
     "data": {
      "text/plain": [
       "'Clintonian Lies And A Republican Flake Out | The Ben Shapiro Show Ep. 403'"
      ]
     },
     "metadata": {},
     "output_type": "display_data"
    },
    {
     "data": {
      "text/plain": [
       "1100"
      ]
     },
     "metadata": {},
     "output_type": "display_data"
    },
    {
     "data": {
      "text/plain": [
       "'White Girls Must Stop Dressing Like Moana | The Ben Shapiro Show Ep. 402'"
      ]
     },
     "metadata": {},
     "output_type": "display_data"
    },
    {
     "data": {
      "text/plain": [
       "1100"
      ]
     },
     "metadata": {},
     "output_type": "display_data"
    },
    {
     "data": {
      "text/plain": [
       "'Why Our Country Is In Serious Trouble | The Ben Shapiro Show Ep. 401'"
      ]
     },
     "metadata": {},
     "output_type": "display_data"
    },
    {
     "data": {
      "text/plain": [
       "1100"
      ]
     },
     "metadata": {},
     "output_type": "display_data"
    },
    {
     "data": {
      "text/plain": [
       "'General John Kelly To The Rescue | The Ben Shapiro Show Ep. 400'"
      ]
     },
     "metadata": {},
     "output_type": "display_data"
    },
    {
     "data": {
      "text/plain": [
       "1100"
      ]
     },
     "metadata": {},
     "output_type": "display_data"
    },
    {
     "data": {
      "text/plain": [
       "'Are Trump’s Wounds Self-Inflicted, Or Are They The Media’s Fault? | The Ben Shapiro Show Ep. 399'"
      ]
     },
     "metadata": {},
     "output_type": "display_data"
    },
    {
     "data": {
      "text/plain": [
       "1100"
      ]
     },
     "metadata": {},
     "output_type": "display_data"
    },
    {
     "data": {
      "text/plain": [
       "'Culture Wars Matter, Political Wars Don’t | The Ben Shapiro Show Ep. 398'"
      ]
     },
     "metadata": {},
     "output_type": "display_data"
    },
    {
     "data": {
      "text/plain": [
       "1100"
      ]
     },
     "metadata": {},
     "output_type": "display_data"
    },
    {
     "data": {
      "text/plain": [
       "'The Best Pro-Abortion Argument EVER, Debunked | The Ben Shapiro Show Ep. 397'"
      ]
     },
     "metadata": {},
     "output_type": "display_data"
    },
    {
     "data": {
      "text/plain": [
       "1100"
      ]
     },
     "metadata": {},
     "output_type": "display_data"
    },
    {
     "data": {
      "text/plain": [
       "'The Great Hollywood Collapse | The Ben Shapiro Show Ep. 396'"
      ]
     },
     "metadata": {},
     "output_type": "display_data"
    },
    {
     "data": {
      "text/plain": [
       "1100"
      ]
     },
     "metadata": {},
     "output_type": "display_data"
    },
    {
     "data": {
      "text/plain": [
       "'The Moral Preening Never Ends | The Ben Shapiro Show Ep. 395'"
      ]
     },
     "metadata": {},
     "output_type": "display_data"
    },
    {
     "data": {
      "text/plain": [
       "1100"
      ]
     },
     "metadata": {},
     "output_type": "display_data"
    },
    {
     "data": {
      "text/plain": [
       "'The Jimmy Kimmel Gun Grab | The Ben Shapiro Show Ep. 394'"
      ]
     },
     "metadata": {},
     "output_type": "display_data"
    },
    {
     "data": {
      "text/plain": [
       "1100"
      ]
     },
     "metadata": {},
     "output_type": "display_data"
    },
    {
     "data": {
      "text/plain": [
       "'Evil in Vegas | The Ben Shapiro Show Ep. 393'"
      ]
     },
     "metadata": {},
     "output_type": "display_data"
    },
    {
     "data": {
      "text/plain": [
       "1100"
      ]
     },
     "metadata": {},
     "output_type": "display_data"
    },
    {
     "data": {
      "text/plain": [
       "'Trump Wins Big On The NFL | The Ben Shapiro Show Ep. 392'"
      ]
     },
     "metadata": {},
     "output_type": "display_data"
    },
    {
     "data": {
      "text/plain": [
       "1100"
      ]
     },
     "metadata": {},
     "output_type": "display_data"
    },
    {
     "data": {
      "text/plain": [
       "'Hefner Dies, Left Mourns Their Hero | The Ben Shapiro Show Ep. 391'"
      ]
     },
     "metadata": {},
     "output_type": "display_data"
    },
    {
     "data": {
      "text/plain": [
       "1100"
      ]
     },
     "metadata": {},
     "output_type": "display_data"
    },
    {
     "data": {
      "text/plain": [
       "'That Giant Republican Sucking Sound | The Ben Shapiro Show Ep. 390'"
      ]
     },
     "metadata": {},
     "output_type": "display_data"
    },
    {
     "data": {
      "text/plain": [
       "1100"
      ]
     },
     "metadata": {},
     "output_type": "display_data"
    },
    {
     "data": {
      "text/plain": [
       "'Did Trump Just Deflate Football? | The Ben Shapiro Show Ep. 389'"
      ]
     },
     "metadata": {},
     "output_type": "display_data"
    },
    {
     "data": {
      "text/plain": [
       "1100"
      ]
     },
     "metadata": {},
     "output_type": "display_data"
    },
    {
     "data": {
      "text/plain": [
       "'Trump vs. The NFL | The Ben Shapiro Show Ep. 388'"
      ]
     },
     "metadata": {},
     "output_type": "display_data"
    },
    {
     "data": {
      "text/plain": [
       "1100"
      ]
     },
     "metadata": {},
     "output_type": "display_data"
    },
    {
     "data": {
      "text/plain": [
       "'Should Jimmy Kimmel Be Appointed King Of Health Care? | The Ben Shapiro Show Ep. 387'"
      ]
     },
     "metadata": {},
     "output_type": "display_data"
    },
    {
     "data": {
      "text/plain": [
       "1100"
      ]
     },
     "metadata": {},
     "output_type": "display_data"
    },
    {
     "data": {
      "text/plain": [
       "'Was Trump Right About Wiretapping? | The Ben Shapiro Show Ep. 386'"
      ]
     },
     "metadata": {},
     "output_type": "display_data"
    },
    {
     "data": {
      "text/plain": [
       "1100"
      ]
     },
     "metadata": {},
     "output_type": "display_data"
    },
    {
     "data": {
      "text/plain": [
       "'The Culture Wars | The Ben Shapiro Show Ep. 385'"
      ]
     },
     "metadata": {},
     "output_type": "display_data"
    },
    {
     "data": {
      "text/plain": [
       "1100"
      ]
     },
     "metadata": {},
     "output_type": "display_data"
    },
    {
     "data": {
      "text/plain": [
       "'The End Of The Berkeley Blockade | The Ben Shapiro Show Ep. 384'"
      ]
     },
     "metadata": {},
     "output_type": "display_data"
    },
    {
     "data": {
      "text/plain": [
       "1100"
      ]
     },
     "metadata": {},
     "output_type": "display_data"
    },
    {
     "data": {
      "text/plain": [
       "'Did Trump Just Give Away The Border? | The Ben Shapiro Show Ep. 383'"
      ]
     },
     "metadata": {},
     "output_type": "display_data"
    },
    {
     "data": {
      "text/plain": [
       "1100"
      ]
     },
     "metadata": {},
     "output_type": "display_data"
    },
    {
     "data": {
      "text/plain": [
       "'Hillary’s Big Blame Game | The Ben Shapiro Show Ep. 382'"
      ]
     },
     "metadata": {},
     "output_type": "display_data"
    },
    {
     "data": {
      "text/plain": [
       "1100"
      ]
     },
     "metadata": {},
     "output_type": "display_data"
    },
    {
     "data": {
      "text/plain": [
       "'Will Trump’s Turn To The Center Last? | The Ben Shapiro Show Ep. 381'"
      ]
     },
     "metadata": {},
     "output_type": "display_data"
    },
    {
     "data": {
      "text/plain": [
       "1100"
      ]
     },
     "metadata": {},
     "output_type": "display_data"
    },
    {
     "data": {
      "text/plain": [
       "'The Berkeley Hurricane | The Ben Shapiro Show Ep. 380'"
      ]
     },
     "metadata": {},
     "output_type": "display_data"
    },
    {
     "data": {
      "text/plain": [
       "1100"
      ]
     },
     "metadata": {},
     "output_type": "display_data"
    },
    {
     "data": {
      "text/plain": [
       "'When Politics Becomes Religion | The Ben Shapiro Show Ep. 379'"
      ]
     },
     "metadata": {},
     "output_type": "display_data"
    },
    {
     "data": {
      "text/plain": [
       "1100"
      ]
     },
     "metadata": {},
     "output_type": "display_data"
    },
    {
     "data": {
      "text/plain": [
       "'Trump’s Big Democratic Day | The Ben Shapiro Show Ep. 378'"
      ]
     },
     "metadata": {},
     "output_type": "display_data"
    },
    {
     "data": {
      "text/plain": [
       "1100"
      ]
     },
     "metadata": {},
     "output_type": "display_data"
    },
    {
     "data": {
      "text/plain": [
       "'Circular Firing Squad | The Ben Shapiro Show Ep. 377'"
      ]
     },
     "metadata": {},
     "output_type": "display_data"
    },
    {
     "data": {
      "text/plain": [
       "1100"
      ]
     },
     "metadata": {},
     "output_type": "display_data"
    },
    {
     "data": {
      "text/plain": [
       "'Trump Dumps Obama’s Executive Amnesty | The Ben Shapiro Show Ep. 376'"
      ]
     },
     "metadata": {},
     "output_type": "display_data"
    },
    {
     "data": {
      "text/plain": [
       "1100"
      ]
     },
     "metadata": {},
     "output_type": "display_data"
    },
    {
     "data": {
      "text/plain": [
       "'The Democrats’ Last, Best Hope | The Ben Shapiro Show Ep. 375'"
      ]
     },
     "metadata": {},
     "output_type": "display_data"
    },
    {
     "data": {
      "text/plain": [
       "1100"
      ]
     },
     "metadata": {},
     "output_type": "display_data"
    },
    {
     "data": {
      "text/plain": [
       "'The Scorn For The Heartland | The Ben Shapiro Show Ep. 374'"
      ]
     },
     "metadata": {},
     "output_type": "display_data"
    },
    {
     "data": {
      "text/plain": [
       "1100"
      ]
     },
     "metadata": {},
     "output_type": "display_data"
    },
    {
     "data": {
      "text/plain": [
       "'Does Trump Have An Empathy Problem? | The Ben Shapiro Show Ep. 373'"
      ]
     },
     "metadata": {},
     "output_type": "display_data"
    },
    {
     "data": {
      "text/plain": [
       "1100"
      ]
     },
     "metadata": {},
     "output_type": "display_data"
    },
    {
     "data": {
      "text/plain": [
       "'Does Trump Have An Empathy Problem? | The Ben Shapiro Show Ep. 373: The media pounce on Trump’s s...'"
      ]
     },
     "metadata": {},
     "output_type": "display_data"
    },
    {
     "data": {
      "text/plain": [
       "1100"
      ]
     },
     "metadata": {},
     "output_type": "display_data"
    },
    {
     "data": {
      "text/plain": [
       "'Everything Is Political, Including Hurricanes | The Ben Shapiro Show Ep. 372'"
      ]
     },
     "metadata": {},
     "output_type": "display_data"
    },
    {
     "data": {
      "text/plain": [
       "1100"
      ]
     },
     "metadata": {},
     "output_type": "display_data"
    },
    {
     "data": {
      "text/plain": [
       "'Trump’s First Crisis | The Ben Shapiro Show Ep. 371'"
      ]
     },
     "metadata": {},
     "output_type": "display_data"
    },
    {
     "data": {
      "text/plain": [
       "1100"
      ]
     },
     "metadata": {},
     "output_type": "display_data"
    },
    {
     "data": {
      "text/plain": [
       "'The War On Children | The Ben Shapiro Show Ep. 370'"
      ]
     },
     "metadata": {},
     "output_type": "display_data"
    },
    {
     "data": {
      "text/plain": [
       "1100"
      ]
     },
     "metadata": {},
     "output_type": "display_data"
    },
    {
     "data": {
      "text/plain": [
       "'How The Left Blows Itself Up, In 4 Easy Steps | The Ben Shapiro Show Ep. 369'"
      ]
     },
     "metadata": {},
     "output_type": "display_data"
    },
    {
     "data": {
      "text/plain": [
       "1100"
      ]
     },
     "metadata": {},
     "output_type": "display_data"
    },
    {
     "data": {
      "text/plain": [
       "'Like A Phoenix From The Ashes | The Ben Shapiro Show Ep. 368'"
      ]
     },
     "metadata": {},
     "output_type": "display_data"
    },
    {
     "data": {
      "text/plain": [
       "1100"
      ]
     },
     "metadata": {},
     "output_type": "display_data"
    },
    {
     "data": {
      "text/plain": [
       "'Commander-In-Chief Trump Tackles Afghanistan |  | The Ben Shapiro Show Ep. 367'"
      ]
     },
     "metadata": {},
     "output_type": "display_data"
    },
    {
     "data": {
      "text/plain": [
       "1100"
      ]
     },
     "metadata": {},
     "output_type": "display_data"
    },
    {
     "data": {
      "text/plain": [
       "'Everyone’s A Nazi Now | The Ben Shapiro Show Ep. 366'"
      ]
     },
     "metadata": {},
     "output_type": "display_data"
    },
    {
     "data": {
      "text/plain": [
       "1100"
      ]
     },
     "metadata": {},
     "output_type": "display_data"
    },
    {
     "data": {
      "text/plain": [
       "'Real Terror, Fake News | The Ben Shapiro Show Ep. 365'"
      ]
     },
     "metadata": {},
     "output_type": "display_data"
    },
    {
     "data": {
      "text/plain": [
       "1100"
      ]
     },
     "metadata": {},
     "output_type": "display_data"
    },
    {
     "data": {
      "text/plain": [
       "'The Left Defends Evil Of Its Own | The Ben Shapiro Show Ep. 364'"
      ]
     },
     "metadata": {},
     "output_type": "display_data"
    },
    {
     "data": {
      "text/plain": [
       "1100"
      ]
     },
     "metadata": {},
     "output_type": "display_data"
    },
    {
     "data": {
      "text/plain": [
       "'Trump’s Messy Presser | The Ben Shapiro Show Ep. 363'"
      ]
     },
     "metadata": {},
     "output_type": "display_data"
    },
    {
     "data": {
      "text/plain": [
       "1100"
      ]
     },
     "metadata": {},
     "output_type": "display_data"
    },
    {
     "data": {
      "text/plain": [
       "'The Aftermath Of Charlottesville | The Ben Shapiro Show Ep. 362'"
      ]
     },
     "metadata": {},
     "output_type": "display_data"
    },
    {
     "data": {
      "text/plain": [
       "1100"
      ]
     },
     "metadata": {},
     "output_type": "display_data"
    },
    {
     "data": {
      "text/plain": [
       "'Horror in Charlottesville | The Ben Shapiro Show Ep. 361'"
      ]
     },
     "metadata": {},
     "output_type": "display_data"
    },
    {
     "data": {
      "text/plain": [
       "1100"
      ]
     },
     "metadata": {},
     "output_type": "display_data"
    },
    {
     "data": {
      "text/plain": [
       "'Democrats vs. Trump vs. North Korea | The Ben Shapiro Show Ep. 360'"
      ]
     },
     "metadata": {},
     "output_type": "display_data"
    },
    {
     "data": {
      "text/plain": [
       "1100"
      ]
     },
     "metadata": {},
     "output_type": "display_data"
    },
    {
     "data": {
      "text/plain": [
       "'Ben Shapiro Interviews Google Memo Guy James Damore'"
      ]
     },
     "metadata": {},
     "output_type": "display_data"
    },
    {
     "data": {
      "text/plain": [
       "1100"
      ]
     },
     "metadata": {},
     "output_type": "display_data"
    },
    {
     "data": {
      "text/plain": [
       "'Is It The Media’s Job To Scare People? | The Ben Shapiro Show Ep. 359'"
      ]
     },
     "metadata": {},
     "output_type": "display_data"
    },
    {
     "data": {
      "text/plain": [
       "1100"
      ]
     },
     "metadata": {},
     "output_type": "display_data"
    },
    {
     "data": {
      "text/plain": [
       "'The Global Thermonuclear War Episode | The Ben Shapiro Show Ep. 358'"
      ]
     },
     "metadata": {},
     "output_type": "display_data"
    },
    {
     "data": {
      "text/plain": [
       "1100"
      ]
     },
     "metadata": {},
     "output_type": "display_data"
    },
    {
     "data": {
      "text/plain": [
       "'The Corporate Fascists Are Here | The Ben Shapiro Show Ep. 357'"
      ]
     },
     "metadata": {},
     "output_type": "display_data"
    },
    {
     "data": {
      "text/plain": [
       "1100"
      ]
     },
     "metadata": {},
     "output_type": "display_data"
    },
    {
     "data": {
      "text/plain": [
       "'Is Trump On The Brink? | The Ben Shapiro Show Ep. 356'"
      ]
     },
     "metadata": {},
     "output_type": "display_data"
    },
    {
     "data": {
      "text/plain": [
       "1100"
      ]
     },
     "metadata": {},
     "output_type": "display_data"
    },
    {
     "data": {
      "text/plain": [
       "'A Very Special Episode With A Very Special Counsel | The Ben Shapiro Show Ep. 355'"
      ]
     },
     "metadata": {},
     "output_type": "display_data"
    },
    {
     "data": {
      "text/plain": [
       "1100"
      ]
     },
     "metadata": {},
     "output_type": "display_data"
    },
    {
     "data": {
      "text/plain": [
       "'The Media Exposes Itself | The Ben Shapiro Show Ep. 354'"
      ]
     },
     "metadata": {},
     "output_type": "display_data"
    },
    {
     "data": {
      "text/plain": [
       "1100"
      ]
     },
     "metadata": {},
     "output_type": "display_data"
    },
    {
     "data": {
      "text/plain": [
       "'Venezuela Collapses, Left Panics | The Ben Shapiro Show Ep. 353'"
      ]
     },
     "metadata": {},
     "output_type": "display_data"
    },
    {
     "data": {
      "text/plain": [
       "1100"
      ]
     },
     "metadata": {},
     "output_type": "display_data"
    },
    {
     "data": {
      "text/plain": [
       "'The Legend Of The Mooch | The Ben Shapiro Show Ep. 352'"
      ]
     },
     "metadata": {},
     "output_type": "display_data"
    },
    {
     "data": {
      "text/plain": [
       "1100"
      ]
     },
     "metadata": {},
     "output_type": "display_data"
    },
    {
     "data": {
      "text/plain": [
       "'Ep. 351 - Out With the Reince, In With The Kelly'"
      ]
     },
     "metadata": {},
     "output_type": "display_data"
    },
    {
     "data": {
      "text/plain": [
       "1100"
      ]
     },
     "metadata": {},
     "output_type": "display_data"
    },
    {
     "data": {
      "text/plain": [
       "'Mr. Shapiro Goes To Washington | The Ben Shapiro Show Ep. 350'"
      ]
     },
     "metadata": {},
     "output_type": "display_data"
    },
    {
     "data": {
      "text/plain": [
       "1100"
      ]
     },
     "metadata": {},
     "output_type": "display_data"
    },
    {
     "data": {
      "text/plain": [
       "'What Do The Democrats Have To Hide? | The Ben Shapiro Show Ep. 349'"
      ]
     },
     "metadata": {},
     "output_type": "display_data"
    },
    {
     "data": {
      "text/plain": [
       "1100"
      ]
     },
     "metadata": {},
     "output_type": "display_data"
    },
    {
     "data": {
      "text/plain": [
       "'Has The Conservative Movement Hit Its Limit? | The Ben Shapiro Show Ep. 348'"
      ]
     },
     "metadata": {},
     "output_type": "display_data"
    },
    {
     "data": {
      "text/plain": [
       "1100"
      ]
     },
     "metadata": {},
     "output_type": "display_data"
    },
    {
     "data": {
      "text/plain": [
       "'Begun The Sessions War Has | The Ben Shapiro Show Ep. 347'"
      ]
     },
     "metadata": {},
     "output_type": "display_data"
    },
    {
     "data": {
      "text/plain": [
       "1100"
      ]
     },
     "metadata": {},
     "output_type": "display_data"
    },
    {
     "data": {
      "text/plain": [
       "'What True Evil Looks Like | The Ben Shapiro Show Ep. 346'"
      ]
     },
     "metadata": {},
     "output_type": "display_data"
    },
    {
     "data": {
      "text/plain": [
       "1100"
      ]
     },
     "metadata": {},
     "output_type": "display_data"
    },
    {
     "data": {
      "text/plain": [
       "'The Juice Is Loose! | The Ben Shapiro Show Ep. 345'"
      ]
     },
     "metadata": {},
     "output_type": "display_data"
    },
    {
     "data": {
      "text/plain": [
       "1100"
      ]
     },
     "metadata": {},
     "output_type": "display_data"
    },
    {
     "data": {
      "text/plain": [
       "'The Campus Left’s Fascism | The Ben Shapiro Show Ep. 344'"
      ]
     },
     "metadata": {},
     "output_type": "display_data"
    },
    {
     "data": {
      "text/plain": [
       "1100"
      ]
     },
     "metadata": {},
     "output_type": "display_data"
    },
    {
     "data": {
      "text/plain": [
       "'So, Who Owns Obamacare Now? | The Ben Shapiro Show Ep. 343'"
      ]
     },
     "metadata": {},
     "output_type": "display_data"
    },
    {
     "data": {
      "text/plain": [
       "1100"
      ]
     },
     "metadata": {},
     "output_type": "display_data"
    },
    {
     "data": {
      "text/plain": [
       "\"Trumpcare Goes Down. Who's To Blame? | The Ben Shapiro Show Ep. 342\""
      ]
     },
     "metadata": {},
     "output_type": "display_data"
    },
    {
     "data": {
      "text/plain": [
       "1100"
      ]
     },
     "metadata": {},
     "output_type": "display_data"
    },
    {
     "data": {
      "text/plain": [
       "'The Media Say Trump Is The WORST EVER. They’re Wrong. | The Ben Shapiro Show Ep. 341'"
      ]
     },
     "metadata": {},
     "output_type": "display_data"
    },
    {
     "data": {
      "text/plain": [
       "1100"
      ]
     },
     "metadata": {},
     "output_type": "display_data"
    },
    {
     "data": {
      "text/plain": [
       "'Ben Shapiro Loses It On Feminist Blogger Calling Her Sons Rapists | The Ben Shapiro Show'"
      ]
     },
     "metadata": {},
     "output_type": "display_data"
    },
    {
     "data": {
      "text/plain": [
       "1100"
      ]
     },
     "metadata": {},
     "output_type": "display_data"
    },
    {
     "data": {
      "text/plain": [
       "'Mark Levin Tells Us How To Rediscover Americanism'"
      ]
     },
     "metadata": {},
     "output_type": "display_data"
    },
    {
     "data": {
      "text/plain": [
       "1100"
      ]
     },
     "metadata": {},
     "output_type": "display_data"
    },
    {
     "data": {
      "text/plain": [
       "'Does Any Of This Stuff Matter? | The Ben Shapiro Show Ep. 340'"
      ]
     },
     "metadata": {},
     "output_type": "display_data"
    },
    {
     "data": {
      "text/plain": [
       "1100"
      ]
     },
     "metadata": {},
     "output_type": "display_data"
    },
    {
     "data": {
      "text/plain": [
       "'Collusion Confusion | The Ben Shapiro Show Ep. 339'"
      ]
     },
     "metadata": {},
     "output_type": "display_data"
    },
    {
     "data": {
      "text/plain": [
       "1100"
      ]
     },
     "metadata": {},
     "output_type": "display_data"
    },
    {
     "data": {
      "text/plain": [
       "'Carry On, My Wayward Son | The Ben Shapiro Show Ep. 338'"
      ]
     },
     "metadata": {},
     "output_type": "display_data"
    },
    {
     "data": {
      "text/plain": [
       "1100"
      ]
     },
     "metadata": {},
     "output_type": "display_data"
    },
    {
     "data": {
      "text/plain": [
       "'Trump Jr.’s Big Meeting | The Ben Shapiro Show Ep. 337'"
      ]
     },
     "metadata": {},
     "output_type": "display_data"
    },
    {
     "data": {
      "text/plain": [
       "1100"
      ]
     },
     "metadata": {},
     "output_type": "display_data"
    },
    {
     "data": {
      "text/plain": [
       "'The Russian Connection | The Ben Shapiro Show Ep. 336'"
      ]
     },
     "metadata": {},
     "output_type": "display_data"
    },
    {
     "data": {
      "text/plain": [
       "1100"
      ]
     },
     "metadata": {},
     "output_type": "display_data"
    },
    {
     "data": {
      "text/plain": [
       "'At Least I’m Not You | The Ben Shapiro Show Ep. 334'"
      ]
     },
     "metadata": {},
     "output_type": "display_data"
    },
    {
     "data": {
      "text/plain": [
       "1100"
      ]
     },
     "metadata": {},
     "output_type": "display_data"
    },
    {
     "data": {
      "text/plain": [
       "'The Soul Of The Left, Revealed | The Ben Shapiro Show Ep. 335'"
      ]
     },
     "metadata": {},
     "output_type": "display_data"
    },
    {
     "data": {
      "text/plain": [
       "1100"
      ]
     },
     "metadata": {},
     "output_type": "display_data"
    },
    {
     "data": {
      "text/plain": [
       "'CNN Lights Itself On Fire For The Fourth Of July | The Ben Shapiro Show Ep. 333'"
      ]
     },
     "metadata": {},
     "output_type": "display_data"
    },
    {
     "data": {
      "text/plain": [
       "1100"
      ]
     },
     "metadata": {},
     "output_type": "display_data"
    },
    {
     "data": {
      "text/plain": [
       "'Macho Man Donny Savage | The Ben Shapiro Show Ep. 332'"
      ]
     },
     "metadata": {},
     "output_type": "display_data"
    },
    {
     "data": {
      "text/plain": [
       "1100"
      ]
     },
     "metadata": {},
     "output_type": "display_data"
    },
    {
     "data": {
      "text/plain": [
       "'Our Politics Needs A Bloody Face-Lift | The Ben Shapiro Show Ep. 331'"
      ]
     },
     "metadata": {},
     "output_type": "display_data"
    },
    {
     "data": {
      "text/plain": [
       "1100"
      ]
     },
     "metadata": {},
     "output_type": "display_data"
    },
    {
     "data": {
      "text/plain": [
       "'Government-Run Healthcare Does Kill People | The Ben Shapiro Show Ep. 330'"
      ]
     },
     "metadata": {},
     "output_type": "display_data"
    },
    {
     "data": {
      "text/plain": [
       "1100"
      ]
     },
     "metadata": {},
     "output_type": "display_data"
    },
    {
     "data": {
      "text/plain": [
       "'Republicans Prepare To Own Obamacare | The Ben Shapiro Show Ep. 326'"
      ]
     },
     "metadata": {},
     "output_type": "display_data"
    },
    {
     "data": {
      "text/plain": [
       "1100"
      ]
     },
     "metadata": {},
     "output_type": "display_data"
    },
    {
     "data": {
      "text/plain": [
       "'Democrats Struggle For A Strategy | The Ben Shapiro Show Ep. 325'"
      ]
     },
     "metadata": {},
     "output_type": "display_data"
    },
    {
     "data": {
      "text/plain": [
       "1100"
      ]
     },
     "metadata": {},
     "output_type": "display_data"
    },
    {
     "data": {
      "text/plain": [
       "'Laughing My Ossoff | The Ben Shapiro Show Ep. 324'"
      ]
     },
     "metadata": {},
     "output_type": "display_data"
    },
    {
     "data": {
      "text/plain": [
       "1100"
      ]
     },
     "metadata": {},
     "output_type": "display_data"
    },
    {
     "data": {
      "text/plain": [
       "'True Evil Shows Its Face | The Ben Shapiro Show Ep. 323'"
      ]
     },
     "metadata": {},
     "output_type": "display_data"
    },
    {
     "data": {
      "text/plain": [
       "1100"
      ]
     },
     "metadata": {},
     "output_type": "display_data"
    },
    {
     "data": {
      "text/plain": [
       "'The Ben Shapiro Show Ep. 207 - Today Is The Day'"
      ]
     },
     "metadata": {},
     "output_type": "display_data"
    },
    {
     "data": {
      "text/plain": [
       "1100"
      ]
     },
     "metadata": {},
     "output_type": "display_data"
    },
    {
     "data": {
      "text/plain": [
       "\"All The World's A Stage, And The Play Sucks | The Ben Shapiro Show Ep. 322\""
      ]
     },
     "metadata": {},
     "output_type": "display_data"
    },
    {
     "data": {
      "text/plain": [
       "1100"
      ]
     },
     "metadata": {},
     "output_type": "display_data"
    },
    {
     "data": {
      "text/plain": [
       "'Are The Speech Police Coming? | The Ben Shapiro Show Ep. 320'"
      ]
     },
     "metadata": {},
     "output_type": "display_data"
    },
    {
     "data": {
      "text/plain": [
       "1100"
      ]
     },
     "metadata": {},
     "output_type": "display_data"
    },
    {
     "data": {
      "text/plain": [
       "\"Ep. 321 - Can't We All Just Get Along? | The Ben Shapiro Show\""
      ]
     },
     "metadata": {},
     "output_type": "display_data"
    },
    {
     "data": {
      "text/plain": [
       "1100"
      ]
     },
     "metadata": {},
     "output_type": "display_data"
    },
    {
     "data": {
      "text/plain": [
       "'Ep. 319 - Attempted Massacre on Congressman In DC - What Do We Know? | The Ben Shapiro Show'"
      ]
     },
     "metadata": {},
     "output_type": "display_data"
    },
    {
     "data": {
      "text/plain": [
       "1100"
      ]
     },
     "metadata": {},
     "output_type": "display_data"
    },
    {
     "data": {
      "text/plain": [
       "'Ep. 318 - The Get-Trump Brigade | The Ben Shapiro Show'"
      ]
     },
     "metadata": {},
     "output_type": "display_data"
    },
    {
     "data": {
      "text/plain": [
       "1100"
      ]
     },
     "metadata": {},
     "output_type": "display_data"
    },
    {
     "data": {
      "text/plain": [
       "'Ep. 317 - Is Trump On The Ropes...Or On Offense? | The Ben Shapiro Show'"
      ]
     },
     "metadata": {},
     "output_type": "display_data"
    },
    {
     "data": {
      "text/plain": [
       "1100"
      ]
     },
     "metadata": {},
     "output_type": "display_data"
    },
    {
     "data": {
      "text/plain": [
       "'Ep. 316 - The Apocalypse Has Comey'"
      ]
     },
     "metadata": {},
     "output_type": "display_data"
    },
    {
     "data": {
      "text/plain": [
       "1100"
      ]
     },
     "metadata": {},
     "output_type": "display_data"
    },
    {
     "data": {
      "text/plain": [
       "\"Ep. 315 - Comey Saves Trump's Bacon, Democrats Weep | The Ben Shapiro Show\""
      ]
     },
     "metadata": {},
     "output_type": "display_data"
    },
    {
     "data": {
      "text/plain": [
       "1100"
      ]
     },
     "metadata": {},
     "output_type": "display_data"
    },
    {
     "data": {
      "text/plain": [
       "'Ep. 314 - The Left Frets Over Comey, The Right Frets Over Radical Islam | The Ben Shapiro Show'"
      ]
     },
     "metadata": {},
     "output_type": "display_data"
    },
    {
     "data": {
      "text/plain": [
       "1100"
      ]
     },
     "metadata": {},
     "output_type": "display_data"
    },
    {
     "data": {
      "text/plain": [
       "'Ep. 313 - Did Russia Hack The Election After All? | The Ben Shapiro Show'"
      ]
     },
     "metadata": {},
     "output_type": "display_data"
    },
    {
     "data": {
      "text/plain": [
       "1100"
      ]
     },
     "metadata": {},
     "output_type": "display_data"
    },
    {
     "data": {
      "text/plain": [
       "'Ep. 312 - The Left Is More Anti-Trump Than Anti-Islamist | The Ben Shapiro Show'"
      ]
     },
     "metadata": {},
     "output_type": "display_data"
    },
    {
     "data": {
      "text/plain": [
       "1100"
      ]
     },
     "metadata": {},
     "output_type": "display_data"
    },
    {
     "data": {
      "text/plain": [
       "\"Ep. 311 - At Least We Won't Have Paris | The Ben Shapiro Show\""
      ]
     },
     "metadata": {},
     "output_type": "display_data"
    },
    {
     "data": {
      "text/plain": [
       "1100"
      ]
     },
     "metadata": {},
     "output_type": "display_data"
    },
    {
     "data": {
      "text/plain": [
       "'Ep. 310 - Can Everybody Stop Panicking For Five Minutes? | The Ben Shapiro Show'"
      ]
     },
     "metadata": {},
     "output_type": "display_data"
    },
    {
     "data": {
      "text/plain": [
       "1100"
      ]
     },
     "metadata": {},
     "output_type": "display_data"
    },
    {
     "data": {
      "text/plain": [
       "'Ep. 309 - Is It Okay To Body-Slam Reporters? | The Ben Shapiro Show'"
      ]
     },
     "metadata": {},
     "output_type": "display_data"
    },
    {
     "data": {
      "text/plain": [
       "1100"
      ]
     },
     "metadata": {},
     "output_type": "display_data"
    },
    {
     "data": {
      "text/plain": [
       "'Ep. 308 - Katy Perry Hates Walls...Except Around Her House | The Ben Shapiro Show'"
      ]
     },
     "metadata": {},
     "output_type": "display_data"
    },
    {
     "data": {
      "text/plain": [
       "1100"
      ]
     },
     "metadata": {},
     "output_type": "display_data"
    },
    {
     "data": {
      "text/plain": [
       "'Ep. 307 - Terror Rocks Britain — And The Left Exposes Itself | The Ben Shapiro Show'"
      ]
     },
     "metadata": {},
     "output_type": "display_data"
    },
    {
     "data": {
      "text/plain": [
       "1100"
      ]
     },
     "metadata": {},
     "output_type": "display_data"
    },
    {
     "data": {
      "text/plain": [
       "'Ep. 306 - Donald Of Arabia! | The Ben Shapiro Show'"
      ]
     },
     "metadata": {},
     "output_type": "display_data"
    },
    {
     "data": {
      "text/plain": [
       "1100"
      ]
     },
     "metadata": {},
     "output_type": "display_data"
    },
    {
     "data": {
      "text/plain": [
       "\"Ep. 305 - The Special Counsel Has Arrived -- But It Won't Satisfy Democrats | The Ben Shapiro Show\""
      ]
     },
     "metadata": {},
     "output_type": "display_data"
    },
    {
     "data": {
      "text/plain": [
       "1100"
      ]
     },
     "metadata": {},
     "output_type": "display_data"
    },
    {
     "data": {
      "text/plain": [
       "'Ep. 304 - Democrats Cry Impeachment, But Is It All A Setup? | The Ben Shapiro Show'"
      ]
     },
     "metadata": {},
     "output_type": "display_data"
    },
    {
     "data": {
      "text/plain": [
       "1100"
      ]
     },
     "metadata": {},
     "output_type": "display_data"
    },
    {
     "data": {
      "text/plain": [
       "'Ep. 303 - Another Day, Another Russia Scandal | The Ben Shapiro Show'"
      ]
     },
     "metadata": {},
     "output_type": "display_data"
    },
    {
     "data": {
      "text/plain": [
       "1100"
      ]
     },
     "metadata": {},
     "output_type": "display_data"
    },
    {
     "data": {
      "text/plain": [
       "'Ep. 302 - Did Trump Just Wound Himself, Or Is This All Overblown? | The Ben Shapiro Show'"
      ]
     },
     "metadata": {},
     "output_type": "display_data"
    },
    {
     "data": {
      "text/plain": [
       "1100"
      ]
     },
     "metadata": {},
     "output_type": "display_data"
    },
    {
     "data": {
      "text/plain": [
       "\"Ep. 301 - Comey's Gone, And The Russians Are Coming! Or Are They? | The Ben Shapiro Show\""
      ]
     },
     "metadata": {},
     "output_type": "display_data"
    },
    {
     "data": {
      "text/plain": [
       "1100"
      ]
     },
     "metadata": {},
     "output_type": "display_data"
    },
    {
     "data": {
      "text/plain": [
       "'Ep. 299 - This Trump-Russia Garbage Is Getting Old | The Ben Shapiro Show'"
      ]
     },
     "metadata": {},
     "output_type": "display_data"
    },
    {
     "data": {
      "text/plain": [
       "1100"
      ]
     },
     "metadata": {},
     "output_type": "display_data"
    },
    {
     "data": {
      "text/plain": [
       "'Ep. 300 - Trump FIRES Comey, All Hell Breaks Loose | The Ben Shapiro Show'"
      ]
     },
     "metadata": {},
     "output_type": "display_data"
    },
    {
     "data": {
      "text/plain": [
       "1100"
      ]
     },
     "metadata": {},
     "output_type": "display_data"
    },
    {
     "data": {
      "text/plain": [
       "\"Ep. 298 - Is Trump's Big Win In The House Actually A Win? | The Ben Shapiro Show\""
      ]
     },
     "metadata": {},
     "output_type": "display_data"
    },
    {
     "data": {
      "text/plain": [
       "1100"
      ]
     },
     "metadata": {},
     "output_type": "display_data"
    },
    {
     "data": {
      "text/plain": [
       "'The Ben Shapiro Show Ep. 297 - It’s Trumpcare Day!'"
      ]
     },
     "metadata": {},
     "output_type": "display_data"
    },
    {
     "data": {
      "text/plain": [
       "1100"
      ]
     },
     "metadata": {},
     "output_type": "display_data"
    },
    {
     "data": {
      "text/plain": [
       "\"The Ben Shapiro Show Ep. 296 - Hillary's Back!\""
      ]
     },
     "metadata": {},
     "output_type": "display_data"
    },
    {
     "data": {
      "text/plain": [
       "1100"
      ]
     },
     "metadata": {},
     "output_type": "display_data"
    },
    {
     "data": {
      "text/plain": [
       "'The Ben Shapiro Show Ep. 295 - Can Trump Focus On What Matters?'"
      ]
     },
     "metadata": {},
     "output_type": "display_data"
    },
    {
     "data": {
      "text/plain": [
       "1100"
      ]
     },
     "metadata": {},
     "output_type": "display_data"
    },
    {
     "data": {
      "text/plain": [
       "\"The Ben Shapiro Show Ep. 294 - Journalists Prove They're Smug Leftist Elites\""
      ]
     },
     "metadata": {},
     "output_type": "display_data"
    },
    {
     "data": {
      "text/plain": [
       "1100"
      ]
     },
     "metadata": {},
     "output_type": "display_data"
    },
    {
     "data": {
      "text/plain": [
       "'The Ben Shapiro Show Ep. 293 - Fascists Win In Berkeley'"
      ]
     },
     "metadata": {},
     "output_type": "display_data"
    },
    {
     "data": {
      "text/plain": [
       "1100"
      ]
     },
     "metadata": {},
     "output_type": "display_data"
    },
    {
     "data": {
      "text/plain": [
       "'The Ben Shapiro Show Ep. 292 - Should We Train Three-Year-Olds To Be Boys And Girls?'"
      ]
     },
     "metadata": {},
     "output_type": "display_data"
    },
    {
     "data": {
      "text/plain": [
       "1100"
      ]
     },
     "metadata": {},
     "output_type": "display_data"
    },
    {
     "data": {
      "text/plain": [
       "'The Ben Shapiro Show Ep. 291 - Is The Trump Wall Dying?'"
      ]
     },
     "metadata": {},
     "output_type": "display_data"
    },
    {
     "data": {
      "text/plain": [
       "1100"
      ]
     },
     "metadata": {},
     "output_type": "display_data"
    },
    {
     "data": {
      "text/plain": [
       "\"The Ben Shapiro Show Ep. 290 - Trump's First 100 Days: How Has He Done?\""
      ]
     },
     "metadata": {},
     "output_type": "display_data"
    },
    {
     "data": {
      "text/plain": [
       "1100"
      ]
     },
     "metadata": {},
     "output_type": "display_data"
    },
    {
     "data": {
      "text/plain": [
       "'The Ben Shapiro Show Ep. 289 - When The Left Says Science, They Mean ‘Shut Up’'"
      ]
     },
     "metadata": {},
     "output_type": "display_data"
    },
    {
     "data": {
      "text/plain": [
       "1100"
      ]
     },
     "metadata": {},
     "output_type": "display_data"
    },
    {
     "data": {
      "text/plain": [
       "\"The Ben Shapiro Show Ep. 288 - O'Reilly's Out -- What Does It Mean For The Right?\""
      ]
     },
     "metadata": {},
     "output_type": "display_data"
    },
    {
     "data": {
      "text/plain": [
       "1100"
      ]
     },
     "metadata": {},
     "output_type": "display_data"
    },
    {
     "data": {
      "text/plain": [
       "'The Ben Shapiro Show Ep. 287 - Is America On The Verge Of A Mental Breakdown?'"
      ]
     },
     "metadata": {},
     "output_type": "display_data"
    },
    {
     "data": {
      "text/plain": [
       "1100"
      ]
     },
     "metadata": {},
     "output_type": "display_data"
    },
    {
     "data": {
      "text/plain": [
       "'Ep. 269 - Myths And Facts About Trumpcare'"
      ]
     },
     "metadata": {},
     "output_type": "display_data"
    },
    {
     "data": {
      "text/plain": [
       "1100"
      ]
     },
     "metadata": {},
     "output_type": "display_data"
    },
    {
     "data": {
      "text/plain": [
       "'The Ben Shapiro Show Ep. 286 - Trump The Conqueror'"
      ]
     },
     "metadata": {},
     "output_type": "display_data"
    },
    {
     "data": {
      "text/plain": [
       "1100"
      ]
     },
     "metadata": {},
     "output_type": "display_data"
    },
    {
     "data": {
      "text/plain": [
       "'The Ben Shapiro Show Ep. 285 - Is Trump Growing Into The Office?'"
      ]
     },
     "metadata": {},
     "output_type": "display_data"
    },
    {
     "data": {
      "text/plain": [
       "1100"
      ]
     },
     "metadata": {},
     "output_type": "display_data"
    },
    {
     "data": {
      "text/plain": [
       "'Ep. 284 - So, Is There A Plan?'"
      ]
     },
     "metadata": {},
     "output_type": "display_data"
    },
    {
     "data": {
      "text/plain": [
       "1100"
      ]
     },
     "metadata": {},
     "output_type": "display_data"
    },
    {
     "data": {
      "text/plain": [
       "\"The Ben Shapiro Show Ep. 283 - There's A New Sheriff In Syria\""
      ]
     },
     "metadata": {},
     "output_type": "display_data"
    },
    {
     "data": {
      "text/plain": [
       "1100"
      ]
     },
     "metadata": {},
     "output_type": "display_data"
    },
    {
     "data": {
      "text/plain": [
       "\"The Ben Shapiro Show Ep. 282 - Trump's Big Syria Conundrum\""
      ]
     },
     "metadata": {},
     "output_type": "display_data"
    },
    {
     "data": {
      "text/plain": [
       "1100"
      ]
     },
     "metadata": {},
     "output_type": "display_data"
    },
    {
     "data": {
      "text/plain": [
       "'The Ben Shapiro Show Ep. 281 - Susan Rice Is Under Serious Fire -- And She Should Be'"
      ]
     },
     "metadata": {},
     "output_type": "display_data"
    },
    {
     "data": {
      "text/plain": [
       "1100"
      ]
     },
     "metadata": {},
     "output_type": "display_data"
    },
    {
     "data": {
      "text/plain": [
       "'The Ben Shapiro Show Ep. 280 - A Massive Bombshell Helps Trump'"
      ]
     },
     "metadata": {},
     "output_type": "display_data"
    },
    {
     "data": {
      "text/plain": [
       "1100"
      ]
     },
     "metadata": {},
     "output_type": "display_data"
    },
    {
     "data": {
      "text/plain": [
       "'The Ben Shapiro Show Ep. 278 - Leftists Crack Down On Free Speech'"
      ]
     },
     "metadata": {},
     "output_type": "display_data"
    },
    {
     "data": {
      "text/plain": [
       "1100"
      ]
     },
     "metadata": {},
     "output_type": "display_data"
    },
    {
     "data": {
      "text/plain": [
       "'The Ben Shapiro Show Ep. 279 - Both Parties Are Preparing To Commit Suicide'"
      ]
     },
     "metadata": {},
     "output_type": "display_data"
    },
    {
     "data": {
      "text/plain": [
       "1100"
      ]
     },
     "metadata": {},
     "output_type": "display_data"
    },
    {
     "data": {
      "text/plain": [
       "'The Ben Shapiro Show Ep. 277 - Real Controversies, and Fake Controversies'"
      ]
     },
     "metadata": {},
     "output_type": "display_data"
    },
    {
     "data": {
      "text/plain": [
       "1100"
      ]
     },
     "metadata": {},
     "output_type": "display_data"
    },
    {
     "data": {
      "text/plain": [
       "'The Ben Shapiro Show Ep. 276 - Begun, The War On Conservatives Has'"
      ]
     },
     "metadata": {},
     "output_type": "display_data"
    },
    {
     "data": {
      "text/plain": [
       "1100"
      ]
     },
     "metadata": {},
     "output_type": "display_data"
    },
    {
     "data": {
      "text/plain": [
       "'The Ben Shapiro Show Ep. 275 - Can Everybody Stop Lying For 30 Seconds, Please?'"
      ]
     },
     "metadata": {},
     "output_type": "display_data"
    },
    {
     "data": {
      "text/plain": [
       "1100"
      ]
     },
     "metadata": {},
     "output_type": "display_data"
    },
    {
     "data": {
      "text/plain": [
       "'The Ben Shapiro Show Ep. 273 - Is Trump In Trouble?'"
      ]
     },
     "metadata": {},
     "output_type": "display_data"
    },
    {
     "data": {
      "text/plain": [
       "1100"
      ]
     },
     "metadata": {},
     "output_type": "display_data"
    },
    {
     "data": {
      "text/plain": [
       "'The Ben Shapiro Show Ep. 274 - Trump’s Judicial Pick Shines'"
      ]
     },
     "metadata": {},
     "output_type": "display_data"
    },
    {
     "data": {
      "text/plain": [
       "1100"
      ]
     },
     "metadata": {},
     "output_type": "display_data"
    },
    {
     "data": {
      "text/plain": [
       "'The Ben Shapiro Show Ep. 272 - Can Trump Actually Fulfill His Promises?'"
      ]
     },
     "metadata": {},
     "output_type": "display_data"
    },
    {
     "data": {
      "text/plain": [
       "1100"
      ]
     },
     "metadata": {},
     "output_type": "display_data"
    },
    {
     "data": {
      "text/plain": [
       "'The Ben Shapiro Show Ep. 271 - Courts Go Rogue, Battle Trump on Immigration'"
      ]
     },
     "metadata": {},
     "output_type": "display_data"
    },
    {
     "data": {
      "text/plain": [
       "1100"
      ]
     },
     "metadata": {},
     "output_type": "display_data"
    },
    {
     "data": {
      "text/plain": [
       "'The Ben Shapiro Show Ep. 270 - Epic Media Fail: Trump Tax Return Edition'"
      ]
     },
     "metadata": {},
     "output_type": "display_data"
    },
    {
     "data": {
      "text/plain": [
       "1100"
      ]
     },
     "metadata": {},
     "output_type": "display_data"
    },
    {
     "data": {
      "text/plain": [
       "'The Ben Shapiro Show Ep. 268 - When The Media Alleges Racism, Do Your Research'"
      ]
     },
     "metadata": {},
     "output_type": "display_data"
    },
    {
     "data": {
      "text/plain": [
       "1100"
      ]
     },
     "metadata": {},
     "output_type": "display_data"
    },
    {
     "data": {
      "text/plain": [
       "'The Ben Shapiro Show Ep. 267 - Will Trumpcare Live or Die?'"
      ]
     },
     "metadata": {},
     "output_type": "display_data"
    },
    {
     "data": {
      "text/plain": [
       "1100"
      ]
     },
     "metadata": {},
     "output_type": "display_data"
    },
    {
     "data": {
      "text/plain": [
       "'The Ben Shapiro Show Ep. 266 - Women March For Something Or Other'"
      ]
     },
     "metadata": {},
     "output_type": "display_data"
    },
    {
     "data": {
      "text/plain": [
       "1100"
      ]
     },
     "metadata": {},
     "output_type": "display_data"
    },
    {
     "data": {
      "text/plain": [
       "'The Ben Shapiro Show Ep. 260 - Oscar Night’s Big Winner: Trump!'"
      ]
     },
     "metadata": {},
     "output_type": "display_data"
    },
    {
     "data": {
      "text/plain": [
       "1100"
      ]
     },
     "metadata": {},
     "output_type": "display_data"
    },
    {
     "data": {
      "text/plain": [
       "'The Ben Shapiro Sow Ep. 265 - Trump Tweets, The World Goes Insane'"
      ]
     },
     "metadata": {},
     "output_type": "display_data"
    },
    {
     "data": {
      "text/plain": [
       "1100"
      ]
     },
     "metadata": {},
     "output_type": "display_data"
    },
    {
     "data": {
      "text/plain": [
       "'The Ben Shapiro Show Ep. 264 - Did Democrats Get Another Scalp?'"
      ]
     },
     "metadata": {},
     "output_type": "display_data"
    },
    {
     "data": {
      "text/plain": [
       "1100"
      ]
     },
     "metadata": {},
     "output_type": "display_data"
    },
    {
     "data": {
      "text/plain": [
       "'The Ben Shapiro Show Ep. 263 - Can Oprah Be President?'"
      ]
     },
     "metadata": {},
     "output_type": "display_data"
    },
    {
     "data": {
      "text/plain": [
       "1100"
      ]
     },
     "metadata": {},
     "output_type": "display_data"
    },
    {
     "data": {
      "text/plain": [
       "'The Ben Shapiro Show Ep. 262 - Trump’s Best Moment EVER'"
      ]
     },
     "metadata": {},
     "output_type": "display_data"
    },
    {
     "data": {
      "text/plain": [
       "1100"
      ]
     },
     "metadata": {},
     "output_type": "display_data"
    },
    {
     "data": {
      "text/plain": [
       "'The Ben Shapiro Show Ep. 261 - Is Destroying Trump A Winning Strategy?'"
      ]
     },
     "metadata": {},
     "output_type": "display_data"
    },
    {
     "data": {
      "text/plain": [
       "1100"
      ]
     },
     "metadata": {},
     "output_type": "display_data"
    },
    {
     "data": {
      "text/plain": [
       "\"The Ben Shapiro Show Ep. 260 - Oscar Night's Big Winner: Trump!\""
      ]
     },
     "metadata": {},
     "output_type": "display_data"
    },
    {
     "data": {
      "text/plain": [
       "1100"
      ]
     },
     "metadata": {},
     "output_type": "display_data"
    },
    {
     "data": {
      "text/plain": [
       "'The Ben Shapiro Show Ep. 259 - Do You Get Extra Credit For Experiencing Tragedy?'"
      ]
     },
     "metadata": {},
     "output_type": "display_data"
    },
    {
     "data": {
      "text/plain": [
       "1100"
      ]
     },
     "metadata": {},
     "output_type": "display_data"
    },
    {
     "data": {
      "text/plain": [
       "'The Ben Shapiro Show Ep. 258 - Is The Enemy Of Our Enemy Our Friend?'"
      ]
     },
     "metadata": {},
     "output_type": "display_data"
    },
    {
     "data": {
      "text/plain": [
       "1100"
      ]
     },
     "metadata": {},
     "output_type": "display_data"
    },
    {
     "data": {
      "text/plain": [
       "'The Ben Shapiro Show Ep. 257 - Is Trump Actually Making The Left Insane?'"
      ]
     },
     "metadata": {},
     "output_type": "display_data"
    },
    {
     "data": {
      "text/plain": [
       "1100"
      ]
     },
     "metadata": {},
     "output_type": "display_data"
    },
    {
     "data": {
      "text/plain": [
       "'The Ben Shapiro Show Ep. 256 - What Do Conservatives Stand For?'"
      ]
     },
     "metadata": {},
     "output_type": "display_data"
    },
    {
     "data": {
      "text/plain": [
       "1100"
      ]
     },
     "metadata": {},
     "output_type": "display_data"
    },
    {
     "data": {
      "text/plain": [
       "'Ep. 255 - The Best of Trump, The Worst of Trump'"
      ]
     },
     "metadata": {},
     "output_type": "display_data"
    },
    {
     "data": {
      "text/plain": [
       "1100"
      ]
     },
     "metadata": {},
     "output_type": "display_data"
    },
    {
     "data": {
      "text/plain": [
       "'The Ben Shapiro Show Ep. 254 - Is The Intelligence Community Its Own Government?'"
      ]
     },
     "metadata": {},
     "output_type": "display_data"
    },
    {
     "data": {
      "text/plain": [
       "1100"
      ]
     },
     "metadata": {},
     "output_type": "display_data"
    },
    {
     "data": {
      "text/plain": [
       "\"The Ben Shapiro Show Ep. 253 - Flynn's Out -- What The Hell Happened?\""
      ]
     },
     "metadata": {},
     "output_type": "display_data"
    },
    {
     "data": {
      "text/plain": [
       "1100"
      ]
     },
     "metadata": {},
     "output_type": "display_data"
    },
    {
     "data": {
      "text/plain": [
       "\"The Ben Shapiro Show Ep. 252 - 'Saturday Night Live' Goes Totally Nuts On Trump\""
      ]
     },
     "metadata": {},
     "output_type": "display_data"
    },
    {
     "data": {
      "text/plain": [
       "1100"
      ]
     },
     "metadata": {},
     "output_type": "display_data"
    },
    {
     "data": {
      "text/plain": [
       "'The Ben Shapiro Show Ep. 251 - To Democrats, Everything Is Sexist and Racist'"
      ]
     },
     "metadata": {},
     "output_type": "display_data"
    },
    {
     "data": {
      "text/plain": [
       "1100"
      ]
     },
     "metadata": {},
     "output_type": "display_data"
    },
    {
     "data": {
      "text/plain": [
       "'The Ben Shapiro Show Ep. 250 - Republicans: Let The Crazy Lady Talk!'"
      ]
     },
     "metadata": {},
     "output_type": "display_data"
    },
    {
     "data": {
      "text/plain": [
       "1100"
      ]
     },
     "metadata": {},
     "output_type": "display_data"
    },
    {
     "data": {
      "text/plain": [
       "'The Ben Shapiro Show Ep. 249 - Is Donald Trump Vladimir Putin? Nope.'"
      ]
     },
     "metadata": {},
     "output_type": "display_data"
    },
    {
     "data": {
      "text/plain": [
       "1100"
      ]
     },
     "metadata": {},
     "output_type": "display_data"
    },
    {
     "data": {
      "text/plain": [
       "\"The Ben Shapiro Show Ep. 248 - Super Bowl Advertisers Won't Stop Their Leftism\""
      ]
     },
     "metadata": {},
     "output_type": "display_data"
    },
    {
     "data": {
      "text/plain": [
       "1100"
      ]
     },
     "metadata": {},
     "output_type": "display_data"
    },
    {
     "data": {
      "text/plain": [
       "'The Ben Shapiro Show Ep. 247 - The Left Gets Violent at Berkeley'"
      ]
     },
     "metadata": {},
     "output_type": "display_data"
    },
    {
     "data": {
      "text/plain": [
       "1100"
      ]
     },
     "metadata": {},
     "output_type": "display_data"
    },
    {
     "data": {
      "text/plain": [
       "'The Ben Shapiro Show Ep. 246 - Promise Kept: Trump Picks Gorsuch!'"
      ]
     },
     "metadata": {},
     "output_type": "display_data"
    },
    {
     "data": {
      "text/plain": [
       "1100"
      ]
     },
     "metadata": {},
     "output_type": "display_data"
    },
    {
     "data": {
      "text/plain": [
       "\"The Ben Shapiro Show Ep. 245 - Trump: You're Fired!\""
      ]
     },
     "metadata": {},
     "output_type": "display_data"
    },
    {
     "data": {
      "text/plain": [
       "1100"
      ]
     },
     "metadata": {},
     "output_type": "display_data"
    },
    {
     "data": {
      "text/plain": [
       "'The Ben Shapiro Show Ep. 244 - Did Trump Just Ban Muslims? No!'"
      ]
     },
     "metadata": {},
     "output_type": "display_data"
    },
    {
     "data": {
      "text/plain": [
       "1100"
      ]
     },
     "metadata": {},
     "output_type": "display_data"
    },
    {
     "data": {
      "text/plain": [
       "'The Ben Shapiro Show Ep. 238 - Obama Goes Full Traitor'"
      ]
     },
     "metadata": {},
     "output_type": "display_data"
    },
    {
     "data": {
      "text/plain": [
       "1100"
      ]
     },
     "metadata": {},
     "output_type": "display_data"
    },
    {
     "data": {
      "text/plain": [
       "'The Ben Shapiro Show Ep. 243 - Trump Keeps His Biggest Promise'"
      ]
     },
     "metadata": {},
     "output_type": "display_data"
    },
    {
     "data": {
      "text/plain": [
       "1100"
      ]
     },
     "metadata": {},
     "output_type": "display_data"
    },
    {
     "data": {
      "text/plain": [
       "'The Ben Shapiro Show Ep. 242 - Democrats: White People Need To Shut Up!'"
      ]
     },
     "metadata": {},
     "output_type": "display_data"
    },
    {
     "data": {
      "text/plain": [
       "1100"
      ]
     },
     "metadata": {},
     "output_type": "display_data"
    },
    {
     "data": {
      "text/plain": [
       "\"The Ben Shapiro Show Ep. 241 - Trump's First Monday: Great, Good, Rotten\""
      ]
     },
     "metadata": {},
     "output_type": "display_data"
    },
    {
     "data": {
      "text/plain": [
       "1100"
      ]
     },
     "metadata": {},
     "output_type": "display_data"
    },
    {
     "data": {
      "text/plain": [
       "'The Ben Shapiro Show Ep. 240 - Trump Becomes President, All Hell Breaks Loose'"
      ]
     },
     "metadata": {},
     "output_type": "display_data"
    },
    {
     "data": {
      "text/plain": [
       "1100"
      ]
     },
     "metadata": {},
     "output_type": "display_data"
    },
    {
     "data": {
      "text/plain": [
       "\"The Ben Shapiro Show Ep. 239 - Obama's Final Presser! Get Out, Dude.\""
      ]
     },
     "metadata": {},
     "output_type": "display_data"
    },
    {
     "data": {
      "text/plain": [
       "1100"
      ]
     },
     "metadata": {},
     "output_type": "display_data"
    },
    {
     "data": {
      "text/plain": [
       "'The Ben Shapiro Show Ep. 237 - Anti-Trump Racism Breaks Out All Over'"
      ]
     },
     "metadata": {},
     "output_type": "display_data"
    },
    {
     "data": {
      "text/plain": [
       "1100"
      ]
     },
     "metadata": {},
     "output_type": "display_data"
    },
    {
     "data": {
      "text/plain": [
       "'The Ben Shapiro Show Ep. 236 - Is Trump Illegitimate?'"
      ]
     },
     "metadata": {},
     "output_type": "display_data"
    },
    {
     "data": {
      "text/plain": [
       "1100"
      ]
     },
     "metadata": {},
     "output_type": "display_data"
    },
    {
     "data": {
      "text/plain": [
       "'The Ben Shapiro Show Ep. 235 - So, Does Anybody Care About The Truth Anymore?'"
      ]
     },
     "metadata": {},
     "output_type": "display_data"
    },
    {
     "data": {
      "text/plain": [
       "1100"
      ]
     },
     "metadata": {},
     "output_type": "display_data"
    },
    {
     "data": {
      "text/plain": [
       "'The Ben Shapiro Show Ep. 234 - Media Smack Themselves In The Face With Russian Urine'"
      ]
     },
     "metadata": {},
     "output_type": "display_data"
    },
    {
     "data": {
      "text/plain": [
       "1100"
      ]
     },
     "metadata": {},
     "output_type": "display_data"
    },
    {
     "data": {
      "text/plain": [
       "'The Ben Shapiro Show Ep. 233 - The Racist Left Goes On Attack'"
      ]
     },
     "metadata": {},
     "output_type": "display_data"
    },
    {
     "data": {
      "text/plain": [
       "1100"
      ]
     },
     "metadata": {},
     "output_type": "display_data"
    },
    {
     "data": {
      "text/plain": [
       "'The Ben Shapiro Show Ep. 232 - Hollywood Hates Trump. And America Hates Hollywood.'"
      ]
     },
     "metadata": {},
     "output_type": "display_data"
    },
    {
     "data": {
      "text/plain": [
       "1100"
      ]
     },
     "metadata": {},
     "output_type": "display_data"
    },
    {
     "data": {
      "text/plain": [
       "\"The Ben Shapiro Show Ep. 209 - Protesters Go Nuts, Prove President Trump's Case\""
      ]
     },
     "metadata": {},
     "output_type": "display_data"
    },
    {
     "data": {
      "text/plain": [
       "1100"
      ]
     },
     "metadata": {},
     "output_type": "display_data"
    },
    {
     "data": {
      "text/plain": [
       "'The Ben Shapiro Show Ep. 231 - 2016 Goes Out With A Nuclear Bang'"
      ]
     },
     "metadata": {},
     "output_type": "display_data"
    },
    {
     "data": {
      "text/plain": [
       "1100"
      ]
     },
     "metadata": {},
     "output_type": "display_data"
    },
    {
     "data": {
      "text/plain": [
       "'The Ben Shapiro Show Ep. 230 - Trump Derangement Syndrome Reaches Epidemic Levels'"
      ]
     },
     "metadata": {},
     "output_type": "display_data"
    },
    {
     "data": {
      "text/plain": [
       "1100"
      ]
     },
     "metadata": {},
     "output_type": "display_data"
    },
    {
     "data": {
      "text/plain": [
       "\"The Ben Shapiro Show Ep. 229 - Lena Dunham's Merry Abortionmas!\""
      ]
     },
     "metadata": {},
     "output_type": "display_data"
    },
    {
     "data": {
      "text/plain": [
       "1100"
      ]
     },
     "metadata": {},
     "output_type": "display_data"
    },
    {
     "data": {
      "text/plain": [
       "'The Ben Shapiro Show Ep. 227 - Yes, Leftists Are Completely Bats***'"
      ]
     },
     "metadata": {},
     "output_type": "display_data"
    },
    {
     "data": {
      "text/plain": [
       "1100"
      ]
     },
     "metadata": {},
     "output_type": "display_data"
    },
    {
     "data": {
      "text/plain": [
       "'The Ben Shapiro Show Ep. 226 - Trump Picks Pro-Putin Secretary of State. Does It Matter?'"
      ]
     },
     "metadata": {},
     "output_type": "display_data"
    },
    {
     "data": {
      "text/plain": [
       "1100"
      ]
     },
     "metadata": {},
     "output_type": "display_data"
    },
    {
     "data": {
      "text/plain": [
       "\"The Ben Shapiro Show Ep. 225 - Did Russia 'Hack' Our Election?\""
      ]
     },
     "metadata": {},
     "output_type": "display_data"
    },
    {
     "data": {
      "text/plain": [
       "1100"
      ]
     },
     "metadata": {},
     "output_type": "display_data"
    },
    {
     "data": {
      "text/plain": [
       "'The Ben Shapiro Show Ep. 224 - Can Democrats Recover From 2016?'"
      ]
     },
     "metadata": {},
     "output_type": "display_data"
    },
    {
     "data": {
      "text/plain": [
       "1100"
      ]
     },
     "metadata": {},
     "output_type": "display_data"
    },
    {
     "data": {
      "text/plain": [
       "'The Ben Shapiro Show Ep. 223 - Left Feels Punched In The Stomach, And They Deserve It'"
      ]
     },
     "metadata": {},
     "output_type": "display_data"
    },
    {
     "data": {
      "text/plain": [
       "1100"
      ]
     },
     "metadata": {},
     "output_type": "display_data"
    },
    {
     "data": {
      "text/plain": [
       "'The Ben Shapiro Show Ep. 222 - Trump Does Something Brilliant'"
      ]
     },
     "metadata": {},
     "output_type": "display_data"
    },
    {
     "data": {
      "text/plain": [
       "1100"
      ]
     },
     "metadata": {},
     "output_type": "display_data"
    },
    {
     "data": {
      "text/plain": [
       "\"The Ben Shapiro Show Ep. 214 - 'Hamilton' Attacks Trump, Media Go Nuts\""
      ]
     },
     "metadata": {},
     "output_type": "display_data"
    },
    {
     "data": {
      "text/plain": [
       "1100"
      ]
     },
     "metadata": {},
     "output_type": "display_data"
    },
    {
     "data": {
      "text/plain": [
       "'The Ben Shapiro Show Ep. 221 - When Trump Sins, Will Anyone Mention It?'"
      ]
     },
     "metadata": {},
     "output_type": "display_data"
    },
    {
     "data": {
      "text/plain": [
       "1100"
      ]
     },
     "metadata": {},
     "output_type": "display_data"
    },
    {
     "data": {
      "text/plain": [
       "'The Ben Shapiro Show Ep. 220 - Trump Saved Jobs! But How?'"
      ]
     },
     "metadata": {},
     "output_type": "display_data"
    },
    {
     "data": {
      "text/plain": [
       "1100"
      ]
     },
     "metadata": {},
     "output_type": "display_data"
    },
    {
     "data": {
      "text/plain": [
       "'Ep. 219 - Trump Eats Dinner With a Side of Romney'"
      ]
     },
     "metadata": {},
     "output_type": "display_data"
    },
    {
     "data": {
      "text/plain": [
       "1100"
      ]
     },
     "metadata": {},
     "output_type": "display_data"
    },
    {
     "data": {
      "text/plain": [
       "'The Ben Shapiro Show Ep. 218 - Islamist Terrorist Attacks, Left Goes Silent'"
      ]
     },
     "metadata": {},
     "output_type": "display_data"
    },
    {
     "data": {
      "text/plain": [
       "1100"
      ]
     },
     "metadata": {},
     "output_type": "display_data"
    },
    {
     "data": {
      "text/plain": [
       "'The Ben Shapiro Show Ep. 217 - Castro Dies, The Left Weeps'"
      ]
     },
     "metadata": {},
     "output_type": "display_data"
    },
    {
     "data": {
      "text/plain": [
       "1100"
      ]
     },
     "metadata": {},
     "output_type": "display_data"
    },
    {
     "data": {
      "text/plain": [
       "'The Ben Shapiro Show Ep. 216 - Democrats Collapsing, Trump Organizing'"
      ]
     },
     "metadata": {},
     "output_type": "display_data"
    },
    {
     "data": {
      "text/plain": [
       "1100"
      ]
     },
     "metadata": {},
     "output_type": "display_data"
    },
    {
     "data": {
      "text/plain": [
       "'The Ben Shapiro Show Ep. 215 - Good Trump/Bad Trump: Thanksgiving Edition'"
      ]
     },
     "metadata": {},
     "output_type": "display_data"
    },
    {
     "data": {
      "text/plain": [
       "1100"
      ]
     },
     "metadata": {},
     "output_type": "display_data"
    },
    {
     "data": {
      "text/plain": [
       "'The Ben Shapiro Show Ep. 213 - Leftists Keep Pushing Americans To Trump'"
      ]
     },
     "metadata": {},
     "output_type": "display_data"
    },
    {
     "data": {
      "text/plain": [
       "1100"
      ]
     },
     "metadata": {},
     "output_type": "display_data"
    },
    {
     "data": {
      "text/plain": [
       "'The Ben Shapiro Show Ep. 212 - Media Look To Hand Re-Election To Trump'"
      ]
     },
     "metadata": {},
     "output_type": "display_data"
    },
    {
     "data": {
      "text/plain": [
       "1100"
      ]
     },
     "metadata": {},
     "output_type": "display_data"
    },
    {
     "data": {
      "text/plain": [
       "'The Ben Shapiro Show Ep. 211 - Thanks, Obama. But Really.'"
      ]
     },
     "metadata": {},
     "output_type": "display_data"
    },
    {
     "data": {
      "text/plain": [
       "1100"
      ]
     },
     "metadata": {},
     "output_type": "display_data"
    },
    {
     "data": {
      "text/plain": [
       "'The Ben Shapiro Show Ep. 210 - Trump White House Takes Shape'"
      ]
     },
     "metadata": {},
     "output_type": "display_data"
    },
    {
     "data": {
      "text/plain": [
       "1100"
      ]
     },
     "metadata": {},
     "output_type": "display_data"
    },
    {
     "data": {
      "text/plain": [
       "'The Ben Shapiro Show Ep. 208 - President-Elect Trump'"
      ]
     },
     "metadata": {},
     "output_type": "display_data"
    },
    {
     "data": {
      "text/plain": [
       "1100"
      ]
     },
     "metadata": {},
     "output_type": "display_data"
    },
    {
     "data": {
      "text/plain": [
       "'The Ben Shapiro Show Ep. 206 - The Final Prediction: Trump vs. Clinton'"
      ]
     },
     "metadata": {},
     "output_type": "display_data"
    },
    {
     "data": {
      "text/plain": [
       "1100"
      ]
     },
     "metadata": {},
     "output_type": "display_data"
    },
    {
     "data": {
      "text/plain": [
       "'The Ben Shapiro Show Ep. 205 - The Final Countdown'"
      ]
     },
     "metadata": {},
     "output_type": "display_data"
    },
    {
     "data": {
      "text/plain": [
       "1100"
      ]
     },
     "metadata": {},
     "output_type": "display_data"
    },
    {
     "data": {
      "text/plain": [
       "\"The Ben Shapiro Show Ep. 203 - Never Trumpers, Don't Make This One Big Mistake\""
      ]
     },
     "metadata": {},
     "output_type": "display_data"
    },
    {
     "data": {
      "text/plain": [
       "1100"
      ]
     },
     "metadata": {},
     "output_type": "display_data"
    },
    {
     "data": {
      "text/plain": [
       "'The Ben Shapiro Show Ep. 202 - Hillary Receives A Halloween Surprise'"
      ]
     },
     "metadata": {},
     "output_type": "display_data"
    },
    {
     "data": {
      "text/plain": [
       "1100"
      ]
     },
     "metadata": {},
     "output_type": "display_data"
    },
    {
     "data": {
      "text/plain": [
       "'The Ben Shapiro Show Ep. 201 - The Polls Tighten...Does Trump Have A Shot?'"
      ]
     },
     "metadata": {},
     "output_type": "display_data"
    },
    {
     "data": {
      "text/plain": [
       "1100"
      ]
     },
     "metadata": {},
     "output_type": "display_data"
    },
    {
     "data": {
      "text/plain": [
       "'The Ben Shapiro Show Ep. 200 - Another Day, Another Hillary Scandal'"
      ]
     },
     "metadata": {},
     "output_type": "display_data"
    },
    {
     "data": {
      "text/plain": [
       "1100"
      ]
     },
     "metadata": {},
     "output_type": "display_data"
    },
    {
     "data": {
      "text/plain": [
       "\"The Ben Shapiro Show Ep. 199 - Hillary's Birthday Present: More Corruption!\""
      ]
     },
     "metadata": {},
     "output_type": "display_data"
    },
    {
     "data": {
      "text/plain": [
       "1100"
      ]
     },
     "metadata": {},
     "output_type": "display_data"
    },
    {
     "data": {
      "text/plain": [
       "'The Ben Shapiro Show Ep. 198 - Laughing Our Way To Doom'"
      ]
     },
     "metadata": {},
     "output_type": "display_data"
    },
    {
     "data": {
      "text/plain": [
       "1100"
      ]
     },
     "metadata": {},
     "output_type": "display_data"
    },
    {
     "data": {
      "text/plain": [
       "'The Ben Shapiro Show Ep. 197 - Final Debate: The Apocalypse Approacheth'"
      ]
     },
     "metadata": {},
     "output_type": "display_data"
    },
    {
     "data": {
      "text/plain": [
       "1100"
      ]
     },
     "metadata": {},
     "output_type": "display_data"
    },
    {
     "data": {
      "text/plain": [
       "\"The Ben Shapiro Show Ep. 196 - Yes, It's Rigged! But Not The Way Trump Thinks.\""
      ]
     },
     "metadata": {},
     "output_type": "display_data"
    },
    {
     "data": {
      "text/plain": [
       "1100"
      ]
     },
     "metadata": {},
     "output_type": "display_data"
    },
    {
     "data": {
      "text/plain": [
       "\"The Ben Shapiro Show Ep. 195 - Everybody's a Hypocrite About Sexual Assault\""
      ]
     },
     "metadata": {},
     "output_type": "display_data"
    },
    {
     "data": {
      "text/plain": [
       "1100"
      ]
     },
     "metadata": {},
     "output_type": "display_data"
    },
    {
     "data": {
      "text/plain": [
       "'The Ben Shapiro Show Ep. 194 - The Great Trumpocalypse Is Upon Us'"
      ]
     },
     "metadata": {},
     "output_type": "display_data"
    },
    {
     "data": {
      "text/plain": [
       "1100"
      ]
     },
     "metadata": {},
     "output_type": "display_data"
    },
    {
     "data": {
      "text/plain": [
       "'The Ben Shapiro Show Ep. 193 - Cage Match: Trump Hammers Hillary'"
      ]
     },
     "metadata": {},
     "output_type": "display_data"
    },
    {
     "data": {
      "text/plain": [
       "1100"
      ]
     },
     "metadata": {},
     "output_type": "display_data"
    },
    {
     "data": {
      "text/plain": [
       "'The Ben Shapiro Show Ep. 192 - Can Conservatives Unite?'"
      ]
     },
     "metadata": {},
     "output_type": "display_data"
    },
    {
     "data": {
      "text/plain": [
       "1100"
      ]
     },
     "metadata": {},
     "output_type": "display_data"
    },
    {
     "data": {
      "text/plain": [
       "'The Ben Shapiro Show Ep. 191 - Round II: Trump vs. Hillary, The Revenge'"
      ]
     },
     "metadata": {},
     "output_type": "display_data"
    },
    {
     "data": {
      "text/plain": [
       "1100"
      ]
     },
     "metadata": {},
     "output_type": "display_data"
    },
    {
     "data": {
      "text/plain": [
       "'The Ben Shapiro Show Ep. 190 - VP Debate: Pence Dominates, Kaine Loses It'"
      ]
     },
     "metadata": {},
     "output_type": "display_data"
    },
    {
     "data": {
      "text/plain": [
       "1100"
      ]
     },
     "metadata": {},
     "output_type": "display_data"
    },
    {
     "data": {
      "text/plain": [
       "\"The Ben Shapiro Show Ep. 189 - Yes, Comey's FBI Was Rigged For Hillary\""
      ]
     },
     "metadata": {},
     "output_type": "display_data"
    },
    {
     "data": {
      "text/plain": [
       "1100"
      ]
     },
     "metadata": {},
     "output_type": "display_data"
    },
    {
     "data": {
      "text/plain": [
       "\"The Ben Shapiro Show Ep. 188 - Media: Stop Trump So We Won't Be Mean To Fat People!\""
      ]
     },
     "metadata": {},
     "output_type": "display_data"
    },
    {
     "data": {
      "text/plain": [
       "1100"
      ]
     },
     "metadata": {},
     "output_type": "display_data"
    },
    {
     "data": {
      "text/plain": [
       "'The Ben Shapiro Show Ep. 187 - Fight Night: Hillary Lies, Trump Melts Down'"
      ]
     },
     "metadata": {},
     "output_type": "display_data"
    },
    {
     "data": {
      "text/plain": [
       "1100"
      ]
     },
     "metadata": {},
     "output_type": "display_data"
    },
    {
     "data": {
      "text/plain": [
       "\"The Ben Shapiro Show Ep. 186 - It's Debate Night -- And Advantage: Trump\""
      ]
     },
     "metadata": {},
     "output_type": "display_data"
    },
    {
     "data": {
      "text/plain": [
       "1100"
      ]
     },
     "metadata": {},
     "output_type": "display_data"
    },
    {
     "data": {
      "text/plain": [
       "\"Ep. 185 - Leftists: They're Not Rioters, They're Heroes!\""
      ]
     },
     "metadata": {},
     "output_type": "display_data"
    },
    {
     "data": {
      "text/plain": [
       "1100"
      ]
     },
     "metadata": {},
     "output_type": "display_data"
    },
    {
     "data": {
      "text/plain": [
       "'The Ben Shapiro Show Ep. 184 - Hillary Destroys Police To Win Black Votes'"
      ]
     },
     "metadata": {},
     "output_type": "display_data"
    },
    {
     "data": {
      "text/plain": [
       "1100"
      ]
     },
     "metadata": {},
     "output_type": "display_data"
    },
    {
     "data": {
      "text/plain": [
       "'The Ben Shapiro Show Ep. 183 - Black Man Shot, Leftists Blame America'"
      ]
     },
     "metadata": {},
     "output_type": "display_data"
    },
    {
     "data": {
      "text/plain": [
       "1100"
      ]
     },
     "metadata": {},
     "output_type": "display_data"
    },
    {
     "data": {
      "text/plain": [
       "'The Ben Shapiro Show Ep. 182 -Terrorists Hit NY, NJ, Dems Destroy Themselves'"
      ]
     },
     "metadata": {},
     "output_type": "display_data"
    },
    {
     "data": {
      "text/plain": [
       "1100"
      ]
     },
     "metadata": {},
     "output_type": "display_data"
    },
    {
     "data": {
      "text/plain": [
       "\"The Ben Shapiro Show Ep. 181 - Hillary Won't Stop Losing Until She Stops Being Hillary\""
      ]
     },
     "metadata": {},
     "output_type": "display_data"
    },
    {
     "data": {
      "text/plain": [
       "1100"
      ]
     },
     "metadata": {},
     "output_type": "display_data"
    },
    {
     "data": {
      "text/plain": [
       "'The Ben Shapiro Show Ep. 180 - Trump Frees His Inner Democrat'"
      ]
     },
     "metadata": {},
     "output_type": "display_data"
    },
    {
     "data": {
      "text/plain": [
       "1100"
      ]
     },
     "metadata": {},
     "output_type": "display_data"
    },
    {
     "data": {
      "text/plain": [
       "'The Ben Shapiro Show Ep. 179 - Hillary Lies Make Her Pathetically Ineffective'"
      ]
     },
     "metadata": {},
     "output_type": "display_data"
    },
    {
     "data": {
      "text/plain": [
       "1100"
      ]
     },
     "metadata": {},
     "output_type": "display_data"
    },
    {
     "data": {
      "text/plain": [
       "\"The Ben Shapiro Show Ep. 178 - Hillary Stars In 'The Walking Dead'\""
      ]
     },
     "metadata": {},
     "output_type": "display_data"
    },
    {
     "data": {
      "text/plain": [
       "1100"
      ]
     },
     "metadata": {},
     "output_type": "display_data"
    },
    {
     "data": {
      "text/plain": [
       "'The Ben Shapiro Ep. 177 - Hillary Coughs Up A Lung, Her Polling Lead'"
      ]
     },
     "metadata": {},
     "output_type": "display_data"
    },
    {
     "data": {
      "text/plain": [
       "1100"
      ]
     },
     "metadata": {},
     "output_type": "display_data"
    },
    {
     "data": {
      "text/plain": [
       "'The Ben Shapiro Show Ep. 176 - Trump Has His Finest Hour'"
      ]
     },
     "metadata": {},
     "output_type": "display_data"
    },
    {
     "data": {
      "text/plain": [
       "1100"
      ]
     },
     "metadata": {},
     "output_type": "display_data"
    },
    {
     "data": {
      "text/plain": [
       "'The Ben Shapiro Show Ep. 175 - Trump Goes To Mexico! Taco Bowls For Everybody!'"
      ]
     },
     "metadata": {},
     "output_type": "display_data"
    },
    {
     "data": {
      "text/plain": [
       "1100"
      ]
     },
     "metadata": {},
     "output_type": "display_data"
    },
    {
     "data": {
      "text/plain": [
       "'The Ben Shapiro Show Ep. 174 - The Left Should Sit Next To Kaepernick For The National Anthem'"
      ]
     },
     "metadata": {},
     "output_type": "display_data"
    },
    {
     "data": {
      "text/plain": [
       "1100"
      ]
     },
     "metadata": {},
     "output_type": "display_data"
    },
    {
     "data": {
      "text/plain": [
       "'The Ben Shapiro Show Ep. 173 - Hillary Should Sit For The National Anthem, Too'"
      ]
     },
     "metadata": {},
     "output_type": "display_data"
    },
    {
     "data": {
      "text/plain": [
       "1100"
      ]
     },
     "metadata": {},
     "output_type": "display_data"
    },
    {
     "data": {
      "text/plain": [
       "'The Ben Shapiro Show Ep. 172 - Hillary Pulls The KKK Card'"
      ]
     },
     "metadata": {},
     "output_type": "display_data"
    },
    {
     "data": {
      "text/plain": [
       "1100"
      ]
     },
     "metadata": {},
     "output_type": "display_data"
    },
    {
     "data": {
      "text/plain": [
       "'The Ben Shapiro Show Ep. 171 - The Government Goes Nuts For Transgenderism'"
      ]
     },
     "metadata": {},
     "output_type": "display_data"
    },
    {
     "data": {
      "text/plain": [
       "1100"
      ]
     },
     "metadata": {},
     "output_type": "display_data"
    },
    {
     "data": {
      "text/plain": [
       "'The Ben Shapiro Show Ep. 170 - Hillary Clinton Opens a Pickle Jar, and Other Miracles!'"
      ]
     },
     "metadata": {},
     "output_type": "display_data"
    },
    {
     "data": {
      "text/plain": [
       "1100"
      ]
     },
     "metadata": {},
     "output_type": "display_data"
    },
    {
     "data": {
      "text/plain": [
       "\"The Ben Shapiro Show Ep. 169 - Weekend At Hillary's\""
      ]
     },
     "metadata": {},
     "output_type": "display_data"
    },
    {
     "data": {
      "text/plain": [
       "1100"
      ]
     },
     "metadata": {},
     "output_type": "display_data"
    },
    {
     "data": {
      "text/plain": [
       "\"The Ben Shapiro Show Ep. 168 - No, I'm Not Going To Lie For Trump\""
      ]
     },
     "metadata": {},
     "output_type": "display_data"
    },
    {
     "data": {
      "text/plain": [
       "1100"
      ]
     },
     "metadata": {},
     "output_type": "display_data"
    },
    {
     "data": {
      "text/plain": [
       "'The Ben Shapiro Show Ep. 167 - Category 5 Turd Tornado Warning'"
      ]
     },
     "metadata": {},
     "output_type": "display_data"
    },
    {
     "data": {
      "text/plain": [
       "1100"
      ]
     },
     "metadata": {},
     "output_type": "display_data"
    },
    {
     "data": {
      "text/plain": [
       "'The Ben Shapiro Show Ep. 166 - Democrats Give Away Nuclear Secrets, Nobody Cares'"
      ]
     },
     "metadata": {},
     "output_type": "display_data"
    },
    {
     "data": {
      "text/plain": [
       "1100"
      ]
     },
     "metadata": {},
     "output_type": "display_data"
    },
    {
     "data": {
      "text/plain": [
       "'The Ben Shapiro Show Ep. 165 - Milwaukee Burns, The Left Celebrates'"
      ]
     },
     "metadata": {},
     "output_type": "display_data"
    },
    {
     "data": {
      "text/plain": [
       "1100"
      ]
     },
     "metadata": {},
     "output_type": "display_data"
    },
    {
     "data": {
      "text/plain": [
       "\"The Ben Shapiro Show Ep. 164 - We're All Just Climbing Trump Tower, Man\""
      ]
     },
     "metadata": {},
     "output_type": "display_data"
    },
    {
     "data": {
      "text/plain": [
       "1100"
      ]
     },
     "metadata": {},
     "output_type": "display_data"
    },
    {
     "data": {
      "text/plain": [
       "'The Ben Shapiro Show Ep. 163 - Trump Speaks Conservatism As A Second Language'"
      ]
     },
     "metadata": {},
     "output_type": "display_data"
    },
    {
     "data": {
      "text/plain": [
       "1100"
      ]
     },
     "metadata": {},
     "output_type": "display_data"
    },
    {
     "data": {
      "text/plain": [
       "'The Ben Shapiro Show Ep. 162 - Hillary Hearts Daddy Terrorist'"
      ]
     },
     "metadata": {},
     "output_type": "display_data"
    },
    {
     "data": {
      "text/plain": [
       "1100"
      ]
     },
     "metadata": {},
     "output_type": "display_data"
    },
    {
     "data": {
      "text/plain": [
       "'The Ben Shapiro Show Ep. 161 - Hillary Short-Circuits, Trump Falls Apart'"
      ]
     },
     "metadata": {},
     "output_type": "display_data"
    },
    {
     "data": {
      "text/plain": [
       "1100"
      ]
     },
     "metadata": {},
     "output_type": "display_data"
    },
    {
     "data": {
      "text/plain": [
       "'The Ben Shapiro Show Ep. 160 - Good Trump/Bad Trump: The Revenge of The Donald'"
      ]
     },
     "metadata": {},
     "output_type": "display_data"
    },
    {
     "data": {
      "text/plain": [
       "1100"
      ]
     },
     "metadata": {},
     "output_type": "display_data"
    },
    {
     "data": {
      "text/plain": [
       "\"The Ben Shapiro Show Ep. 151 - Every Time A Cop Dies, Obama's Approval Rating Goes Up\""
      ]
     },
     "metadata": {},
     "output_type": "display_data"
    },
    {
     "data": {
      "text/plain": [
       "1100"
      ]
     },
     "metadata": {},
     "output_type": "display_data"
    },
    {
     "data": {
      "text/plain": [
       "'The Ben Shapiro Show Ep. 159 - Happy Monday! Everything Is Terrible.'"
      ]
     },
     "metadata": {},
     "output_type": "display_data"
    },
    {
     "data": {
      "text/plain": [
       "1100"
      ]
     },
     "metadata": {},
     "output_type": "display_data"
    },
    {
     "data": {
      "text/plain": [
       "'The Ben Shapiro Show Ep. 158 - Arrogant Obama Tries To Hand Off To Nasty Hillary'"
      ]
     },
     "metadata": {},
     "output_type": "display_data"
    },
    {
     "data": {
      "text/plain": [
       "1100"
      ]
     },
     "metadata": {},
     "output_type": "display_data"
    },
    {
     "data": {
      "text/plain": [
       "'The Ben Shapiro Show Ep. 157 - Bill Clinton Blows It. Oops, Poor Choice Of Words.'"
      ]
     },
     "metadata": {},
     "output_type": "display_data"
    },
    {
     "data": {
      "text/plain": [
       "1100"
      ]
     },
     "metadata": {},
     "output_type": "display_data"
    },
    {
     "data": {
      "text/plain": [
       "'The Ben Shapiro Show Ep. 155 - Democrats Go Full Dumpster Fire at DNC'"
      ]
     },
     "metadata": {},
     "output_type": "display_data"
    },
    {
     "data": {
      "text/plain": [
       "1100"
      ]
     },
     "metadata": {},
     "output_type": "display_data"
    },
    {
     "data": {
      "text/plain": [
       "'The Ben Shapiro Show Ep. 156 - Democrats Lose Their Minds, Maybe The Election'"
      ]
     },
     "metadata": {},
     "output_type": "display_data"
    },
    {
     "data": {
      "text/plain": [
       "1100"
      ]
     },
     "metadata": {},
     "output_type": "display_data"
    },
    {
     "data": {
      "text/plain": [
       "'The Ben Shapiro Show Ep. 154 - Cruz vs. Trump: The Ultimate Showdown'"
      ]
     },
     "metadata": {},
     "output_type": "display_data"
    },
    {
     "data": {
      "text/plain": [
       "1100"
      ]
     },
     "metadata": {},
     "output_type": "display_data"
    },
    {
     "data": {
      "text/plain": [
       "'The Ben Shapiro Show Ep. 153 - Media Hear True Things About Hillary, Lose Their Minds'"
      ]
     },
     "metadata": {},
     "output_type": "display_data"
    },
    {
     "data": {
      "text/plain": [
       "1100"
      ]
     },
     "metadata": {},
     "output_type": "display_data"
    },
    {
     "data": {
      "text/plain": [
       "'The Ben Shapiro Show Ep. 152 - Glitz, Glamor, Chaos — It’s RNC Time!'"
      ]
     },
     "metadata": {},
     "output_type": "display_data"
    },
    {
     "data": {
      "text/plain": [
       "1100"
      ]
     },
     "metadata": {},
     "output_type": "display_data"
    },
    {
     "data": {
      "text/plain": [
       "\"The Ben Shapiro Show Ep. 151 - Every Time A Cop Dies, Obama's Approval Rating Goes Up\""
      ]
     },
     "metadata": {},
     "output_type": "display_data"
    },
    {
     "data": {
      "text/plain": [
       "1100"
      ]
     },
     "metadata": {},
     "output_type": "display_data"
    },
    {
     "data": {
      "text/plain": [
       "'The Ben Shapiro Show Ep. 150 - President Uniter Meets With Race Riot Fans!'"
      ]
     },
     "metadata": {},
     "output_type": "display_data"
    },
    {
     "data": {
      "text/plain": [
       "1100"
      ]
     },
     "metadata": {},
     "output_type": "display_data"
    },
    {
     "data": {
      "text/plain": [
       "'The Ben Shapiro Show Ep. 149 - Obama Speaks in Dallas, Is a Terrible Person'"
      ]
     },
     "metadata": {},
     "output_type": "display_data"
    },
    {
     "data": {
      "text/plain": [
       "1100"
      ]
     },
     "metadata": {},
     "output_type": "display_data"
    },
    {
     "data": {
      "text/plain": [
       "'The Ben Shapiro Show Ep. 147 - Racist, Lawless Obama Lies About Racism, Cops'"
      ]
     },
     "metadata": {},
     "output_type": "display_data"
    },
    {
     "data": {
      "text/plain": [
       "1100"
      ]
     },
     "metadata": {},
     "output_type": "display_data"
    },
    {
     "data": {
      "text/plain": [
       "'The Ben Shapiro Show Ep. 148 - Obama Blackmails Cops, Then Stands On Their Graves'"
      ]
     },
     "metadata": {},
     "output_type": "display_data"
    },
    {
     "data": {
      "text/plain": [
       "1100"
      ]
     },
     "metadata": {},
     "output_type": "display_data"
    },
    {
     "data": {
      "text/plain": [
       "'The Ben Shapiro Show Ep. 146 - The FBI Defended Hillary By Destroying The Law'"
      ]
     },
     "metadata": {},
     "output_type": "display_data"
    },
    {
     "data": {
      "text/plain": [
       "1100"
      ]
     },
     "metadata": {},
     "output_type": "display_data"
    },
    {
     "data": {
      "text/plain": [
       "'The Ben Shapiro Show Ep. 145 - Hillary Lied, Media Focus on Trump'"
      ]
     },
     "metadata": {},
     "output_type": "display_data"
    },
    {
     "data": {
      "text/plain": [
       "1100"
      ]
     },
     "metadata": {},
     "output_type": "display_data"
    },
    {
     "data": {
      "text/plain": [
       "\"The Ben Shapiro Show Ep. 144 - Hillary's Not Going To Jail, Because America Is Toast\""
      ]
     },
     "metadata": {},
     "output_type": "display_data"
    },
    {
     "data": {
      "text/plain": [
       "1100"
      ]
     },
     "metadata": {},
     "output_type": "display_data"
    },
    {
     "data": {
      "text/plain": [
       "\"The Ben Shapiro Show Ep. 143 - Hillary Won't Be Indicted, The Fix Is In\""
      ]
     },
     "metadata": {},
     "output_type": "display_data"
    },
    {
     "data": {
      "text/plain": [
       "1100"
      ]
     },
     "metadata": {},
     "output_type": "display_data"
    },
    {
     "data": {
      "text/plain": [
       "'The Ben Shapiro Show Ep. 142 - When The Left Says Science They Really Mean ‘Shut Up’'"
      ]
     },
     "metadata": {},
     "output_type": "display_data"
    },
    {
     "data": {
      "text/plain": [
       "1100"
      ]
     },
     "metadata": {},
     "output_type": "display_data"
    },
    {
     "data": {
      "text/plain": [
       "'The Ben Shapiro Show Ep. 141 - People Died, Hillary Lied'"
      ]
     },
     "metadata": {},
     "output_type": "display_data"
    },
    {
     "data": {
      "text/plain": [
       "1100"
      ]
     },
     "metadata": {},
     "output_type": "display_data"
    },
    {
     "data": {
      "text/plain": [
       "'The Ben Shapiro Show Ep. 140 - The Left Loses Its Damn Mind'"
      ]
     },
     "metadata": {},
     "output_type": "display_data"
    },
    {
     "data": {
      "text/plain": [
       "1100"
      ]
     },
     "metadata": {},
     "output_type": "display_data"
    },
    {
     "data": {
      "text/plain": [
       "'The Ben Shapiro Show Ep. 139 - Democrats Hold The World’s Dumbest Sleepover'"
      ]
     },
     "metadata": {},
     "output_type": "display_data"
    },
    {
     "data": {
      "text/plain": [
       "1100"
      ]
     },
     "metadata": {},
     "output_type": "display_data"
    },
    {
     "data": {
      "text/plain": [
       "'The Ben Shapiro Show Ep. 138 - Trump Rips Hillary Apart'"
      ]
     },
     "metadata": {},
     "output_type": "display_data"
    },
    {
     "data": {
      "text/plain": [
       "1100"
      ]
     },
     "metadata": {},
     "output_type": "display_data"
    },
    {
     "data": {
      "text/plain": [
       "'The Ben Shapiro Show Ep. 137 - Democrats Think You’re All Terrorists'"
      ]
     },
     "metadata": {},
     "output_type": "display_data"
    },
    {
     "data": {
      "text/plain": [
       "1100"
      ]
     },
     "metadata": {},
     "output_type": "display_data"
    },
    {
     "data": {
      "text/plain": [
       "\"Ep. 136 - Obama Wants To Make Sure You Don't Know Orlando Was Jihadism\""
      ]
     },
     "metadata": {},
     "output_type": "display_data"
    },
    {
     "data": {
      "text/plain": [
       "1100"
      ]
     },
     "metadata": {},
     "output_type": "display_data"
    },
    {
     "data": {
      "text/plain": [
       "'The Ben Shapiro Show Ep. 135 - The Hateful, Suicidal Left Wants Your Guns'"
      ]
     },
     "metadata": {},
     "output_type": "display_data"
    },
    {
     "data": {
      "text/plain": [
       "1100"
      ]
     },
     "metadata": {},
     "output_type": "display_data"
    },
    {
     "data": {
      "text/plain": [
       "\"The Ben Shapiro Show Ep. 133 - Trump Gets It Right On 'Radical Islam'\""
      ]
     },
     "metadata": {},
     "output_type": "display_data"
    },
    {
     "data": {
      "text/plain": [
       "1100"
      ]
     },
     "metadata": {},
     "output_type": "display_data"
    },
    {
     "data": {
      "text/plain": [
       "'The Ben Shapiro Show Ep. 134 - The Left Wants Your Guns Now, Dammit!'"
      ]
     },
     "metadata": {},
     "output_type": "display_data"
    },
    {
     "data": {
      "text/plain": [
       "1100"
      ]
     },
     "metadata": {},
     "output_type": "display_data"
    },
    {
     "data": {
      "text/plain": [
       "'The Ben Shapiro Show Ep. 132 - Why The West Doesn’t Care If Terrorists Kill Jews'"
      ]
     },
     "metadata": {},
     "output_type": "display_data"
    },
    {
     "data": {
      "text/plain": [
       "1100"
      ]
     },
     "metadata": {},
     "output_type": "display_data"
    },
    {
     "data": {
      "text/plain": [
       "'The Ben Shapiro Show Ep. 131 - One Big Reason Republicans Are Better People Than Democrats'"
      ]
     },
     "metadata": {},
     "output_type": "display_data"
    },
    {
     "data": {
      "text/plain": [
       "1100"
      ]
     },
     "metadata": {},
     "output_type": "display_data"
    },
    {
     "data": {
      "text/plain": [
       "'The Ben Shapiro Show Ep. 130 - Hillary Will Be The First Female Nominee, And Nobody Cares'"
      ]
     },
     "metadata": {},
     "output_type": "display_data"
    },
    {
     "data": {
      "text/plain": [
       "1100"
      ]
     },
     "metadata": {},
     "output_type": "display_data"
    },
    {
     "data": {
      "text/plain": [
       "'The Ben Shapiro Show Ep. 129 - Trump 2016: Turn Down For What?'"
      ]
     },
     "metadata": {},
     "output_type": "display_data"
    },
    {
     "data": {
      "text/plain": [
       "1100"
      ]
     },
     "metadata": {},
     "output_type": "display_data"
    },
    {
     "data": {
      "text/plain": [
       "'The Ben Shapiro Show Ep. 128 - The Most Arrogant Episode of The Ben Shapiro Show Ever'"
      ]
     },
     "metadata": {},
     "output_type": "display_data"
    },
    {
     "data": {
      "text/plain": [
       "1100"
      ]
     },
     "metadata": {},
     "output_type": "display_data"
    },
    {
     "data": {
      "text/plain": [
       "'The Ben Shapiro Show Ep. 127 - The Media’s Pathetic Self-Obsession'"
      ]
     },
     "metadata": {},
     "output_type": "display_data"
    },
    {
     "data": {
      "text/plain": [
       "1100"
      ]
     },
     "metadata": {},
     "output_type": "display_data"
    },
    {
     "data": {
      "text/plain": [
       "'The Andrew Klavan Show Ep. 131 - \"Obama has Failed... and so Have We\"'"
      ]
     },
     "metadata": {},
     "output_type": "display_data"
    },
    {
     "data": {
      "text/plain": [
       "1100"
      ]
     },
     "metadata": {},
     "output_type": "display_data"
    },
    {
     "data": {
      "text/plain": [
       "'The Ben Shapiro Show Ep. 126 - America Breaks Into Insane Gorilla Warfare'"
      ]
     },
     "metadata": {},
     "output_type": "display_data"
    },
    {
     "data": {
      "text/plain": [
       "1100"
      ]
     },
     "metadata": {},
     "output_type": "display_data"
    },
    {
     "data": {
      "text/plain": [
       "'The Ben Shapiro Show Ep. 125 - Captain America Is Gay And A Nazi!'"
      ]
     },
     "metadata": {},
     "output_type": "display_data"
    },
    {
     "data": {
      "text/plain": [
       "1100"
      ]
     },
     "metadata": {},
     "output_type": "display_data"
    },
    {
     "data": {
      "text/plain": [
       "'The Ben Shapiro Show Ep. 124 - Leftists Want Chaos And Riots — How Do Americans Respond?'"
      ]
     },
     "metadata": {},
     "output_type": "display_data"
    },
    {
     "data": {
      "text/plain": [
       "1100"
      ]
     },
     "metadata": {},
     "output_type": "display_data"
    },
    {
     "data": {
      "text/plain": [
       "'The Ben Shapiro Show Ep. 123 - The Trolls Of The Left Have Destroyed America'"
      ]
     },
     "metadata": {},
     "output_type": "display_data"
    },
    {
     "data": {
      "text/plain": [
       "1100"
      ]
     },
     "metadata": {},
     "output_type": "display_data"
    },
    {
     "data": {
      "text/plain": [
       "'The Ben Shapiro Show Ep. 122 - Hillary Is Legitimately Terrible At This'"
      ]
     },
     "metadata": {},
     "output_type": "display_data"
    },
    {
     "data": {
      "text/plain": [
       "1100"
      ]
     },
     "metadata": {},
     "output_type": "display_data"
    },
    {
     "data": {
      "text/plain": [
       "'The Ben Shapiro Show Ep. 120 - The Democratic Party Implodes'"
      ]
     },
     "metadata": {},
     "output_type": "display_data"
    },
    {
     "data": {
      "text/plain": [
       "1100"
      ]
     },
     "metadata": {},
     "output_type": "display_data"
    },
    {
     "data": {
      "text/plain": [
       "'The Ben Shapiro Show Ep. 119 - How The Media Destroyed Hillary Clinton'"
      ]
     },
     "metadata": {},
     "output_type": "display_data"
    },
    {
     "data": {
      "text/plain": [
       "1100"
      ]
     },
     "metadata": {},
     "output_type": "display_data"
    },
    {
     "data": {
      "text/plain": [
       "'The Ben Shapiro Show Ep. 118 - The Media Discover Trump Has A Penis'"
      ]
     },
     "metadata": {},
     "output_type": "display_data"
    },
    {
     "data": {
      "text/plain": [
       "1100"
      ]
     },
     "metadata": {},
     "output_type": "display_data"
    },
    {
     "data": {
      "text/plain": [
       "'The Ben Shapiro Show Ep. 117 - Paul Ryan Gets Trump-curious'"
      ]
     },
     "metadata": {},
     "output_type": "display_data"
    },
    {
     "data": {
      "text/plain": [
       "1100"
      ]
     },
     "metadata": {},
     "output_type": "display_data"
    },
    {
     "data": {
      "text/plain": [
       "'The Ben Shapiro Show Ep. 116 - Trump: I’m Popular, So I Can Be Awful As I Wanna Be'"
      ]
     },
     "metadata": {},
     "output_type": "display_data"
    },
    {
     "data": {
      "text/plain": [
       "1100"
      ]
     },
     "metadata": {},
     "output_type": "display_data"
    },
    {
     "data": {
      "text/plain": [
       "'The Ben Shapiro Show Ep. 115 - Congratulations, Women! You’re Horrible Jim Crow Bigots'"
      ]
     },
     "metadata": {},
     "output_type": "display_data"
    },
    {
     "data": {
      "text/plain": [
       "1100"
      ]
     },
     "metadata": {},
     "output_type": "display_data"
    },
    {
     "data": {
      "text/plain": [
       "'The Ben Shapiro Show Ep. 114 - Trump 2016: Making Depressions Great Again'"
      ]
     },
     "metadata": {},
     "output_type": "display_data"
    },
    {
     "data": {
      "text/plain": [
       "1100"
      ]
     },
     "metadata": {},
     "output_type": "display_data"
    },
    {
     "data": {
      "text/plain": [
       "\"The Ben Shapiro Show Ep. 113 - Why The Media Can't Stop Trump\""
      ]
     },
     "metadata": {},
     "output_type": "display_data"
    },
    {
     "data": {
      "text/plain": [
       "1100"
      ]
     },
     "metadata": {},
     "output_type": "display_data"
    },
    {
     "data": {
      "text/plain": [
       "'The Ben Shapiro Show Ep. 111 - Trump Kills Ben! And Other Trump Fantasies Come To Life'"
      ]
     },
     "metadata": {},
     "output_type": "display_data"
    },
    {
     "data": {
      "text/plain": [
       "1100"
      ]
     },
     "metadata": {},
     "output_type": "display_data"
    },
    {
     "data": {
      "text/plain": [
       "'The Ben Shapiro Show Ep. 112 - There Are Things Worth Fighting For'"
      ]
     },
     "metadata": {},
     "output_type": "display_data"
    },
    {
     "data": {
      "text/plain": [
       "1100"
      ]
     },
     "metadata": {},
     "output_type": "display_data"
    },
    {
     "data": {
      "text/plain": [
       "'The Ben Shapiro Show Ep. 110 - Can The Trump Train Turn Hillary Into Roadkill?'"
      ]
     },
     "metadata": {},
     "output_type": "display_data"
    },
    {
     "data": {
      "text/plain": [
       "1100"
      ]
     },
     "metadata": {},
     "output_type": "display_data"
    },
    {
     "ename": "KeyError",
     "evalue": "'videoPublishedAt'",
     "output_type": "error",
     "traceback": [
      "\u001b[0;31m---------------------------------------------------------------------------\u001b[0m",
      "\u001b[0;31mKeyError\u001b[0m                                  Traceback (most recent call last)",
      "\u001b[0;32m<ipython-input-300-a11f0e6ca322>\u001b[0m in \u001b[0;36m<module>\u001b[0;34m()\u001b[0m\n\u001b[1;32m     25\u001b[0m             maxResults=max_results,pageToken=nextPageToken).execute()\n\u001b[1;32m     26\u001b[0m         \u001b[0;32mfor\u001b[0m \u001b[0mresult_item\u001b[0m \u001b[0;32min\u001b[0m \u001b[0mresult_vids\u001b[0m\u001b[0;34m[\u001b[0m\u001b[0;34m'items'\u001b[0m\u001b[0;34m]\u001b[0m \u001b[0;34m:\u001b[0m\u001b[0;34m\u001b[0m\u001b[0m\n\u001b[0;32m---> 27\u001b[0;31m             \u001b[0mvideo_date_posted\u001b[0m \u001b[0;34m=\u001b[0m \u001b[0mresult_item\u001b[0m\u001b[0;34m[\u001b[0m\u001b[0;34m'contentDetails'\u001b[0m\u001b[0;34m]\u001b[0m\u001b[0;34m[\u001b[0m\u001b[0;34m'videoPublishedAt'\u001b[0m\u001b[0;34m]\u001b[0m\u001b[0;34m\u001b[0m\u001b[0m\n\u001b[0m\u001b[1;32m     28\u001b[0m             \u001b[0mvideo_date_posted_iso\u001b[0m \u001b[0;34m=\u001b[0m \u001b[0mdateutil\u001b[0m\u001b[0;34m.\u001b[0m\u001b[0mparser\u001b[0m\u001b[0;34m.\u001b[0m\u001b[0mparse\u001b[0m\u001b[0;34m(\u001b[0m\u001b[0mvideo_date_posted\u001b[0m\u001b[0;34m)\u001b[0m\u001b[0;34m.\u001b[0m\u001b[0mastimezone\u001b[0m\u001b[0;34m(\u001b[0m\u001b[0mnew_timezone\u001b[0m\u001b[0;34m)\u001b[0m\u001b[0;34m\u001b[0m\u001b[0m\n\u001b[1;32m     29\u001b[0m             \u001b[0;32mif\u001b[0m\u001b[0;34m(\u001b[0m\u001b[0mcutoff_date\u001b[0m\u001b[0;34m<\u001b[0m\u001b[0mvideo_date_posted_iso\u001b[0m\u001b[0;34m)\u001b[0m\u001b[0;34m:\u001b[0m\u001b[0;34m\u001b[0m\u001b[0m\n",
      "\u001b[0;31mKeyError\u001b[0m: 'videoPublishedAt'"
     ]
    }
   ],
   "source": [
    "video =1\n",
    "comment =0\n",
    "reply =0\n",
    "comment_op=''\n",
    "reply_op=''\n",
    "transcript = ''\n",
    "date_scrape = datetime.datetime.now(new_timezone).strftime(\"%Y_%m_%d_%H_%M_%S\")       \n",
    "cutoff_date = datetime.datetime(2018, 12, 2, 0, 0, 0, tzinfo=new_timezone)\n",
    "nextPageToken=''\n",
    "max_results=50\n",
    "#  delimiter=',', quotechar='\"', quoting=csv.QUOTE_ALL)\n",
    "with open(csv_output, 'w', newline='') as csvfile:\n",
    "    fieldnames = ['index', 'video_id','video_url',\n",
    "                 'video_title',\"channel\",'series','video_snippet',\n",
    "                 'video','comment','reply','video_op',\n",
    "                 'comment_op','reply_op','date_posted',\n",
    "                 'content','date_scrape']\n",
    "    writer = csv.DictWriter(csvfile, fieldnames=fieldnames,\n",
    "            delimiter=',', quotechar='\"', quoting=csv.QUOTE_ALL)\n",
    "    writer.writeheader()\n",
    "    for i in range(int(video_count/max_results) +1):\n",
    "        result_vids = service.playlistItems().list(\n",
    "            playlistId=playlist_id,part='snippet,contentDetails',\n",
    "            maxResults=max_results,pageToken=nextPageToken).execute()\n",
    "        for result_item in result_vids['items'] :\n",
    "            video_date_posted = result_item['contentDetails']['videoPublishedAt']\n",
    "            video_date_posted_iso = dateutil.parser.parse(video_date_posted).astimezone(new_timezone)\n",
    "            if(cutoff_date<video_date_posted_iso):\n",
    "                continue\n",
    "            video_date_posted = video_date_posted_iso.strftime(\"%Y_%m_%d_%H_%M_%S\")\n",
    "            video_id = result_item['contentDetails']['videoId']\n",
    "            #     video_index = \n",
    "            video_index = result_item['snippet']['position']\n",
    "            video_title = result_item['snippet']['title']\n",
    "            video_snippet = result_item['snippet']['description']    \n",
    "            video_op =result_item['snippet']['channelTitle']\n",
    "            my_url='https://www.youtube.com/watch?v=%s' %(video_id)\n",
    "#             vid_idx=i*max_results + int(video_index)\n",
    "            display(video_title,vid_idx)\n",
    "\n",
    "            x =  { \"index\": video_index,\"video_id\": video_id, \"video_url\":my_url,\n",
    "                \"video_title\":video_title, \"channel\":channel_title,\n",
    "                \"series\":series, \"video_snippet\":video_snippet,\n",
    "                \"video\":video,\"comment\":comment,\"reply\":reply,\n",
    "                \"video_op\":video_op, \"comment_op\":comment_op,\n",
    "                \"reply_op\":reply_op,\"date_posted\":video_date_posted,\n",
    "                \"content\":transcript,\"date_scrape\":date_scrape}   \n",
    "            writer.writerow(x)\n",
    "            try:\n",
    "                nextPageToken = result_vids['nextPageToken']\n",
    "            \n",
    "            except:\n",
    "                \"End of list\"\n",
    "\n",
    "\n",
    "        "
   ]
  },
  {
   "cell_type": "code",
   "execution_count": 292,
   "metadata": {},
   "outputs": [
    {
     "data": {
      "text/plain": [
       "'2018_12_10_15_07_09'"
      ]
     },
     "metadata": {},
     "output_type": "display_data"
    },
    {
     "data": {
      "text/plain": [
       "False"
      ]
     },
     "metadata": {},
     "output_type": "display_data"
    }
   ],
   "source": [
    "video =1\n",
    "comment =0\n",
    "reply =0\n",
    "comment_op=''\n",
    "reply_op=''\n",
    "transcript = ''\n",
    "cutoff_date = datetime.datetime(2018, 12, 2, 0, 0, 0, tzinfo=new_timezone)\n",
    "date_scrape = datetime.datetime.now(new_timezone).strftime(\"%Y_%m_%d_%H_%M_%S\")       \n",
    "result_vids = service.playlistItems().list(\n",
    "    playlistId=playlist_id,part='snippet,contentDetails',\n",
    "    maxResults=1).execute()\n",
    "for result_item in result_vids['items'] :\n",
    "    video_id = result_item['contentDetails']['videoId']\n",
    "    #     video_index = \n",
    "    video_index = result_item['snippet']['position']\n",
    "    video_title = result_item['snippet']['title']\n",
    "    video_snippet = result_item['snippet']['description']    \n",
    "    video_op =result_item['snippet']['channelTitle']\n",
    "    video_date_posted = result_item['contentDetails']['videoPublishedAt']\n",
    "    video_date_posted_iso = dateutil.parser.parse(video_date_posted).astimezone(new_timezone)\n",
    "    video_date_posted = video_date_posted_iso.strftime(\"%Y_%m_%d_%H_%M_%S\")\n",
    "    display(video_date_posted)\n",
    "    display(video_date_posted_iso<cutoff_date)\n",
    "    my_url='https://www.youtube.com/watch?v=%s' %(video_id)\n",
    "# nextPageToken = result_vids['nextPageToken']\n",
    "    x =  { \"video_id\": video_id, \"video_url\":my_url,\n",
    "        \"video_title\":video_title, \"channel\":channel_title,\n",
    "        \"series\":series, \"video_snippet\":video_snippet,\n",
    "        \"video\":video,\"comment\":comment,\"reply\":reply,\n",
    "        \"video_op\":video_op, \"comment_op\":comment_op,\n",
    "        \"reply_op\":reply_op,\"date_posted\":video_date_posted,\n",
    "        \"content\":transcript,\"date_scrape\":date_scrape}        "
   ]
  },
  {
   "cell_type": "markdown",
   "metadata": {},
   "source": [
    "# Parse a single Video"
   ]
  },
  {
   "cell_type": "code",
   "execution_count": 11,
   "metadata": {},
   "outputs": [],
   "source": [
    "video_id = 'sK7euOOQK-4'\n",
    "my_url='https://www.youtube.com/watch?v=%s' %(video_id)"
   ]
  },
  {
   "cell_type": "code",
   "execution_count": 14,
   "metadata": {},
   "outputs": [],
   "source": [
    "individual_vid = service.videos().list(\\\n",
    "id='sK7euOOQK-4',part='snippet,contentDetails').execute()\n",
    "                                           "
   ]
  },
  {
   "cell_type": "code",
   "execution_count": 15,
   "metadata": {},
   "outputs": [
    {
     "data": {
      "text/plain": [
       "{'kind': 'youtube#videoListResponse',\n",
       " 'etag': '\"XI7nbFXulYBIpL0ayR_gDh3eu1k/iTZaw3UujcGDtlci2Y2JsYTt82M\"',\n",
       " 'pageInfo': {'totalResults': 1, 'resultsPerPage': 1},\n",
       " 'items': [{'kind': 'youtube#video',\n",
       "   'etag': '\"XI7nbFXulYBIpL0ayR_gDh3eu1k/2DQo9D-gAQH3P_sbRk6K6ltZXSo\"',\n",
       "   'id': 'sK7euOOQK-4',\n",
       "   'snippet': {'publishedAt': '2018-12-09T13:00:05.000Z',\n",
       "    'channelId': 'UCnQC_G5Xsjhp9fEJKuIcrSw',\n",
       "    'title': 'Sunday Special Ep 30: David Limbaugh',\n",
       "    'description': 'Author and columnist David Limbaugh joins Ben to discuss how Christianity and Judaism have shaped America, how his thinking on Donald Trump has changed since 2016, and whether 2020 will be better than 2018 for Republicans.\\n\\nSubscribe to the Daily Wire to watch the bonus question! https://bit.ly/2q0wopL\\n\\nCheck Ben out on:\\nDaily Wire website: www.dailywire.com\\nFacebook: https://www.facebook.com/officialbenshapiro\\nTwitter: https://twitter.com/benshapiro\\nInstagram: @officialbenshapiro\\n \\nCheck David Limbaugh out on:\\nTwitter: https://twitter.com/davidlimbaugh',\n",
       "    'thumbnails': {'default': {'url': 'https://i.ytimg.com/vi/sK7euOOQK-4/default.jpg',\n",
       "      'width': 120,\n",
       "      'height': 90},\n",
       "     'medium': {'url': 'https://i.ytimg.com/vi/sK7euOOQK-4/mqdefault.jpg',\n",
       "      'width': 320,\n",
       "      'height': 180},\n",
       "     'high': {'url': 'https://i.ytimg.com/vi/sK7euOOQK-4/hqdefault.jpg',\n",
       "      'width': 480,\n",
       "      'height': 360},\n",
       "     'standard': {'url': 'https://i.ytimg.com/vi/sK7euOOQK-4/sddefault.jpg',\n",
       "      'width': 640,\n",
       "      'height': 480},\n",
       "     'maxres': {'url': 'https://i.ytimg.com/vi/sK7euOOQK-4/maxresdefault.jpg',\n",
       "      'width': 1280,\n",
       "      'height': 720}},\n",
       "    'channelTitle': 'Ben Shapiro',\n",
       "    'tags': ['ben shapiro',\n",
       "     'the ben shapiro show',\n",
       "     'sunday special',\n",
       "     'david limbaugh',\n",
       "     'christianity',\n",
       "     'judaism',\n",
       "     'america',\n",
       "     'donald trump',\n",
       "     'democrats',\n",
       "     'republicans',\n",
       "     'the daily wire',\n",
       "     'daily wire',\n",
       "     'David Limbaugh',\n",
       "     'Ben Shapiro',\n",
       "     'The Ben Shapiro Show',\n",
       "     'Daily Wire',\n",
       "     'Sunday Special',\n",
       "     'morality',\n",
       "     'word of God',\n",
       "     'church',\n",
       "     'conversion',\n",
       "     'Israel',\n",
       "     'saint',\n",
       "     'sinner',\n",
       "     'politics',\n",
       "     'Trump',\n",
       "     'Trump 2020',\n",
       "     'Leftism',\n",
       "     'the Left',\n",
       "     'theocracy'],\n",
       "    'categoryId': '25',\n",
       "    'liveBroadcastContent': 'none',\n",
       "    'localized': {'title': 'Sunday Special Ep 30: David Limbaugh',\n",
       "     'description': 'Author and columnist David Limbaugh joins Ben to discuss how Christianity and Judaism have shaped America, how his thinking on Donald Trump has changed since 2016, and whether 2020 will be better than 2018 for Republicans.\\n\\nSubscribe to the Daily Wire to watch the bonus question! https://bit.ly/2q0wopL\\n\\nCheck Ben out on:\\nDaily Wire website: www.dailywire.com\\nFacebook: https://www.facebook.com/officialbenshapiro\\nTwitter: https://twitter.com/benshapiro\\nInstagram: @officialbenshapiro\\n \\nCheck David Limbaugh out on:\\nTwitter: https://twitter.com/davidlimbaugh'},\n",
       "    'defaultAudioLanguage': 'en'},\n",
       "   'contentDetails': {'duration': 'PT51M18S',\n",
       "    'dimension': '2d',\n",
       "    'definition': 'hd',\n",
       "    'caption': 'false',\n",
       "    'licensedContent': False,\n",
       "    'projection': 'rectangular'}}]}"
      ]
     },
     "execution_count": 15,
     "metadata": {},
     "output_type": "execute_result"
    }
   ],
   "source": [
    "individual_vid"
   ]
  },
  {
   "cell_type": "code",
   "execution_count": 23,
   "metadata": {},
   "outputs": [
    {
     "data": {
      "text/plain": [
       "'Sunday Special Ep 30: David Limbaugh'"
      ]
     },
     "execution_count": 23,
     "metadata": {},
     "output_type": "execute_result"
    }
   ],
   "source": [
    "video_title =individual_vid['items'][0]['snippet']['title']\n",
    "video_title"
   ]
  },
  {
   "cell_type": "code",
   "execution_count": 31,
   "metadata": {},
   "outputs": [],
   "source": [
    "video =1\n",
    "comment=0\n",
    "reply=0"
   ]
  },
  {
   "cell_type": "code",
   "execution_count": 27,
   "metadata": {},
   "outputs": [
    {
     "data": {
      "text/plain": [
       "'2018-12-09T13:00:05.000Z'"
      ]
     },
     "execution_count": 27,
     "metadata": {},
     "output_type": "execute_result"
    }
   ],
   "source": [
    "video_date_posted =individual_vid['items'][0]['snippet']['publishedAt']\n",
    "video_date_posted"
   ]
  },
  {
   "cell_type": "code",
   "execution_count": null,
   "metadata": {},
   "outputs": [],
   "source": [
    "video_date_posted =individual_vid['items'][0]['snippet']['publishedAt']\n",
    "video_date_posted"
   ]
  },
  {
   "cell_type": "code",
   "execution_count": 47,
   "metadata": {},
   "outputs": [],
   "source": [
    "date_scrape = datetime.datetime.now(new_timezone).strftime(\"%Y_%m_%d_%H_%M_%S\")"
   ]
  },
  {
   "cell_type": "code",
   "execution_count": 46,
   "metadata": {},
   "outputs": [
    {
     "data": {
      "text/plain": [
       "'Ben Shapiro'"
      ]
     },
     "execution_count": 46,
     "metadata": {},
     "output_type": "execute_result"
    }
   ],
   "source": [
    "video_op =individual_vid['items'][0]['snippet']['channelTitle']\n",
    "comment_op=''\n",
    "reply_op=''\n",
    "video_op"
   ]
  },
  {
   "cell_type": "code",
   "execution_count": 45,
   "metadata": {},
   "outputs": [
    {
     "data": {
      "text/plain": [
       "'Author and columnist David Limbaugh joins Ben to discuss how Christianity and Judaism have shaped America, how his thinking on Donald Trump has changed since 2016, and whether 2020 will be better than 2018 for Republicans.\\n\\nSubscribe to the Daily Wire to watch the bonus question! https://bit.ly/2q0wopL\\n\\nCheck Ben out on:\\nDaily Wire website: www.dailywire.com\\nFacebook: https://www.facebook.com/officialbenshapiro\\nTwitter: https://twitter.com/benshapiro\\nInstagram: @officialbenshapiro\\n \\nCheck David Limbaugh out on:\\nTwitter: https://twitter.com/davidlimbaugh'"
      ]
     },
     "execution_count": 45,
     "metadata": {},
     "output_type": "execute_result"
    }
   ],
   "source": [
    "video_snippet = individual_vid['items'][0]['snippet']['description']\n",
    "video_snippet"
   ]
  },
  {
   "cell_type": "code",
   "execution_count": 51,
   "metadata": {},
   "outputs": [],
   "source": [
    "x =  { \"video_id\": video_id, \"video_url\":my_url,\\\n",
    "      \"video_title\":video_title, \\\n",
    "#       \"channel\":channel,\\\n",
    "#      \"series\":series, \\\n",
    "     \"video_snippet\":video_snippet,\\\n",
    "     \"video\":video,\"comment\":comment,\"reply\":reply,\\\n",
    "     \"video_op\":video_op, \"comment_op\":comment_op,\\\n",
    "     \"reply_op\":reply_op,\"date_posted\":video_date_posted,\\\n",
    "#      \"content\":transcript,\\\n",
    "      \"date_scrape\":date_scrape}"
   ]
  },
  {
   "cell_type": "code",
   "execution_count": 52,
   "metadata": {},
   "outputs": [
    {
     "data": {
      "text/plain": [
       "{'video_id': 'sK7euOOQK-4',\n",
       " 'video_url': 'https://www.youtube.com/watch?v=sK7euOOQK-4',\n",
       " 'video_title': 'Sunday Special Ep 30: David Limbaugh',\n",
       " 'video_snippet': 'Author and columnist David Limbaugh joins Ben to discuss how Christianity and Judaism have shaped America, how his thinking on Donald Trump has changed since 2016, and whether 2020 will be better than 2018 for Republicans.\\n\\nSubscribe to the Daily Wire to watch the bonus question! https://bit.ly/2q0wopL\\n\\nCheck Ben out on:\\nDaily Wire website: www.dailywire.com\\nFacebook: https://www.facebook.com/officialbenshapiro\\nTwitter: https://twitter.com/benshapiro\\nInstagram: @officialbenshapiro\\n \\nCheck David Limbaugh out on:\\nTwitter: https://twitter.com/davidlimbaugh',\n",
       " 'video': 1,\n",
       " 'comment': 0,\n",
       " 'reply': 0,\n",
       " 'video_op': 'Ben Shapiro',\n",
       " 'comment_op': '',\n",
       " 'reply_op': '',\n",
       " 'date_posted': '2018-12-09T13:00:05.000Z',\n",
       " 'date_scrape': '2018_12_10_07_14_17'}"
      ]
     },
     "execution_count": 52,
     "metadata": {},
     "output_type": "execute_result"
    }
   ],
   "source": [
    "x"
   ]
  },
  {
   "cell_type": "code",
   "execution_count": null,
   "metadata": {},
   "outputs": [],
   "source": []
  },
  {
   "cell_type": "code",
   "execution_count": null,
   "metadata": {},
   "outputs": [],
   "source": []
  },
  {
   "cell_type": "markdown",
   "metadata": {},
   "source": [
    "## Extract Comments"
   ]
  },
  {
   "cell_type": "code",
   "execution_count": 317,
   "metadata": {},
   "outputs": [
    {
     "data": {
      "text/plain": [
       "'UfxIf3frJuE'"
      ]
     },
     "execution_count": 317,
     "metadata": {},
     "output_type": "execute_result"
    }
   ],
   "source": [
    "video_id"
   ]
  },
  {
   "cell_type": "code",
   "execution_count": 304,
   "metadata": {},
   "outputs": [],
   "source": [
    "result_comments= service.commentThreads().list(\n",
    "    part=\"snippet,replies\",\n",
    "    videoId=video_id,\n",
    "    textFormat=\"plainText\",\n",
    "    maxResults=2\n",
    "  ).execute()"
   ]
  },
  {
   "cell_type": "code",
   "execution_count": null,
   "metadata": {},
   "outputs": [],
   "source": [
    "result_comments['pageInfo']['totalResults']"
   ]
  },
  {
   "cell_type": "code",
   "execution_count": 307,
   "metadata": {},
   "outputs": [
    {
     "data": {
      "text/plain": [
       "'BlackGreninja1'"
      ]
     },
     "metadata": {},
     "output_type": "display_data"
    },
    {
     "data": {
      "text/plain": [
       "'2018-12-02T23:43:20.000Z'"
      ]
     },
     "metadata": {},
     "output_type": "display_data"
    },
    {
     "data": {
      "text/plain": [
       "'Cj Schneidt'"
      ]
     },
     "metadata": {},
     "output_type": "display_data"
    },
    {
     "data": {
      "text/plain": [
       "'2018-11-03T01:00:32.000Z'"
      ]
     },
     "metadata": {},
     "output_type": "display_data"
    }
   ],
   "source": [
    "for comment_ind in result_comments['items']:\n",
    "    display(comment_ind['snippet']['topLevelComment']['snippet']['authorDisplayName'])\n",
    "    display(comment_ind['snippet']['topLevelComment']['snippet']['publishedAt'])"
   ]
  },
  {
   "cell_type": "code",
   "execution_count": 55,
   "metadata": {},
   "outputs": [
    {
     "data": {
      "text/plain": [
       "{'kind': 'youtube#commentThreadListResponse',\n",
       " 'etag': '\"XI7nbFXulYBIpL0ayR_gDh3eu1k/R6US-T41ng5wGiw4-z4SvQo906U\"',\n",
       " 'nextPageToken': 'QURTSl9pMUJSNGI1clJmNVhlNEh4RFl3TlQ3T3RnVkVLaGlrd3hpcDI5TDQ3X2JfWF9Eemg2cnlkWmpkSEtaaDdGa05ENTdrZDJqaktic1dLRmVOd0NrT1RyN19xTEtLb0JORXF5UHN5Nk16bzVybGJTWUthMjR0bHROWU5XTlF1SXM=',\n",
       " 'pageInfo': {'totalResults': 1, 'resultsPerPage': 1},\n",
       " 'items': [{'kind': 'youtube#commentThread',\n",
       "   'etag': '\"XI7nbFXulYBIpL0ayR_gDh3eu1k/j2wr-NGhrxTtlJV8g8w6EuJCKWQ\"',\n",
       "   'id': 'Ugxs4x23BQyM4_bKaWh4AaABAg',\n",
       "   'snippet': {'videoId': 'sK7euOOQK-4',\n",
       "    'topLevelComment': {'kind': 'youtube#comment',\n",
       "     'etag': '\"XI7nbFXulYBIpL0ayR_gDh3eu1k/K_ZyBbCbe4Z5ER-UgE4XM0DtKSA\"',\n",
       "     'id': 'Ugxs4x23BQyM4_bKaWh4AaABAg',\n",
       "     'snippet': {'authorDisplayName': 'DomManInT1',\n",
       "      'authorProfileImageUrl': 'https://yt3.ggpht.com/-UeLVQy7FA-o/AAAAAAAAAAI/AAAAAAAAAAA/Ylc24g47Z3M/s28-c-k-no-mo-rj-c0xffffff/photo.jpg',\n",
       "      'authorChannelUrl': 'http://www.youtube.com/channel/UCXVjqsEe5M-W7Rh7sVQESwg',\n",
       "      'authorChannelId': {'value': 'UCXVjqsEe5M-W7Rh7sVQESwg'},\n",
       "      'videoId': 'sK7euOOQK-4',\n",
       "      'textDisplay': 'A lot of chattering, stuttering, and broken sentences from the guest. Not very persuasive.',\n",
       "      'textOriginal': 'A lot of chattering, stuttering, and broken sentences from the guest. Not very persuasive.',\n",
       "      'canRate': True,\n",
       "      'viewerRating': 'none',\n",
       "      'likeCount': 0,\n",
       "      'publishedAt': '2018-12-10T06:12:31.000Z',\n",
       "      'updatedAt': '2018-12-10T06:12:31.000Z'}},\n",
       "    'canReply': True,\n",
       "    'totalReplyCount': 0,\n",
       "    'isPublic': True}}]}"
      ]
     },
     "execution_count": 55,
     "metadata": {},
     "output_type": "execute_result"
    }
   ],
   "source": [
    "result_comments"
   ]
  },
  {
   "cell_type": "code",
   "execution_count": null,
   "metadata": {},
   "outputs": [],
   "source": [
    "result_comments"
   ]
  },
  {
   "cell_type": "code",
   "execution_count": 57,
   "metadata": {},
   "outputs": [],
   "source": [
    "video =0\n",
    "comment=1\n",
    "reply=0"
   ]
  },
  {
   "cell_type": "code",
   "execution_count": 70,
   "metadata": {},
   "outputs": [
    {
     "data": {
      "text/plain": [
       "'Ben Shapiro'"
      ]
     },
     "metadata": {},
     "output_type": "display_data"
    },
    {
     "data": {
      "text/plain": [
       "'DomManInT1'"
      ]
     },
     "metadata": {},
     "output_type": "display_data"
    }
   ],
   "source": [
    "video_op =video_op\n",
    "comment_op=result_comments['items'][0]['snippet']['topLevelComment']['snippet']['authorDisplayName']\n",
    "reply_op=''\n",
    "display(video_op)\n",
    "display(comment_op)"
   ]
  },
  {
   "cell_type": "code",
   "execution_count": 82,
   "metadata": {},
   "outputs": [],
   "source": [
    "comment_date_posted =result_comments['items'][0]['snippet']['topLevelComment']['snippet']['publishedAt']"
   ]
  },
  {
   "cell_type": "code",
   "execution_count": 89,
   "metadata": {},
   "outputs": [
    {
     "data": {
      "text/plain": [
       "'A lot of chattering, stuttering, and broken sentences from the guest. Not very persuasive.'"
      ]
     },
     "execution_count": 89,
     "metadata": {},
     "output_type": "execute_result"
    }
   ],
   "source": [
    "comment_content = result_comments['items'][0]['snippet']['topLevelComment']['snippet']['textOriginal']\n",
    "comment_content"
   ]
  },
  {
   "cell_type": "code",
   "execution_count": 90,
   "metadata": {},
   "outputs": [
    {
     "data": {
      "text/plain": [
       "{'video_id': 'sK7euOOQK-4',\n",
       " 'video_url': 'https://www.youtube.com/watch?v=sK7euOOQK-4',\n",
       " 'video_title': 'Sunday Special Ep 30: David Limbaugh',\n",
       " 'video_snippet': 'Author and columnist David Limbaugh joins Ben to discuss how Christianity and Judaism have shaped America, how his thinking on Donald Trump has changed since 2016, and whether 2020 will be better than 2018 for Republicans.\\n\\nSubscribe to the Daily Wire to watch the bonus question! https://bit.ly/2q0wopL\\n\\nCheck Ben out on:\\nDaily Wire website: www.dailywire.com\\nFacebook: https://www.facebook.com/officialbenshapiro\\nTwitter: https://twitter.com/benshapiro\\nInstagram: @officialbenshapiro\\n \\nCheck David Limbaugh out on:\\nTwitter: https://twitter.com/davidlimbaugh',\n",
       " 'video': 0,\n",
       " 'comment': 1,\n",
       " 'reply': 0,\n",
       " 'video_op': 'Ben Shapiro',\n",
       " 'comment_op': 'DomManInT1',\n",
       " 'reply_op': '',\n",
       " 'date_posted': '2018-12-10T06:12:31.000Z',\n",
       " 'content': 'A lot of chattering, stuttering, and broken sentences from the guest. Not very persuasive.',\n",
       " 'date_scrape': '2018_12_10_07_14_17'}"
      ]
     },
     "execution_count": 90,
     "metadata": {},
     "output_type": "execute_result"
    }
   ],
   "source": [
    "x =  { \"video_id\": video_id, \"video_url\":my_url,\\\n",
    "      \"video_title\":video_title, \\\n",
    "#       \"channel\":channel,\\\n",
    "#      \"series\":series, \\\n",
    "     \"video_snippet\":video_snippet,\\\n",
    "     \"video\":video,\"comment\":comment,\"reply\":reply,\\\n",
    "     \"video_op\":video_op, \"comment_op\":comment_op,\\\n",
    "     \"reply_op\":reply_op,\"date_posted\":comment_date_posted,\\\n",
    "     \"content\":comment_content,\\\n",
    "      \"date_scrape\":date_scrape}\n",
    "x"
   ]
  },
  {
   "cell_type": "code",
   "execution_count": 323,
   "metadata": {},
   "outputs": [],
   "source": [
    "result_comments= service.commentThreads().list(\n",
    "    part=\"snippet,replies\",\n",
    "    videoId=video_id,\n",
    "    textFormat=\"plainText\",\n",
    "    maxResults=100\n",
    "  ).execute()"
   ]
  },
  {
   "cell_type": "code",
   "execution_count": 369,
   "metadata": {},
   "outputs": [
    {
     "data": {
      "text/plain": [
       "'BlackGreninja1'"
      ]
     },
     "metadata": {},
     "output_type": "display_data"
    },
    {
     "data": {
      "text/plain": [
       "'Who else came here to find the earliest episode???'"
      ]
     },
     "metadata": {},
     "output_type": "display_data"
    },
    {
     "data": {
      "text/plain": [
       "583"
      ]
     },
     "metadata": {},
     "output_type": "display_data"
    },
    {
     "data": {
      "text/plain": [
       "{'video_id': 'UfxIf3frJuE',\n",
       " 'video': 0,\n",
       " 'comment': 1,\n",
       " 'reply': 0,\n",
       " 'comment_op': 'BlackGreninja1',\n",
       " 'reply_op': '',\n",
       " 'date_posted': '2018-12-02T23:43:20.000Z',\n",
       " 'content': 'Who else came here to find the earliest episode???',\n",
       " 'date_scrape': '2018_12_11_04_33_38'}"
      ]
     },
     "metadata": {},
     "output_type": "display_data"
    }
   ],
   "source": [
    "video =0\n",
    "comment =1\n",
    "reply =0\n",
    "comment_op=''\n",
    "reply_op=''\n",
    "transcript = ''\n",
    "# cutoff_date = datetime.datetime(2018, 12, 2, 0, 0, 0, tzinfo=new_timezone)\n",
    "date_scrape = datetime.datetime.now(new_timezone).strftime(\"%Y_%m_%d_%H_%M_%S\")       \n",
    "# for result_item in result_vids['items'] :\n",
    "#     video_id = result_item['contentDetails']['videoId']\n",
    "#     #     video_index = \n",
    "#     video_index = result_item['snippet']['position']\n",
    "#     video_title = result_item['snippet']['title']\n",
    "#     video_snippet = result_item['snippet']['description']    \n",
    "#     video_op =result_item['snippet']['channelTitle']\n",
    "#     video_date_posted = result_item['contentDetails']['videoPublishedAt']\n",
    "#     video_date_posted_iso = dateutil.parser.parse(video_date_posted).astimezone(new_timezone)\n",
    "#     video_date_posted = video_date_posted_iso.strftime(\"%Y_%m_%d_%H_%M_%S\")\n",
    "#     display(video_date_posted)\n",
    "#     display(video_date_posted_iso<cutoff_date)\n",
    "#     my_url='https://www.youtube.com/watch?v=%s' %(video_id)\n",
    "# # nextPageToken = result_vids['nextPageToken']\n",
    "#     x =  { \"video_id\": video_id, \"video_url\":my_url,\n",
    "#         \"video_title\":video_title, \"channel\":channel_title,\n",
    "#         \"series\":series, \"video_snippet\":video_snippet,\n",
    "#         \"video\":video,\"comment\":comment,\"reply\":reply,\n",
    "#         \"video_op\":video_op, \"comment_op\":comment_op,\n",
    "#         \"reply_op\":reply_op,\"date_posted\":video_date_posted,\n",
    "#         \"content\":transcript,\"date_scrape\":date_scrape}   \n",
    "    \n",
    "# result_comments\n",
    "for comment_ind in result_comments['items']:\n",
    "    reply_op=''\n",
    "    comment_op = comment_ind['snippet']['topLevelComment']['snippet']['authorDisplayName']\n",
    "    display(comment_op)\n",
    "    comment_date_posted = comment_ind['snippet']['topLevelComment']['snippet']['publishedAt']\n",
    "#     display(comment_ind['snippet']['topLevelComment']['snippet']['publishedAt'])\n",
    "    comment_index = result_item['snippet']['position']\n",
    "    comment_content = comment_ind['snippet']['topLevelComment']['snippet']['textOriginal']\n",
    "    display(comment_content)\n",
    "    display(comment_index)\n",
    "    video,comment,reply=set_flags(flag='comment')\n",
    "    x =  { \"video_id\": video_id, \n",
    "        \"video\":video,\"comment\":comment,\"reply\":reply,\n",
    "        \"comment_op\":comment_op,\n",
    "        \"reply_op\":reply_op,\"date_posted\":comment_date_posted,\n",
    "        \"content\":comment_content,\"date_scrape\":date_scrape}  \n",
    "    display(x)    \n",
    "    \n",
    "    break\n",
    "# for x in result_comments['items']:\n",
    "#     if (x['snippet']['totalReplyCount']>1):\n",
    "# #     'dfdf'.\n",
    "# #         print(x)\n",
    "#         display(x)\n",
    "#         test=x\n",
    "#         break"
   ]
  },
  {
   "cell_type": "code",
   "execution_count": 362,
   "metadata": {},
   "outputs": [],
   "source": []
  },
  {
   "cell_type": "code",
   "execution_count": 379,
   "metadata": {},
   "outputs": [
    {
     "data": {
      "text/plain": [
       "'True'"
      ]
     },
     "metadata": {},
     "output_type": "display_data"
    },
    {
     "data": {
      "text/plain": [
       "2"
      ]
     },
     "metadata": {},
     "output_type": "display_data"
    },
    {
     "data": {
      "text/plain": [
       "{'video_id': 'UfxIf3frJuE',\n",
       " 'video': 0,\n",
       " 'comment': 0,\n",
       " 'reply': 1,\n",
       " 'comment_op': 'BlackGreninja1',\n",
       " 'reply_op': 'Cj Schneidt',\n",
       " 'date_posted': '2018_11_02_21_05_22',\n",
       " 'content': 'Hes done a near 180 on trump',\n",
       " 'date_scrape': '2018_12_11_04_36_27'}"
      ]
     },
     "metadata": {},
     "output_type": "display_data"
    },
    {
     "data": {
      "text/plain": [
       "{'video_id': 'UfxIf3frJuE',\n",
       " 'video': 0,\n",
       " 'comment': 0,\n",
       " 'reply': 1,\n",
       " 'comment_op': 'BlackGreninja1',\n",
       " 'reply_op': 'Cj Schneidt',\n",
       " 'date_posted': '2018_11_02_21_05_09',\n",
       " 'content': 'Right here',\n",
       " 'date_scrape': '2018_12_11_04_36_27'}"
      ]
     },
     "metadata": {},
     "output_type": "display_data"
    },
    {
     "data": {
      "text/plain": [
       "'True'"
      ]
     },
     "metadata": {},
     "output_type": "display_data"
    },
    {
     "data": {
      "text/plain": [
       "2"
      ]
     },
     "metadata": {},
     "output_type": "display_data"
    },
    {
     "data": {
      "text/plain": [
       "{'video_id': 'UfxIf3frJuE',\n",
       " 'video': 0,\n",
       " 'comment': 0,\n",
       " 'reply': 1,\n",
       " 'comment_op': 'BlackGreninja1',\n",
       " 'reply_op': 'Theprfesssor',\n",
       " 'date_posted': '2018_10_12_22_45_18',\n",
       " 'content': 'This playlist starts at episode 110, your going to miss quite a bit',\n",
       " 'date_scrape': '2018_12_11_04_36_27'}"
      ]
     },
     "metadata": {},
     "output_type": "display_data"
    },
    {
     "data": {
      "text/plain": [
       "{'video_id': 'UfxIf3frJuE',\n",
       " 'video': 0,\n",
       " 'comment': 0,\n",
       " 'reply': 1,\n",
       " 'comment_op': 'BlackGreninja1',\n",
       " 'reply_op': 'Cameron Baldwin',\n",
       " 'date_posted': '2018_07_27_11_03_44',\n",
       " 'content': 'You and me both.',\n",
       " 'date_scrape': '2018_12_11_04_36_27'}"
      ]
     },
     "metadata": {},
     "output_type": "display_data"
    },
    {
     "data": {
      "text/plain": [
       "'True'"
      ]
     },
     "metadata": {},
     "output_type": "display_data"
    },
    {
     "data": {
      "text/plain": [
       "34"
      ]
     },
     "metadata": {},
     "output_type": "display_data"
    },
    {
     "data": {
      "text/plain": [
       "{'video_id': 'UfxIf3frJuE',\n",
       " 'video': 0,\n",
       " 'comment': 0,\n",
       " 'reply': 1,\n",
       " 'comment_op': 'BlackGreninja1',\n",
       " 'reply_op': 'Saltless Fries',\n",
       " 'date_posted': '2016_06_04_22_58_36',\n",
       " 'content': 'aannnd Cruz dropped out',\n",
       " 'date_scrape': '2018_12_11_04_36_27'}"
      ]
     },
     "metadata": {},
     "output_type": "display_data"
    },
    {
     "data": {
      "text/plain": [
       "{'video_id': 'UfxIf3frJuE',\n",
       " 'video': 0,\n",
       " 'comment': 0,\n",
       " 'reply': 1,\n",
       " 'comment_op': 'BlackGreninja1',\n",
       " 'reply_op': 'phil chickenfingers',\n",
       " 'date_posted': '2016_05_21_19_27_52',\n",
       " 'content': '+The Trump Train! thanks for coming out lil guy, it was fun toying with you cuck',\n",
       " 'date_scrape': '2018_12_11_04_36_27'}"
      ]
     },
     "metadata": {},
     "output_type": "display_data"
    },
    {
     "data": {
      "text/plain": [
       "{'video_id': 'UfxIf3frJuE',\n",
       " 'video': 0,\n",
       " 'comment': 0,\n",
       " 'reply': 1,\n",
       " 'comment_op': 'BlackGreninja1',\n",
       " 'reply_op': 'The Trump Train!',\n",
       " 'date_posted': '2016_05_21_16_46_33',\n",
       " 'content': '+phil chickenfingers You wish shillbag.',\n",
       " 'date_scrape': '2018_12_11_04_36_27'}"
      ]
     },
     "metadata": {},
     "output_type": "display_data"
    },
    {
     "data": {
      "text/plain": [
       "{'video_id': 'UfxIf3frJuE',\n",
       " 'video': 0,\n",
       " 'comment': 0,\n",
       " 'reply': 1,\n",
       " 'comment_op': 'BlackGreninja1',\n",
       " 'reply_op': 'phil chickenfingers',\n",
       " 'date_posted': '2016_05_21_16_12_40',\n",
       " 'content': '+The Trump Train! you and the trump cult are going to be drinking the koolaid in November',\n",
       " 'date_scrape': '2018_12_11_04_36_27'}"
      ]
     },
     "metadata": {},
     "output_type": "display_data"
    },
    {
     "data": {
      "text/plain": [
       "{'video_id': 'UfxIf3frJuE',\n",
       " 'video': 0,\n",
       " 'comment': 0,\n",
       " 'reply': 1,\n",
       " 'comment_op': 'BlackGreninja1',\n",
       " 'reply_op': 'The Trump Train!',\n",
       " 'date_posted': '2016_05_21_15_53_15',\n",
       " 'content': \"+phil chickenfingers Hmm yes ok Mr. Chickenfingers, I'm sure I would stand no chance against your political intellect. \\n\\nThis convo is pointless, nice talking with you though!\",\n",
       " 'date_scrape': '2018_12_11_04_36_27'}"
      ]
     },
     "metadata": {},
     "output_type": "display_data"
    },
    {
     "data": {
      "text/plain": [
       "'True'"
      ]
     },
     "metadata": {},
     "output_type": "display_data"
    },
    {
     "data": {
      "text/plain": [
       "3"
      ]
     },
     "metadata": {},
     "output_type": "display_data"
    },
    {
     "data": {
      "text/plain": [
       "{'video_id': 'UfxIf3frJuE',\n",
       " 'video': 0,\n",
       " 'comment': 0,\n",
       " 'reply': 1,\n",
       " 'comment_op': 'BlackGreninja1',\n",
       " 'reply_op': 'Joseph Armstrong',\n",
       " 'date_posted': '2017_12_09_10_49_04',\n",
       " 'content': 'Ben >>>>>>> Milo',\n",
       " 'date_scrape': '2018_12_11_04_36_27'}"
      ]
     },
     "metadata": {},
     "output_type": "display_data"
    },
    {
     "data": {
      "text/plain": [
       "{'video_id': 'UfxIf3frJuE',\n",
       " 'video': 0,\n",
       " 'comment': 0,\n",
       " 'reply': 1,\n",
       " 'comment_op': 'BlackGreninja1',\n",
       " 'reply_op': 'Tzvi Berkowitz',\n",
       " 'date_posted': '2016_05_11_15_41_46',\n",
       " 'content': '+Aaron Richmond Ben is smarter than Milo.',\n",
       " 'date_scrape': '2018_12_11_04_36_27'}"
      ]
     },
     "metadata": {},
     "output_type": "display_data"
    },
    {
     "data": {
      "text/plain": [
       "{'video_id': 'UfxIf3frJuE',\n",
       " 'video': 0,\n",
       " 'comment': 0,\n",
       " 'reply': 1,\n",
       " 'comment_op': 'BlackGreninja1',\n",
       " 'reply_op': 'John Kelly',\n",
       " 'date_posted': '2016_05_08_17_03_58',\n",
       " 'content': 'Na Ben has more about him then saying how gay he is and how much he likes black dick. While Ben has complex debate and thoughts',\n",
       " 'date_scrape': '2018_12_11_04_36_27'}"
      ]
     },
     "metadata": {},
     "output_type": "display_data"
    },
    {
     "data": {
      "text/plain": [
       "'True'"
      ]
     },
     "metadata": {},
     "output_type": "display_data"
    },
    {
     "data": {
      "text/plain": [
       "3"
      ]
     },
     "metadata": {},
     "output_type": "display_data"
    },
    {
     "data": {
      "text/plain": [
       "{'video_id': 'UfxIf3frJuE',\n",
       " 'video': 0,\n",
       " 'comment': 0,\n",
       " 'reply': 1,\n",
       " 'comment_op': 'BlackGreninja1',\n",
       " 'reply_op': 'Zajecik',\n",
       " 'date_posted': '2016_05_06_14_32_55',\n",
       " 'content': '+John Freeman Not important... or you think that it is okay to generalize jews?',\n",
       " 'date_scrape': '2018_12_11_04_36_27'}"
      ]
     },
     "metadata": {},
     "output_type": "display_data"
    },
    {
     "data": {
      "text/plain": [
       "{'video_id': 'UfxIf3frJuE',\n",
       " 'video': 0,\n",
       " 'comment': 0,\n",
       " 'reply': 1,\n",
       " 'comment_op': 'BlackGreninja1',\n",
       " 'reply_op': 'John Freeman',\n",
       " 'date_posted': '2016_05_06_14_28_57',\n",
       " 'content': 'who talked about jews?',\n",
       " 'date_scrape': '2018_12_11_04_36_27'}"
      ]
     },
     "metadata": {},
     "output_type": "display_data"
    },
    {
     "data": {
      "text/plain": [
       "{'video_id': 'UfxIf3frJuE',\n",
       " 'video': 0,\n",
       " 'comment': 0,\n",
       " 'reply': 1,\n",
       " 'comment_op': 'BlackGreninja1',\n",
       " 'reply_op': 'Zajecik',\n",
       " 'date_posted': '2016_05_06_13_41_31',\n",
       " 'content': '+John Freeman \"Trump supporters are mostly idiotic\", but then you decry generalizations about jews. Pathetic.',\n",
       " 'date_scrape': '2018_12_11_04_36_27'}"
      ]
     },
     "metadata": {},
     "output_type": "display_data"
    },
    {
     "data": {
      "text/plain": [
       "'True'"
      ]
     },
     "metadata": {},
     "output_type": "display_data"
    },
    {
     "data": {
      "text/plain": [
       "4"
      ]
     },
     "metadata": {},
     "output_type": "display_data"
    },
    {
     "data": {
      "text/plain": [
       "{'video_id': 'UfxIf3frJuE',\n",
       " 'video': 0,\n",
       " 'comment': 0,\n",
       " 'reply': 1,\n",
       " 'comment_op': 'BlackGreninja1',\n",
       " 'reply_op': 'Chad Rupprecht',\n",
       " 'date_posted': '2016_05_11_13_02_29',\n",
       " 'content': \"+Zajecik So smarty pants...What happens to plant life when CO2 levels drop in half of what they are? CO2 is actually an important resource for plant life that has slowly been removed from the atmosphere for millions of years. Thankfully organic life releases CO2 back into the atmosphere, or plants would have starved themselves to death long ago. Removing all the CO2 from the atmosphere and asphyxiating (in essence). Mother nature often kills off organic creatures, so humans aren't the only threat to survival. Mother nature has killed off 99% of all species that have ever existed.\",\n",
       " 'date_scrape': '2018_12_11_04_36_27'}"
      ]
     },
     "metadata": {},
     "output_type": "display_data"
    },
    {
     "data": {
      "text/plain": [
       "{'video_id': 'UfxIf3frJuE',\n",
       " 'video': 0,\n",
       " 'comment': 0,\n",
       " 'reply': 1,\n",
       " 'comment_op': 'BlackGreninja1',\n",
       " 'reply_op': 'Zajecik',\n",
       " 'date_posted': '2016_05_06_14_29_53',\n",
       " 'content': '+The human shrug. Are you serious in your efforts to paint high CO2 emissions as a good thing?',\n",
       " 'date_scrape': '2018_12_11_04_36_27'}"
      ]
     },
     "metadata": {},
     "output_type": "display_data"
    },
    {
     "data": {
      "text/plain": [
       "{'video_id': 'UfxIf3frJuE',\n",
       " 'video': 0,\n",
       " 'comment': 0,\n",
       " 'reply': 1,\n",
       " 'comment_op': 'BlackGreninja1',\n",
       " 'reply_op': 'The human shrug.',\n",
       " 'date_posted': '2016_05_06_14_15_20',\n",
       " 'content': \"+Zajecik Now there's a non sequitur. We can either have a conversation on the earths climate, or the destruction of the world economy via carbon tax. The two are not equivalent. \\n\\n...aaand then there's NASA putting lie to the greatest scam in human history that CO2 is a pollutant.\\nhttp://www.nasa.gov/feature/goddard/2016/carbon-dioxide-fertilization-greening-earth\",\n",
       " 'date_scrape': '2018_12_11_04_36_27'}"
      ]
     },
     "metadata": {},
     "output_type": "display_data"
    },
    {
     "data": {
      "text/plain": [
       "{'video_id': 'UfxIf3frJuE',\n",
       " 'video': 0,\n",
       " 'comment': 0,\n",
       " 'reply': 1,\n",
       " 'comment_op': 'BlackGreninja1',\n",
       " 'reply_op': 'Zajecik',\n",
       " 'date_posted': '2016_05_06_13_40_25',\n",
       " 'content': \"+The human shrug. Unless you can disprove the fact that carbon emissions increase earth's temperature or that free market will be able to do a better job at decreasing it, you are just an anarchist shill.\",\n",
       " 'date_scrape': '2018_12_11_04_36_27'}"
      ]
     },
     "metadata": {},
     "output_type": "display_data"
    },
    {
     "data": {
      "text/plain": [
       "'True'"
      ]
     },
     "metadata": {},
     "output_type": "display_data"
    },
    {
     "data": {
      "text/plain": [
       "3"
      ]
     },
     "metadata": {},
     "output_type": "display_data"
    },
    {
     "data": {
      "text/plain": [
       "{'video_id': 'UfxIf3frJuE',\n",
       " 'video': 0,\n",
       " 'comment': 0,\n",
       " 'reply': 1,\n",
       " 'comment_op': 'BlackGreninja1',\n",
       " 'reply_op': 'Christoph13131',\n",
       " 'date_posted': '2016_05_05_10_47_12',\n",
       " 'content': \"+D Bruce He's been critical of Trump for months. Check out some previous episodes of the Ben Shapiro Show. He's also harshly criticized Trump while speaking at various colleges.\",\n",
       " 'date_scrape': '2018_12_11_04_36_27'}"
      ]
     },
     "metadata": {},
     "output_type": "display_data"
    },
    {
     "data": {
      "text/plain": [
       "{'video_id': 'UfxIf3frJuE',\n",
       " 'video': 0,\n",
       " 'comment': 0,\n",
       " 'reply': 1,\n",
       " 'comment_op': 'BlackGreninja1',\n",
       " 'reply_op': 'D Bruce',\n",
       " 'date_posted': '2016_05_05_03_21_12',\n",
       " 'content': \"+Christoph13131\\nWhy didn't. I hear?\",\n",
       " 'date_scrape': '2018_12_11_04_36_27'}"
      ]
     },
     "metadata": {},
     "output_type": "display_data"
    },
    {
     "data": {
      "text/plain": [
       "{'video_id': 'UfxIf3frJuE',\n",
       " 'video': 0,\n",
       " 'comment': 0,\n",
       " 'reply': 1,\n",
       " 'comment_op': 'BlackGreninja1',\n",
       " 'reply_op': 'Christoph13131',\n",
       " 'date_posted': '2016_05_04_22_18_59',\n",
       " 'content': '+D Bruce He did. A lot.',\n",
       " 'date_scrape': '2018_12_11_04_36_27'}"
      ]
     },
     "metadata": {},
     "output_type": "display_data"
    },
    {
     "data": {
      "text/plain": [
       "'True'"
      ]
     },
     "metadata": {},
     "output_type": "display_data"
    },
    {
     "data": {
      "text/plain": [
       "5"
      ]
     },
     "metadata": {},
     "output_type": "display_data"
    },
    {
     "data": {
      "text/plain": [
       "{'video_id': 'UfxIf3frJuE',\n",
       " 'video': 0,\n",
       " 'comment': 0,\n",
       " 'reply': 1,\n",
       " 'comment_op': 'BlackGreninja1',\n",
       " 'reply_op': 'Tzvi Berkowitz',\n",
       " 'date_posted': '2016_05_12_13_05_11',\n",
       " 'content': '+buybuydandavis Well yeah, he should vote for Trump.',\n",
       " 'date_scrape': '2018_12_11_04_36_27'}"
      ]
     },
     "metadata": {},
     "output_type": "display_data"
    },
    {
     "data": {
      "text/plain": [
       "{'video_id': 'UfxIf3frJuE',\n",
       " 'video': 0,\n",
       " 'comment': 0,\n",
       " 'reply': 1,\n",
       " 'comment_op': 'BlackGreninja1',\n",
       " 'reply_op': 'buybuydandavis',\n",
       " 'date_posted': '2016_05_11_23_42_01',\n",
       " 'content': \"+Tzvi Berkowitz He prefers Hillary's leftist policies in the US, because they're so much better.\",\n",
       " 'date_scrape': '2018_12_11_04_36_27'}"
      ]
     },
     "metadata": {},
     "output_type": "display_data"
    },
    {
     "data": {
      "text/plain": [
       "{'video_id': 'UfxIf3frJuE',\n",
       " 'video': 0,\n",
       " 'comment': 0,\n",
       " 'reply': 1,\n",
       " 'comment_op': 'BlackGreninja1',\n",
       " 'reply_op': 'Tzvi Berkowitz',\n",
       " 'date_posted': '2016_05_11_15_40_34',\n",
       " 'content': \"+OverwelmingTriumphnt Shapiro care about more than just Israel. He doesn't want Trump's leftist policies in the US.\",\n",
       " 'date_scrape': '2018_12_11_04_36_27'}"
      ]
     },
     "metadata": {},
     "output_type": "display_data"
    },
    {
     "data": {
      "text/plain": [
       "{'video_id': 'UfxIf3frJuE',\n",
       " 'video': 0,\n",
       " 'comment': 0,\n",
       " 'reply': 1,\n",
       " 'comment_op': 'BlackGreninja1',\n",
       " 'reply_op': 'MrHappyBollox',\n",
       " 'date_posted': '2016_05_05_18_19_07',\n",
       " 'content': \"+buybuydandavis It's much easier to win the party nomination than it is to win the election. Republicans have picked their favourite Republican, and you surely realise how divisive Trump has been for the party. So that's all Hillary supporters and probably a very large number of anti-Trump voters, versus Trump supporters.\\n\\nAre there enough short-sighted inbred rednecks to overcome those odds? I think not.\",\n",
       " 'date_scrape': '2018_12_11_04_36_27'}"
      ]
     },
     "metadata": {},
     "output_type": "display_data"
    },
    {
     "data": {
      "text/plain": [
       "{'video_id': 'UfxIf3frJuE',\n",
       " 'video': 0,\n",
       " 'comment': 0,\n",
       " 'reply': 1,\n",
       " 'comment_op': 'BlackGreninja1',\n",
       " 'reply_op': 'OverwelmingTriumphnt',\n",
       " 'date_posted': '2016_05_05_15_16_11',\n",
       " 'content': \"good point! when you consider trumps support of Israel, it doesn't make sense for Jews like Shapiro to not support him. If anything Trump would be more reasonable then Hillary with regards to supporting Jews in the middle east. I can guarantee that.\",\n",
       " 'date_scrape': '2018_12_11_04_36_27'}"
      ]
     },
     "metadata": {},
     "output_type": "display_data"
    },
    {
     "data": {
      "text/plain": [
       "'True'"
      ]
     },
     "metadata": {},
     "output_type": "display_data"
    },
    {
     "data": {
      "text/plain": [
       "14"
      ]
     },
     "metadata": {},
     "output_type": "display_data"
    },
    {
     "data": {
      "text/plain": [
       "{'video_id': 'UfxIf3frJuE',\n",
       " 'video': 0,\n",
       " 'comment': 0,\n",
       " 'reply': 1,\n",
       " 'comment_op': 'BlackGreninja1',\n",
       " 'reply_op': 'BT',\n",
       " 'date_posted': '2016_05_26_20_40_02',\n",
       " 'content': 'the U.S. Has never fought a war for Israel with their own troops. Trumps idiotic neutral stance on Israel is the same moral relativism we see with the left. Trump had however, as always, changed his position on Israel.',\n",
       " 'date_scrape': '2018_12_11_04_36_27'}"
      ]
     },
     "metadata": {},
     "output_type": "display_data"
    },
    {
     "data": {
      "text/plain": [
       "{'video_id': 'UfxIf3frJuE',\n",
       " 'video': 0,\n",
       " 'comment': 0,\n",
       " 'reply': 1,\n",
       " 'comment_op': 'BlackGreninja1',\n",
       " 'reply_op': 'V. •',\n",
       " 'date_posted': '2016_05_04_14_22_43',\n",
       " 'content': \"+Jay See Man you really are an idiot. I'm not putting Israel before this country. You could get off the internet, and quit assuming shit. You're a waste of my time.\",\n",
       " 'date_scrape': '2018_12_11_04_36_27'}"
      ]
     },
     "metadata": {},
     "output_type": "display_data"
    },
    {
     "data": {
      "text/plain": [
       "{'video_id': 'UfxIf3frJuE',\n",
       " 'video': 0,\n",
       " 'comment': 0,\n",
       " 'reply': 1,\n",
       " 'comment_op': 'BlackGreninja1',\n",
       " 'reply_op': 'Jay See',\n",
       " 'date_posted': '2016_05_04_12_32_31',\n",
       " 'content': '+Estel - An Israel firster evangelical? You do realize using selective Biblical passages to justify putting the needs of a small strip of land in the desert over your own country and its people is somewhat ridiculous?',\n",
       " 'date_scrape': '2018_12_11_04_36_27'}"
      ]
     },
     "metadata": {},
     "output_type": "display_data"
    },
    {
     "data": {
      "text/plain": [
       "{'video_id': 'UfxIf3frJuE',\n",
       " 'video': 0,\n",
       " 'comment': 0,\n",
       " 'reply': 1,\n",
       " 'comment_op': 'BlackGreninja1',\n",
       " 'reply_op': 'V. •',\n",
       " 'date_posted': '2016_05_04_12_16_19',\n",
       " 'content': \"+Jay See Not Jewish. Not even in ethnicity. I'm a Christian. You've bought into lies from the left.\",\n",
       " 'date_scrape': '2018_12_11_04_36_27'}"
      ]
     },
     "metadata": {},
     "output_type": "display_data"
    },
    {
     "data": {
      "text/plain": [
       "{'video_id': 'UfxIf3frJuE',\n",
       " 'video': 0,\n",
       " 'comment': 0,\n",
       " 'reply': 1,\n",
       " 'comment_op': 'BlackGreninja1',\n",
       " 'reply_op': 'Jay See',\n",
       " 'date_posted': '2016_05_04_12_10_05',\n",
       " 'content': \"+Estel - I'm guessing you are Jewish as that is the only way anyone considers these actions acceptable and makes excuses for them.\\n\\nTime to decide, Israel or America.\",\n",
       " 'date_scrape': '2018_12_11_04_36_27'}"
      ]
     },
     "metadata": {},
     "output_type": "display_data"
    },
    {
     "data": {
      "text/plain": [
       "'True'"
      ]
     },
     "metadata": {},
     "output_type": "display_data"
    },
    {
     "data": {
      "text/plain": [
       "12"
      ]
     },
     "metadata": {},
     "output_type": "display_data"
    },
    {
     "data": {
      "text/plain": [
       "{'video_id': 'UfxIf3frJuE',\n",
       " 'video': 0,\n",
       " 'comment': 0,\n",
       " 'reply': 1,\n",
       " 'comment_op': 'BlackGreninja1',\n",
       " 'reply_op': '夢星Social Kid',\n",
       " 'date_posted': '2016_05_08_00_10_05',\n",
       " 'content': \"+Zajecik I mean, here's the real deal. If trump wins, a lot of people will start looking down on conservatives and republicans. They'll do this because trump is rude and not at all a leader. None of the other republican candidates like this man, the liberals hate him even more. People will probably be so sick of him, they'll elect a very left liberal next term. This happened with W Bush, Obama was elected afterwords, a vey liberal president. You have people like Bernie Sanders coming out now, which make Obama looking conservative. Think about the future. Oh an, if Hilary wins........... You don't want that.\\n\\nI mean I guess Trump isn't that bad, I wish Rand Paul did better.\",\n",
       " 'date_scrape': '2018_12_11_04_36_27'}"
      ]
     },
     "metadata": {},
     "output_type": "display_data"
    },
    {
     "data": {
      "text/plain": [
       "{'video_id': 'UfxIf3frJuE',\n",
       " 'video': 0,\n",
       " 'comment': 0,\n",
       " 'reply': 1,\n",
       " 'comment_op': 'BlackGreninja1',\n",
       " 'reply_op': 'Zajecik',\n",
       " 'date_posted': '2016_05_06_13_43_49',\n",
       " 'content': '+Angel Maleficus It is easily the best time to be an American.',\n",
       " 'date_scrape': '2018_12_11_04_36_27'}"
      ]
     },
     "metadata": {},
     "output_type": "display_data"
    },
    {
     "data": {
      "text/plain": [
       "{'video_id': 'UfxIf3frJuE',\n",
       " 'video': 0,\n",
       " 'comment': 0,\n",
       " 'reply': 1,\n",
       " 'comment_op': 'BlackGreninja1',\n",
       " 'reply_op': '夢星Social Kid',\n",
       " 'date_posted': '2016_05_05_19_17_00',\n",
       " 'content': '+Christoph13131 I Guess, or if Bernie wins, could just vote for Bernie as retaliation and punishment, then dip and leave the country.',\n",
       " 'date_scrape': '2018_12_11_04_36_27'}"
      ]
     },
     "metadata": {},
     "output_type": "display_data"
    },
    {
     "data": {
      "text/plain": [
       "{'video_id': 'UfxIf3frJuE',\n",
       " 'video': 0,\n",
       " 'comment': 0,\n",
       " 'reply': 1,\n",
       " 'comment_op': 'BlackGreninja1',\n",
       " 'reply_op': 'Christoph13131',\n",
       " 'date_posted': '2016_05_05_10_47_42',\n",
       " 'content': '+Angel Maleficus Vote Libertarian in protest?',\n",
       " 'date_scrape': '2018_12_11_04_36_27'}"
      ]
     },
     "metadata": {},
     "output_type": "display_data"
    },
    {
     "data": {
      "text/plain": [
       "{'video_id': 'UfxIf3frJuE',\n",
       " 'video': 0,\n",
       " 'comment': 0,\n",
       " 'reply': 1,\n",
       " 'comment_op': 'BlackGreninja1',\n",
       " 'reply_op': 'Folopolis',\n",
       " 'date_posted': '2016_05_05_04_56_20',\n",
       " 'content': '+Angel Maleficus Vote for Austin Petersen or Gary Johnson and then hope that the government ends up so divided that nothing happens.',\n",
       " 'date_scrape': '2018_12_11_04_36_27'}"
      ]
     },
     "metadata": {},
     "output_type": "display_data"
    },
    {
     "data": {
      "text/plain": [
       "'True'"
      ]
     },
     "metadata": {},
     "output_type": "display_data"
    },
    {
     "data": {
      "text/plain": [
       "2"
      ]
     },
     "metadata": {},
     "output_type": "display_data"
    },
    {
     "data": {
      "text/plain": [
       "{'video_id': 'UfxIf3frJuE',\n",
       " 'video': 0,\n",
       " 'comment': 0,\n",
       " 'reply': 1,\n",
       " 'comment_op': 'BlackGreninja1',\n",
       " 'reply_op': 'M T',\n",
       " 'date_posted': '2017_10_08_15_19_01',\n",
       " 'content': 'Is this the nimrod from the clip? \"What do you like about Donald?\"\\n\\n\"EVERERY-THANG! \\nLYIN\\' TED!\"',\n",
       " 'date_scrape': '2018_12_11_04_36_27'}"
      ]
     },
     "metadata": {},
     "output_type": "display_data"
    },
    {
     "data": {
      "text/plain": [
       "{'video_id': 'UfxIf3frJuE',\n",
       " 'video': 0,\n",
       " 'comment': 0,\n",
       " 'reply': 1,\n",
       " 'comment_op': 'BlackGreninja1',\n",
       " 'reply_op': 'John Kelly',\n",
       " 'date_posted': '2016_05_08_17_05_17',\n",
       " 'content': \"Wow great debate mate you really are special. Why don't you go back to your stupid trump pages\",\n",
       " 'date_scrape': '2018_12_11_04_36_27'}"
      ]
     },
     "metadata": {},
     "output_type": "display_data"
    },
    {
     "data": {
      "text/plain": [
       "'True'"
      ]
     },
     "metadata": {},
     "output_type": "display_data"
    },
    {
     "data": {
      "text/plain": [
       "19"
      ]
     },
     "metadata": {},
     "output_type": "display_data"
    },
    {
     "data": {
      "text/plain": [
       "{'video_id': 'UfxIf3frJuE',\n",
       " 'video': 0,\n",
       " 'comment': 0,\n",
       " 'reply': 1,\n",
       " 'comment_op': 'BlackGreninja1',\n",
       " 'reply_op': 'Ryan Croy',\n",
       " 'date_posted': '2018_10_18_20_30_23',\n",
       " 'content': 'Goodness. 2 years ago and today were completely different worlds.',\n",
       " 'date_scrape': '2018_12_11_04_36_27'}"
      ]
     },
     "metadata": {},
     "output_type": "display_data"
    },
    {
     "data": {
      "text/plain": [
       "{'video_id': 'UfxIf3frJuE',\n",
       " 'video': 0,\n",
       " 'comment': 0,\n",
       " 'reply': 1,\n",
       " 'comment_op': 'BlackGreninja1',\n",
       " 'reply_op': 'IMurderdTheDevil',\n",
       " 'date_posted': '2016_05_08_16_02_35',\n",
       " 'content': '+Christian Bruvah I am paying more attention than most of you. why are you voting\\xa0for democrat like trump?\\xa0',\n",
       " 'date_scrape': '2018_12_11_04_36_27'}"
      ]
     },
     "metadata": {},
     "output_type": "display_data"
    },
    {
     "data": {
      "text/plain": [
       "{'video_id': 'UfxIf3frJuE',\n",
       " 'video': 0,\n",
       " 'comment': 0,\n",
       " 'reply': 1,\n",
       " 'comment_op': 'BlackGreninja1',\n",
       " 'reply_op': 'Christian Bruvah',\n",
       " 'date_posted': '2016_05_08_11_37_12',\n",
       " 'content': '+IMurderdTheDevil but Benji is no conservative, he proved that with the Michelle Fields scam. \\n\\nAre you not paying attention? Michelle Fields scam... promoted by Benji.',\n",
       " 'date_scrape': '2018_12_11_04_36_27'}"
      ]
     },
     "metadata": {},
     "output_type": "display_data"
    },
    {
     "data": {
      "text/plain": [
       "{'video_id': 'UfxIf3frJuE',\n",
       " 'video': 0,\n",
       " 'comment': 0,\n",
       " 'reply': 1,\n",
       " 'comment_op': 'BlackGreninja1',\n",
       " 'reply_op': 'Zajecik',\n",
       " 'date_posted': '2016_05_08_04_17_33',\n",
       " 'content': '+IMurderdTheDevil You are so done... it is literally depressing just reading your comments and seeing how you slowly fold and have nothing but insults and your cult arguments in your backpack.\\n\\nTrump is planning to repeal Obamacare and replacing it with free market oriented alternative. \\n\\nRead more on his website or here...\\n\\nhttps://www.reddit.com/r/The_Donald/comments/48tyvr/i_work_in_the_healthcarepharma_industry_and_here/',\n",
       " 'date_scrape': '2018_12_11_04_36_27'}"
      ]
     },
     "metadata": {},
     "output_type": "display_data"
    },
    {
     "data": {
      "text/plain": [
       "{'video_id': 'UfxIf3frJuE',\n",
       " 'video': 0,\n",
       " 'comment': 0,\n",
       " 'reply': 1,\n",
       " 'comment_op': 'BlackGreninja1',\n",
       " 'reply_op': 'IMurderdTheDevil',\n",
       " 'date_posted': '2016_05_07_18_45_46',\n",
       " 'content': \"+Zajecik You can't even justify being so stupid and voting against your principles for someone who wants to expand Obamacare and does not respect the 2nd amendment in the slightest.????? you got to be shitting me shit for brains... LOL! you are a RETARD! embarrassing dumbass you really do know anything do you? Stand behind trump the man who wants government to pay for health care, the man who is a democrat, the man who is a democrat in the republican party, is that the guy you're talking about?\",\n",
       " 'date_scrape': '2018_12_11_04_36_27'}"
      ]
     },
     "metadata": {},
     "output_type": "display_data"
    },
    {
     "data": {
      "text/plain": [
       "'True'"
      ]
     },
     "metadata": {},
     "output_type": "display_data"
    },
    {
     "data": {
      "text/plain": [
       "2"
      ]
     },
     "metadata": {},
     "output_type": "display_data"
    },
    {
     "data": {
      "text/plain": [
       "{'video_id': 'UfxIf3frJuE',\n",
       " 'video': 0,\n",
       " 'comment': 0,\n",
       " 'reply': 1,\n",
       " 'comment_op': 'BlackGreninja1',\n",
       " 'reply_op': 'M T',\n",
       " 'date_posted': '2017_10_08_15_17_03',\n",
       " 'content': \"Facts don't care about your feelings.\",\n",
       " 'date_scrape': '2018_12_11_04_36_27'}"
      ]
     },
     "metadata": {},
     "output_type": "display_data"
    },
    {
     "data": {
      "text/plain": [
       "{'video_id': 'UfxIf3frJuE',\n",
       " 'video': 0,\n",
       " 'comment': 0,\n",
       " 'reply': 1,\n",
       " 'comment_op': 'BlackGreninja1',\n",
       " 'reply_op': 'Matal',\n",
       " 'date_posted': '2016_05_06_09_18_47',\n",
       " 'content': 'Yea, people could care less, they could react to his commentary in the way people react to your channel.',\n",
       " 'date_scrape': '2018_12_11_04_36_27'}"
      ]
     },
     "metadata": {},
     "output_type": "display_data"
    },
    {
     "data": {
      "text/plain": [
       "'True'"
      ]
     },
     "metadata": {},
     "output_type": "display_data"
    },
    {
     "data": {
      "text/plain": [
       "9"
      ]
     },
     "metadata": {},
     "output_type": "display_data"
    },
    {
     "data": {
      "text/plain": [
       "{'video_id': 'UfxIf3frJuE',\n",
       " 'video': 0,\n",
       " 'comment': 0,\n",
       " 'reply': 1,\n",
       " 'comment_op': 'BlackGreninja1',\n",
       " 'reply_op': 'Matal',\n",
       " 'date_posted': '2016_05_06_08_48_24',\n",
       " 'content': \"+Iron Mark please don't reproduce\",\n",
       " 'date_scrape': '2018_12_11_04_36_27'}"
      ]
     },
     "metadata": {},
     "output_type": "display_data"
    },
    {
     "data": {
      "text/plain": [
       "{'video_id': 'UfxIf3frJuE',\n",
       " 'video': 0,\n",
       " 'comment': 0,\n",
       " 'reply': 1,\n",
       " 'comment_op': 'BlackGreninja1',\n",
       " 'reply_op': 'Iron Mark',\n",
       " 'date_posted': '2016_05_04_05_31_18',\n",
       " 'content': \"+Estel - He's out, so it don't matter anymore. \\nI just would never vote for someone Other than a native of this country - someone born on this land to legal citizens. Right now our choice is Trump or Hillary and i don't like useless wars so i know who's getting a vote in tthis!\",\n",
       " 'date_scrape': '2018_12_11_04_36_27'}"
      ]
     },
     "metadata": {},
     "output_type": "display_data"
    },
    {
     "data": {
      "text/plain": [
       "{'video_id': 'UfxIf3frJuE',\n",
       " 'video': 0,\n",
       " 'comment': 0,\n",
       " 'reply': 1,\n",
       " 'comment_op': 'BlackGreninja1',\n",
       " 'reply_op': 'V. •',\n",
       " 'date_posted': '2016_05_03_22_15_03',\n",
       " 'content': \"+Iron Mark I understand your worry, but I don't like birthers. Cruz was actually fine to run, all restrictions he really passes. The future is something understandable to fear for when it comes to who can become president. Leftists will fuck it all up.\",\n",
       " 'date_scrape': '2018_12_11_04_36_27'}"
      ]
     },
     "metadata": {},
     "output_type": "display_data"
    },
    {
     "data": {
      "text/plain": [
       "{'video_id': 'UfxIf3frJuE',\n",
       " 'video': 0,\n",
       " 'comment': 0,\n",
       " 'reply': 1,\n",
       " 'comment_op': 'BlackGreninja1',\n",
       " 'reply_op': 'Iron Mark',\n",
       " 'date_posted': '2016_05_03_17_54_12',\n",
       " 'content': \"+Estel - Im not being sarcastic, next election, we can elect a Syrian born Ahmed Cruz, or why not, a Mexican El Cruzo. \\nOh, but he'd be naturalized, his mom will be american, he'd have dual citizen ship, he'll denounce his Syrian citizenship and it'll be great, Sure he was born in Aleppo, but he's american!\",\n",
       " 'date_scrape': '2018_12_11_04_36_27'}"
      ]
     },
     "metadata": {},
     "output_type": "display_data"
    },
    {
     "data": {
      "text/plain": [
       "{'video_id': 'UfxIf3frJuE',\n",
       " 'video': 0,\n",
       " 'comment': 0,\n",
       " 'reply': 1,\n",
       " 'comment_op': 'BlackGreninja1',\n",
       " 'reply_op': 'V. •',\n",
       " 'date_posted': '2016_05_03_17_48_35',\n",
       " 'content': '+Iron Mark lol dude honestly just fucking read the constitution fully.',\n",
       " 'date_scrape': '2018_12_11_04_36_27'}"
      ]
     },
     "metadata": {},
     "output_type": "display_data"
    },
    {
     "data": {
      "text/plain": [
       "'True'"
      ]
     },
     "metadata": {},
     "output_type": "display_data"
    },
    {
     "data": {
      "text/plain": [
       "7"
      ]
     },
     "metadata": {},
     "output_type": "display_data"
    },
    {
     "data": {
      "text/plain": [
       "{'video_id': 'UfxIf3frJuE',\n",
       " 'video': 0,\n",
       " 'comment': 0,\n",
       " 'reply': 1,\n",
       " 'comment_op': 'BlackGreninja1',\n",
       " 'reply_op': 'V. •',\n",
       " 'date_posted': '2016_05_04_05_33_45',\n",
       " 'content': \"+Iron Mark no, she didn't.\",\n",
       " 'date_scrape': '2018_12_11_04_36_27'}"
      ]
     },
     "metadata": {},
     "output_type": "display_data"
    },
    {
     "data": {
      "text/plain": [
       "{'video_id': 'UfxIf3frJuE',\n",
       " 'video': 0,\n",
       " 'comment': 0,\n",
       " 'reply': 1,\n",
       " 'comment_op': 'BlackGreninja1',\n",
       " 'reply_op': 'Iron Mark',\n",
       " 'date_posted': '2016_05_04_05_33_08',\n",
       " 'content': '+Estel - She smeared herself when she lied and made it sound like she was being assaulted by brock lesnar',\n",
       " 'date_scrape': '2018_12_11_04_36_27'}"
      ]
     },
     "metadata": {},
     "output_type": "display_data"
    },
    {
     "data": {
      "text/plain": [
       "{'video_id': 'UfxIf3frJuE',\n",
       " 'video': 0,\n",
       " 'comment': 0,\n",
       " 'reply': 1,\n",
       " 'comment_op': 'BlackGreninja1',\n",
       " 'reply_op': 'The Opened Mind',\n",
       " 'date_posted': '2016_05_04_02_14_17',\n",
       " 'content': \"That's still not going to make her arm grow back.\",\n",
       " 'date_scrape': '2018_12_11_04_36_27'}"
      ]
     },
     "metadata": {},
     "output_type": "display_data"
    },
    {
     "data": {
      "text/plain": [
       "{'video_id': 'UfxIf3frJuE',\n",
       " 'video': 0,\n",
       " 'comment': 0,\n",
       " 'reply': 1,\n",
       " 'comment_op': 'BlackGreninja1',\n",
       " 'reply_op': 'V. •',\n",
       " 'date_posted': '2016_05_03_22_17_52',\n",
       " 'content': 'When she was right to request an apology and memorialize it in a police report',\n",
       " 'date_scrape': '2018_12_11_04_36_27'}"
      ]
     },
     "metadata": {},
     "output_type": "display_data"
    },
    {
     "data": {
      "text/plain": [
       "{'video_id': 'UfxIf3frJuE',\n",
       " 'video': 0,\n",
       " 'comment': 0,\n",
       " 'reply': 1,\n",
       " 'comment_op': 'BlackGreninja1',\n",
       " 'reply_op': 'V. •',\n",
       " 'date_posted': '2016_05_03_22_16_46',\n",
       " 'content': 'The problem was how they smeared her name and destroyed her reputation.',\n",
       " 'date_scrape': '2018_12_11_04_36_27'}"
      ]
     },
     "metadata": {},
     "output_type": "display_data"
    },
    {
     "data": {
      "text/plain": [
       "'True'"
      ]
     },
     "metadata": {},
     "output_type": "display_data"
    },
    {
     "data": {
      "text/plain": [
       "3"
      ]
     },
     "metadata": {},
     "output_type": "display_data"
    },
    {
     "data": {
      "text/plain": [
       "{'video_id': 'UfxIf3frJuE',\n",
       " 'video': 0,\n",
       " 'comment': 0,\n",
       " 'reply': 1,\n",
       " 'comment_op': 'BlackGreninja1',\n",
       " 'reply_op': 'Christian Bruvah',\n",
       " 'date_posted': '2016_05_08_11_35_37',\n",
       " 'content': '+FayceTwitch Benji is a liar. Michelle Fields scam will haunt this cunt forever.',\n",
       " 'date_scrape': '2018_12_11_04_36_27'}"
      ]
     },
     "metadata": {},
     "output_type": "display_data"
    },
    {
     "data": {
      "text/plain": [
       "{'video_id': 'UfxIf3frJuE',\n",
       " 'video': 0,\n",
       " 'comment': 0,\n",
       " 'reply': 1,\n",
       " 'comment_op': 'BlackGreninja1',\n",
       " 'reply_op': 'Famas',\n",
       " 'date_posted': '2016_05_05_12_20_48',\n",
       " 'content': '+Ben Shapiro Thug Life\\nHow\\'s that \"constitutional conservativism\" been working out for you guys? Haha. The train has arrived.',\n",
       " 'date_scrape': '2018_12_11_04_36_27'}"
      ]
     },
     "metadata": {},
     "output_type": "display_data"
    },
    {
     "data": {
      "text/plain": [
       "{'video_id': 'UfxIf3frJuE',\n",
       " 'video': 0,\n",
       " 'comment': 0,\n",
       " 'reply': 1,\n",
       " 'comment_op': 'BlackGreninja1',\n",
       " 'reply_op': 'Ben Shapiro Thug Life',\n",
       " 'date_posted': '2016_05_03_19_07_40',\n",
       " 'content': '+Famas stormfag',\n",
       " 'date_scrape': '2018_12_11_04_36_27'}"
      ]
     },
     "metadata": {},
     "output_type": "display_data"
    },
    {
     "data": {
      "text/plain": [
       "{'video_id': 'UfxIf3frJuE',\n",
       " 'video': 0,\n",
       " 'comment': 0,\n",
       " 'reply': 1,\n",
       " 'comment_op': 'BlackGreninja1',\n",
       " 'reply_op': 'Famas',\n",
       " 'date_posted': '2016_05_03_16_04_31',\n",
       " 'content': '+FayceTwitch cuck',\n",
       " 'date_scrape': '2018_12_11_04_36_27'}"
      ]
     },
     "metadata": {},
     "output_type": "display_data"
    },
    {
     "data": {
      "text/plain": [
       "'True'"
      ]
     },
     "metadata": {},
     "output_type": "display_data"
    },
    {
     "data": {
      "text/plain": [
       "2"
      ]
     },
     "metadata": {},
     "output_type": "display_data"
    },
    {
     "data": {
      "text/plain": [
       "{'video_id': 'UfxIf3frJuE',\n",
       " 'video': 0,\n",
       " 'comment': 0,\n",
       " 'reply': 1,\n",
       " 'comment_op': 'BlackGreninja1',\n",
       " 'reply_op': 'Ryan Rebischke',\n",
       " 'date_posted': '2016_05_23_17_25_48',\n",
       " 'content': \"+cazinger I completely agree!  i couldn't figure out where he went!\",\n",
       " 'date_scrape': '2018_12_11_04_36_27'}"
      ]
     },
     "metadata": {},
     "output_type": "display_data"
    },
    {
     "data": {
      "text/plain": [
       "{'video_id': 'UfxIf3frJuE',\n",
       " 'video': 0,\n",
       " 'comment': 0,\n",
       " 'reply': 1,\n",
       " 'comment_op': 'BlackGreninja1',\n",
       " 'reply_op': 'cazinger',\n",
       " 'date_posted': '2016_05_10_20_30_24',\n",
       " 'content': '+Alex McBrayer \\nI would just ask that next time he switches from posting these videos under one channel to another channel, it would be nice if he posted something under the old channel telling people where to find his new videos.',\n",
       " 'date_scrape': '2018_12_11_04_36_27'}"
      ]
     },
     "metadata": {},
     "output_type": "display_data"
    }
   ],
   "source": [
    "for comment_ind in result_comments['items']:\n",
    "    # display(comment_ind)\n",
    "    if comment_ind['snippet']['totalReplyCount']>1:\n",
    "        display('True')\n",
    "        display(comment_ind['snippet']['totalReplyCount'])\n",
    "        for reply_result in comment_ind['replies']['comments']:\n",
    "            reply_op = reply_result['snippet']['authorDisplayName']\n",
    "            reply_content = reply_result['snippet']['textOriginal']\n",
    "            reply_date_posted = transform_date_custom(reply_result['snippet']['publishedAt'])\n",
    "            video,comment,reply=set_flags(flag='reply')\n",
    "            x =  { \"video_id\": video_id, \n",
    "                \"video\":video,\"comment\":comment,\"reply\":reply,\n",
    "                \"comment_op\":comment_op,\n",
    "                \"reply_op\":reply_op,\"date_posted\":reply_date_posted,\n",
    "                \"content\":reply_content,\"date_scrape\":date_scrape}  \n",
    "            display(x)\n",
    "    # display()\n",
    "    # display(len(comment_ind['replies']))"
   ]
  },
  {
   "cell_type": "code",
   "execution_count": 384,
   "metadata": {},
   "outputs": [
    {
     "data": {
      "text/plain": [
       "'The Ben Shapiro Show Ep. 110 - Can The Trump Train Turn Hillary Into Roadkill?'"
      ]
     },
     "execution_count": 384,
     "metadata": {},
     "output_type": "execute_result"
    }
   ],
   "source": [
    "video_id\n",
    "my_url\n",
    "video_title"
   ]
  },
  {
   "cell_type": "code",
   "execution_count": 387,
   "metadata": {},
   "outputs": [
    {
     "data": {
      "text/plain": [
       "'BlackGreninja1'"
      ]
     },
     "metadata": {},
     "output_type": "display_data"
    },
    {
     "name": "stdout",
     "output_type": "stream",
     "text": [
      "1 replies\n"
     ]
    },
    {
     "data": {
      "text/plain": [
       "'True'"
      ]
     },
     "metadata": {},
     "output_type": "display_data"
    },
    {
     "data": {
      "text/plain": [
       "1"
      ]
     },
     "metadata": {},
     "output_type": "display_data"
    },
    {
     "data": {
      "text/plain": [
       "'Cj Schneidt'"
      ]
     },
     "metadata": {},
     "output_type": "display_data"
    },
    {
     "name": "stdout",
     "output_type": "stream",
     "text": [
      "0 replies\n"
     ]
    },
    {
     "data": {
      "text/plain": [
       "'leonardo cafferata'"
      ]
     },
     "metadata": {},
     "output_type": "display_data"
    },
    {
     "name": "stdout",
     "output_type": "stream",
     "text": [
      "0 replies\n"
     ]
    },
    {
     "data": {
      "text/plain": [
       "'Rapidz'"
      ]
     },
     "metadata": {},
     "output_type": "display_data"
    },
    {
     "name": "stdout",
     "output_type": "stream",
     "text": [
      "2 replies\n"
     ]
    },
    {
     "data": {
      "text/plain": [
       "'True'"
      ]
     },
     "metadata": {},
     "output_type": "display_data"
    },
    {
     "data": {
      "text/plain": [
       "2"
      ]
     },
     "metadata": {},
     "output_type": "display_data"
    },
    {
     "data": {
      "text/plain": [
       "'Ryan Croy'"
      ]
     },
     "metadata": {},
     "output_type": "display_data"
    },
    {
     "name": "stdout",
     "output_type": "stream",
     "text": [
      "0 replies\n"
     ]
    },
    {
     "data": {
      "text/plain": [
       "'sierraalexis'"
      ]
     },
     "metadata": {},
     "output_type": "display_data"
    },
    {
     "name": "stdout",
     "output_type": "stream",
     "text": [
      "0 replies\n"
     ]
    },
    {
     "data": {
      "text/plain": [
       "'Thatcherite Liberal'"
      ]
     },
     "metadata": {},
     "output_type": "display_data"
    },
    {
     "name": "stdout",
     "output_type": "stream",
     "text": [
      "0 replies\n"
     ]
    },
    {
     "data": {
      "text/plain": [
       "'Lawrence RJ Tate'"
      ]
     },
     "metadata": {},
     "output_type": "display_data"
    },
    {
     "name": "stdout",
     "output_type": "stream",
     "text": [
      "0 replies\n"
     ]
    },
    {
     "data": {
      "text/plain": [
       "'Ryan Croy'"
      ]
     },
     "metadata": {},
     "output_type": "display_data"
    },
    {
     "name": "stdout",
     "output_type": "stream",
     "text": [
      "0 replies\n"
     ]
    },
    {
     "data": {
      "text/plain": [
       "'WarmPotato'"
      ]
     },
     "metadata": {},
     "output_type": "display_data"
    },
    {
     "name": "stdout",
     "output_type": "stream",
     "text": [
      "2 replies\n"
     ]
    },
    {
     "data": {
      "text/plain": [
       "'True'"
      ]
     },
     "metadata": {},
     "output_type": "display_data"
    },
    {
     "data": {
      "text/plain": [
       "2"
      ]
     },
     "metadata": {},
     "output_type": "display_data"
    },
    {
     "data": {
      "text/plain": [
       "'Mike B'"
      ]
     },
     "metadata": {},
     "output_type": "display_data"
    },
    {
     "name": "stdout",
     "output_type": "stream",
     "text": [
      "0 replies\n"
     ]
    },
    {
     "data": {
      "text/plain": [
       "'Mitchell Sheppard'"
      ]
     },
     "metadata": {},
     "output_type": "display_data"
    },
    {
     "name": "stdout",
     "output_type": "stream",
     "text": [
      "0 replies\n"
     ]
    },
    {
     "data": {
      "text/plain": [
       "'M T'"
      ]
     },
     "metadata": {},
     "output_type": "display_data"
    },
    {
     "name": "stdout",
     "output_type": "stream",
     "text": [
      "0 replies\n"
     ]
    },
    {
     "data": {
      "text/plain": [
       "'N0TYALC'"
      ]
     },
     "metadata": {},
     "output_type": "display_data"
    },
    {
     "name": "stdout",
     "output_type": "stream",
     "text": [
      "0 replies\n"
     ]
    },
    {
     "data": {
      "text/plain": [
       "'lil napoleon'"
      ]
     },
     "metadata": {},
     "output_type": "display_data"
    },
    {
     "name": "stdout",
     "output_type": "stream",
     "text": [
      "0 replies\n"
     ]
    },
    {
     "data": {
      "text/plain": [
       "'Laurie'"
      ]
     },
     "metadata": {},
     "output_type": "display_data"
    },
    {
     "name": "stdout",
     "output_type": "stream",
     "text": [
      "0 replies\n"
     ]
    },
    {
     "data": {
      "text/plain": [
       "'WreckItRalph'"
      ]
     },
     "metadata": {},
     "output_type": "display_data"
    },
    {
     "name": "stdout",
     "output_type": "stream",
     "text": [
      "0 replies\n"
     ]
    },
    {
     "data": {
      "text/plain": [
       "'SweatyItalianKing'"
      ]
     },
     "metadata": {},
     "output_type": "display_data"
    },
    {
     "name": "stdout",
     "output_type": "stream",
     "text": [
      "0 replies\n"
     ]
    },
    {
     "data": {
      "text/plain": [
       "'Mike Roulette'"
      ]
     },
     "metadata": {},
     "output_type": "display_data"
    },
    {
     "name": "stdout",
     "output_type": "stream",
     "text": [
      "0 replies\n"
     ]
    },
    {
     "data": {
      "text/plain": [
       "'Armen JS Martin'"
      ]
     },
     "metadata": {},
     "output_type": "display_data"
    },
    {
     "name": "stdout",
     "output_type": "stream",
     "text": [
      "0 replies\n"
     ]
    },
    {
     "data": {
      "text/plain": [
       "'Armen JS Martin'"
      ]
     },
     "metadata": {},
     "output_type": "display_data"
    },
    {
     "name": "stdout",
     "output_type": "stream",
     "text": [
      "0 replies\n"
     ]
    },
    {
     "data": {
      "text/plain": [
       "'WickedS ErvantEbay'"
      ]
     },
     "metadata": {},
     "output_type": "display_data"
    },
    {
     "name": "stdout",
     "output_type": "stream",
     "text": [
      "0 replies\n"
     ]
    },
    {
     "data": {
      "text/plain": [
       "'IMAOwutsURS'"
      ]
     },
     "metadata": {},
     "output_type": "display_data"
    },
    {
     "name": "stdout",
     "output_type": "stream",
     "text": [
      "0 replies\n"
     ]
    },
    {
     "data": {
      "text/plain": [
       "'Gangus Khan'"
      ]
     },
     "metadata": {},
     "output_type": "display_data"
    },
    {
     "name": "stdout",
     "output_type": "stream",
     "text": [
      "0 replies\n"
     ]
    },
    {
     "data": {
      "text/plain": [
       "'FreeWoman'"
      ]
     },
     "metadata": {},
     "output_type": "display_data"
    },
    {
     "name": "stdout",
     "output_type": "stream",
     "text": [
      "0 replies\n"
     ]
    },
    {
     "data": {
      "text/plain": [
       "'Chad Rupprecht'"
      ]
     },
     "metadata": {},
     "output_type": "display_data"
    },
    {
     "name": "stdout",
     "output_type": "stream",
     "text": [
      "0 replies\n"
     ]
    },
    {
     "data": {
      "text/plain": [
       "'G Man'"
      ]
     },
     "metadata": {},
     "output_type": "display_data"
    },
    {
     "name": "stdout",
     "output_type": "stream",
     "text": [
      "0 replies\n"
     ]
    },
    {
     "data": {
      "text/plain": [
       "'270_TO_WIN'"
      ]
     },
     "metadata": {},
     "output_type": "display_data"
    },
    {
     "name": "stdout",
     "output_type": "stream",
     "text": [
      "0 replies\n"
     ]
    },
    {
     "data": {
      "text/plain": [
       "'Christian Bruvah'"
      ]
     },
     "metadata": {},
     "output_type": "display_data"
    },
    {
     "name": "stdout",
     "output_type": "stream",
     "text": [
      "1 replies\n"
     ]
    },
    {
     "data": {
      "text/plain": [
       "'True'"
      ]
     },
     "metadata": {},
     "output_type": "display_data"
    },
    {
     "data": {
      "text/plain": [
       "1"
      ]
     },
     "metadata": {},
     "output_type": "display_data"
    },
    {
     "data": {
      "text/plain": [
       "'Juggernaut Ary'"
      ]
     },
     "metadata": {},
     "output_type": "display_data"
    },
    {
     "name": "stdout",
     "output_type": "stream",
     "text": [
      "0 replies\n"
     ]
    },
    {
     "data": {
      "text/plain": [
       "'leinad131986'"
      ]
     },
     "metadata": {},
     "output_type": "display_data"
    },
    {
     "name": "stdout",
     "output_type": "stream",
     "text": [
      "34 replies\n"
     ]
    },
    {
     "data": {
      "text/plain": [
       "'True'"
      ]
     },
     "metadata": {},
     "output_type": "display_data"
    },
    {
     "data": {
      "text/plain": [
       "34"
      ]
     },
     "metadata": {},
     "output_type": "display_data"
    },
    {
     "data": {
      "text/plain": [
       "'Aaron Richmond'"
      ]
     },
     "metadata": {},
     "output_type": "display_data"
    },
    {
     "name": "stdout",
     "output_type": "stream",
     "text": [
      "3 replies\n"
     ]
    },
    {
     "data": {
      "text/plain": [
       "'True'"
      ]
     },
     "metadata": {},
     "output_type": "display_data"
    },
    {
     "data": {
      "text/plain": [
       "3"
      ]
     },
     "metadata": {},
     "output_type": "display_data"
    },
    {
     "data": {
      "text/plain": [
       "'Nathan Higgins'"
      ]
     },
     "metadata": {},
     "output_type": "display_data"
    },
    {
     "name": "stdout",
     "output_type": "stream",
     "text": [
      "0 replies\n"
     ]
    },
    {
     "data": {
      "text/plain": [
       "'GHFHFDD'"
      ]
     },
     "metadata": {},
     "output_type": "display_data"
    },
    {
     "name": "stdout",
     "output_type": "stream",
     "text": [
      "1 replies\n"
     ]
    },
    {
     "data": {
      "text/plain": [
       "'True'"
      ]
     },
     "metadata": {},
     "output_type": "display_data"
    },
    {
     "data": {
      "text/plain": [
       "1"
      ]
     },
     "metadata": {},
     "output_type": "display_data"
    },
    {
     "data": {
      "text/plain": [
       "'matthew koons'"
      ]
     },
     "metadata": {},
     "output_type": "display_data"
    },
    {
     "name": "stdout",
     "output_type": "stream",
     "text": [
      "0 replies\n"
     ]
    },
    {
     "data": {
      "text/plain": [
       "'Lysander Spooner'"
      ]
     },
     "metadata": {},
     "output_type": "display_data"
    },
    {
     "name": "stdout",
     "output_type": "stream",
     "text": [
      "0 replies\n"
     ]
    },
    {
     "data": {
      "text/plain": [
       "'John Freeman'"
      ]
     },
     "metadata": {},
     "output_type": "display_data"
    },
    {
     "name": "stdout",
     "output_type": "stream",
     "text": [
      "3 replies\n"
     ]
    },
    {
     "data": {
      "text/plain": [
       "'True'"
      ]
     },
     "metadata": {},
     "output_type": "display_data"
    },
    {
     "data": {
      "text/plain": [
       "3"
      ]
     },
     "metadata": {},
     "output_type": "display_data"
    },
    {
     "data": {
      "text/plain": [
       "'The human shrug.'"
      ]
     },
     "metadata": {},
     "output_type": "display_data"
    },
    {
     "name": "stdout",
     "output_type": "stream",
     "text": [
      "4 replies\n"
     ]
    },
    {
     "data": {
      "text/plain": [
       "'True'"
      ]
     },
     "metadata": {},
     "output_type": "display_data"
    },
    {
     "data": {
      "text/plain": [
       "4"
      ]
     },
     "metadata": {},
     "output_type": "display_data"
    },
    {
     "data": {
      "text/plain": [
       "'Riley Youngberg'"
      ]
     },
     "metadata": {},
     "output_type": "display_data"
    },
    {
     "name": "stdout",
     "output_type": "stream",
     "text": [
      "0 replies\n"
     ]
    },
    {
     "data": {
      "text/plain": [
       "'Adam Wormly'"
      ]
     },
     "metadata": {},
     "output_type": "display_data"
    },
    {
     "name": "stdout",
     "output_type": "stream",
     "text": [
      "1 replies\n"
     ]
    },
    {
     "data": {
      "text/plain": [
       "'True'"
      ]
     },
     "metadata": {},
     "output_type": "display_data"
    },
    {
     "data": {
      "text/plain": [
       "1"
      ]
     },
     "metadata": {},
     "output_type": "display_data"
    },
    {
     "data": {
      "text/plain": [
       "'Marcos Gonzalez'"
      ]
     },
     "metadata": {},
     "output_type": "display_data"
    },
    {
     "name": "stdout",
     "output_type": "stream",
     "text": [
      "0 replies\n"
     ]
    },
    {
     "data": {
      "text/plain": [
       "'Marcos Gonzalez'"
      ]
     },
     "metadata": {},
     "output_type": "display_data"
    },
    {
     "name": "stdout",
     "output_type": "stream",
     "text": [
      "0 replies\n"
     ]
    },
    {
     "data": {
      "text/plain": [
       "'D Bruce'"
      ]
     },
     "metadata": {},
     "output_type": "display_data"
    },
    {
     "name": "stdout",
     "output_type": "stream",
     "text": [
      "3 replies\n"
     ]
    },
    {
     "data": {
      "text/plain": [
       "'True'"
      ]
     },
     "metadata": {},
     "output_type": "display_data"
    },
    {
     "data": {
      "text/plain": [
       "3"
      ]
     },
     "metadata": {},
     "output_type": "display_data"
    },
    {
     "data": {
      "text/plain": [
       "'Harmony First'"
      ]
     },
     "metadata": {},
     "output_type": "display_data"
    },
    {
     "name": "stdout",
     "output_type": "stream",
     "text": [
      "0 replies\n"
     ]
    },
    {
     "data": {
      "text/plain": [
       "'Harmony First'"
      ]
     },
     "metadata": {},
     "output_type": "display_data"
    },
    {
     "name": "stdout",
     "output_type": "stream",
     "text": [
      "0 replies\n"
     ]
    },
    {
     "data": {
      "text/plain": [
       "'matthew irby'"
      ]
     },
     "metadata": {},
     "output_type": "display_data"
    },
    {
     "name": "stdout",
     "output_type": "stream",
     "text": [
      "0 replies\n"
     ]
    },
    {
     "data": {
      "text/plain": [
       "'buybuydandavis'"
      ]
     },
     "metadata": {},
     "output_type": "display_data"
    },
    {
     "name": "stdout",
     "output_type": "stream",
     "text": [
      "5 replies\n"
     ]
    },
    {
     "data": {
      "text/plain": [
       "'True'"
      ]
     },
     "metadata": {},
     "output_type": "display_data"
    },
    {
     "data": {
      "text/plain": [
       "5"
      ]
     },
     "metadata": {},
     "output_type": "display_data"
    },
    {
     "data": {
      "text/plain": [
       "'Stranded 360'"
      ]
     },
     "metadata": {},
     "output_type": "display_data"
    },
    {
     "name": "stdout",
     "output_type": "stream",
     "text": [
      "1 replies\n"
     ]
    },
    {
     "data": {
      "text/plain": [
       "'True'"
      ]
     },
     "metadata": {},
     "output_type": "display_data"
    },
    {
     "data": {
      "text/plain": [
       "1"
      ]
     },
     "metadata": {},
     "output_type": "display_data"
    },
    {
     "data": {
      "text/plain": [
       "'Fat Andy'"
      ]
     },
     "metadata": {},
     "output_type": "display_data"
    },
    {
     "name": "stdout",
     "output_type": "stream",
     "text": [
      "0 replies\n"
     ]
    },
    {
     "data": {
      "text/plain": [
       "'Jay See'"
      ]
     },
     "metadata": {},
     "output_type": "display_data"
    },
    {
     "name": "stdout",
     "output_type": "stream",
     "text": [
      "14 replies\n"
     ]
    },
    {
     "data": {
      "text/plain": [
       "'True'"
      ]
     },
     "metadata": {},
     "output_type": "display_data"
    },
    {
     "data": {
      "text/plain": [
       "14"
      ]
     },
     "metadata": {},
     "output_type": "display_data"
    },
    {
     "data": {
      "text/plain": [
       "'夢星Social Kid'"
      ]
     },
     "metadata": {},
     "output_type": "display_data"
    },
    {
     "name": "stdout",
     "output_type": "stream",
     "text": [
      "12 replies\n"
     ]
    },
    {
     "data": {
      "text/plain": [
       "'True'"
      ]
     },
     "metadata": {},
     "output_type": "display_data"
    },
    {
     "data": {
      "text/plain": [
       "12"
      ]
     },
     "metadata": {},
     "output_type": "display_data"
    },
    {
     "data": {
      "text/plain": [
       "'morethanjustahottie'"
      ]
     },
     "metadata": {},
     "output_type": "display_data"
    },
    {
     "name": "stdout",
     "output_type": "stream",
     "text": [
      "2 replies\n"
     ]
    },
    {
     "data": {
      "text/plain": [
       "'True'"
      ]
     },
     "metadata": {},
     "output_type": "display_data"
    },
    {
     "data": {
      "text/plain": [
       "2"
      ]
     },
     "metadata": {},
     "output_type": "display_data"
    },
    {
     "data": {
      "text/plain": [
       "'Darmony91'"
      ]
     },
     "metadata": {},
     "output_type": "display_data"
    },
    {
     "name": "stdout",
     "output_type": "stream",
     "text": [
      "0 replies\n"
     ]
    },
    {
     "data": {
      "text/plain": [
       "'Shane Winslow'"
      ]
     },
     "metadata": {},
     "output_type": "display_data"
    },
    {
     "name": "stdout",
     "output_type": "stream",
     "text": [
      "0 replies\n"
     ]
    },
    {
     "data": {
      "text/plain": [
       "'skynyrd0110'"
      ]
     },
     "metadata": {},
     "output_type": "display_data"
    },
    {
     "name": "stdout",
     "output_type": "stream",
     "text": [
      "0 replies\n"
     ]
    },
    {
     "data": {
      "text/plain": [
       "'MedievalManiac'"
      ]
     },
     "metadata": {},
     "output_type": "display_data"
    },
    {
     "name": "stdout",
     "output_type": "stream",
     "text": [
      "1 replies\n"
     ]
    },
    {
     "data": {
      "text/plain": [
       "'True'"
      ]
     },
     "metadata": {},
     "output_type": "display_data"
    },
    {
     "data": {
      "text/plain": [
       "1"
      ]
     },
     "metadata": {},
     "output_type": "display_data"
    },
    {
     "data": {
      "text/plain": [
       "'IMurderdTheDevil'"
      ]
     },
     "metadata": {},
     "output_type": "display_data"
    },
    {
     "name": "stdout",
     "output_type": "stream",
     "text": [
      "19 replies\n"
     ]
    },
    {
     "data": {
      "text/plain": [
       "'True'"
      ]
     },
     "metadata": {},
     "output_type": "display_data"
    },
    {
     "data": {
      "text/plain": [
       "19"
      ]
     },
     "metadata": {},
     "output_type": "display_data"
    },
    {
     "data": {
      "text/plain": [
       "'D1E5ECT'"
      ]
     },
     "metadata": {},
     "output_type": "display_data"
    },
    {
     "name": "stdout",
     "output_type": "stream",
     "text": [
      "1 replies\n"
     ]
    },
    {
     "data": {
      "text/plain": [
       "'True'"
      ]
     },
     "metadata": {},
     "output_type": "display_data"
    },
    {
     "data": {
      "text/plain": [
       "1"
      ]
     },
     "metadata": {},
     "output_type": "display_data"
    },
    {
     "data": {
      "text/plain": [
       "'Jay Allen'"
      ]
     },
     "metadata": {},
     "output_type": "display_data"
    },
    {
     "name": "stdout",
     "output_type": "stream",
     "text": [
      "0 replies\n"
     ]
    },
    {
     "data": {
      "text/plain": [
       "'The Opened Mind'"
      ]
     },
     "metadata": {},
     "output_type": "display_data"
    },
    {
     "name": "stdout",
     "output_type": "stream",
     "text": [
      "2 replies\n"
     ]
    },
    {
     "data": {
      "text/plain": [
       "'True'"
      ]
     },
     "metadata": {},
     "output_type": "display_data"
    },
    {
     "data": {
      "text/plain": [
       "2"
      ]
     },
     "metadata": {},
     "output_type": "display_data"
    },
    {
     "data": {
      "text/plain": [
       "'Attilio Maselli'"
      ]
     },
     "metadata": {},
     "output_type": "display_data"
    },
    {
     "name": "stdout",
     "output_type": "stream",
     "text": [
      "0 replies\n"
     ]
    },
    {
     "data": {
      "text/plain": [
       "'Rick Adams'"
      ]
     },
     "metadata": {},
     "output_type": "display_data"
    },
    {
     "name": "stdout",
     "output_type": "stream",
     "text": [
      "0 replies\n"
     ]
    },
    {
     "data": {
      "text/plain": [
       "'Nick Schuler'"
      ]
     },
     "metadata": {},
     "output_type": "display_data"
    },
    {
     "name": "stdout",
     "output_type": "stream",
     "text": [
      "0 replies\n"
     ]
    },
    {
     "data": {
      "text/plain": [
       "'Luke Stakelbeck'"
      ]
     },
     "metadata": {},
     "output_type": "display_data"
    },
    {
     "name": "stdout",
     "output_type": "stream",
     "text": [
      "0 replies\n"
     ]
    },
    {
     "data": {
      "text/plain": [
       "'Cobra Cmdr'"
      ]
     },
     "metadata": {},
     "output_type": "display_data"
    },
    {
     "name": "stdout",
     "output_type": "stream",
     "text": [
      "0 replies\n"
     ]
    },
    {
     "data": {
      "text/plain": [
       "'Iron Mark'"
      ]
     },
     "metadata": {},
     "output_type": "display_data"
    },
    {
     "name": "stdout",
     "output_type": "stream",
     "text": [
      "9 replies\n"
     ]
    },
    {
     "data": {
      "text/plain": [
       "'True'"
      ]
     },
     "metadata": {},
     "output_type": "display_data"
    },
    {
     "data": {
      "text/plain": [
       "9"
      ]
     },
     "metadata": {},
     "output_type": "display_data"
    },
    {
     "data": {
      "text/plain": [
       "'KiRuR'"
      ]
     },
     "metadata": {},
     "output_type": "display_data"
    },
    {
     "name": "stdout",
     "output_type": "stream",
     "text": [
      "0 replies\n"
     ]
    },
    {
     "data": {
      "text/plain": [
       "'Iron Mark'"
      ]
     },
     "metadata": {},
     "output_type": "display_data"
    },
    {
     "name": "stdout",
     "output_type": "stream",
     "text": [
      "7 replies\n"
     ]
    },
    {
     "data": {
      "text/plain": [
       "'True'"
      ]
     },
     "metadata": {},
     "output_type": "display_data"
    },
    {
     "data": {
      "text/plain": [
       "7"
      ]
     },
     "metadata": {},
     "output_type": "display_data"
    },
    {
     "data": {
      "text/plain": [
       "'Mz Lissa'"
      ]
     },
     "metadata": {},
     "output_type": "display_data"
    },
    {
     "name": "stdout",
     "output_type": "stream",
     "text": [
      "0 replies\n"
     ]
    },
    {
     "data": {
      "text/plain": [
       "'FayceTwitch'"
      ]
     },
     "metadata": {},
     "output_type": "display_data"
    },
    {
     "name": "stdout",
     "output_type": "stream",
     "text": [
      "3 replies\n"
     ]
    },
    {
     "data": {
      "text/plain": [
       "'True'"
      ]
     },
     "metadata": {},
     "output_type": "display_data"
    },
    {
     "data": {
      "text/plain": [
       "3"
      ]
     },
     "metadata": {},
     "output_type": "display_data"
    },
    {
     "data": {
      "text/plain": [
       "'Alex McBrayer'"
      ]
     },
     "metadata": {},
     "output_type": "display_data"
    },
    {
     "name": "stdout",
     "output_type": "stream",
     "text": [
      "2 replies\n"
     ]
    },
    {
     "data": {
      "text/plain": [
       "'True'"
      ]
     },
     "metadata": {},
     "output_type": "display_data"
    },
    {
     "data": {
      "text/plain": [
       "2"
      ]
     },
     "metadata": {},
     "output_type": "display_data"
    }
   ],
   "source": [
    "comment_op=''\n",
    "reply_op=''\n",
    "transcript = ''\n",
    "# cutoff_date = datetime.datetime(2018, 12, 2, 0, 0, 0, tzinfo=new_timezone)\n",
    "date_scrape = datetime.datetime.now(new_timezone).strftime(\"%Y_%m_%d_%H_%M_%S\")       \n",
    "nextPageToken=''\n",
    "csv_output='test_1vid_comment.csv'\n",
    "with open(csv_output, 'w', newline='') as csvfile:\n",
    "    fieldnames = ['index', 'video_id','video_url',\n",
    "                 'video_title',\"channel\",'series','video_snippet',\n",
    "                 'video','comment','reply','video_op',\n",
    "                 'comment_op','reply_op','date_posted',\n",
    "                 'content','date_scrape']\n",
    "    writer = csv.DictWriter(csvfile, fieldnames=fieldnames,\n",
    "            delimiter=',', quotechar='\"', quoting=csv.QUOTE_ALL)\n",
    "    writer.writeheader()    \n",
    "    while True:\n",
    "        result_comments= service.commentThreads().list(\n",
    "            part=\"snippet,replies\",\n",
    "            videoId=video_id,\n",
    "            textFormat=\"plainText\",\n",
    "            maxResults=100,\n",
    "            pageToken = nextPageToken\n",
    "          ).execute()\n",
    "\n",
    "        for comment_ind in result_comments['items']:\n",
    "            reply_op=''\n",
    "            comment_op = comment_ind['snippet']['topLevelComment']['snippet']['authorDisplayName']\n",
    "            display(comment_op)\n",
    "            comment_date_posted = comment_ind['snippet']['topLevelComment']['snippet']['publishedAt']\n",
    "        #     display(comment_ind['snippet']['topLevelComment']['snippet']['publishedAt'])\n",
    "            comment_index = comment_ind['snippet']['topLevelComment']['id']\n",
    "            comment_content = comment_ind['snippet']['topLevelComment']['snippet']['textOriginal']\n",
    "            video,comment,reply=set_flags(flag='comment')\n",
    "    #         x =  { \"video_id\": video_id, \n",
    "    #             \"video\":video,\"comment\":comment,\"reply\":reply,\n",
    "    #             \"comment_op\":comment_op,\n",
    "    #             \"reply_op\":reply_op,\"date_posted\":comment_date_posted,\n",
    "    #             \"content\":comment_content,\"date_scrape\":date_scrape}  \n",
    "            x =  { \"index\": comment_index,\"video_id\": video_id, \"video_url\":my_url,\n",
    "                \"video_title\":video_title, \"channel\":channel_title,\n",
    "                \"series\":series, \"video_snippet\":video_snippet,\n",
    "                \"video\":video,\"comment\":comment,\"reply\":reply,\n",
    "                \"video_op\":video_op,\"comment_op\":comment_op,\n",
    "                \"reply_op\":reply_op,\"date_posted\":comment_date_posted,\n",
    "                \"content\":comment_content,\"date_scrape\":date_scrape}          \n",
    "\n",
    "            writer.writerow(x)        \n",
    "    #         display(x)  \n",
    "            print(str(comment_ind['snippet']['totalReplyCount']) + ' replies')\n",
    "\n",
    "            if comment_ind['snippet']['totalReplyCount']>0:\n",
    "                display('True')\n",
    "                display(comment_ind['snippet']['totalReplyCount'])\n",
    "                for reply_result in comment_ind['replies']['comments']:\n",
    "                    reply_op = reply_result['snippet']['authorDisplayName']\n",
    "                    reply_content = reply_result['snippet']['textOriginal']\n",
    "                    reply_date_posted = transform_date_custom(reply_result['snippet']['publishedAt'])\n",
    "                    video,comment,reply=set_flags(flag='reply')\n",
    "    #                 x =  { \"video_id\": video_id, \n",
    "    #                     \"video\":video,\"comment\":comment,\"reply\":reply,\n",
    "    #                     \"comment_op\":comment_op,\n",
    "    #                     \"reply_op\":reply_op,\"date_posted\":reply_date_posted,\n",
    "    #                     \"content\":reply_content,\"date_scrape\":date_scrape}  \n",
    "    #                 display(x)   \n",
    "                    x =  {\"index\": comment_index,\"video_id\": video_id, \"video_url\":my_url,\n",
    "                        \"video_title\":video_title, \"channel\":channel_title,\n",
    "                        \"series\":series, \"video_snippet\":video_snippet,\n",
    "                        \"video\":video,\"comment\":comment,\"reply\":reply,\n",
    "                        \"video_op\":video_op, \"comment_op\":comment_op,\n",
    "                        \"reply_op\":reply_op,\"date_posted\":reply_date_posted,\n",
    "                        \"content\":reply_content,\"date_scrape\":date_scrape} \n",
    "                    writer.writerow(x)        \n",
    "\n",
    "        try:\n",
    "            nextPageToken = result_comments['nextPageToken']\n",
    "        except:\n",
    "            break\n",
    "            \"End of list\""
   ]
  },
  {
   "cell_type": "code",
   "execution_count": 396,
   "metadata": {},
   "outputs": [
    {
     "data": {
      "text/plain": [
       "'UgjekX7Z104szHgCoAEC.8DQib-coLX48DiJC_8-WEc'"
      ]
     },
     "execution_count": 396,
     "metadata": {},
     "output_type": "execute_result"
    }
   ],
   "source": []
  },
  {
   "cell_type": "markdown",
   "metadata": {},
   "source": [
    "## End-to-end"
   ]
  },
  {
   "cell_type": "code",
   "execution_count": null,
   "metadata": {},
   "outputs": [],
   "source": [
    "video =1\n",
    "comment =0\n",
    "reply =0\n",
    "comment_op=''\n",
    "reply_op=''\n",
    "transcript = ''\n",
    "date_scrape = datetime.datetime.now(new_timezone).strftime(\"%Y_%m_%d_%H_%M_%S\")       \n",
    "cutoff_date = datetime.datetime(2018, 12, 2, 0, 0, 0, tzinfo=new_timezone)\n",
    "nextPageToken=''\n",
    "max_results=50\n",
    "#  delimiter=',', quotechar='\"', quoting=csv.QUOTE_ALL)\n",
    "with open(csv_output, 'w', newline='') as csvfile:\n",
    "    fieldnames = ['index', 'video_id','video_url',\n",
    "                 'video_title',\"channel\",'series','video_snippet',\n",
    "                 'video','comment','reply','video_op',\n",
    "                 'comment_op','reply_op','date_posted',\n",
    "                 'content','date_scrape']\n",
    "    writer = csv.DictWriter(csvfile, fieldnames=fieldnames,\n",
    "            delimiter=',', quotechar='\"', quoting=csv.QUOTE_ALL)\n",
    "    writer.writeheader()\n",
    "    for i in range(int(video_count/max_results) +1):\n",
    "        result_vids = service.playlistItems().list(\n",
    "            playlistId=playlist_id,part='snippet,contentDetails',\n",
    "            maxResults=max_results,pageToken=nextPageToken).execute()\n",
    "        for result_item in result_vids['items'] :\n",
    "            video_date_posted = result_item['contentDetails']['videoPublishedAt']\n",
    "            video_date_posted_iso = dateutil.parser.parse(video_date_posted).astimezone(new_timezone)\n",
    "            if(cutoff_date<video_date_posted_iso):\n",
    "                continue\n",
    "            video_date_posted = video_date_posted_iso.strftime(\"%Y_%m_%d_%H_%M_%S\")\n",
    "            video_id = result_item['contentDetails']['videoId']\n",
    "            #     video_index = \n",
    "            video_index = result_item['snippet']['position']\n",
    "            video_title = result_item['snippet']['title']\n",
    "            video_snippet = result_item['snippet']['description']    \n",
    "            video_op =result_item['snippet']['channelTitle']\n",
    "            my_url='https://www.youtube.com/watch?v=%s' %(video_id)\n",
    "#             vid_idx=i*max_results + int(video_index)\n",
    "            display(video_title,vid_idx)\n",
    "\n",
    "            x =  { \"index\": video_index,\"video_id\": video_id, \"video_url\":my_url,\n",
    "                \"video_title\":video_title, \"channel\":channel_title,\n",
    "                \"series\":series, \"video_snippet\":video_snippet,\n",
    "                \"video\":video,\"comment\":comment,\"reply\":reply,\n",
    "                \"video_op\":video_op, \"comment_op\":comment_op,\n",
    "                \"reply_op\":reply_op,\"date_posted\":video_date_posted,\n",
    "                \"content\":transcript,\"date_scrape\":date_scrape}   \n",
    "            writer.writerow(x)\n",
    "            try:\n",
    "                nextPageToken = result_vids['nextPageToken']\n",
    "            \n",
    "            except:\n",
    "                \"End of list\"\n"
   ]
  },
  {
   "cell_type": "markdown",
   "metadata": {},
   "source": [
    "## Extract Reply"
   ]
  },
  {
   "cell_type": "code",
   "execution_count": null,
   "metadata": {},
   "outputs": [],
   "source": [
    "# result_comments['items'][0]['snippet']['totalReplyCount']"
   ]
  },
  {
   "cell_type": "code",
   "execution_count": 138,
   "metadata": {},
   "outputs": [
    {
     "data": {
      "text/plain": [
       "{'kind': 'youtube#commentThread',\n",
       " 'etag': '\"XI7nbFXulYBIpL0ayR_gDh3eu1k/FH1ujImpbefhkzjc2bVMiZfpabE\"',\n",
       " 'id': 'Ugwr8aTKL2Ac4B7szNV4AaABAg',\n",
       " 'snippet': {'videoId': 'sK7euOOQK-4',\n",
       "  'topLevelComment': {'kind': 'youtube#comment',\n",
       "   'etag': '\"XI7nbFXulYBIpL0ayR_gDh3eu1k/7zz--rViwwzKXfzl-auWtiMMTf8\"',\n",
       "   'id': 'Ugwr8aTKL2Ac4B7szNV4AaABAg',\n",
       "   'snippet': {'authorDisplayName': 'Devorah BatMiriamGoldaVMordecai Bayer',\n",
       "    'authorProfileImageUrl': 'https://yt3.ggpht.com/-eHEQ1TjpZ60/AAAAAAAAAAI/AAAAAAAAAAA/QmMPDTLj7ZA/s28-c-k-no-mo-rj-c0xffffff/photo.jpg',\n",
       "    'authorChannelUrl': 'http://www.youtube.com/channel/UCpGCxjLA9RBVi1vGT9vC2KQ',\n",
       "    'authorChannelId': {'value': 'UCpGCxjLA9RBVi1vGT9vC2KQ'},\n",
       "    'videoId': 'sK7euOOQK-4',\n",
       "    'textDisplay': 'Ben, sorry, I as a Torah observant Jew, can’t hold by followers of Yesha.',\n",
       "    'textOriginal': 'Ben, sorry, I as a Torah observant Jew, can’t hold by followers of Yesha.',\n",
       "    'canRate': True,\n",
       "    'viewerRating': 'none',\n",
       "    'likeCount': 2,\n",
       "    'publishedAt': '2018-12-09T15:20:31.000Z',\n",
       "    'updatedAt': '2018-12-09T15:20:31.000Z'}},\n",
       "  'canReply': True,\n",
       "  'totalReplyCount': 2,\n",
       "  'isPublic': True},\n",
       " 'replies': {'comments': [{'kind': 'youtube#comment',\n",
       "    'etag': '\"XI7nbFXulYBIpL0ayR_gDh3eu1k/WhiNROpnl-hMEwTuGsB9jp6ZteA\"',\n",
       "    'id': 'Ugwr8aTKL2Ac4B7szNV4AaABAg.8odTt8FaUJd8ofiluGyoh5',\n",
       "    'snippet': {'authorDisplayName': 'Jeh Jeh',\n",
       "     'authorProfileImageUrl': 'https://yt3.ggpht.com/-ervT61WBT-s/AAAAAAAAAAI/AAAAAAAAAAA/7iuVkptun2Q/s28-c-k-no-mo-rj-c0xffffff/photo.jpg',\n",
       "     'authorChannelUrl': 'http://www.youtube.com/channel/UCLQGSA8qFWY7KyoIk3qczew',\n",
       "     'authorChannelId': {'value': 'UCLQGSA8qFWY7KyoIk3qczew'},\n",
       "     'videoId': 'sK7euOOQK-4',\n",
       "     'textDisplay': \"Why? Yeshua was a Jew and went to temple. He never put down the Jews and came to take their sins upon him. I'm curious as to why the Jews stopped sacrificing live animals.\",\n",
       "     'textOriginal': \"Why? Yeshua was a Jew and went to temple. He never put down the Jews and came to take their sins upon him. I'm curious as to why the Jews stopped sacrificing live animals.\",\n",
       "     'parentId': 'Ugwr8aTKL2Ac4B7szNV4AaABAg',\n",
       "     'canRate': True,\n",
       "     'viewerRating': 'none',\n",
       "     'likeCount': 0,\n",
       "     'publishedAt': '2018-12-10T12:17:49.000Z',\n",
       "     'updatedAt': '2018-12-10T12:19:14.000Z'}},\n",
       "   {'kind': 'youtube#comment',\n",
       "    'etag': '\"XI7nbFXulYBIpL0ayR_gDh3eu1k/ivZkfQIa50gvhqmpB3yH3NhbCo8\"',\n",
       "    'id': 'Ugwr8aTKL2Ac4B7szNV4AaABAg.8odTt8FaUJd8oe7JJzmyJf',\n",
       "    'snippet': {'authorDisplayName': 'Mr Incognito',\n",
       "     'authorProfileImageUrl': 'https://yt3.ggpht.com/-fIFea80xnCU/AAAAAAAAAAI/AAAAAAAAAAA/PlGvINTOQpA/s28-c-k-no-mo-rj-c0xffffff/photo.jpg',\n",
       "     'authorChannelUrl': 'http://www.youtube.com/channel/UCTzg_LZdxvu3ZxweOVmykNQ',\n",
       "     'authorChannelId': {'value': 'UCTzg_LZdxvu3ZxweOVmykNQ'},\n",
       "     'videoId': 'sK7euOOQK-4',\n",
       "     'textDisplay': 'That just shows your inability to perform due diligence.',\n",
       "     'textOriginal': 'That just shows your inability to perform due diligence.',\n",
       "     'parentId': 'Ugwr8aTKL2Ac4B7szNV4AaABAg',\n",
       "     'canRate': True,\n",
       "     'viewerRating': 'none',\n",
       "     'likeCount': 1,\n",
       "     'publishedAt': '2018-12-09T21:22:29.000Z',\n",
       "     'updatedAt': '2018-12-09T21:22:29.000Z'}}]}}"
      ]
     },
     "metadata": {},
     "output_type": "display_data"
    }
   ],
   "source": [
    "for x in result_comments['items']:\n",
    "    if (x['snippet']['totalReplyCount']>1):\n",
    "#     'dfdf'.\n",
    "#         print(x)\n",
    "        display(x)\n",
    "        test=x\n",
    "        break\n",
    "# result_comments['items'][0]['id']"
   ]
  },
  {
   "cell_type": "code",
   "execution_count": 139,
   "metadata": {},
   "outputs": [
    {
     "data": {
      "text/plain": [
       "'Jeh Jeh'"
      ]
     },
     "execution_count": 139,
     "metadata": {},
     "output_type": "execute_result"
    }
   ],
   "source": [
    "reply_op = x['replies']['comments'][0]['snippet']['authorDisplayName']\n",
    "reply_op"
   ]
  },
  {
   "cell_type": "code",
   "execution_count": 140,
   "metadata": {},
   "outputs": [
    {
     "data": {
      "text/plain": [
       "\"Why? Yeshua was a Jew and went to temple. He never put down the Jews and came to take their sins upon him. I'm curious as to why the Jews stopped sacrificing live animals.\""
      ]
     },
     "execution_count": 140,
     "metadata": {},
     "output_type": "execute_result"
    }
   ],
   "source": [
    "reply_content = x['replies']['comments'][0]['snippet']['textOriginal']\n",
    "reply_content"
   ]
  },
  {
   "cell_type": "code",
   "execution_count": 141,
   "metadata": {},
   "outputs": [
    {
     "data": {
      "text/plain": [
       "'2018-12-10T12:17:49.000Z'"
      ]
     },
     "execution_count": 141,
     "metadata": {},
     "output_type": "execute_result"
    }
   ],
   "source": [
    "reply_date_posted = x['replies']['comments'][0]['snippet']['publishedAt']\n",
    "reply_date_posted"
   ]
  },
  {
   "cell_type": "code",
   "execution_count": 142,
   "metadata": {},
   "outputs": [],
   "source": [
    "video =0\n",
    "comment=0\n",
    "reply=1"
   ]
  },
  {
   "cell_type": "code",
   "execution_count": 143,
   "metadata": {},
   "outputs": [
    {
     "data": {
      "text/plain": [
       "{'video_id': 'sK7euOOQK-4',\n",
       " 'video_url': 'https://www.youtube.com/watch?v=sK7euOOQK-4',\n",
       " 'video_title': 'Sunday Special Ep 30: David Limbaugh',\n",
       " 'video_snippet': 'Author and columnist David Limbaugh joins Ben to discuss how Christianity and Judaism have shaped America, how his thinking on Donald Trump has changed since 2016, and whether 2020 will be better than 2018 for Republicans.\\n\\nSubscribe to the Daily Wire to watch the bonus question! https://bit.ly/2q0wopL\\n\\nCheck Ben out on:\\nDaily Wire website: www.dailywire.com\\nFacebook: https://www.facebook.com/officialbenshapiro\\nTwitter: https://twitter.com/benshapiro\\nInstagram: @officialbenshapiro\\n \\nCheck David Limbaugh out on:\\nTwitter: https://twitter.com/davidlimbaugh',\n",
       " 'video': 0,\n",
       " 'comment': 0,\n",
       " 'reply': 1,\n",
       " 'video_op': 'Ben Shapiro',\n",
       " 'comment_op': 'DomManInT1',\n",
       " 'reply_op': 'Jeh Jeh',\n",
       " 'date_posted': '2018-12-10T12:17:49.000Z',\n",
       " 'content': '2018-12-10T12:17:49.000Z',\n",
       " 'date_scrape': '2018_12_10_07_14_17'}"
      ]
     },
     "execution_count": 143,
     "metadata": {},
     "output_type": "execute_result"
    }
   ],
   "source": [
    "x =  { \"video_id\": video_id, \"video_url\":my_url,\\\n",
    "      \"video_title\":video_title, \\\n",
    "#       \"channel\":channel,\\\n",
    "#      \"series\":series, \\\n",
    "     \"video_snippet\":video_snippet,\\\n",
    "     \"video\":video,\"comment\":comment,\"reply\":reply,\\\n",
    "     \"video_op\":video_op, \"comment_op\":comment_op,\\\n",
    "     \"reply_op\":reply_op,\"date_posted\":reply_date_posted,\\\n",
    "     \"content\":reply_content,\\\n",
    "      \"date_scrape\":date_scrape}\n",
    "x"
   ]
  },
  {
   "cell_type": "code",
   "execution_count": 166,
   "metadata": {},
   "outputs": [
    {
     "data": {
      "text/plain": [
       "{'authorDisplayName': 'Firenze 64',\n",
       " 'authorProfileImageUrl': 'https://yt3.ggpht.com/-KjHNkwHdaoY/AAAAAAAAAAI/AAAAAAAAAAA/N09yThjvOYg/s28-c-k-no-mo-rj-c0xffffff/photo.jpg',\n",
       " 'authorChannelUrl': 'http://www.youtube.com/channel/UCQJLqOsy7dx7cMVHA-vozfA',\n",
       " 'authorChannelId': {'value': 'UCQJLqOsy7dx7cMVHA-vozfA'},\n",
       " 'videoId': 'A1tqTQkC36A',\n",
       " 'textDisplay': 'They weren’t hooray',\n",
       " 'textOriginal': 'They weren’t hooray',\n",
       " 'parentId': 'UgwQTQvknQyoCTRAkUp4AaABAg',\n",
       " 'canRate': True,\n",
       " 'viewerRating': 'none',\n",
       " 'likeCount': 0,\n",
       " 'publishedAt': '2018-11-07T10:50:15.000Z',\n",
       " 'updatedAt': '2018-11-07T10:50:15.000Z'}"
      ]
     },
     "metadata": {},
     "output_type": "display_data"
    },
    {
     "data": {
      "text/plain": [
       "'Firenze 64'"
      ]
     },
     "metadata": {},
     "output_type": "display_data"
    },
    {
     "data": {
      "text/plain": [
       "'They weren’t hooray'"
      ]
     },
     "metadata": {},
     "output_type": "display_data"
    },
    {
     "data": {
      "text/plain": [
       "'jdski 892'"
      ]
     },
     "metadata": {},
     "output_type": "display_data"
    }
   ],
   "source": [
    "display(test['replies']['comments'][0]['snippet'])\n",
    "#author\n",
    "display(test['replies']['comments'][0]['snippet']['authorDisplayName'])\n",
    "#text\n",
    "display(test['replies']['comments'][0]['snippet']['textOriginal'])\n",
    "#replies to\n",
    "\n",
    "display(test['snippet']['topLevelComment']['snippet']['authorDisplayName'])"
   ]
  },
  {
   "cell_type": "code",
   "execution_count": 165,
   "metadata": {},
   "outputs": [
    {
     "data": {
      "text/plain": [
       "'jdski 892'"
      ]
     },
     "metadata": {},
     "output_type": "display_data"
    }
   ],
   "source": []
  },
  {
   "cell_type": "code",
   "execution_count": 131,
   "metadata": {},
   "outputs": [],
   "source": [
    "test = 'dfdf'"
   ]
  },
  {
   "cell_type": "code",
   "execution_count": null,
   "metadata": {},
   "outputs": [],
   "source": [
    "test.s"
   ]
  },
  {
   "cell_type": "code",
   "execution_count": 283,
   "metadata": {},
   "outputs": [],
   "source": [
    "result_comments_few= service.commentThreads().list(\n",
    "    part=\"snippet,replies\",\n",
    "    videoId='mJxcNiyWd8Q',\n",
    "    textFormat=\"plainText\",\n",
    "    maxResults=2\n",
    "  ).execute()"
   ]
  },
  {
   "cell_type": "code",
   "execution_count": 284,
   "metadata": {},
   "outputs": [
    {
     "data": {
      "text/plain": [
       "{'kind': 'youtube#commentThreadListResponse',\n",
       " 'etag': '\"XI7nbFXulYBIpL0ayR_gDh3eu1k/iOw6nirNiAyVoYcvAedB3INpQS8\"',\n",
       " 'pageInfo': {'totalResults': 2, 'resultsPerPage': 2},\n",
       " 'items': [{'kind': 'youtube#commentThread',\n",
       "   'etag': '\"XI7nbFXulYBIpL0ayR_gDh3eu1k/VrmbgIMKDIbsCF73fKshmMornZ8\"',\n",
       "   'id': 'UgwMdxC3HCxeIh70Vmd4AaABAg',\n",
       "   'snippet': {'videoId': 'mJxcNiyWd8Q',\n",
       "    'topLevelComment': {'kind': 'youtube#comment',\n",
       "     'etag': '\"XI7nbFXulYBIpL0ayR_gDh3eu1k/KvRJpKp6V0ULnY3TAbU7Avkn5Ag\"',\n",
       "     'id': 'UgwMdxC3HCxeIh70Vmd4AaABAg',\n",
       "     'snippet': {'authorDisplayName': 'Maribelle Cual',\n",
       "      'authorProfileImageUrl': 'https://yt3.ggpht.com/-P3AC-PdHzw8/AAAAAAAAAAI/AAAAAAAAAAA/EbJl_ea-Mmo/s28-c-k-no-mo-rj-c0xffffff/photo.jpg',\n",
       "      'authorChannelUrl': 'http://www.youtube.com/channel/UCnJrRJehfcW4vSJMI3MtJAA',\n",
       "      'authorChannelId': {'value': 'UCnJrRJehfcW4vSJMI3MtJAA'},\n",
       "      'videoId': 'mJxcNiyWd8Q',\n",
       "      'textDisplay': 'U dont know how to hurt me😭😭',\n",
       "      'textOriginal': 'U dont know how to hurt me😭😭',\n",
       "      'canRate': True,\n",
       "      'viewerRating': 'none',\n",
       "      'likeCount': 0,\n",
       "      'publishedAt': '2018-12-10T10:49:37.000Z',\n",
       "      'updatedAt': '2018-12-10T10:49:37.000Z'}},\n",
       "    'canReply': True,\n",
       "    'totalReplyCount': 0,\n",
       "    'isPublic': True}},\n",
       "  {'kind': 'youtube#commentThread',\n",
       "   'etag': '\"XI7nbFXulYBIpL0ayR_gDh3eu1k/kk35SjLBLDufX88heBcozO_R-QE\"',\n",
       "   'id': 'Ugy8p74MxrNmAuc-bDt4AaABAg',\n",
       "   'snippet': {'videoId': 'mJxcNiyWd8Q',\n",
       "    'topLevelComment': {'kind': 'youtube#comment',\n",
       "     'etag': '\"XI7nbFXulYBIpL0ayR_gDh3eu1k/l1FkJV0HbGh-MV1YXGiDtpFF90A\"',\n",
       "     'id': 'Ugy8p74MxrNmAuc-bDt4AaABAg',\n",
       "     'snippet': {'authorDisplayName': 'Rogelio Suy',\n",
       "      'authorProfileImageUrl': 'https://yt3.ggpht.com/-Qv1MAzjHUUA/AAAAAAAAAAI/AAAAAAAAAAA/y7Lis1LMuts/s28-c-k-no-mo-rj-c0xffffff/photo.jpg',\n",
       "      'authorChannelUrl': 'http://www.youtube.com/channel/UCvjzL0gqxWhvcW1P3HcvSiQ',\n",
       "      'authorChannelId': {'value': 'UCvjzL0gqxWhvcW1P3HcvSiQ'},\n",
       "      'videoId': 'mJxcNiyWd8Q',\n",
       "      'textDisplay': 'Ganda ang mga song\\'s Lalong-lalo na tong \" Ikaw Ang Iibigin Ko\" ....at \"Forevermore\".....',\n",
       "      'textOriginal': 'Ganda ang mga song\\'s Lalong-lalo na tong \" Ikaw Ang Iibigin Ko\" ....at \"Forevermore\".....',\n",
       "      'canRate': True,\n",
       "      'viewerRating': 'none',\n",
       "      'likeCount': 1,\n",
       "      'publishedAt': '2018-12-09T17:01:46.000Z',\n",
       "      'updatedAt': '2018-12-09T17:01:46.000Z'}},\n",
       "    'canReply': True,\n",
       "    'totalReplyCount': 0,\n",
       "    'isPublic': True}}]}"
      ]
     },
     "execution_count": 284,
     "metadata": {},
     "output_type": "execute_result"
    }
   ],
   "source": [
    "result_comments_few"
   ]
  },
  {
   "cell_type": "code",
   "execution_count": 77,
   "metadata": {},
   "outputs": [
    {
     "data": {
      "text/plain": [
       "{'videoId': 'sK7euOOQK-4',\n",
       " 'topLevelComment': {'kind': 'youtube#comment',\n",
       "  'etag': '\"XI7nbFXulYBIpL0ayR_gDh3eu1k/3ZtV8-2TTVaaXlxn8pHyzAYSkpA\"',\n",
       "  'id': 'UgyO1EYSuRR3VoBekHd4AaABAg',\n",
       "  'snippet': {'authorDisplayName': 'The Poser Podcast',\n",
       "   'authorProfileImageUrl': 'https://yt3.ggpht.com/-XksVdHtfb_k/AAAAAAAAAAI/AAAAAAAAAAA/58FRXDO6NMg/s28-c-k-no-mo-rj-c0xffffff/photo.jpg',\n",
       "   'authorChannelUrl': 'http://www.youtube.com/channel/UCNoq4F8Z66onlLtMB6ilCKA',\n",
       "   'authorChannelId': {'value': 'UCNoq4F8Z66onlLtMB6ilCKA'},\n",
       "   'videoId': 'sK7euOOQK-4',\n",
       "   'textDisplay': 'This guy is piss weak',\n",
       "   'textOriginal': 'This guy is piss weak',\n",
       "   'canRate': True,\n",
       "   'viewerRating': 'none',\n",
       "   'likeCount': 0,\n",
       "   'publishedAt': '2018-12-10T05:50:01.000Z',\n",
       "   'updatedAt': '2018-12-10T05:50:01.000Z'}},\n",
       " 'canReply': True,\n",
       " 'totalReplyCount': 0,\n",
       " 'isPublic': True}"
      ]
     },
     "execution_count": 77,
     "metadata": {},
     "output_type": "execute_result"
    }
   ],
   "source": [
    "result_comments['items'][0]['snippet']"
   ]
  },
  {
   "cell_type": "code",
   "execution_count": null,
   "metadata": {},
   "outputs": [],
   "source": [
    "result"
   ]
  },
  {
   "cell_type": "code",
   "execution_count": 113,
   "metadata": {},
   "outputs": [],
   "source": [
    "result_com = service.comments().list(\n",
    "  part=\"snippet\",\n",
    "  parentId='UgwQTQvknQyoCTRAkUp4AaABAg',\n",
    "  textFormat=\"plainText\"\n",
    ").execute()"
   ]
  },
  {
   "cell_type": "code",
   "execution_count": 110,
   "metadata": {},
   "outputs": [
    {
     "data": {
      "text/plain": [
       "{'kind': 'youtube#commentListResponse',\n",
       " 'etag': '\"XI7nbFXulYBIpL0ayR_gDh3eu1k/6nUGxaj7vAVtBKWheQdcDliTN-0\"',\n",
       " 'pageInfo': {'resultsPerPage': 20},\n",
       " 'items': [{'kind': 'youtube#comment',\n",
       "   'etag': '\"XI7nbFXulYBIpL0ayR_gDh3eu1k/29SGnIYALXlm7Z0TrbsHeFx-jzQ\"',\n",
       "   'id': 'UgwQTQvknQyoCTRAkUp4AaABAg.8nK74henT5a8nLaWiger9N',\n",
       "   'snippet': {'authorDisplayName': 'Firenze 64',\n",
       "    'authorProfileImageUrl': 'https://yt3.ggpht.com/-KjHNkwHdaoY/AAAAAAAAAAI/AAAAAAAAAAA/N09yThjvOYg/s28-c-k-no-mo-rj-c0xffffff/photo.jpg',\n",
       "    'authorChannelUrl': 'http://www.youtube.com/channel/UCQJLqOsy7dx7cMVHA-vozfA',\n",
       "    'authorChannelId': {'value': 'UCQJLqOsy7dx7cMVHA-vozfA'},\n",
       "    'textDisplay': 'They weren’t hooray',\n",
       "    'textOriginal': 'They weren’t hooray',\n",
       "    'parentId': 'UgwQTQvknQyoCTRAkUp4AaABAg',\n",
       "    'canRate': True,\n",
       "    'viewerRating': 'none',\n",
       "    'likeCount': 0,\n",
       "    'publishedAt': '2018-11-07T10:50:15.000Z',\n",
       "    'updatedAt': '2018-11-07T10:50:15.000Z'}}]}"
      ]
     },
     "execution_count": 110,
     "metadata": {},
     "output_type": "execute_result"
    }
   ],
   "source": [
    "result_com"
   ]
  },
  {
   "cell_type": "code",
   "execution_count": null,
   "metadata": {},
   "outputs": [],
   "source": [
    "x =  { \"video_id\": video_id, \"video_url\":my_url,\\\n",
    "      \"video_title\":video_title, \"channel\":channel,\\\n",
    "     \"series\":series, \"video_snippet\":description,\\\n",
    "     \"video\":video,\"comment\":comment,\"reply\":reply,\\\n",
    "     \"video_op\":video_op, \"comment_op\":comment_op,\\\n",
    "     \"reply_op\":reply_op,\"date_posted\":date_posted,\\\n",
    "     \"content\":transcript,\"date_scrape\":date_scrape}"
   ]
  }
 ],
 "metadata": {
  "kernelspec": {
   "display_name": "Python 3",
   "language": "python",
   "name": "python3"
  },
  "language_info": {
   "codemirror_mode": {
    "name": "ipython",
    "version": 3
   },
   "file_extension": ".py",
   "mimetype": "text/x-python",
   "name": "python",
   "nbconvert_exporter": "python",
   "pygments_lexer": "ipython3",
   "version": "3.7.0"
  }
 },
 "nbformat": 4,
 "nbformat_minor": 2
}
