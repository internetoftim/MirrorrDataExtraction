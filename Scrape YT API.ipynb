{
 "cells": [
  {
   "cell_type": "code",
   "execution_count": 29,
   "metadata": {},
   "outputs": [],
   "source": [
    "# Sample Python code for user authorization\n",
    "\n",
    "import os\n",
    "\n",
    "import google.oauth2.credentials\n",
    "\n",
    "from googleapiclient.discovery import build\n",
    "from googleapiclient.errors import HttpError\n",
    "from google_auth_oauthlib.flow import InstalledAppFlow\n",
    "from selenium import webdriver\n",
    "from selenium.webdriver.common.by import By\n",
    "from selenium.webdriver.support.ui import WebDriverWait\n",
    "from selenium.webdriver.support import expected_conditions as EC\n",
    "from selenium.webdriver.common.keys import Keys\n",
    "from selenium.webdriver.support.ui import Select\n",
    "from selenium.webdriver.common.action_chains import ActionChains\n",
    "import requests, re, json ,pprint\n",
    "from bs4 import BeautifulSoup\n",
    "import pandas as pd\n",
    "import urllib\n",
    "import urllib.request\n",
    "from selenium.webdriver.common.keys import Keys\n",
    "from IPython.display import Image\n",
    "from urllib.parse import urlparse\n",
    "from time import sleep\n",
    "import datetime\n",
    "import pytz # new import\n",
    "new_timezone = pytz.timezone(\"US/Eastern\")\n",
    "import spacy\n",
    "import en_core_web_sm\n",
    "import en_core_web_lg\n",
    "import en_vectors_web_lg\n",
    "import en_core_web_md\n",
    "\n",
    "from dateparser.search import search_dates\n",
    "import arrow\n",
    "import datetime"
   ]
  },
  {
   "cell_type": "code",
   "execution_count": 3,
   "metadata": {},
   "outputs": [],
   "source": [
    "# The CLIENT_SECRETS_FILE variable specifies the name of a file that contains\n",
    "# the OAuth 2.0 information for this application, including its client_id and\n",
    "# client_secret.\n",
    "CLIENT_SECRETS_FILE = \"client_secret.json\"\n",
    "\n",
    "# This OAuth 2.0 access scope allows for full read/write access to the\n",
    "# authenticated user's account and requires requests to use an SSL connection.\n",
    "SCOPES = ['https://www.googleapis.com/auth/youtube.force-ssl']\n",
    "API_SERVICE_NAME = 'youtube'\n",
    "API_VERSION = 'v3'\n",
    "\n",
    "def get_authenticated_service():\n",
    "    flow = InstalledAppFlow.from_client_secrets_file(CLIENT_SECRETS_FILE, SCOPES)\n",
    "    credentials = flow.run_console()\n",
    "    return build(API_SERVICE_NAME, API_VERSION, credentials = credentials)\n",
    "\n",
    "# def channels_list_by_username(service, **kwargs):\n",
    "# #     results = service.channels().list(\n",
    "#     **kwargs\n",
    "#     ).execute()\n",
    "  \n",
    "#     print('This channel\\'s ID is %s. Its title is %s, and it has %s views.' \\\n",
    "#        (results['items'][0]['id'],\\\n",
    "#         results['items'][0]['snippet']['title'],\\\n",
    "#         results['items'][0]['statistics']['viewCount']))\\\n",
    "\n",
    "# if __name__ == '__main__':\n",
    "#   # When running locally, disable OAuthlib's HTTPs verification. When\n",
    "#   # running in production *do not* leave this option enabled.\n",
    "#     os.environ['OAUTHLIB_INSECURE_TRANSPORT'] = '1'\n",
    "#     service = get_authenticated_service()\n",
    "#     channels_list_by_username(service,\n",
    "#         part='snippet,contentDetails,statistics',\n",
    "#         forUsername='GoogleDevelopers')"
   ]
  },
  {
   "cell_type": "code",
   "execution_count": null,
   "metadata": {},
   "outputs": [],
   "source": [
    "def channels_list_by_username(service, forUsername='GoogleDevelopers'):\n",
    "\n",
    "    #     print('This channel\\'s ID is %s. Its title is %s, and it has %s views.' \\\n",
    "#        (results['items'][0]['id'],\\\n",
    "#         results['items'][0]['snippet']['title'],\\\n",
    "#         results['items'][0]['statistics']['viewCount']))\\\n",
    "    "
   ]
  },
  {
   "cell_type": "code",
   "execution_count": 8,
   "metadata": {},
   "outputs": [
    {
     "name": "stdout",
     "output_type": "stream",
     "text": [
      "Please visit this URL to authorize this application: https://accounts.google.com/o/oauth2/auth?response_type=code&client_id=242279488994-mvhfk3ddgdeiqdqfg6nlcblm5pjav0ur.apps.googleusercontent.com&redirect_uri=urn%3Aietf%3Awg%3Aoauth%3A2.0%3Aoob&scope=https%3A%2F%2Fwww.googleapis.com%2Fauth%2Fyoutube.force-ssl&state=P9B4PloHKNPHToVKmqVzm8I1XzzMOi&prompt=consent&access_type=offline\n",
      "Enter the authorization code: 4/rwAcS_xha7hB01QQhagqhAxw5PulR1Vj1uZq8I9sQ_l_xJoGrRazV00\n"
     ]
    }
   ],
   "source": [
    "os.environ['OAUTHLIB_INSECURE_TRANSPORT'] = '1'\n",
    "service = get_authenticated_service()"
   ]
  },
  {
   "cell_type": "code",
   "execution_count": null,
   "metadata": {},
   "outputs": [],
   "source": [
    "channels_list_by_username(service,part='snippet,contentDetails,statistics'\n",
    "                          ,forUsername='GoogleDevelopers')"
   ]
  },
  {
   "cell_type": "code",
   "execution_count": 47,
   "metadata": {},
   "outputs": [],
   "source": [
    "# part=snippet,contentDetails,brandingSettings\n",
    "#         &mine=true\n",
    "# results = service.channels().\n",
    "result = service.channels().list(\\\n",
    "id='UCnQC_G5Xsjhp9fEJKuIcrSw',part='snippet,contentDetails').execute()\n",
    "\n",
    "# result = service.activities().list(userId='me', collection='public').execute()\n",
    "#  tasks = result.get('items', [])\n",
    "#  for task in tasks:\n",
    "#    print task['title']"
   ]
  },
  {
   "cell_type": "code",
   "execution_count": null,
   "metadata": {},
   "outputs": [],
   "source": [
    "# type(result)\n",
    " playlist_id <- gsub(\"^..\", \"UU\", channel_id)\n",
    "\n",
    "  # Get videos on all the playlists\n",
    "  videos <- get_playlist_items(filter = c(playlist_id = playlist_id),\n",
    "                               max_results = max_results,\n",
    "                               page_token = page_token,\n",
    "                               hl = hl, ...)\n",
    "  videos\n",
    "}"
   ]
  },
  {
   "cell_type": "code",
   "execution_count": null,
   "metadata": {},
   "outputs": [],
   "source": [
    "type(result)"
   ]
  },
  {
   "cell_type": "code",
   "execution_count": 48,
   "metadata": {},
   "outputs": [
    {
     "data": {
      "text/plain": [
       "{'kind': 'youtube#channelListResponse',\n",
       " 'etag': '\"XI7nbFXulYBIpL0ayR_gDh3eu1k/NYfMvmc2Ii9gMrKM20G3_HsXTjQ\"',\n",
       " 'pageInfo': {'totalResults': 1, 'resultsPerPage': 1},\n",
       " 'items': [{'kind': 'youtube#channel',\n",
       "   'etag': '\"XI7nbFXulYBIpL0ayR_gDh3eu1k/OXIgUs22amllmq7lU_7iL2-qiTM\"',\n",
       "   'id': 'UCnQC_G5Xsjhp9fEJKuIcrSw',\n",
       "   'snippet': {'title': 'Ben Shapiro',\n",
       "    'description': \"Ben Shapiro is a renowned conservative political pundit, syndicated columnist, lawyer, and NYT bestselling author. He is Editor-in-Chief of news and opinion site The Daily Wire and host of the popular video podcast, The Ben Shapiro Show. \\n\\nHere you can watch all episodes of Ben's podcast and find clips of his media appearances, along with his college tour speeches and Q&As. \\n\\nSubscribe to follow Ben everywhere he goes!\",\n",
       "    'customUrl': 'benshapiro',\n",
       "    'publishedAt': '2016-11-01T00:13:29.000Z',\n",
       "    'thumbnails': {'default': {'url': 'https://yt3.ggpht.com/a-/AN66SAxUJ6LygIavxMfMhvDHyhI0gyA3m6rZoKfnzQ=s88-mo-c-c0xffffffff-rj-k-no',\n",
       "      'width': 88,\n",
       "      'height': 88},\n",
       "     'medium': {'url': 'https://yt3.ggpht.com/a-/AN66SAxUJ6LygIavxMfMhvDHyhI0gyA3m6rZoKfnzQ=s240-mo-c-c0xffffffff-rj-k-no',\n",
       "      'width': 240,\n",
       "      'height': 240},\n",
       "     'high': {'url': 'https://yt3.ggpht.com/a-/AN66SAxUJ6LygIavxMfMhvDHyhI0gyA3m6rZoKfnzQ=s800-mo-c-c0xffffffff-rj-k-no',\n",
       "      'width': 800,\n",
       "      'height': 800}},\n",
       "    'localized': {'title': 'Ben Shapiro',\n",
       "     'description': \"Ben Shapiro is a renowned conservative political pundit, syndicated columnist, lawyer, and NYT bestselling author. He is Editor-in-Chief of news and opinion site The Daily Wire and host of the popular video podcast, The Ben Shapiro Show. \\n\\nHere you can watch all episodes of Ben's podcast and find clips of his media appearances, along with his college tour speeches and Q&As. \\n\\nSubscribe to follow Ben everywhere he goes!\"},\n",
       "    'country': 'US'},\n",
       "   'contentDetails': {'relatedPlaylists': {'uploads': 'UUnQC_G5Xsjhp9fEJKuIcrSw',\n",
       "     'watchHistory': 'HL',\n",
       "     'watchLater': 'WL'}}}]}"
      ]
     },
     "execution_count": 48,
     "metadata": {},
     "output_type": "execute_result"
    }
   ],
   "source": [
    "result"
   ]
  },
  {
   "cell_type": "code",
   "execution_count": null,
   "metadata": {},
   "outputs": [],
   "source": [
    "dd"
   ]
  },
  {
   "cell_type": "code",
   "execution_count": 5,
   "metadata": {},
   "outputs": [],
   "source": [
    "playlist_list = result['items'][0]['contentDetails']['relatedPlaylists']['uploads']"
   ]
  },
  {
   "cell_type": "code",
   "execution_count": 6,
   "metadata": {},
   "outputs": [],
   "source": [
    "#Loop through the playlist"
   ]
  },
  {
   "cell_type": "code",
   "execution_count": 7,
   "metadata": {},
   "outputs": [],
   "source": [
    "test_pl = playlist_list"
   ]
  },
  {
   "cell_type": "code",
   "execution_count": 8,
   "metadata": {},
   "outputs": [
    {
     "data": {
      "text/plain": [
       "'UUnQC_G5Xsjhp9fEJKuIcrSw'"
      ]
     },
     "execution_count": 8,
     "metadata": {},
     "output_type": "execute_result"
    }
   ],
   "source": [
    "test_pl"
   ]
  },
  {
   "cell_type": "markdown",
   "metadata": {},
   "source": [
    "## Get videos in playlist"
   ]
  },
  {
   "cell_type": "code",
   "execution_count": 12,
   "metadata": {},
   "outputs": [],
   "source": [
    "result_vids = service.playlistItems().list(\\\n",
    "playlistId='UUnQC_G5Xsjhp9fEJKuIcrSw',part='snippet,contentDetails',\\\n",
    "maxResults=1).execute()\n",
    "                                           \n"
   ]
  },
  {
   "cell_type": "code",
   "execution_count": 21,
   "metadata": {},
   "outputs": [
    {
     "data": {
      "text/plain": [
       "{'kind': 'youtube#playlistItemListResponse',\n",
       " 'etag': '\"XI7nbFXulYBIpL0ayR_gDh3eu1k/ymhVcnnVlQUYcNQg2V_FzWjbwx4\"',\n",
       " 'nextPageToken': 'CAEQAA',\n",
       " 'pageInfo': {'totalResults': 682, 'resultsPerPage': 1},\n",
       " 'items': [{'kind': 'youtube#playlistItem',\n",
       "   'etag': '\"XI7nbFXulYBIpL0ayR_gDh3eu1k/XfnVfGIj0u8fnx6PjuEvndyvgPM\"',\n",
       "   'id': 'VVVuUUNfRzVYc2pocDlmRUpLdUljclN3LnNLN2V1T09RSy00',\n",
       "   'snippet': {'publishedAt': '2018-12-09T13:00:05.000Z',\n",
       "    'channelId': 'UCnQC_G5Xsjhp9fEJKuIcrSw',\n",
       "    'title': 'Sunday Special Ep 30: David Limbaugh',\n",
       "    'description': 'Author and columnist David Limbaugh joins Ben to discuss how Christianity and Judaism have shaped America, how his thinking on Donald Trump has changed since 2016, and whether 2020 will be better than 2018 for Republicans.\\n\\nSubscribe to the Daily Wire to watch the bonus question! https://bit.ly/2q0wopL\\n\\nCheck Ben out on:\\nDaily Wire website: www.dailywire.com\\nFacebook: https://www.facebook.com/officialbenshapiro\\nTwitter: https://twitter.com/benshapiro\\nInstagram: @officialbenshapiro\\n \\nCheck David Limbaugh out on:\\nTwitter: https://twitter.com/davidlimbaugh',\n",
       "    'thumbnails': {'default': {'url': 'https://i.ytimg.com/vi/sK7euOOQK-4/default.jpg',\n",
       "      'width': 120,\n",
       "      'height': 90},\n",
       "     'medium': {'url': 'https://i.ytimg.com/vi/sK7euOOQK-4/mqdefault.jpg',\n",
       "      'width': 320,\n",
       "      'height': 180},\n",
       "     'high': {'url': 'https://i.ytimg.com/vi/sK7euOOQK-4/hqdefault.jpg',\n",
       "      'width': 480,\n",
       "      'height': 360},\n",
       "     'standard': {'url': 'https://i.ytimg.com/vi/sK7euOOQK-4/sddefault.jpg',\n",
       "      'width': 640,\n",
       "      'height': 480},\n",
       "     'maxres': {'url': 'https://i.ytimg.com/vi/sK7euOOQK-4/maxresdefault.jpg',\n",
       "      'width': 1280,\n",
       "      'height': 720}},\n",
       "    'channelTitle': 'Ben Shapiro',\n",
       "    'playlistId': 'UUnQC_G5Xsjhp9fEJKuIcrSw',\n",
       "    'position': 0,\n",
       "    'resourceId': {'kind': 'youtube#video', 'videoId': 'sK7euOOQK-4'}},\n",
       "   'contentDetails': {'videoId': 'sK7euOOQK-4',\n",
       "    'videoPublishedAt': '2018-12-09T13:00:05.000Z'}}]}"
      ]
     },
     "execution_count": 21,
     "metadata": {},
     "output_type": "execute_result"
    }
   ],
   "source": [
    "# video_id\n",
    "result_vids"
   ]
  },
  {
   "cell_type": "code",
   "execution_count": 30,
   "metadata": {},
   "outputs": [],
   "source": [
    "total_vids = result_vids['pageInfo']['totalResults']"
   ]
  },
  {
   "cell_type": "code",
   "execution_count": 44,
   "metadata": {},
   "outputs": [],
   "source": [
    "max_results=50"
   ]
  },
  {
   "cell_type": "code",
   "execution_count": 46,
   "metadata": {},
   "outputs": [
    {
     "name": "stdout",
     "output_type": "stream",
     "text": [
      "0 to 50\n"
     ]
    }
   ],
   "source": [
    "for i_page in range(int(total_vids/max_results)):\n",
    "    print(str(i_page * max_results) + ' to ' + str((i_page+1)*max_results))"
   ]
  },
  {
   "cell_type": "code",
   "execution_count": 20,
   "metadata": {},
   "outputs": [
    {
     "data": {
      "text/plain": [
       "'sK7euOOQK-4'"
      ]
     },
     "execution_count": 20,
     "metadata": {},
     "output_type": "execute_result"
    }
   ],
   "source": [
    "result_vids['items'][0]['contentDetails']['videoId']"
   ]
  },
  {
   "cell_type": "markdown",
   "metadata": {},
   "source": [
    "# Parse a single Video"
   ]
  },
  {
   "cell_type": "code",
   "execution_count": 11,
   "metadata": {},
   "outputs": [],
   "source": [
    "video_id = 'sK7euOOQK-4'\n",
    "my_url='https://www.youtube.com/watch?v=%s' %(video_id)"
   ]
  },
  {
   "cell_type": "code",
   "execution_count": 12,
   "metadata": {},
   "outputs": [
    {
     "data": {
      "text/plain": [
       "'https://www.youtube.com/watch?v=sK7euOOQK-4'"
      ]
     },
     "execution_count": 12,
     "metadata": {},
     "output_type": "execute_result"
    }
   ],
   "source": [
    "my_url"
   ]
  },
  {
   "cell_type": "code",
   "execution_count": 14,
   "metadata": {},
   "outputs": [],
   "source": [
    "individual_vid = service.videos().list(\\\n",
    "id='sK7euOOQK-4',part='snippet,contentDetails').execute()\n",
    "                                           "
   ]
  },
  {
   "cell_type": "code",
   "execution_count": 15,
   "metadata": {},
   "outputs": [
    {
     "data": {
      "text/plain": [
       "{'kind': 'youtube#videoListResponse',\n",
       " 'etag': '\"XI7nbFXulYBIpL0ayR_gDh3eu1k/iTZaw3UujcGDtlci2Y2JsYTt82M\"',\n",
       " 'pageInfo': {'totalResults': 1, 'resultsPerPage': 1},\n",
       " 'items': [{'kind': 'youtube#video',\n",
       "   'etag': '\"XI7nbFXulYBIpL0ayR_gDh3eu1k/2DQo9D-gAQH3P_sbRk6K6ltZXSo\"',\n",
       "   'id': 'sK7euOOQK-4',\n",
       "   'snippet': {'publishedAt': '2018-12-09T13:00:05.000Z',\n",
       "    'channelId': 'UCnQC_G5Xsjhp9fEJKuIcrSw',\n",
       "    'title': 'Sunday Special Ep 30: David Limbaugh',\n",
       "    'description': 'Author and columnist David Limbaugh joins Ben to discuss how Christianity and Judaism have shaped America, how his thinking on Donald Trump has changed since 2016, and whether 2020 will be better than 2018 for Republicans.\\n\\nSubscribe to the Daily Wire to watch the bonus question! https://bit.ly/2q0wopL\\n\\nCheck Ben out on:\\nDaily Wire website: www.dailywire.com\\nFacebook: https://www.facebook.com/officialbenshapiro\\nTwitter: https://twitter.com/benshapiro\\nInstagram: @officialbenshapiro\\n \\nCheck David Limbaugh out on:\\nTwitter: https://twitter.com/davidlimbaugh',\n",
       "    'thumbnails': {'default': {'url': 'https://i.ytimg.com/vi/sK7euOOQK-4/default.jpg',\n",
       "      'width': 120,\n",
       "      'height': 90},\n",
       "     'medium': {'url': 'https://i.ytimg.com/vi/sK7euOOQK-4/mqdefault.jpg',\n",
       "      'width': 320,\n",
       "      'height': 180},\n",
       "     'high': {'url': 'https://i.ytimg.com/vi/sK7euOOQK-4/hqdefault.jpg',\n",
       "      'width': 480,\n",
       "      'height': 360},\n",
       "     'standard': {'url': 'https://i.ytimg.com/vi/sK7euOOQK-4/sddefault.jpg',\n",
       "      'width': 640,\n",
       "      'height': 480},\n",
       "     'maxres': {'url': 'https://i.ytimg.com/vi/sK7euOOQK-4/maxresdefault.jpg',\n",
       "      'width': 1280,\n",
       "      'height': 720}},\n",
       "    'channelTitle': 'Ben Shapiro',\n",
       "    'tags': ['ben shapiro',\n",
       "     'the ben shapiro show',\n",
       "     'sunday special',\n",
       "     'david limbaugh',\n",
       "     'christianity',\n",
       "     'judaism',\n",
       "     'america',\n",
       "     'donald trump',\n",
       "     'democrats',\n",
       "     'republicans',\n",
       "     'the daily wire',\n",
       "     'daily wire',\n",
       "     'David Limbaugh',\n",
       "     'Ben Shapiro',\n",
       "     'The Ben Shapiro Show',\n",
       "     'Daily Wire',\n",
       "     'Sunday Special',\n",
       "     'morality',\n",
       "     'word of God',\n",
       "     'church',\n",
       "     'conversion',\n",
       "     'Israel',\n",
       "     'saint',\n",
       "     'sinner',\n",
       "     'politics',\n",
       "     'Trump',\n",
       "     'Trump 2020',\n",
       "     'Leftism',\n",
       "     'the Left',\n",
       "     'theocracy'],\n",
       "    'categoryId': '25',\n",
       "    'liveBroadcastContent': 'none',\n",
       "    'localized': {'title': 'Sunday Special Ep 30: David Limbaugh',\n",
       "     'description': 'Author and columnist David Limbaugh joins Ben to discuss how Christianity and Judaism have shaped America, how his thinking on Donald Trump has changed since 2016, and whether 2020 will be better than 2018 for Republicans.\\n\\nSubscribe to the Daily Wire to watch the bonus question! https://bit.ly/2q0wopL\\n\\nCheck Ben out on:\\nDaily Wire website: www.dailywire.com\\nFacebook: https://www.facebook.com/officialbenshapiro\\nTwitter: https://twitter.com/benshapiro\\nInstagram: @officialbenshapiro\\n \\nCheck David Limbaugh out on:\\nTwitter: https://twitter.com/davidlimbaugh'},\n",
       "    'defaultAudioLanguage': 'en'},\n",
       "   'contentDetails': {'duration': 'PT51M18S',\n",
       "    'dimension': '2d',\n",
       "    'definition': 'hd',\n",
       "    'caption': 'false',\n",
       "    'licensedContent': False,\n",
       "    'projection': 'rectangular'}}]}"
      ]
     },
     "execution_count": 15,
     "metadata": {},
     "output_type": "execute_result"
    }
   ],
   "source": [
    "individual_vid"
   ]
  },
  {
   "cell_type": "code",
   "execution_count": 23,
   "metadata": {},
   "outputs": [
    {
     "data": {
      "text/plain": [
       "'Sunday Special Ep 30: David Limbaugh'"
      ]
     },
     "execution_count": 23,
     "metadata": {},
     "output_type": "execute_result"
    }
   ],
   "source": [
    "video_title =individual_vid['items'][0]['snippet']['title']\n",
    "video_title"
   ]
  },
  {
   "cell_type": "code",
   "execution_count": 31,
   "metadata": {},
   "outputs": [],
   "source": [
    "video =1\n",
    "comment=0\n",
    "reply=0"
   ]
  },
  {
   "cell_type": "code",
   "execution_count": 27,
   "metadata": {},
   "outputs": [
    {
     "data": {
      "text/plain": [
       "'2018-12-09T13:00:05.000Z'"
      ]
     },
     "execution_count": 27,
     "metadata": {},
     "output_type": "execute_result"
    }
   ],
   "source": [
    "video_date_posted =individual_vid['items'][0]['snippet']['publishedAt']\n",
    "video_date_posted"
   ]
  },
  {
   "cell_type": "code",
   "execution_count": null,
   "metadata": {},
   "outputs": [],
   "source": [
    "video_date_posted =individual_vid['items'][0]['snippet']['publishedAt']\n",
    "video_date_posted"
   ]
  },
  {
   "cell_type": "code",
   "execution_count": 47,
   "metadata": {},
   "outputs": [],
   "source": [
    "date_scrape = datetime.datetime.now(new_timezone).strftime(\"%Y_%m_%d_%H_%M_%S\")"
   ]
  },
  {
   "cell_type": "code",
   "execution_count": 46,
   "metadata": {},
   "outputs": [
    {
     "data": {
      "text/plain": [
       "'Ben Shapiro'"
      ]
     },
     "execution_count": 46,
     "metadata": {},
     "output_type": "execute_result"
    }
   ],
   "source": [
    "video_op =individual_vid['items'][0]['snippet']['channelTitle']\n",
    "comment_op=''\n",
    "reply_op=''\n",
    "video_op"
   ]
  },
  {
   "cell_type": "code",
   "execution_count": 45,
   "metadata": {},
   "outputs": [
    {
     "data": {
      "text/plain": [
       "'Author and columnist David Limbaugh joins Ben to discuss how Christianity and Judaism have shaped America, how his thinking on Donald Trump has changed since 2016, and whether 2020 will be better than 2018 for Republicans.\\n\\nSubscribe to the Daily Wire to watch the bonus question! https://bit.ly/2q0wopL\\n\\nCheck Ben out on:\\nDaily Wire website: www.dailywire.com\\nFacebook: https://www.facebook.com/officialbenshapiro\\nTwitter: https://twitter.com/benshapiro\\nInstagram: @officialbenshapiro\\n \\nCheck David Limbaugh out on:\\nTwitter: https://twitter.com/davidlimbaugh'"
      ]
     },
     "execution_count": 45,
     "metadata": {},
     "output_type": "execute_result"
    }
   ],
   "source": [
    "video_snippet = individual_vid['items'][0]['snippet']['description']\n",
    "video_snippet"
   ]
  },
  {
   "cell_type": "code",
   "execution_count": 51,
   "metadata": {},
   "outputs": [],
   "source": [
    "x =  { \"video_id\": video_id, \"video_url\":my_url,\\\n",
    "      \"video_title\":video_title, \\\n",
    "#       \"channel\":channel,\\\n",
    "#      \"series\":series, \\\n",
    "     \"video_snippet\":video_snippet,\\\n",
    "     \"video\":video,\"comment\":comment,\"reply\":reply,\\\n",
    "     \"video_op\":video_op, \"comment_op\":comment_op,\\\n",
    "     \"reply_op\":reply_op,\"date_posted\":video_date_posted,\\\n",
    "#      \"content\":transcript,\\\n",
    "      \"date_scrape\":date_scrape}"
   ]
  },
  {
   "cell_type": "code",
   "execution_count": 52,
   "metadata": {},
   "outputs": [
    {
     "data": {
      "text/plain": [
       "{'video_id': 'sK7euOOQK-4',\n",
       " 'video_url': 'https://www.youtube.com/watch?v=sK7euOOQK-4',\n",
       " 'video_title': 'Sunday Special Ep 30: David Limbaugh',\n",
       " 'video_snippet': 'Author and columnist David Limbaugh joins Ben to discuss how Christianity and Judaism have shaped America, how his thinking on Donald Trump has changed since 2016, and whether 2020 will be better than 2018 for Republicans.\\n\\nSubscribe to the Daily Wire to watch the bonus question! https://bit.ly/2q0wopL\\n\\nCheck Ben out on:\\nDaily Wire website: www.dailywire.com\\nFacebook: https://www.facebook.com/officialbenshapiro\\nTwitter: https://twitter.com/benshapiro\\nInstagram: @officialbenshapiro\\n \\nCheck David Limbaugh out on:\\nTwitter: https://twitter.com/davidlimbaugh',\n",
       " 'video': 1,\n",
       " 'comment': 0,\n",
       " 'reply': 0,\n",
       " 'video_op': 'Ben Shapiro',\n",
       " 'comment_op': '',\n",
       " 'reply_op': '',\n",
       " 'date_posted': '2018-12-09T13:00:05.000Z',\n",
       " 'date_scrape': '2018_12_10_07_14_17'}"
      ]
     },
     "execution_count": 52,
     "metadata": {},
     "output_type": "execute_result"
    }
   ],
   "source": [
    "x"
   ]
  },
  {
   "cell_type": "code",
   "execution_count": null,
   "metadata": {},
   "outputs": [],
   "source": []
  },
  {
   "cell_type": "code",
   "execution_count": null,
   "metadata": {},
   "outputs": [],
   "source": []
  },
  {
   "cell_type": "markdown",
   "metadata": {},
   "source": [
    "## Extract Comments"
   ]
  },
  {
   "cell_type": "code",
   "execution_count": 95,
   "metadata": {},
   "outputs": [],
   "source": [
    "result_comments= service.commentThreads().list(\n",
    "    part=\"snippet,replies\",\n",
    "    videoId=video_id,\n",
    "    textFormat=\"plainText\",\n",
    "    maxResults=100\n",
    "  ).execute()"
   ]
  },
  {
   "cell_type": "code",
   "execution_count": 54,
   "metadata": {},
   "outputs": [
    {
     "data": {
      "text/plain": [
       "1"
      ]
     },
     "execution_count": 54,
     "metadata": {},
     "output_type": "execute_result"
    }
   ],
   "source": [
    "result_comments['pageInfo']['totalResults']"
   ]
  },
  {
   "cell_type": "code",
   "execution_count": 55,
   "metadata": {},
   "outputs": [
    {
     "data": {
      "text/plain": [
       "{'kind': 'youtube#commentThreadListResponse',\n",
       " 'etag': '\"XI7nbFXulYBIpL0ayR_gDh3eu1k/R6US-T41ng5wGiw4-z4SvQo906U\"',\n",
       " 'nextPageToken': 'QURTSl9pMUJSNGI1clJmNVhlNEh4RFl3TlQ3T3RnVkVLaGlrd3hpcDI5TDQ3X2JfWF9Eemg2cnlkWmpkSEtaaDdGa05ENTdrZDJqaktic1dLRmVOd0NrT1RyN19xTEtLb0JORXF5UHN5Nk16bzVybGJTWUthMjR0bHROWU5XTlF1SXM=',\n",
       " 'pageInfo': {'totalResults': 1, 'resultsPerPage': 1},\n",
       " 'items': [{'kind': 'youtube#commentThread',\n",
       "   'etag': '\"XI7nbFXulYBIpL0ayR_gDh3eu1k/j2wr-NGhrxTtlJV8g8w6EuJCKWQ\"',\n",
       "   'id': 'Ugxs4x23BQyM4_bKaWh4AaABAg',\n",
       "   'snippet': {'videoId': 'sK7euOOQK-4',\n",
       "    'topLevelComment': {'kind': 'youtube#comment',\n",
       "     'etag': '\"XI7nbFXulYBIpL0ayR_gDh3eu1k/K_ZyBbCbe4Z5ER-UgE4XM0DtKSA\"',\n",
       "     'id': 'Ugxs4x23BQyM4_bKaWh4AaABAg',\n",
       "     'snippet': {'authorDisplayName': 'DomManInT1',\n",
       "      'authorProfileImageUrl': 'https://yt3.ggpht.com/-UeLVQy7FA-o/AAAAAAAAAAI/AAAAAAAAAAA/Ylc24g47Z3M/s28-c-k-no-mo-rj-c0xffffff/photo.jpg',\n",
       "      'authorChannelUrl': 'http://www.youtube.com/channel/UCXVjqsEe5M-W7Rh7sVQESwg',\n",
       "      'authorChannelId': {'value': 'UCXVjqsEe5M-W7Rh7sVQESwg'},\n",
       "      'videoId': 'sK7euOOQK-4',\n",
       "      'textDisplay': 'A lot of chattering, stuttering, and broken sentences from the guest. Not very persuasive.',\n",
       "      'textOriginal': 'A lot of chattering, stuttering, and broken sentences from the guest. Not very persuasive.',\n",
       "      'canRate': True,\n",
       "      'viewerRating': 'none',\n",
       "      'likeCount': 0,\n",
       "      'publishedAt': '2018-12-10T06:12:31.000Z',\n",
       "      'updatedAt': '2018-12-10T06:12:31.000Z'}},\n",
       "    'canReply': True,\n",
       "    'totalReplyCount': 0,\n",
       "    'isPublic': True}}]}"
      ]
     },
     "execution_count": 55,
     "metadata": {},
     "output_type": "execute_result"
    }
   ],
   "source": [
    "result_comments"
   ]
  },
  {
   "cell_type": "code",
   "execution_count": null,
   "metadata": {},
   "outputs": [],
   "source": [
    "result_comments"
   ]
  },
  {
   "cell_type": "code",
   "execution_count": 57,
   "metadata": {},
   "outputs": [],
   "source": [
    "video =0\n",
    "comment=1\n",
    "reply=0"
   ]
  },
  {
   "cell_type": "code",
   "execution_count": 70,
   "metadata": {},
   "outputs": [
    {
     "data": {
      "text/plain": [
       "'Ben Shapiro'"
      ]
     },
     "metadata": {},
     "output_type": "display_data"
    },
    {
     "data": {
      "text/plain": [
       "'DomManInT1'"
      ]
     },
     "metadata": {},
     "output_type": "display_data"
    }
   ],
   "source": [
    "video_op =video_op\n",
    "comment_op=result_comments['items'][0]['snippet']['topLevelComment']['snippet']['authorDisplayName']\n",
    "reply_op=''\n",
    "display(video_op)\n",
    "display(comment_op)"
   ]
  },
  {
   "cell_type": "code",
   "execution_count": 82,
   "metadata": {},
   "outputs": [],
   "source": [
    "comment_date_posted =result_comments['items'][0]['snippet']['topLevelComment']['snippet']['publishedAt']"
   ]
  },
  {
   "cell_type": "code",
   "execution_count": 89,
   "metadata": {},
   "outputs": [
    {
     "data": {
      "text/plain": [
       "'A lot of chattering, stuttering, and broken sentences from the guest. Not very persuasive.'"
      ]
     },
     "execution_count": 89,
     "metadata": {},
     "output_type": "execute_result"
    }
   ],
   "source": [
    "comment_content = result_comments['items'][0]['snippet']['topLevelComment']['snippet']['textOriginal']\n",
    "comment_content"
   ]
  },
  {
   "cell_type": "code",
   "execution_count": 90,
   "metadata": {},
   "outputs": [
    {
     "data": {
      "text/plain": [
       "{'video_id': 'sK7euOOQK-4',\n",
       " 'video_url': 'https://www.youtube.com/watch?v=sK7euOOQK-4',\n",
       " 'video_title': 'Sunday Special Ep 30: David Limbaugh',\n",
       " 'video_snippet': 'Author and columnist David Limbaugh joins Ben to discuss how Christianity and Judaism have shaped America, how his thinking on Donald Trump has changed since 2016, and whether 2020 will be better than 2018 for Republicans.\\n\\nSubscribe to the Daily Wire to watch the bonus question! https://bit.ly/2q0wopL\\n\\nCheck Ben out on:\\nDaily Wire website: www.dailywire.com\\nFacebook: https://www.facebook.com/officialbenshapiro\\nTwitter: https://twitter.com/benshapiro\\nInstagram: @officialbenshapiro\\n \\nCheck David Limbaugh out on:\\nTwitter: https://twitter.com/davidlimbaugh',\n",
       " 'video': 0,\n",
       " 'comment': 1,\n",
       " 'reply': 0,\n",
       " 'video_op': 'Ben Shapiro',\n",
       " 'comment_op': 'DomManInT1',\n",
       " 'reply_op': '',\n",
       " 'date_posted': '2018-12-10T06:12:31.000Z',\n",
       " 'content': 'A lot of chattering, stuttering, and broken sentences from the guest. Not very persuasive.',\n",
       " 'date_scrape': '2018_12_10_07_14_17'}"
      ]
     },
     "execution_count": 90,
     "metadata": {},
     "output_type": "execute_result"
    }
   ],
   "source": [
    "x =  { \"video_id\": video_id, \"video_url\":my_url,\\\n",
    "      \"video_title\":video_title, \\\n",
    "#       \"channel\":channel,\\\n",
    "#      \"series\":series, \\\n",
    "     \"video_snippet\":video_snippet,\\\n",
    "     \"video\":video,\"comment\":comment,\"reply\":reply,\\\n",
    "     \"video_op\":video_op, \"comment_op\":comment_op,\\\n",
    "     \"reply_op\":reply_op,\"date_posted\":comment_date_posted,\\\n",
    "     \"content\":comment_content,\\\n",
    "      \"date_scrape\":date_scrape}\n",
    "x"
   ]
  },
  {
   "cell_type": "code",
   "execution_count": null,
   "metadata": {},
   "outputs": [],
   "source": []
  },
  {
   "cell_type": "markdown",
   "metadata": {},
   "source": [
    "## Extract Reply"
   ]
  },
  {
   "cell_type": "code",
   "execution_count": null,
   "metadata": {},
   "outputs": [],
   "source": [
    "# result_comments['items'][0]['snippet']['totalReplyCount']"
   ]
  },
  {
   "cell_type": "code",
   "execution_count": 115,
   "metadata": {},
   "outputs": [
    {
     "data": {
      "text/plain": [
       "{'kind': 'youtube#commentThread',\n",
       " 'etag': '\"XI7nbFXulYBIpL0ayR_gDh3eu1k/FH1ujImpbefhkzjc2bVMiZfpabE\"',\n",
       " 'id': 'Ugwr8aTKL2Ac4B7szNV4AaABAg',\n",
       " 'snippet': {'videoId': 'sK7euOOQK-4',\n",
       "  'topLevelComment': {'kind': 'youtube#comment',\n",
       "   'etag': '\"XI7nbFXulYBIpL0ayR_gDh3eu1k/7zz--rViwwzKXfzl-auWtiMMTf8\"',\n",
       "   'id': 'Ugwr8aTKL2Ac4B7szNV4AaABAg',\n",
       "   'snippet': {'authorDisplayName': 'Devorah BatMiriamGoldaVMordecai Bayer',\n",
       "    'authorProfileImageUrl': 'https://yt3.ggpht.com/-eHEQ1TjpZ60/AAAAAAAAAAI/AAAAAAAAAAA/QmMPDTLj7ZA/s28-c-k-no-mo-rj-c0xffffff/photo.jpg',\n",
       "    'authorChannelUrl': 'http://www.youtube.com/channel/UCpGCxjLA9RBVi1vGT9vC2KQ',\n",
       "    'authorChannelId': {'value': 'UCpGCxjLA9RBVi1vGT9vC2KQ'},\n",
       "    'videoId': 'sK7euOOQK-4',\n",
       "    'textDisplay': 'Ben, sorry, I as a Torah observant Jew, can’t hold by followers of Yesha.',\n",
       "    'textOriginal': 'Ben, sorry, I as a Torah observant Jew, can’t hold by followers of Yesha.',\n",
       "    'canRate': True,\n",
       "    'viewerRating': 'none',\n",
       "    'likeCount': 2,\n",
       "    'publishedAt': '2018-12-09T15:20:31.000Z',\n",
       "    'updatedAt': '2018-12-09T15:20:31.000Z'}},\n",
       "  'canReply': True,\n",
       "  'totalReplyCount': 2,\n",
       "  'isPublic': True},\n",
       " 'replies': {'comments': [{'kind': 'youtube#comment',\n",
       "    'etag': '\"XI7nbFXulYBIpL0ayR_gDh3eu1k/WhiNROpnl-hMEwTuGsB9jp6ZteA\"',\n",
       "    'id': 'Ugwr8aTKL2Ac4B7szNV4AaABAg.8odTt8FaUJd8ofiluGyoh5',\n",
       "    'snippet': {'authorDisplayName': 'Jeh Jeh',\n",
       "     'authorProfileImageUrl': 'https://yt3.ggpht.com/-ervT61WBT-s/AAAAAAAAAAI/AAAAAAAAAAA/7iuVkptun2Q/s28-c-k-no-mo-rj-c0xffffff/photo.jpg',\n",
       "     'authorChannelUrl': 'http://www.youtube.com/channel/UCLQGSA8qFWY7KyoIk3qczew',\n",
       "     'authorChannelId': {'value': 'UCLQGSA8qFWY7KyoIk3qczew'},\n",
       "     'videoId': 'sK7euOOQK-4',\n",
       "     'textDisplay': \"Why? Yeshua was a Jew and went to temple. He never put down the Jews and came to take their sins upon him. I'm curious as to why the Jews stopped sacrificing live animals.\",\n",
       "     'textOriginal': \"Why? Yeshua was a Jew and went to temple. He never put down the Jews and came to take their sins upon him. I'm curious as to why the Jews stopped sacrificing live animals.\",\n",
       "     'parentId': 'Ugwr8aTKL2Ac4B7szNV4AaABAg',\n",
       "     'canRate': True,\n",
       "     'viewerRating': 'none',\n",
       "     'likeCount': 0,\n",
       "     'publishedAt': '2018-12-10T12:17:49.000Z',\n",
       "     'updatedAt': '2018-12-10T12:19:14.000Z'}},\n",
       "   {'kind': 'youtube#comment',\n",
       "    'etag': '\"XI7nbFXulYBIpL0ayR_gDh3eu1k/ivZkfQIa50gvhqmpB3yH3NhbCo8\"',\n",
       "    'id': 'Ugwr8aTKL2Ac4B7szNV4AaABAg.8odTt8FaUJd8oe7JJzmyJf',\n",
       "    'snippet': {'authorDisplayName': 'Mr Incognito',\n",
       "     'authorProfileImageUrl': 'https://yt3.ggpht.com/-fIFea80xnCU/AAAAAAAAAAI/AAAAAAAAAAA/PlGvINTOQpA/s28-c-k-no-mo-rj-c0xffffff/photo.jpg',\n",
       "     'authorChannelUrl': 'http://www.youtube.com/channel/UCTzg_LZdxvu3ZxweOVmykNQ',\n",
       "     'authorChannelId': {'value': 'UCTzg_LZdxvu3ZxweOVmykNQ'},\n",
       "     'videoId': 'sK7euOOQK-4',\n",
       "     'textDisplay': 'That just shows your inability to perform due diligence.',\n",
       "     'textOriginal': 'That just shows your inability to perform due diligence.',\n",
       "     'parentId': 'Ugwr8aTKL2Ac4B7szNV4AaABAg',\n",
       "     'canRate': True,\n",
       "     'viewerRating': 'none',\n",
       "     'likeCount': 1,\n",
       "     'publishedAt': '2018-12-09T21:22:29.000Z',\n",
       "     'updatedAt': '2018-12-09T21:22:29.000Z'}}]}}"
      ]
     },
     "metadata": {},
     "output_type": "display_data"
    }
   ],
   "source": [
    "for x in result_comments['items']:\n",
    "    if (x['snippet']['totalReplyCount']>1):\n",
    "#     'dfdf'.\n",
    "#         print(x)\n",
    "        display(x)\n",
    "        test=x\n",
    "        break\n",
    "# result_comments['items'][0]['id']"
   ]
  },
  {
   "cell_type": "code",
   "execution_count": 125,
   "metadata": {},
   "outputs": [
    {
     "data": {
      "text/plain": [
       "'Jeh Jeh'"
      ]
     },
     "execution_count": 125,
     "metadata": {},
     "output_type": "execute_result"
    }
   ],
   "source": [
    "x['replies']['comments'][0]['snippet']['authorDisplayName']"
   ]
  },
  {
   "cell_type": "code",
   "execution_count": 128,
   "metadata": {},
   "outputs": [
    {
     "data": {
      "text/plain": [
       "\"Why? Yeshua was a Jew and went to temple. He never put down the Jews and came to take their sins upon him. I'm curious as to why the Jews stopped sacrificing live animals.\""
      ]
     },
     "execution_count": 128,
     "metadata": {},
     "output_type": "execute_result"
    }
   ],
   "source": [
    "x['replies']['comments'][0]['snippet']['textOriginal']"
   ]
  },
  {
   "cell_type": "code",
   "execution_count": 131,
   "metadata": {},
   "outputs": [
    {
     "data": {
      "text/plain": [
       "'2018-12-10T12:17:49.000Z'"
      ]
     },
     "execution_count": 131,
     "metadata": {},
     "output_type": "execute_result"
    }
   ],
   "source": [
    "reply_content = x['replies']['comments'][0]['snippet']['publishedAt']"
   ]
  },
  {
   "cell_type": "code",
   "execution_count": null,
   "metadata": {},
   "outputs": [],
   "source": [
    "video =0\n",
    "comment=0\n",
    "reply=1"
   ]
  },
  {
   "cell_type": "code",
   "execution_count": null,
   "metadata": {},
   "outputs": [],
   "source": [
    "x =  { \"video_id\": video_id, \"video_url\":my_url,\\\n",
    "      \"video_title\":video_title, \\\n",
    "#       \"channel\":channel,\\\n",
    "#      \"series\":series, \\\n",
    "     \"video_snippet\":video_snippet,\\\n",
    "     \"video\":video,\"comment\":comment,\"reply\":reply,\\\n",
    "     \"video_op\":video_op, \"comment_op\":comment_op,\\\n",
    "     \"reply_op\":reply_op,\"date_posted\":comment_date_posted,\\\n",
    "     \"content\":reply_content,\\\n",
    "      \"date_scrape\":date_scrape}\n",
    "x"
   ]
  },
  {
   "cell_type": "code",
   "execution_count": 166,
   "metadata": {},
   "outputs": [
    {
     "data": {
      "text/plain": [
       "{'authorDisplayName': 'Firenze 64',\n",
       " 'authorProfileImageUrl': 'https://yt3.ggpht.com/-KjHNkwHdaoY/AAAAAAAAAAI/AAAAAAAAAAA/N09yThjvOYg/s28-c-k-no-mo-rj-c0xffffff/photo.jpg',\n",
       " 'authorChannelUrl': 'http://www.youtube.com/channel/UCQJLqOsy7dx7cMVHA-vozfA',\n",
       " 'authorChannelId': {'value': 'UCQJLqOsy7dx7cMVHA-vozfA'},\n",
       " 'videoId': 'A1tqTQkC36A',\n",
       " 'textDisplay': 'They weren’t hooray',\n",
       " 'textOriginal': 'They weren’t hooray',\n",
       " 'parentId': 'UgwQTQvknQyoCTRAkUp4AaABAg',\n",
       " 'canRate': True,\n",
       " 'viewerRating': 'none',\n",
       " 'likeCount': 0,\n",
       " 'publishedAt': '2018-11-07T10:50:15.000Z',\n",
       " 'updatedAt': '2018-11-07T10:50:15.000Z'}"
      ]
     },
     "metadata": {},
     "output_type": "display_data"
    },
    {
     "data": {
      "text/plain": [
       "'Firenze 64'"
      ]
     },
     "metadata": {},
     "output_type": "display_data"
    },
    {
     "data": {
      "text/plain": [
       "'They weren’t hooray'"
      ]
     },
     "metadata": {},
     "output_type": "display_data"
    },
    {
     "data": {
      "text/plain": [
       "'jdski 892'"
      ]
     },
     "metadata": {},
     "output_type": "display_data"
    }
   ],
   "source": [
    "display(test['replies']['comments'][0]['snippet'])\n",
    "#author\n",
    "display(test['replies']['comments'][0]['snippet']['authorDisplayName'])\n",
    "#text\n",
    "display(test['replies']['comments'][0]['snippet']['textOriginal'])\n",
    "#replies to\n",
    "\n",
    "display(test['snippet']['topLevelComment']['snippet']['authorDisplayName'])"
   ]
  },
  {
   "cell_type": "code",
   "execution_count": 165,
   "metadata": {},
   "outputs": [
    {
     "data": {
      "text/plain": [
       "'jdski 892'"
      ]
     },
     "metadata": {},
     "output_type": "display_data"
    }
   ],
   "source": []
  },
  {
   "cell_type": "code",
   "execution_count": 131,
   "metadata": {},
   "outputs": [],
   "source": [
    "test = 'dfdf'"
   ]
  },
  {
   "cell_type": "code",
   "execution_count": null,
   "metadata": {},
   "outputs": [],
   "source": [
    "test.s"
   ]
  },
  {
   "cell_type": "code",
   "execution_count": 104,
   "metadata": {},
   "outputs": [],
   "source": [
    "result_comments_few= service.commentThreads().list(\n",
    "    part=\"snippet,replies\",\n",
    "    videoId='mJxcNiyWd8Q',\n",
    "    textFormat=\"plainText\",\n",
    "    maxResults=20\n",
    "  ).execute()"
   ]
  },
  {
   "cell_type": "code",
   "execution_count": 105,
   "metadata": {},
   "outputs": [
    {
     "data": {
      "text/plain": [
       "{'kind': 'youtube#commentThreadListResponse',\n",
       " 'etag': '\"XI7nbFXulYBIpL0ayR_gDh3eu1k/7R7kGnSuNn1ev9K0QBn6s42ZS-c\"',\n",
       " 'pageInfo': {'totalResults': 1, 'resultsPerPage': 20},\n",
       " 'items': [{'kind': 'youtube#commentThread',\n",
       "   'etag': '\"XI7nbFXulYBIpL0ayR_gDh3eu1k/oyvilhiKGJn-cz5XF0UZwOk-y8U\"',\n",
       "   'id': 'Ugy8p74MxrNmAuc-bDt4AaABAg',\n",
       "   'snippet': {'videoId': 'mJxcNiyWd8Q',\n",
       "    'topLevelComment': {'kind': 'youtube#comment',\n",
       "     'etag': '\"XI7nbFXulYBIpL0ayR_gDh3eu1k/MX908Wo7vLtzb2lHWOyMDa-UIIg\"',\n",
       "     'id': 'Ugy8p74MxrNmAuc-bDt4AaABAg',\n",
       "     'snippet': {'authorDisplayName': 'Rogelio Suy',\n",
       "      'authorProfileImageUrl': 'https://yt3.ggpht.com/-Qv1MAzjHUUA/AAAAAAAAAAI/AAAAAAAAAAA/y7Lis1LMuts/s28-c-k-no-mo-rj-c0xffffff/photo.jpg',\n",
       "      'authorChannelUrl': 'http://www.youtube.com/channel/UCvjzL0gqxWhvcW1P3HcvSiQ',\n",
       "      'authorChannelId': {'value': 'UCvjzL0gqxWhvcW1P3HcvSiQ'},\n",
       "      'videoId': 'mJxcNiyWd8Q',\n",
       "      'textDisplay': 'Ganda ang mga song\\'s Lalong-lalo na tong \" Ikaw Ang Iibigin Ko\" ....at \"Forevermore\".....',\n",
       "      'textOriginal': 'Ganda ang mga song\\'s Lalong-lalo na tong \" Ikaw Ang Iibigin Ko\" ....at \"Forevermore\".....',\n",
       "      'canRate': True,\n",
       "      'viewerRating': 'none',\n",
       "      'likeCount': 0,\n",
       "      'publishedAt': '2018-12-09T17:01:46.000Z',\n",
       "      'updatedAt': '2018-12-09T17:01:46.000Z'}},\n",
       "    'canReply': True,\n",
       "    'totalReplyCount': 0,\n",
       "    'isPublic': True}}]}"
      ]
     },
     "execution_count": 105,
     "metadata": {},
     "output_type": "execute_result"
    }
   ],
   "source": [
    "result_comments_few"
   ]
  },
  {
   "cell_type": "code",
   "execution_count": 77,
   "metadata": {},
   "outputs": [
    {
     "data": {
      "text/plain": [
       "{'videoId': 'sK7euOOQK-4',\n",
       " 'topLevelComment': {'kind': 'youtube#comment',\n",
       "  'etag': '\"XI7nbFXulYBIpL0ayR_gDh3eu1k/3ZtV8-2TTVaaXlxn8pHyzAYSkpA\"',\n",
       "  'id': 'UgyO1EYSuRR3VoBekHd4AaABAg',\n",
       "  'snippet': {'authorDisplayName': 'The Poser Podcast',\n",
       "   'authorProfileImageUrl': 'https://yt3.ggpht.com/-XksVdHtfb_k/AAAAAAAAAAI/AAAAAAAAAAA/58FRXDO6NMg/s28-c-k-no-mo-rj-c0xffffff/photo.jpg',\n",
       "   'authorChannelUrl': 'http://www.youtube.com/channel/UCNoq4F8Z66onlLtMB6ilCKA',\n",
       "   'authorChannelId': {'value': 'UCNoq4F8Z66onlLtMB6ilCKA'},\n",
       "   'videoId': 'sK7euOOQK-4',\n",
       "   'textDisplay': 'This guy is piss weak',\n",
       "   'textOriginal': 'This guy is piss weak',\n",
       "   'canRate': True,\n",
       "   'viewerRating': 'none',\n",
       "   'likeCount': 0,\n",
       "   'publishedAt': '2018-12-10T05:50:01.000Z',\n",
       "   'updatedAt': '2018-12-10T05:50:01.000Z'}},\n",
       " 'canReply': True,\n",
       " 'totalReplyCount': 0,\n",
       " 'isPublic': True}"
      ]
     },
     "execution_count": 77,
     "metadata": {},
     "output_type": "execute_result"
    }
   ],
   "source": [
    "result_comments['items'][0]['snippet']"
   ]
  },
  {
   "cell_type": "code",
   "execution_count": null,
   "metadata": {},
   "outputs": [],
   "source": [
    "result"
   ]
  },
  {
   "cell_type": "code",
   "execution_count": 113,
   "metadata": {},
   "outputs": [],
   "source": [
    "result_com = service.comments().list(\n",
    "  part=\"snippet\",\n",
    "  parentId='UgwQTQvknQyoCTRAkUp4AaABAg',\n",
    "  textFormat=\"plainText\"\n",
    ").execute()"
   ]
  },
  {
   "cell_type": "code",
   "execution_count": 110,
   "metadata": {},
   "outputs": [
    {
     "data": {
      "text/plain": [
       "{'kind': 'youtube#commentListResponse',\n",
       " 'etag': '\"XI7nbFXulYBIpL0ayR_gDh3eu1k/6nUGxaj7vAVtBKWheQdcDliTN-0\"',\n",
       " 'pageInfo': {'resultsPerPage': 20},\n",
       " 'items': [{'kind': 'youtube#comment',\n",
       "   'etag': '\"XI7nbFXulYBIpL0ayR_gDh3eu1k/29SGnIYALXlm7Z0TrbsHeFx-jzQ\"',\n",
       "   'id': 'UgwQTQvknQyoCTRAkUp4AaABAg.8nK74henT5a8nLaWiger9N',\n",
       "   'snippet': {'authorDisplayName': 'Firenze 64',\n",
       "    'authorProfileImageUrl': 'https://yt3.ggpht.com/-KjHNkwHdaoY/AAAAAAAAAAI/AAAAAAAAAAA/N09yThjvOYg/s28-c-k-no-mo-rj-c0xffffff/photo.jpg',\n",
       "    'authorChannelUrl': 'http://www.youtube.com/channel/UCQJLqOsy7dx7cMVHA-vozfA',\n",
       "    'authorChannelId': {'value': 'UCQJLqOsy7dx7cMVHA-vozfA'},\n",
       "    'textDisplay': 'They weren’t hooray',\n",
       "    'textOriginal': 'They weren’t hooray',\n",
       "    'parentId': 'UgwQTQvknQyoCTRAkUp4AaABAg',\n",
       "    'canRate': True,\n",
       "    'viewerRating': 'none',\n",
       "    'likeCount': 0,\n",
       "    'publishedAt': '2018-11-07T10:50:15.000Z',\n",
       "    'updatedAt': '2018-11-07T10:50:15.000Z'}}]}"
      ]
     },
     "execution_count": 110,
     "metadata": {},
     "output_type": "execute_result"
    }
   ],
   "source": [
    "result_com"
   ]
  },
  {
   "cell_type": "code",
   "execution_count": null,
   "metadata": {},
   "outputs": [],
   "source": [
    "x =  { \"video_id\": video_id, \"video_url\":my_url,\\\n",
    "      \"video_title\":video_title, \"channel\":channel,\\\n",
    "     \"series\":series, \"video_snippet\":description,\\\n",
    "     \"video\":video,\"comment\":comment,\"reply\":reply,\\\n",
    "     \"video_op\":video_op, \"comment_op\":comment_op,\\\n",
    "     \"reply_op\":reply_op,\"date_posted\":date_posted,\\\n",
    "     \"content\":transcript,\"date_scrape\":date_scrape}"
   ]
  }
 ],
 "metadata": {
  "kernelspec": {
   "display_name": "Python 3",
   "language": "python",
   "name": "python3"
  },
  "language_info": {
   "codemirror_mode": {
    "name": "ipython",
    "version": 3
   },
   "file_extension": ".py",
   "mimetype": "text/x-python",
   "name": "python",
   "nbconvert_exporter": "python",
   "pygments_lexer": "ipython3",
   "version": "3.7.0"
  }
 },
 "nbformat": 4,
 "nbformat_minor": 2
}
