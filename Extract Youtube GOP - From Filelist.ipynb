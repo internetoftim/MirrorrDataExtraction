{
 "cells": [
  {
   "cell_type": "code",
   "execution_count": 1,
   "metadata": {},
   "outputs": [],
   "source": [
    "from selenium import webdriver\n",
    "from selenium.webdriver.common.by import By\n",
    "from selenium.webdriver.support.ui import WebDriverWait\n",
    "from selenium.webdriver.support import expected_conditions as EC\n",
    "from selenium.webdriver.common.keys import Keys\n",
    "from selenium.webdriver.support.ui import Select\n",
    "from selenium.webdriver.common.action_chains import ActionChains\n",
    "import requests, re, json ,pprint\n",
    "from bs4 import BeautifulSoup\n",
    "import pandas as pd\n",
    "import urllib\n",
    "import urllib.request\n",
    "from selenium.webdriver.common.keys import Keys\n",
    "from IPython.display import Image\n",
    "from urllib.parse import urlparse\n",
    "from time import sleep\n",
    "import datetime\n",
    "import pytz # new import\n",
    "new_timezone = pytz.timezone(\"US/Eastern\")\n",
    "import spacy\n",
    "import en_core_web_sm\n",
    "import en_core_web_lg\n",
    "import en_vectors_web_lg\n",
    "import en_core_web_md\n",
    "import csv\n",
    "from dateparser.search import search_dates\n",
    "import arrow\n",
    "import datetime\n",
    "from selenium.webdriver.support import expected_conditions as EC\n",
    "import numpy as np"
   ]
  },
  {
   "cell_type": "code",
   "execution_count": 2,
   "metadata": {},
   "outputs": [],
   "source": [
    "driver_path='./chromedriver'\n",
    "options = webdriver.ChromeOptions()\n",
    "options.add_argument('headless')   \n",
    "driver = webdriver.Chrome(driver_path,options=options)\n",
    "# driver = webdriver.Chrome('./chromedriver')\n",
    "driver.implicitly_wait(10)"
   ]
  },
  {
   "cell_type": "code",
   "execution_count": 3,
   "metadata": {},
   "outputs": [],
   "source": [
    "def reload_test_site():\n",
    "    my_url = 'https://www.youtube.com/watch?v=A1tqTQkC36A&amp;lc=Ugw0nq07e-G5JyUsl094AaABAg'\n",
    "    driver.get(my_url)\n",
    "    sleep(1)"
   ]
  },
  {
   "cell_type": "code",
   "execution_count": 4,
   "metadata": {},
   "outputs": [],
   "source": [
    "def get_driver(driver,my_url):\n",
    "#     my_url = 'https://www.youtube.com/watch?v=A1tqTQkC36A&amp;lc=Ugw0nq07e-G5JyUsl094AaABAg'\n",
    "    driver.get(my_url)\n",
    "    return driver\n",
    "#     sleep(1)"
   ]
  },
  {
   "cell_type": "markdown",
   "metadata": {
    "collapsed": true
   },
   "source": [
    "## Define User ID"
   ]
  },
  {
   "cell_type": "code",
   "execution_count": 5,
   "metadata": {},
   "outputs": [],
   "source": [
    "def extract_transcript(driver):\n",
    "    sleep(2)\n",
    "    driver.implicitly_wait(10)\n",
    "    test = driver.find_element_by_xpath(\"//button[@aria-label='More actions']\");\n",
    "    test.click()\n",
    "    driver.implicitly_wait(10)\n",
    "    test_out = driver.find_element_by_xpath('//yt-formatted-string[text() =\"Open transcript\"]')\n",
    "    test_out.click()\n",
    "    driver.implicitly_wait(10)\n",
    "    test_out = driver.find_element_by_xpath('//div[@id=\"body\"]/ytd-transcript-body-renderer')\n",
    "    test_body = test_out.text.encode('utf-8')    \n",
    "    \n",
    "    return test_body.decode('utf-8','ignore')"
   ]
  },
  {
   "cell_type": "markdown",
   "metadata": {},
   "source": [
    "## Extract from List of Videos"
   ]
  },
  {
   "cell_type": "code",
   "execution_count": null,
   "metadata": {},
   "outputs": [],
   "source": [
    "#define filename\n",
    "csv_input = 'batch40_stefanmolyneux.csv'\n",
    "csv_output = 'transcript_' + csv_input"
   ]
  },
  {
   "cell_type": "code",
   "execution_count": 24,
   "metadata": {},
   "outputs": [
    {
     "name": "stdout",
     "output_type": "stream",
     "text": [
      "Copying gs://ytscrape/batch19_prageru.csv...\n",
      "/ [1 files][  4.2 GiB/  4.2 GiB]   38.9 MiB/s                                   \n",
      "Operation completed over 1 objects/4.2 GiB.                                      \n"
     ]
    }
   ],
   "source": [
    "#get file from cloud, skip if not necessary\n",
    "!gsutil cp gs://ytscrape/$csv_input ./"
   ]
  },
  {
   "cell_type": "code",
   "execution_count": null,
   "metadata": {},
   "outputs": [],
   "source": [
    "#lazy load the whole file to dataframe\n",
    "#wont work for large files due to memory constraint\n",
    "# csv_input = 'batch19_prageru.csv'\n",
    "# csv_output = 'transcript_' + csv_input\n",
    "# filenames = pd.read_csv(csv_input)\n",
    "# filenames.video_url.head()\n",
    "# vid_id_df =filenames.video_url.unique()\n",
    "# del filenames\n",
    "# !rm batch19_prageru.csv "
   ]
  },
  {
   "cell_type": "code",
   "execution_count": 14,
   "metadata": {},
   "outputs": [
    {
     "data": {
      "text/plain": [
       "352"
      ]
     },
     "metadata": {},
     "output_type": "display_data"
    }
   ],
   "source": [
    "#parse the video_url from big file\n",
    "\n",
    "!echo video_url>temp\n",
    "!sed -n '/^\\\"/p' $csv_input | sed -e 's/.*http/http/g' | sed '/^\\\"/d' | sed -e 's/\\\",.*//g' >>temp\n",
    "filenames = pd.read_csv('temp')\n",
    "vid_id_df =filenames.video_url.unique()\n",
    "del filenames\n",
    "display(len(vid_id_df))"
   ]
  },
  {
   "cell_type": "code",
   "execution_count": null,
   "metadata": {},
   "outputs": [],
   "source": [
    "driver_path='./chromedriver'\n",
    "options = webdriver.ChromeOptions()\n",
    "options.add_argument('headless')   \n",
    "driver = webdriver.Chrome(driver_path,options=options)\n",
    "# driver = webdriver.Chrome('./chromedriver')\n",
    "driver.implicitly_wait(10)\n",
    "\n",
    "with open(csv_output, 'w', newline='') as csvfile:\n",
    "    fieldnames = ['url', 'transcript']\n",
    "    writer = csv.DictWriter(csvfile, fieldnames=fieldnames,\n",
    "            delimiter=',', quotechar='\"', quoting=csv.QUOTE_ALL)\n",
    "    writer.writeheader()\n",
    "    for urls in vid_id_df:\n",
    "        try:\n",
    "            driver.get(urls)\n",
    "            text = extract_transcript(driver)\n",
    "            x = {\"url\":urls,\"transcript\":text}\n",
    "            writer.writerow(x)\n",
    "        except:\n",
    "            pass\n",
    "print('done')"
   ]
  },
  {
   "cell_type": "code",
   "execution_count": null,
   "metadata": {},
   "outputs": [],
   "source": [
    "!gsutil cp $csv_output gs://yttranscript/"
   ]
  },
  {
   "cell_type": "code",
   "execution_count": null,
   "metadata": {},
   "outputs": [],
   "source": []
  }
 ],
 "metadata": {
  "kernelspec": {
   "display_name": "Python 3",
   "language": "python",
   "name": "python3"
  },
  "language_info": {
   "codemirror_mode": {
    "name": "ipython",
    "version": 3
   },
   "file_extension": ".py",
   "mimetype": "text/x-python",
   "name": "python",
   "nbconvert_exporter": "python",
   "pygments_lexer": "ipython3",
   "version": "3.7.0"
  },
  "widgets": {
   "state": {},
   "version": "1.1.2"
  }
 },
 "nbformat": 4,
 "nbformat_minor": 2
}
