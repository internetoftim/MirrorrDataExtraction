{
 "cells": [
  {
   "cell_type": "code",
   "execution_count": 1,
   "metadata": {},
   "outputs": [
    {
     "name": "stderr",
     "output_type": "stream",
     "text": [
      "/home/mirroraidev/anaconda3/lib/python3.7/site-packages/weasyprint/document.py:34: UserWarning: There are known rendering problems and missing features with cairo < 1.15.4. WeasyPrint may work with older versions, but please read the note about the needed cairo version on the \"Install\" page of the documentation before reporting bugs. http://weasyprint.readthedocs.io/en/latest/install.html\n",
      "  'There are known rendering problems and missing features with '\n"
     ]
    }
   ],
   "source": [
    "from selenium import webdriver\n",
    "from selenium.webdriver.common.by import By\n",
    "from selenium.webdriver.support.ui import WebDriverWait\n",
    "from selenium.webdriver.support import expected_conditions as EC\n",
    "from selenium.webdriver.common.keys import Keys\n",
    "from selenium.webdriver.support.ui import Select\n",
    "from selenium.webdriver.common.action_chains import ActionChains\n",
    "import re, json ,pprint\n",
    "from bs4 import BeautifulSoup\n",
    "import pandas as pd\n",
    "import urllib\n",
    "import urllib.request\n",
    "from selenium.webdriver.common.keys import Keys\n",
    "from IPython.display import Image\n",
    "from urllib.parse import urlparse\n",
    "from time import sleep\n",
    "import datetime\n",
    "import pytz # new import\n",
    "new_timezone = pytz.timezone(\"US/Eastern\")\n",
    "import csv\n",
    "\n",
    "from dateparser.search import search_dates\n",
    "import arrow\n",
    "import datetime\n",
    "from dateutil.parser import parse\n",
    "import weasyprint "
   ]
  },
  {
   "cell_type": "code",
   "execution_count": 2,
   "metadata": {},
   "outputs": [],
   "source": [
    "driver_path='./chromedriver'\n",
    "options = webdriver.ChromeOptions()\n",
    "options.add_argument('headless')   \n",
    "driver = webdriver.Chrome(driver_path,options=options)\n",
    "# driver = webdriver.Chrome('./chromedriver')\n",
    "driver.implicitly_wait(10)"
   ]
  },
  {
   "cell_type": "code",
   "execution_count": 3,
   "metadata": {},
   "outputs": [],
   "source": [
    "# my_url = 'https://www.youtube.com/watch?v=A1tqTQkC36A'\n",
    "my_url = 'https://www.barchart.com/futures/quotes/ZW*0/options?futuresOptionsView=split'\n",
    "driver.get(my_url)\n",
    "sleep(1)\n",
    "# wa\n",
    "# driver.close()"
   ]
  },
  {
   "cell_type": "code",
   "execution_count": 4,
   "metadata": {},
   "outputs": [],
   "source": [
    "def load_site(driver_path='./chromedriver',input_url= 'https://www.barchart.com/futures/quotes/ZW*0/options?futuresOptionsView=split'):\n",
    "    options = webdriver.ChromeOptions()\n",
    "    options.add_argument('headless')   \n",
    "    driver = webdriver.Chrome(driver_path,options=options)\n",
    "    driver.implicitly_wait(10)    \n",
    "    driver.get(input_url)\n",
    "    sleep(1)\n",
    "    return driver"
   ]
  },
  {
   "cell_type": "markdown",
   "metadata": {
    "collapsed": true
   },
   "source": [
    "## Save Screenshot"
   ]
  },
  {
   "cell_type": "code",
   "execution_count": 5,
   "metadata": {},
   "outputs": [],
   "source": [
    "page = driver.page_source\n",
    "weasyprint.HTML(file_obj=page).write_pdf('out.pdf')"
   ]
  },
  {
   "cell_type": "code",
   "execution_count": 6,
   "metadata": {},
   "outputs": [],
   "source": [
    "def screenshot_page(webdriver,output_file='out.pdf'):\n",
    "    page = webdriver.page_source\n",
    "    weasyprint.HTML(file_obj=page).write_pdf(output_file)"
   ]
  },
  {
   "cell_type": "markdown",
   "metadata": {},
   "source": [
    "## Create Datestamp"
   ]
  },
  {
   "cell_type": "code",
   "execution_count": 37,
   "metadata": {},
   "outputs": [],
   "source": [
    "def get_capture_date():\n",
    "    return datetime.datetime.now().strftime(\"%a %b %d, %Y\")\n",
    "def get_capture_time(timezone=pytz.UTC):\n",
    "    return datetime.datetime.now(timezone).strftime(\"%H:%M:%S %Z\")\n",
    "def get_capture_time_filename(timezone=pytz.UTC):\n",
    "    return datetime.datetime.now(pytz.UTC).strftime(\"%Y-%m-%d_%H-%M-%S-%Z\")"
   ]
  },
  {
   "cell_type": "code",
   "execution_count": 8,
   "metadata": {},
   "outputs": [
    {
     "data": {
      "text/plain": [
       "'19:14:07 UTC'"
      ]
     },
     "execution_count": 8,
     "metadata": {},
     "output_type": "execute_result"
    }
   ],
   "source": [
    "get_capture_time()"
   ]
  },
  {
   "cell_type": "markdown",
   "metadata": {},
   "source": [
    "## Extract Name"
   ]
  },
  {
   "cell_type": "code",
   "execution_count": 9,
   "metadata": {},
   "outputs": [],
   "source": [
    "stock_name = driver.find_element_by_class_name(name='symbol')"
   ]
  },
  {
   "cell_type": "code",
   "execution_count": 10,
   "metadata": {},
   "outputs": [
    {
     "data": {
      "text/plain": [
       "\"Wheat Mar '19\""
      ]
     },
     "execution_count": 10,
     "metadata": {},
     "output_type": "execute_result"
    }
   ],
   "source": [
    "stock_name.text"
   ]
  },
  {
   "cell_type": "markdown",
   "metadata": {},
   "source": [
    "## Extract Days to Expiration"
   ]
  },
  {
   "cell_type": "code",
   "execution_count": 11,
   "metadata": {},
   "outputs": [],
   "source": [
    "def extract_days_to_expiration(webdriver):\n",
    "    dt_expiration = webdriver.find_element_by_class_name(name='bc-options-toolbar__second-row')\n",
    "    a = dt_expiration.find_element_by_xpath(\"//strong[contains(text(), 'Days')]\")\n",
    "    \n",
    "    out = re.match(string=a.text,pattern='^([0-9]+)')\n",
    "    return out.group(1)"
   ]
  },
  {
   "cell_type": "code",
   "execution_count": 12,
   "metadata": {},
   "outputs": [
    {
     "data": {
      "text/plain": [
       "'52 Days'"
      ]
     },
     "execution_count": 12,
     "metadata": {},
     "output_type": "execute_result"
    }
   ],
   "source": [
    "dt_expiration = driver.find_element_by_class_name(name='bc-options-toolbar__second-row')\n",
    "a = dt_expiration.find_element_by_xpath(\"//strong[contains(text(), 'Days')]\")\n",
    "a.text"
   ]
  },
  {
   "cell_type": "markdown",
   "metadata": {},
   "source": [
    "## Extract IV"
   ]
  },
  {
   "cell_type": "code",
   "execution_count": 13,
   "metadata": {},
   "outputs": [
    {
     "data": {
      "text/plain": [
       "'18.64%'"
      ]
     },
     "execution_count": 13,
     "metadata": {},
     "output_type": "execute_result"
    }
   ],
   "source": [
    "iv = driver.find_element_by_class_name(name='bc-options-toolbar__second-row')\n",
    "a = iv.find_element_by_xpath(\"//div[contains(text(), 'Implied Volatility')]/strong\")\n",
    "a.text"
   ]
  },
  {
   "cell_type": "code",
   "execution_count": 14,
   "metadata": {},
   "outputs": [],
   "source": [
    "def extract_iv(webdriver):\n",
    "    iv = webdriver.find_element_by_class_name(name='bc-options-toolbar__second-row')\n",
    "    a = iv.find_element_by_xpath(\"//div[contains(text(), 'Implied Volatility')]/strong\")\n",
    "    return a.text"
   ]
  },
  {
   "cell_type": "markdown",
   "metadata": {},
   "source": [
    "## Extract Last"
   ]
  },
  {
   "cell_type": "code",
   "execution_count": 15,
   "metadata": {},
   "outputs": [
    {
     "data": {
      "text/plain": [
       "'503-2s'"
      ]
     },
     "execution_count": 15,
     "metadata": {},
     "output_type": "execute_result"
    }
   ],
   "source": [
    "iv = driver.find_element_by_class_name(name='pricechangerow')\n",
    "iv.find_element_by_xpath(\"//span[@class='last-change']\").text"
   ]
  },
  {
   "cell_type": "code",
   "execution_count": 16,
   "metadata": {},
   "outputs": [],
   "source": [
    "def extract_last(webdriver):\n",
    "    iv = webdriver.find_element_by_class_name(name='pricechangerow')\n",
    "    return iv.find_element_by_xpath(\"//span[@class='last-change']\").text"
   ]
  },
  {
   "cell_type": "markdown",
   "metadata": {},
   "source": [
    "### Extract Table"
   ]
  },
  {
   "cell_type": "code",
   "execution_count": 17,
   "metadata": {},
   "outputs": [],
   "source": [
    "test = driver.find_elements_by_xpath(\"//td[@class='lastPrice_left']\")\n"
   ]
  },
  {
   "cell_type": "code",
   "execution_count": 18,
   "metadata": {},
   "outputs": [
    {
     "name": "stdout",
     "output_type": "stream",
     "text": [
      "48-6s\n",
      "44-1s\n",
      "39-4s\n",
      "35-2s\n",
      "31-1s\n",
      "27-3s\n",
      "23-7s\n",
      "20-7s\n",
      "18-1s\n",
      "15-5s\n",
      "13-4s\n",
      "11-5s\n",
      "10-0s\n",
      "8-6s\n",
      "7-4s\n",
      "6-4s\n",
      "5-5s\n",
      "4-7s\n",
      "4-2s\n",
      "3-5s\n",
      "Last\n"
     ]
    }
   ],
   "source": [
    "for item in test:\n",
    "    print(item.text)"
   ]
  },
  {
   "cell_type": "markdown",
   "metadata": {},
   "source": [
    "## Extract Strike"
   ]
  },
  {
   "cell_type": "code",
   "execution_count": 19,
   "metadata": {},
   "outputs": [
    {
     "name": "stdout",
     "output_type": "stream",
     "text": [
      "455-0\n",
      "460-0\n",
      "465-0\n",
      "470-0\n",
      "475-0\n",
      "480-0\n",
      "485-0\n",
      "490-0\n",
      "495-0\n",
      "500-0\n",
      "505-0\n",
      "510-0\n",
      "515-0\n",
      "520-0\n",
      "525-0\n",
      "530-0\n",
      "535-0\n",
      "540-0\n",
      "545-0\n",
      "550-0\n",
      "Strike\n"
     ]
    }
   ],
   "source": [
    "test = driver.find_elements_by_xpath(\"//td[@class='strikePrice']\")\n",
    "for item in test:\n",
    "    print(item.text)"
   ]
  },
  {
   "cell_type": "markdown",
   "metadata": {},
   "source": [
    "## Extract Price Right"
   ]
  },
  {
   "cell_type": "code",
   "execution_count": 20,
   "metadata": {},
   "outputs": [
    {
     "name": "stdout",
     "output_type": "stream",
     "text": [
      "0-5s\n",
      "0-7s\n",
      "1-3s\n",
      "2-1s\n",
      "3-0s\n",
      "4-1s\n",
      "5-6s\n",
      "7-5s\n",
      "9-7s\n",
      "12-4s\n",
      "15-2s\n",
      "18-3s\n",
      "21-6s\n",
      "25-3s\n",
      "29-2s\n",
      "33-1s\n",
      "37-2s\n",
      "41-4s\n",
      "45-7s\n",
      "50-2s\n",
      "Last\n"
     ]
    }
   ],
   "source": [
    "test = driver.find_elements_by_xpath(\"//td[@class='lastPrice_right']\")\n",
    "for item in test:\n",
    "    print(item.text)"
   ]
  },
  {
   "cell_type": "markdown",
   "metadata": {},
   "source": [
    "## Extract Last and Strike"
   ]
  },
  {
   "cell_type": "code",
   "execution_count": 21,
   "metadata": {},
   "outputs": [
    {
     "name": "stdout",
     "output_type": "stream",
     "text": [
      "48-6s 455-0 0-5s\n",
      "44-1s 460-0 0-7s\n",
      "39-4s 465-0 1-3s\n",
      "35-2s 470-0 2-1s\n",
      "31-1s 475-0 3-0s\n",
      "27-3s 480-0 4-1s\n",
      "23-7s 485-0 5-6s\n",
      "20-7s 490-0 7-5s\n",
      "18-1s 495-0 9-7s\n",
      "15-5s 500-0 12-4s\n",
      "13-4s 505-0 15-2s\n",
      "11-5s 510-0 18-3s\n",
      "10-0s 515-0 21-6s\n",
      "8-6s 520-0 25-3s\n",
      "7-4s 525-0 29-2s\n",
      "6-4s 530-0 33-1s\n",
      "5-5s 535-0 37-2s\n",
      "4-7s 540-0 41-4s\n",
      "4-2s 545-0 45-7s\n",
      "3-5s 550-0 50-2s\n",
      "Last Strike Last\n"
     ]
    }
   ],
   "source": [
    "lp_left = driver.find_elements_by_xpath(\"//td[@class='lastPrice_left']\")\n",
    "strike_price = driver.find_elements_by_xpath(\"//td[@class='strikePrice']\")\n",
    "lp_right = driver.find_elements_by_xpath(\"//td[@class='lastPrice_right']\")\n",
    "\n",
    "for i in range(len(lp_left)):\n",
    "    print(lp_left[i].text,strike_price[i].text,lp_right[i].text)\n"
   ]
  },
  {
   "cell_type": "code",
   "execution_count": 22,
   "metadata": {},
   "outputs": [],
   "source": [
    "def extract_left_strike(webdriver):\n",
    "    lp_left = webdriver.find_elements_by_xpath(\"//td[@class='lastPrice_left']\")\n",
    "    strike_price = webdriver.find_elements_by_xpath(\"//td[@class='strikePrice']\")\n",
    "    lp_right = webdriver.find_elements_by_xpath(\"//td[@class='lastPrice_right']\")\n",
    "    out_list = []\n",
    "    for i in range(len(lp_left)):\n",
    "        out_list.append([lp_left[i].text,strike_price[i].text,lp_right[i].text])\n",
    "    return out_list"
   ]
  },
  {
   "cell_type": "code",
   "execution_count": 23,
   "metadata": {},
   "outputs": [],
   "source": [
    "driver = load_site()\n",
    "test_out = extract_left_strike(webdriver=driver)\n",
    "with open('temp_0.csv', 'w') as csvfile:\n",
    "    writer = csv.writer(csvfile,delimiter=',',quotechar='\"',quoting=csv.QUOTE_NONNUMERIC)\n",
    "    writer.writerow([\"Date\",get_capture_date()])\n",
    "    for i in test_out:\n",
    "        if(i[0]=='Last'):\n",
    "            continue\n",
    "        writer.writerow(i)\n"
   ]
  },
  {
   "cell_type": "code",
   "execution_count": 204,
   "metadata": {},
   "outputs": [],
   "source": [
    "with open('temp_0.csv', 'w') as csvfile:\n",
    "    writer = csv.writer(csvfile,delimiter=',',quotechar='\"',quoting=csv.QUOTE_NONNUMERIC)\n",
    "    for i in range(len(lp_left)):\n",
    "        if(lp_left[i].text=='Last'):\n",
    "            continue\n",
    "        writer.writerow([lp_left[i].text,strike_price[i].text,lp_right[i].text])\n",
    "        \n",
    "\n",
    "    #     for row in test_out:\n",
    "#         writer.writerow(row)"
   ]
  },
  {
   "cell_type": "code",
   "execution_count": 24,
   "metadata": {},
   "outputs": [],
   "source": [
    "def extract_barchart_site(input_url='https://www.barchart.com/futures/quotes/ZW*0/options?futuresOptionsView=split'\\\n",
    "                         ,name='wheat',write_option='a'):\n",
    "    driver = load_site(input_url=input_url)\n",
    "    output_file = name + \".csv\"    \n",
    "    test_out = extract_left_strike(webdriver=driver)\n",
    "    with open(output_file, write_option) as csvfile:\n",
    "        writer = csv.writer(csvfile,delimiter=',',quotechar='\"',quoting=csv.QUOTE_NONNUMERIC)\n",
    "        writer.writerow([\"Date\",get_capture_date()])\n",
    "        writer.writerow([\"Last\",extract_last(webdriver=driver)])\n",
    "        writer.writerow([\"Days to expiration\",extract_days_to_expiration(webdriver=driver)])\n",
    "        writer.writerow([\"IV\",extract_iv(webdriver=driver)])\n",
    "        writer.writerow([\"Time\",get_capture_time()])\n",
    "        writer.writerow([])\n",
    "        writer.writerow([\"Last\",\"Strike\",\"Last\"])\n",
    "        for i in test_out:\n",
    "            if(i[0]=='Last'):\n",
    "                continue\n",
    "            writer.writerow(i)\n",
    "            \n",
    "        writer.writerow([])\n"
   ]
  },
  {
   "cell_type": "code",
   "execution_count": 25,
   "metadata": {},
   "outputs": [],
   "source": [
    "# extract_barchart_site(write_option='w')\n",
    "extract_barchart_site(write_option='a')"
   ]
  },
  {
   "cell_type": "code",
   "execution_count": 27,
   "metadata": {},
   "outputs": [],
   "source": [
    "screenshot_page(webdriver=driver,output_file='wheat.pdf')"
   ]
  },
  {
   "cell_type": "code",
   "execution_count": 28,
   "metadata": {},
   "outputs": [
    {
     "data": {
      "text/plain": [
       "'Tue Jan 01, 2019'"
      ]
     },
     "execution_count": 28,
     "metadata": {},
     "output_type": "execute_result"
    }
   ],
   "source": [
    "get_capture_date()"
   ]
  },
  {
   "cell_type": "code",
   "execution_count": 29,
   "metadata": {},
   "outputs": [
    {
     "data": {
      "text/plain": [
       "'19:28:58 UTC'"
      ]
     },
     "execution_count": 29,
     "metadata": {},
     "output_type": "execute_result"
    }
   ],
   "source": [
    "get_capture_time()"
   ]
  },
  {
   "cell_type": "code",
   "execution_count": 36,
   "metadata": {},
   "outputs": [
    {
     "data": {
      "text/plain": [
       "'2019-01-01_19-31-37-UTC'"
      ]
     },
     "execution_count": 36,
     "metadata": {},
     "output_type": "execute_result"
    }
   ],
   "source": []
  },
  {
   "cell_type": "code",
   "execution_count": 7,
   "metadata": {},
   "outputs": [],
   "source": [
    "from google.cloud import storage\n",
    "\n",
    "# Instantiates a client\n",
    "storage_client = storage.Client()\n",
    "\n",
    "# The name for the new bucket\n",
    "bucket_name = 'brextract'"
   ]
  },
  {
   "cell_type": "code",
   "execution_count": 19,
   "metadata": {},
   "outputs": [],
   "source": [
    "def upload_blob(bucket_name, source_file_name, destination_blob_name):\n",
    "#     \"\"\"Uploads a file to the bucket.\"\"\"\n",
    "    storage_client = storage.Client()\n",
    "    bucket = storage_client.get_bucket(bucket_name)\n",
    "    blob = bucket.blob(destination_blob_name)\n",
    "\n",
    "    blob.upload_from_filename(source_file_name)\n",
    "\n",
    "    print('File {} uploaded to {}.'.format(\n",
    "        source_file_name,\n",
    "        destination_blob_name))"
   ]
  },
  {
   "cell_type": "code",
   "execution_count": 23,
   "metadata": {},
   "outputs": [
    {
     "name": "stdout",
     "output_type": "stream",
     "text": [
      "File ./new_none.csv uploaded to csv/tet.csv.\n"
     ]
    }
   ],
   "source": [
    "upload_blob(bucket_name=bucket_name,source_file_name='./new_none.csv',destination_blob_name='csv/tet.csv')"
   ]
  },
  {
   "cell_type": "code",
   "execution_count": 22,
   "metadata": {},
   "outputs": [
    {
     "name": "stdout",
     "output_type": "stream",
     "text": [
      "app.yaml\r\n",
      "barchart\r\n",
      "barchart_extraction.py\r\n",
      "barchart.py\r\n",
      "batch10_coachredpill2.csv\r\n",
      "batch12_cullen2.csv\r\n",
      "batch13_cullen3.csv\r\n",
      "batch19_prageru.csv\r\n",
      "batch23_gariepy.csv\r\n",
      "batch24_holiday.csv\r\n",
      "batch25_holiday2.csv\r\n",
      "batch26_holiday3.csv\r\n",
      "batch28_kraut.csv\r\n",
      "batch29_robertson.csv\r\n",
      "batch30_brooksheatherly.csv\r\n",
      "batch32_heatherly2.csv\r\n",
      "batch33_daverubin.csv\r\n",
      "batch34_aylaststewart.csv\r\n",
      "batch35_blackpigeonspeaks.csv\r\n",
      "batch36_blairewhite.csv\r\n",
      "batch37_owenbenjamin.csv\r\n",
      "batch38_paulwatson.csv\r\n",
      "batch38_paulwatson.csv_.gstmp\r\n",
      "batch_4_faucheux.csv\r\n",
      "batch55_pool3.csv\r\n",
      "batch59_spencer.csv\r\n",
      "batch70_destiny.csv\r\n",
      "batch74_treeoflogic2.csv\r\n",
      "batch80_follin.csv\r\n",
      "batch81_mundanematt.csv\r\n",
      "batch82_crowder.csv\r\n",
      "batch83_michaelknowles.csv\r\n",
      "batch84_palmgren.csv\r\n",
      "batch85_collet.csv\r\n",
      "batch86_sellner.csv\r\n",
      "batch87_sellner2.csv\r\n",
      "batch88_mundanematt2.csv\r\n",
      "batch89_mundanematt3.csv\r\n",
      "batch8_maldonado.csv\r\n",
      "batch90_cernovich.csv\r\n",
      "batch91_joerogan.csv\r\n",
      "batch9_coachredpill.csv\r\n",
      "ben_shapiro.csv\r\n",
      "\u001b[0m\u001b[01;32mchromedriver\u001b[0m*\r\n",
      "client_secret2.json\r\n",
      "client_secret.json\r\n",
      "\u001b[01;34mcrawler\u001b[0m/\r\n",
      "Extract Barchart.ipynb\r\n",
      "extract_barchart.py\r\n",
      "Extract Posts.ipynb\r\n",
      "Extract Profile Info.ipynb\r\n",
      "Extract Profile - Quick Demo.ipynb\r\n",
      "extract_unique_url.sh\r\n",
      "Extract Youtube GOP - From Filelist-Copy1.ipynb\r\n",
      "Extract Youtube GOP - From Filelist.ipynb\r\n",
      "Extract Youtube GOP.ipynb\r\n",
      "list_insta.csv\r\n",
      "\u001b[01;35mmain-page.png\u001b[0m\r\n",
      "main.py\r\n",
      "main_test.py\r\n",
      "mirrorr_instagram_extractor.py\r\n",
      "new_none.csv\r\n",
      "nohup.out\r\n",
      "out_dl.csv\r\n",
      "out.pdf\r\n",
      "\u001b[01;35mpage-after.png\u001b[0m\r\n",
      "\u001b[01;35mpage-before.png\u001b[0m\r\n",
      "\u001b[01;34mphoto-downloader\u001b[0m/\r\n",
      "\u001b[01;34m__pycache__\u001b[0m/\r\n",
      "README.md\r\n",
      "requirements.txt\r\n",
      "run_scraper_app.sh\r\n",
      "Scrape YT API-Copy1.ipynb\r\n",
      "Scrape YT API-Copy2.ipynb\r\n",
      "Scrape YT API-End-to-End-From Channel_ID.ipynb\r\n",
      "Scrape YT API-End-to-End From Playlist_ID-Copy1.ipynb\r\n",
      "Scrape YT API-End-to-End From Playlist_ID-Copy.ipynb\r\n",
      "Scrape YT API-End-to-End From Playlist_ID.ipynb\r\n",
      "Scrape YT API-End-to-End.ipynb\r\n",
      "Scrape YT API - Extract Videos from Channel.ipynb\r\n",
      "Scrape YT API.ipynb\r\n",
      "temp\r\n",
      "temp_0.csv\r\n",
      "temp2\r\n",
      "temp2.csv\r\n",
      "test.pdf\r\n",
      "tet_2019-01-01_22-00-20-UTC.pdf\r\n",
      "tet.csv\r\n",
      "\u001b[01;34mtextparsing\u001b[0m/\r\n",
      "\u001b[01;35mthumbnail.png\u001b[0m\r\n",
      "transcript_batch10_coachredpill2.csv\r\n",
      "transcript_batch12_cullen2.csv\r\n",
      "transcript_batch13_cullen3.csv\r\n",
      "transcript_batch19_prageru.csv\r\n",
      "transcript_batch23_gariepy.csv\r\n",
      "transcript_batch24_holiday.csv\r\n",
      "transcript_batch25_holiday2.csv\r\n",
      "transcript_batch26_holiday3.csv\r\n",
      "transcript_batch28_kraut.csv\r\n",
      "transcript_batch29_robertson.csv\r\n",
      "transcript_batch30_brooksheatherly.csv\r\n",
      "transcript_batch32_heatherly2.csv\r\n",
      "transcript_batch34_aylaststewart.csv\r\n",
      "transcript_batch36_blairewhite.csv\r\n",
      "transcript_batch37_owenbenjamin.csv\r\n",
      "transcript_batch38_paulwatson.csv\r\n",
      "transcript_batch50_styxhexen.csv\r\n",
      "transcript_batch52_christopher.csv\r\n",
      "transcript_batch53_pool.csv\r\n",
      "transcript_batch54_pool2.csv\r\n",
      "transcript_batch55_pool3.csv\r\n",
      "transcript_batch56_millenialwoes2.csv\r\n",
      "transcript_batch57_millenialwoes3.csv\r\n",
      "transcript_batch58_fuentes.csv\r\n",
      "transcript_batch70_destiny.csv\r\n",
      "transcript_batch74_treeoflogic2.csv\r\n",
      "transcript_batch80_follin.csv\r\n",
      "transcript_batch81_mundanematt.csv\r\n",
      "transcript_batch82_crowder.csv\r\n",
      "transcript_batch83_michaelknowles.csv\r\n",
      "transcript_batch84_palmgren.csv\r\n",
      "transcript_batch85_collet.csv\r\n",
      "transcript_batch86_sellner.csv\r\n",
      "transcript_batch87_sellner2.csv\r\n",
      "transcript_batch88_mundanematt2.csv\r\n",
      "transcript_batch89_mundanematt3.csv\r\n",
      "transcript_batch90_cernovich.csv\r\n",
      "transcript_batch91_joerogan.csv\r\n",
      "Untitled.ipynb\r\n",
      "vid_ids.csv\r\n",
      "Webscrape Barchart.ipynb\r\n",
      "wheat_2019-01-01_19-43-54-UTC.pdf\r\n",
      "wheat_2019-01-01_19-49-12-UTC.pdf\r\n",
      "wheat_2019-01-01_21-57-06-UTC.pdf\r\n",
      "wheat.csv\r\n",
      "wheat.pdf\r\n"
     ]
    }
   ],
   "source": [
    "ls"
   ]
  },
  {
   "cell_type": "code",
   "execution_count": 8,
   "metadata": {},
   "outputs": [],
   "source": [
    "bucket = storage_client.get_bucket(bucket_name)\n",
    "blob = bucket.blob('tet.csv')\n",
    "source_file_name = 'tet.csv'\n",
    "destination_blob_name = 'csv/tet.csv'"
   ]
  },
  {
   "cell_type": "code",
   "execution_count": 9,
   "metadata": {},
   "outputs": [
    {
     "name": "stdout",
     "output_type": "stream",
     "text": [
      "File tet.csv uploaded to csv/tet.csv.\n"
     ]
    }
   ],
   "source": [
    "# Upload file to the gcp storage\n",
    "upload_blob(bucket_name, source_file_name, destination_blob_name)"
   ]
  },
  {
   "cell_type": "code",
   "execution_count": 16,
   "metadata": {},
   "outputs": [],
   "source": [
    "blob = bucket.blob('test3t.csv')\n",
    "blob.download_to_filename('new_none.csv')"
   ]
  },
  {
   "cell_type": "code",
   "execution_count": 24,
   "metadata": {},
   "outputs": [],
   "source": [
    "def download_blob(bucket_name, source_blob_name, destination_file_name):\n",
    "    \"\"\"Downloads a blob from the bucket.\"\"\"\n",
    "    storage_client = storage.Client()\n",
    "    bucket = storage_client.get_bucket(bucket_name)\n",
    "    blob = bucket.blob(source_blob_name)\n",
    "\n",
    "    blob.download_to_filename(destination_file_name)\n",
    "\n",
    "    print('Blob {} downloaded to {}.'.format(\n",
    "        source_blob_name,\n",
    "        destination_file_name))"
   ]
  },
  {
   "cell_type": "code",
   "execution_count": 32,
   "metadata": {},
   "outputs": [
    {
     "name": "stdout",
     "output_type": "stream",
     "text": [
      "File wheat.csv uploaded to csv/wheat.csv.\n"
     ]
    }
   ],
   "source": [
    "try:\n",
    "    download_blob(bucket_name='brextract', \n",
    "                  source_blob_name='csv/wheat.csv',\n",
    "                  destination_file_name='wheat.csv')\n",
    "except:\n",
    "    pass\n",
    "    \n",
    "upload_blob(bucket_name='brextract', \n",
    "            source_file_name='wheat.csv', \n",
    "            destination_blob_name='csv/wheat.csv')\n",
    "\n",
    "\n",
    "\n"
   ]
  },
  {
   "cell_type": "code",
   "execution_count": 40,
   "metadata": {},
   "outputs": [],
   "source": [
    "def update_file(bucket_name,name,pdf_filename):\n",
    "    try:\n",
    "        download_blob(bucket_name='brextract', \n",
    "                      source_blob_name='csv/'+ name + '.csv',\n",
    "                      destination_file_name= name + '.csv')\n",
    "    except:\n",
    "        print('File Not Availble in GCP')\n",
    "        pass\n",
    "\n",
    "    upload_blob(bucket_name='brextract', \n",
    "                source_file_name= name + '.csv', \n",
    "                destination_blob_name='csv/'+ name + '.csv')  \n",
    "    upload_blob(bucket_name='brextract', \n",
    "                source_file_name=pdf_filename, \n",
    "                destination_blob_name='screenshots/'+name + '/' + pdf_filename)      \n",
    "\n"
   ]
  },
  {
   "cell_type": "code",
   "execution_count": 42,
   "metadata": {},
   "outputs": [
    {
     "name": "stdout",
     "output_type": "stream",
     "text": [
      "Blob csv/wheat.csv downloaded to wheat.csv.\n",
      "File wheat.csv uploaded to csv/wheat.csv.\n",
      "File wheat_2019-01-01_19-43-54-UTC.pdf uploaded to screenshots/wheat/wheat_2019-01-01_19-43-54-UTC.pdf.\n"
     ]
    }
   ],
   "source": [
    "update_file(bucket_name='brextract',name='wheat',pdf_filename='wheat_2019-01-01_19-43-54-UTC.pdf')"
   ]
  },
  {
   "cell_type": "code",
   "execution_count": 33,
   "metadata": {},
   "outputs": [
    {
     "name": "stdout",
     "output_type": "stream",
     "text": [
      "app.yaml\r\n",
      "barchart\r\n",
      "barchart_extraction.py\r\n",
      "barchart.py\r\n",
      "batch10_coachredpill2.csv\r\n",
      "batch12_cullen2.csv\r\n",
      "batch13_cullen3.csv\r\n",
      "batch19_prageru.csv\r\n",
      "batch23_gariepy.csv\r\n",
      "batch24_holiday.csv\r\n",
      "batch25_holiday2.csv\r\n",
      "batch26_holiday3.csv\r\n",
      "batch28_kraut.csv\r\n",
      "batch29_robertson.csv\r\n",
      "batch30_brooksheatherly.csv\r\n",
      "batch32_heatherly2.csv\r\n",
      "batch33_daverubin.csv\r\n",
      "batch34_aylaststewart.csv\r\n",
      "batch35_blackpigeonspeaks.csv\r\n",
      "batch36_blairewhite.csv\r\n",
      "batch37_owenbenjamin.csv\r\n",
      "batch38_paulwatson.csv\r\n",
      "batch38_paulwatson.csv_.gstmp\r\n",
      "batch_4_faucheux.csv\r\n",
      "batch55_pool3.csv\r\n",
      "batch59_spencer.csv\r\n",
      "batch70_destiny.csv\r\n",
      "batch74_treeoflogic2.csv\r\n",
      "batch80_follin.csv\r\n",
      "batch81_mundanematt.csv\r\n",
      "batch82_crowder.csv\r\n",
      "batch83_michaelknowles.csv\r\n",
      "batch84_palmgren.csv\r\n",
      "batch85_collet.csv\r\n",
      "batch86_sellner.csv\r\n",
      "batch87_sellner2.csv\r\n",
      "batch88_mundanematt2.csv\r\n",
      "batch89_mundanematt3.csv\r\n",
      "batch8_maldonado.csv\r\n",
      "batch90_cernovich.csv\r\n",
      "batch91_joerogan.csv\r\n",
      "batch9_coachredpill.csv\r\n",
      "ben_shapiro.csv\r\n",
      "\u001b[0m\u001b[01;32mchromedriver\u001b[0m*\r\n",
      "client_secret2.json\r\n",
      "client_secret.json\r\n",
      "\u001b[01;34mcrawler\u001b[0m/\r\n",
      "Extract Barchart.ipynb\r\n",
      "extract_barchart.py\r\n",
      "Extract Posts.ipynb\r\n",
      "Extract Profile Info.ipynb\r\n",
      "Extract Profile - Quick Demo.ipynb\r\n",
      "extract_unique_url.sh\r\n",
      "Extract Youtube GOP - From Filelist-Copy1.ipynb\r\n",
      "Extract Youtube GOP - From Filelist.ipynb\r\n",
      "Extract Youtube GOP.ipynb\r\n",
      "list_insta.csv\r\n",
      "\u001b[01;35mmain-page.png\u001b[0m\r\n",
      "main.py\r\n",
      "main_test.py\r\n",
      "mirrorr_instagram_extractor.py\r\n",
      "new_none.csv\r\n",
      "nohup.out\r\n",
      "out_dl.csv\r\n",
      "out.pdf\r\n",
      "\u001b[01;35mpage-after.png\u001b[0m\r\n",
      "\u001b[01;35mpage-before.png\u001b[0m\r\n",
      "\u001b[01;34mphoto-downloader\u001b[0m/\r\n",
      "\u001b[01;34m__pycache__\u001b[0m/\r\n",
      "README.md\r\n",
      "requirements.txt\r\n",
      "run_scraper_app.sh\r\n",
      "Scrape YT API-Copy1.ipynb\r\n",
      "Scrape YT API-Copy2.ipynb\r\n",
      "Scrape YT API-End-to-End-From Channel_ID.ipynb\r\n",
      "Scrape YT API-End-to-End From Playlist_ID-Copy1.ipynb\r\n",
      "Scrape YT API-End-to-End From Playlist_ID-Copy.ipynb\r\n",
      "Scrape YT API-End-to-End From Playlist_ID.ipynb\r\n",
      "Scrape YT API-End-to-End.ipynb\r\n",
      "Scrape YT API - Extract Videos from Channel.ipynb\r\n",
      "Scrape YT API.ipynb\r\n",
      "temp\r\n",
      "temp_0.csv\r\n",
      "temp2\r\n",
      "temp2.csv\r\n",
      "test.pdf\r\n",
      "tet_2019-01-01_22-00-20-UTC.pdf\r\n",
      "tet.csv\r\n",
      "\u001b[01;34mtextparsing\u001b[0m/\r\n",
      "\u001b[01;35mthumbnail.png\u001b[0m\r\n",
      "transcript_batch10_coachredpill2.csv\r\n",
      "transcript_batch12_cullen2.csv\r\n",
      "transcript_batch13_cullen3.csv\r\n",
      "transcript_batch19_prageru.csv\r\n",
      "transcript_batch23_gariepy.csv\r\n",
      "transcript_batch24_holiday.csv\r\n",
      "transcript_batch25_holiday2.csv\r\n",
      "transcript_batch26_holiday3.csv\r\n",
      "transcript_batch28_kraut.csv\r\n",
      "transcript_batch29_robertson.csv\r\n",
      "transcript_batch30_brooksheatherly.csv\r\n",
      "transcript_batch32_heatherly2.csv\r\n",
      "transcript_batch34_aylaststewart.csv\r\n",
      "transcript_batch36_blairewhite.csv\r\n",
      "transcript_batch37_owenbenjamin.csv\r\n",
      "transcript_batch38_paulwatson.csv\r\n",
      "transcript_batch50_styxhexen.csv\r\n",
      "transcript_batch52_christopher.csv\r\n",
      "transcript_batch53_pool.csv\r\n",
      "transcript_batch54_pool2.csv\r\n",
      "transcript_batch55_pool3.csv\r\n",
      "transcript_batch56_millenialwoes2.csv\r\n",
      "transcript_batch57_millenialwoes3.csv\r\n",
      "transcript_batch58_fuentes.csv\r\n",
      "transcript_batch70_destiny.csv\r\n",
      "transcript_batch74_treeoflogic2.csv\r\n",
      "transcript_batch80_follin.csv\r\n",
      "transcript_batch81_mundanematt.csv\r\n",
      "transcript_batch82_crowder.csv\r\n",
      "transcript_batch83_michaelknowles.csv\r\n",
      "transcript_batch84_palmgren.csv\r\n",
      "transcript_batch85_collet.csv\r\n",
      "transcript_batch86_sellner.csv\r\n",
      "transcript_batch87_sellner2.csv\r\n",
      "transcript_batch88_mundanematt2.csv\r\n",
      "transcript_batch89_mundanematt3.csv\r\n",
      "transcript_batch90_cernovich.csv\r\n",
      "transcript_batch91_joerogan.csv\r\n",
      "Untitled.ipynb\r\n",
      "vid_ids.csv\r\n",
      "Webscrape Barchart.ipynb\r\n",
      "wheat_2019-01-01_19-43-54-UTC.pdf\r\n",
      "wheat_2019-01-01_19-49-12-UTC.pdf\r\n",
      "wheat_2019-01-01_21-57-06-UTC.pdf\r\n",
      "wheat.csv\r\n",
      "wheat.pdf\r\n"
     ]
    }
   ],
   "source": [
    "ls"
   ]
  },
  {
   "cell_type": "code",
   "execution_count": null,
   "metadata": {},
   "outputs": [],
   "source": []
  }
 ],
 "metadata": {
  "kernelspec": {
   "display_name": "Python 3",
   "language": "python",
   "name": "python3"
  },
  "language_info": {
   "codemirror_mode": {
    "name": "ipython",
    "version": 3
   },
   "file_extension": ".py",
   "mimetype": "text/x-python",
   "name": "python",
   "nbconvert_exporter": "python",
   "pygments_lexer": "ipython3",
   "version": "3.7.0"
  },
  "widgets": {
   "state": {},
   "version": "1.1.2"
  }
 },
 "nbformat": 4,
 "nbformat_minor": 2
}
