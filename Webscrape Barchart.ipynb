{
 "cells": [
  {
   "cell_type": "code",
   "execution_count": 135,
   "metadata": {},
   "outputs": [],
   "source": [
    "from selenium import webdriver\n",
    "from selenium.webdriver.common.by import By\n",
    "from selenium.webdriver.support.ui import WebDriverWait\n",
    "from selenium.webdriver.support import expected_conditions as EC\n",
    "from selenium.webdriver.common.keys import Keys\n",
    "from selenium.webdriver.support.ui import Select\n",
    "from selenium.webdriver.common.action_chains import ActionChains\n",
    "import requests, re, json ,pprint\n",
    "from bs4 import BeautifulSoup\n",
    "import pandas as pd\n",
    "import urllib\n",
    "import urllib.request\n",
    "from selenium.webdriver.common.keys import Keys\n",
    "from IPython.display import Image\n",
    "from urllib.parse import urlparse\n",
    "from time import sleep\n",
    "import datetime\n",
    "import pytz # new import\n",
    "new_timezone = pytz.timezone(\"US/Eastern\")\n",
    "\n",
    "\n",
    "from dateparser.search import search_dates\n",
    "import arrow\n",
    "import datetime\n",
    "from dateutil.parser import parse\n",
    "import weasyprint "
   ]
  },
  {
   "cell_type": "code",
   "execution_count": 166,
   "metadata": {},
   "outputs": [],
   "source": [
    "driver_path='./chromedriver'\n",
    "options = webdriver.ChromeOptions()\n",
    "options.add_argument('headless')   \n",
    "driver = webdriver.Chrome(driver_path,options=options)\n",
    "# driver = webdriver.Chrome('./chromedriver')\n",
    "driver.implicitly_wait(10)"
   ]
  },
  {
   "cell_type": "code",
   "execution_count": 167,
   "metadata": {},
   "outputs": [],
   "source": [
    "# my_url = 'https://www.youtube.com/watch?v=A1tqTQkC36A'\n",
    "my_url = 'https://www.barchart.com/futures/quotes/ZW*0/options?futuresOptionsView=split'\n",
    "driver.get(my_url)\n",
    "sleep(1)\n",
    "# wa\n",
    "# driver.close()"
   ]
  },
  {
   "cell_type": "code",
   "execution_count": 169,
   "metadata": {},
   "outputs": [],
   "source": [
    "def reload_test_site():\n",
    "    my_url = 'https://www.youtube.com/watch?v=A1tqTQkC36A&amp;lc=Ugw0nq07e-G5JyUsl094AaABAg'\n",
    "    driver.get(my_url)\n",
    "    sleep(1)"
   ]
  },
  {
   "cell_type": "markdown",
   "metadata": {
    "collapsed": true
   },
   "source": [
    "## Save Screenshot"
   ]
  },
  {
   "cell_type": "code",
   "execution_count": null,
   "metadata": {},
   "outputs": [],
   "source": [
    "page = driver.page_source\n",
    "weasyprint.HTML(file_obj=page).write_pdf('out.pdf')"
   ]
  },
  {
   "cell_type": "code",
   "execution_count": 50,
   "metadata": {},
   "outputs": [],
   "source": [
    "def screenshot_page(webdriver,output_file='out.pdf'):\n",
    "    page = webdriver.page_source\n",
    "    weasyprint.HTML(file_obj=page).write_pdf(output_file)"
   ]
  },
  {
   "cell_type": "markdown",
   "metadata": {},
   "source": [
    "## Create Datestamp"
   ]
  },
  {
   "cell_type": "code",
   "execution_count": 77,
   "metadata": {},
   "outputs": [],
   "source": [
    "default_timezone=pytz.UTC\n",
    "def get_capture_date():\n",
    "    return datetime.datetime.now().strftime(\"%a %b %d, %Y\")\n",
    "def get_capture_time(timezone=pytz.UTC):\n",
    "    return datetime.datetime.now(timezone).strftime(\"%H:%M:%S %Z\")"
   ]
  },
  {
   "cell_type": "code",
   "execution_count": 79,
   "metadata": {},
   "outputs": [
    {
     "data": {
      "text/plain": [
       "'18:49:20 UTC'"
      ]
     },
     "execution_count": 79,
     "metadata": {},
     "output_type": "execute_result"
    }
   ],
   "source": [
    "get_capture_time()"
   ]
  },
  {
   "cell_type": "markdown",
   "metadata": {},
   "source": [
    "## Extract Name"
   ]
  },
  {
   "cell_type": "code",
   "execution_count": null,
   "metadata": {},
   "outputs": [],
   "source": [
    "stock_name = driver.find_element_by_class_name(name='symbol')"
   ]
  },
  {
   "cell_type": "code",
   "execution_count": 49,
   "metadata": {},
   "outputs": [
    {
     "data": {
      "text/plain": [
       "\"Wheat Mar '19\""
      ]
     },
     "execution_count": 49,
     "metadata": {},
     "output_type": "execute_result"
    }
   ],
   "source": [
    "stock_name.text"
   ]
  },
  {
   "cell_type": "markdown",
   "metadata": {},
   "source": [
    "## Extract Days to Expiration"
   ]
  },
  {
   "cell_type": "code",
   "execution_count": 98,
   "metadata": {},
   "outputs": [],
   "source": [
    "def extract_days_to_expiration(webdriver):\n",
    "    dt_expiration = webdriver.find_element_by_class_name(name='bc-options-toolbar__second-row')\n",
    "    a = dt_expiration.find_element_by_xpath(\"//strong[contains(text(), 'Days')]\")\n",
    "    return a.text"
   ]
  },
  {
   "cell_type": "code",
   "execution_count": 97,
   "metadata": {},
   "outputs": [
    {
     "data": {
      "text/plain": [
       "'83 Days'"
      ]
     },
     "execution_count": 97,
     "metadata": {},
     "output_type": "execute_result"
    }
   ],
   "source": [
    "dt_expiration = driver.find_element_by_class_name(name='bc-options-toolbar__second-row')\n",
    "a = dt_expiration.find_element_by_xpath(\"//strong[contains(text(), 'Days')]\")\n",
    "a.text"
   ]
  },
  {
   "cell_type": "markdown",
   "metadata": {},
   "source": [
    "## Extract IV"
   ]
  },
  {
   "cell_type": "code",
   "execution_count": 102,
   "metadata": {},
   "outputs": [
    {
     "data": {
      "text/plain": [
       "'21.01%'"
      ]
     },
     "execution_count": 102,
     "metadata": {},
     "output_type": "execute_result"
    }
   ],
   "source": [
    "iv = driver.find_element_by_class_name(name='bc-options-toolbar__second-row')\n",
    "a = iv.find_element_by_xpath(\"//div[contains(text(), 'Implied Volatility')]/strong\")\n",
    "a.text"
   ]
  },
  {
   "cell_type": "code",
   "execution_count": 103,
   "metadata": {},
   "outputs": [],
   "source": [
    "def extract_iv(webdriver):\n",
    "    iv = webdriver.find_element_by_class_name(name='bc-options-toolbar__second-row')\n",
    "    a = iv.find_element_by_xpath(\"//div[contains(text(), 'Implied Volatility')]/strong\")\n",
    "    return a.text"
   ]
  },
  {
   "cell_type": "markdown",
   "metadata": {},
   "source": [
    "## Extract Last"
   ]
  },
  {
   "cell_type": "code",
   "execution_count": null,
   "metadata": {},
   "outputs": [],
   "source": [
    "iv = driver.find_element_by_class_name(name='pricechangerow')\n",
    "iv.find_element_by_xpath(\"//span[@class='last-change']\").text"
   ]
  },
  {
   "cell_type": "code",
   "execution_count": null,
   "metadata": {},
   "outputs": [],
   "source": [
    "def extract_last(webdriver):\n",
    "    iv = webdriver.find_element_by_class_name(name='pricechangerow')\n",
    "    return iv.find_element_by_xpath(\"//span[@class='last-change']\").text"
   ]
  },
  {
   "cell_type": "markdown",
   "metadata": {},
   "source": [
    "### Extract Table"
   ]
  },
  {
   "cell_type": "code",
   "execution_count": 159,
   "metadata": {},
   "outputs": [],
   "source": [
    "test = driver.find_elements_by_xpath(\"//td[@class='lastPrice_left']\")\n"
   ]
  },
  {
   "cell_type": "code",
   "execution_count": 160,
   "metadata": {},
   "outputs": [
    {
     "name": "stdout",
     "output_type": "stream",
     "text": [
      "48-6s\n",
      "44-6s\n",
      "40-7s\n",
      "37-3s\n",
      "34-0s\n",
      "30-7s\n",
      "28-1s\n",
      "25-4s\n",
      "23-1s\n",
      "21-0s\n",
      "19-0s\n",
      "17-1s\n",
      "15-4s\n",
      "14-0s\n",
      "12-5s\n",
      "11-3s\n",
      "10-3s\n",
      "9-3s\n",
      "8-4s\n",
      "7-6s\n",
      "Last\n"
     ]
    }
   ],
   "source": [
    "for item in test:\n",
    "    print(item.text)"
   ]
  },
  {
   "cell_type": "markdown",
   "metadata": {},
   "source": [
    "## Extract Strike"
   ]
  },
  {
   "cell_type": "code",
   "execution_count": 162,
   "metadata": {},
   "outputs": [
    {
     "name": "stdout",
     "output_type": "stream",
     "text": [
      "470-0\n",
      "475-0\n",
      "480-0\n",
      "485-0\n",
      "490-0\n",
      "495-0\n",
      "500-0\n",
      "505-0\n",
      "510-0\n",
      "515-0\n",
      "520-0\n",
      "525-0\n",
      "530-0\n",
      "535-0\n",
      "540-0\n",
      "545-0\n",
      "550-0\n",
      "555-0\n",
      "560-0\n",
      "565-0\n",
      "Strike\n"
     ]
    }
   ],
   "source": [
    "test = driver.find_elements_by_xpath(\"//td[@class='strikePrice']\")\n",
    "for item in test:\n",
    "    print(item.text)"
   ]
  },
  {
   "cell_type": "markdown",
   "metadata": {},
   "source": [
    "## Extract Price Right"
   ]
  },
  {
   "cell_type": "code",
   "execution_count": 163,
   "metadata": {},
   "outputs": [
    {
     "name": "stdout",
     "output_type": "stream",
     "text": [
      "3-2s\n",
      "4-1s\n",
      "5-3s\n",
      "6-6s\n",
      "8-3s\n",
      "10-2s\n",
      "12-3s\n",
      "14-6s\n",
      "17-3s\n",
      "20-2s\n",
      "23-1s\n",
      "26-3s\n",
      "29-5s\n",
      "33-1s\n",
      "36-6s\n",
      "40-4s\n",
      "44-4s\n",
      "48-4s\n",
      "52-5s\n",
      "56-6s\n",
      "Last\n"
     ]
    }
   ],
   "source": [
    "test = driver.find_elements_by_xpath(\"//td[@class='lastPrice_right']\")\n",
    "for item in test:\n",
    "    print(item.text)"
   ]
  },
  {
   "cell_type": "markdown",
   "metadata": {},
   "source": [
    "## Extract Last and Strike"
   ]
  },
  {
   "cell_type": "code",
   "execution_count": 169,
   "metadata": {},
   "outputs": [
    {
     "name": "stdout",
     "output_type": "stream",
     "text": [
      "48-6s 470-0 3-2s\n",
      "44-6s 475-0 4-1s\n",
      "40-7s 480-0 5-3s\n",
      "37-3s 485-0 6-6s\n",
      "34-0s 490-0 8-3s\n",
      "30-7s 495-0 10-2s\n",
      "28-1s 500-0 12-3s\n",
      "25-4s 505-0 14-6s\n",
      "23-1s 510-0 17-3s\n",
      "21-0s 515-0 20-2s\n",
      "19-0s 520-0 23-1s\n",
      "17-1s 525-0 26-3s\n",
      "15-4s 530-0 29-5s\n",
      "14-0s 535-0 33-1s\n",
      "12-5s 540-0 36-6s\n",
      "11-3s 545-0 40-4s\n",
      "10-3s 550-0 44-4s\n",
      "9-3s 555-0 48-4s\n",
      "8-4s 560-0 52-5s\n",
      "7-6s 565-0 56-6s\n",
      "Last Strike Last\n"
     ]
    }
   ],
   "source": [
    "lp_left = driver.find_elements_by_xpath(\"//td[@class='lastPrice_left']\")\n",
    "strike_price = driver.find_elements_by_xpath(\"//td[@class='strikePrice']\")\n",
    "lp_right = driver.find_elements_by_xpath(\"//td[@class='lastPrice_right']\")\n",
    "\n",
    "for i in range(len(lp_left)):\n",
    "    print(lp_left[i].text,strike_price[i].text,lp_right[i].text)\n"
   ]
  },
  {
   "cell_type": "code",
   "execution_count": 36,
   "metadata": {},
   "outputs": [],
   "source": []
  },
  {
   "cell_type": "code",
   "execution_count": 44,
   "metadata": {},
   "outputs": [],
   "source": []
  },
  {
   "cell_type": "code",
   "execution_count": null,
   "metadata": {},
   "outputs": [],
   "source": []
  }
 ],
 "metadata": {
  "kernelspec": {
   "display_name": "Python 3",
   "language": "python",
   "name": "python3"
  },
  "language_info": {
   "codemirror_mode": {
    "name": "ipython",
    "version": 3
   },
   "file_extension": ".py",
   "mimetype": "text/x-python",
   "name": "python",
   "nbconvert_exporter": "python",
   "pygments_lexer": "ipython3",
   "version": "3.7.0"
  },
  "widgets": {
   "state": {},
   "version": "1.1.2"
  }
 },
 "nbformat": 4,
 "nbformat_minor": 2
}
