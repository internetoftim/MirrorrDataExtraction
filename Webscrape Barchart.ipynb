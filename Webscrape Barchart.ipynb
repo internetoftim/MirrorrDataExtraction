{
 "cells": [
  {
   "cell_type": "code",
   "execution_count": 1,
   "metadata": {},
   "outputs": [
    {
     "name": "stderr",
     "output_type": "stream",
     "text": [
      "/home/mirroraidev/anaconda3/lib/python3.7/site-packages/weasyprint/document.py:34: UserWarning: There are known rendering problems and missing features with cairo < 1.15.4. WeasyPrint may work with older versions, but please read the note about the needed cairo version on the \"Install\" page of the documentation before reporting bugs. http://weasyprint.readthedocs.io/en/latest/install.html\n",
      "  'There are known rendering problems and missing features with '\n"
     ]
    }
   ],
   "source": [
    "from selenium import webdriver\n",
    "from selenium.webdriver.common.by import By\n",
    "from selenium.webdriver.support.ui import WebDriverWait\n",
    "from selenium.webdriver.support import expected_conditions as EC\n",
    "from selenium.webdriver.common.keys import Keys\n",
    "from selenium.webdriver.support.ui import Select\n",
    "from selenium.webdriver.common.action_chains import ActionChains\n",
    "import re, json ,pprint\n",
    "from bs4 import BeautifulSoup\n",
    "import pandas as pd\n",
    "import urllib\n",
    "import urllib.request\n",
    "from selenium.webdriver.common.keys import Keys\n",
    "from IPython.display import Image\n",
    "from urllib.parse import urlparse\n",
    "from time import sleep\n",
    "import datetime\n",
    "import pytz # new import\n",
    "new_timezone = pytz.timezone(\"US/Eastern\")\n",
    "import csv\n",
    "\n",
    "from dateparser.search import search_dates\n",
    "import arrow\n",
    "import datetime\n",
    "from dateutil.parser import parse\n",
    "import weasyprint "
   ]
  },
  {
   "cell_type": "code",
   "execution_count": 2,
   "metadata": {},
   "outputs": [],
   "source": [
    "driver_path='./chromedriver'\n",
    "options = webdriver.ChromeOptions()\n",
    "options.add_argument('headless')   \n",
    "driver = webdriver.Chrome(driver_path,options=options)\n",
    "# driver = webdriver.Chrome('./chromedriver')\n",
    "driver.implicitly_wait(10)"
   ]
  },
  {
   "cell_type": "code",
   "execution_count": 3,
   "metadata": {},
   "outputs": [],
   "source": [
    "# my_url = 'https://www.youtube.com/watch?v=A1tqTQkC36A'\n",
    "my_url = 'https://www.barchart.com/futures/quotes/ZW*0/options?futuresOptionsView=split'\n",
    "driver.get(my_url)\n",
    "sleep(1)\n",
    "# wa\n",
    "# driver.close()"
   ]
  },
  {
   "cell_type": "code",
   "execution_count": 4,
   "metadata": {},
   "outputs": [],
   "source": [
    "def load_site(driver_path='./chromedriver',input_url= 'https://www.barchart.com/futures/quotes/ZW*0/options?futuresOptionsView=split'):\n",
    "    options = webdriver.ChromeOptions()\n",
    "    options.add_argument('headless')   \n",
    "    driver = webdriver.Chrome(driver_path,options=options)\n",
    "    driver.implicitly_wait(10)    \n",
    "    driver.get(input_url)\n",
    "    sleep(1)\n",
    "    return driver"
   ]
  },
  {
   "cell_type": "markdown",
   "metadata": {
    "collapsed": true
   },
   "source": [
    "## Save Screenshot"
   ]
  },
  {
   "cell_type": "code",
   "execution_count": 5,
   "metadata": {},
   "outputs": [],
   "source": [
    "page = driver.page_source\n",
    "weasyprint.HTML(file_obj=page).write_pdf('out.pdf')"
   ]
  },
  {
   "cell_type": "code",
   "execution_count": 6,
   "metadata": {},
   "outputs": [],
   "source": [
    "def screenshot_page(webdriver,output_file='out.pdf'):\n",
    "    page = webdriver.page_source\n",
    "    weasyprint.HTML(file_obj=page).write_pdf(output_file)"
   ]
  },
  {
   "cell_type": "markdown",
   "metadata": {},
   "source": [
    "## Create Datestamp"
   ]
  },
  {
   "cell_type": "code",
   "execution_count": 37,
   "metadata": {},
   "outputs": [],
   "source": [
    "def get_capture_date():\n",
    "    return datetime.datetime.now().strftime(\"%a %b %d, %Y\")\n",
    "def get_capture_time(timezone=pytz.UTC):\n",
    "    return datetime.datetime.now(timezone).strftime(\"%H:%M:%S %Z\")\n",
    "def get_capture_time_filename(timezone=pytz.UTC):\n",
    "    return datetime.datetime.now(pytz.UTC).strftime(\"%Y-%m-%d_%H-%M-%S-%Z\")"
   ]
  },
  {
   "cell_type": "code",
   "execution_count": 8,
   "metadata": {},
   "outputs": [
    {
     "data": {
      "text/plain": [
       "'19:14:07 UTC'"
      ]
     },
     "execution_count": 8,
     "metadata": {},
     "output_type": "execute_result"
    }
   ],
   "source": [
    "get_capture_time()"
   ]
  },
  {
   "cell_type": "markdown",
   "metadata": {},
   "source": [
    "## Extract Name"
   ]
  },
  {
   "cell_type": "code",
   "execution_count": 9,
   "metadata": {},
   "outputs": [],
   "source": [
    "stock_name = driver.find_element_by_class_name(name='symbol')"
   ]
  },
  {
   "cell_type": "code",
   "execution_count": 10,
   "metadata": {},
   "outputs": [
    {
     "data": {
      "text/plain": [
       "\"Wheat Mar '19\""
      ]
     },
     "execution_count": 10,
     "metadata": {},
     "output_type": "execute_result"
    }
   ],
   "source": [
    "stock_name.text"
   ]
  },
  {
   "cell_type": "markdown",
   "metadata": {},
   "source": [
    "## Extract Days to Expiration"
   ]
  },
  {
   "cell_type": "code",
   "execution_count": 11,
   "metadata": {},
   "outputs": [],
   "source": [
    "def extract_days_to_expiration(webdriver):\n",
    "    dt_expiration = webdriver.find_element_by_class_name(name='bc-options-toolbar__second-row')\n",
    "    a = dt_expiration.find_element_by_xpath(\"//strong[contains(text(), 'Days')]\")\n",
    "    \n",
    "    out = re.match(string=a.text,pattern='^([0-9]+)')\n",
    "    return out.group(1)"
   ]
  },
  {
   "cell_type": "code",
   "execution_count": 12,
   "metadata": {},
   "outputs": [
    {
     "data": {
      "text/plain": [
       "'52 Days'"
      ]
     },
     "execution_count": 12,
     "metadata": {},
     "output_type": "execute_result"
    }
   ],
   "source": [
    "dt_expiration = driver.find_element_by_class_name(name='bc-options-toolbar__second-row')\n",
    "a = dt_expiration.find_element_by_xpath(\"//strong[contains(text(), 'Days')]\")\n",
    "a.text"
   ]
  },
  {
   "cell_type": "markdown",
   "metadata": {},
   "source": [
    "## Extract IV"
   ]
  },
  {
   "cell_type": "code",
   "execution_count": 13,
   "metadata": {},
   "outputs": [
    {
     "data": {
      "text/plain": [
       "'18.64%'"
      ]
     },
     "execution_count": 13,
     "metadata": {},
     "output_type": "execute_result"
    }
   ],
   "source": [
    "iv = driver.find_element_by_class_name(name='bc-options-toolbar__second-row')\n",
    "a = iv.find_element_by_xpath(\"//div[contains(text(), 'Implied Volatility')]/strong\")\n",
    "a.text"
   ]
  },
  {
   "cell_type": "code",
   "execution_count": 14,
   "metadata": {},
   "outputs": [],
   "source": [
    "def extract_iv(webdriver):\n",
    "    iv = webdriver.find_element_by_class_name(name='bc-options-toolbar__second-row')\n",
    "    a = iv.find_element_by_xpath(\"//div[contains(text(), 'Implied Volatility')]/strong\")\n",
    "    return a.text"
   ]
  },
  {
   "cell_type": "markdown",
   "metadata": {},
   "source": [
    "## Extract Last"
   ]
  },
  {
   "cell_type": "code",
   "execution_count": 15,
   "metadata": {},
   "outputs": [
    {
     "data": {
      "text/plain": [
       "'503-2s'"
      ]
     },
     "execution_count": 15,
     "metadata": {},
     "output_type": "execute_result"
    }
   ],
   "source": [
    "iv = driver.find_element_by_class_name(name='pricechangerow')\n",
    "iv.find_element_by_xpath(\"//span[@class='last-change']\").text"
   ]
  },
  {
   "cell_type": "code",
   "execution_count": 16,
   "metadata": {},
   "outputs": [],
   "source": [
    "def extract_last(webdriver):\n",
    "    iv = webdriver.find_element_by_class_name(name='pricechangerow')\n",
    "    return iv.find_element_by_xpath(\"//span[@class='last-change']\").text"
   ]
  },
  {
   "cell_type": "markdown",
   "metadata": {},
   "source": [
    "### Extract Table"
   ]
  },
  {
   "cell_type": "code",
   "execution_count": 17,
   "metadata": {},
   "outputs": [],
   "source": [
    "test = driver.find_elements_by_xpath(\"//td[@class='lastPrice_left']\")\n"
   ]
  },
  {
   "cell_type": "code",
   "execution_count": 18,
   "metadata": {},
   "outputs": [
    {
     "name": "stdout",
     "output_type": "stream",
     "text": [
      "48-6s\n",
      "44-1s\n",
      "39-4s\n",
      "35-2s\n",
      "31-1s\n",
      "27-3s\n",
      "23-7s\n",
      "20-7s\n",
      "18-1s\n",
      "15-5s\n",
      "13-4s\n",
      "11-5s\n",
      "10-0s\n",
      "8-6s\n",
      "7-4s\n",
      "6-4s\n",
      "5-5s\n",
      "4-7s\n",
      "4-2s\n",
      "3-5s\n",
      "Last\n"
     ]
    }
   ],
   "source": [
    "for item in test:\n",
    "    print(item.text)"
   ]
  },
  {
   "cell_type": "markdown",
   "metadata": {},
   "source": [
    "## Extract Strike"
   ]
  },
  {
   "cell_type": "code",
   "execution_count": 19,
   "metadata": {},
   "outputs": [
    {
     "name": "stdout",
     "output_type": "stream",
     "text": [
      "455-0\n",
      "460-0\n",
      "465-0\n",
      "470-0\n",
      "475-0\n",
      "480-0\n",
      "485-0\n",
      "490-0\n",
      "495-0\n",
      "500-0\n",
      "505-0\n",
      "510-0\n",
      "515-0\n",
      "520-0\n",
      "525-0\n",
      "530-0\n",
      "535-0\n",
      "540-0\n",
      "545-0\n",
      "550-0\n",
      "Strike\n"
     ]
    }
   ],
   "source": [
    "test = driver.find_elements_by_xpath(\"//td[@class='strikePrice']\")\n",
    "for item in test:\n",
    "    print(item.text)"
   ]
  },
  {
   "cell_type": "markdown",
   "metadata": {},
   "source": [
    "## Extract Price Right"
   ]
  },
  {
   "cell_type": "code",
   "execution_count": 20,
   "metadata": {},
   "outputs": [
    {
     "name": "stdout",
     "output_type": "stream",
     "text": [
      "0-5s\n",
      "0-7s\n",
      "1-3s\n",
      "2-1s\n",
      "3-0s\n",
      "4-1s\n",
      "5-6s\n",
      "7-5s\n",
      "9-7s\n",
      "12-4s\n",
      "15-2s\n",
      "18-3s\n",
      "21-6s\n",
      "25-3s\n",
      "29-2s\n",
      "33-1s\n",
      "37-2s\n",
      "41-4s\n",
      "45-7s\n",
      "50-2s\n",
      "Last\n"
     ]
    }
   ],
   "source": [
    "test = driver.find_elements_by_xpath(\"//td[@class='lastPrice_right']\")\n",
    "for item in test:\n",
    "    print(item.text)"
   ]
  },
  {
   "cell_type": "markdown",
   "metadata": {},
   "source": [
    "## Extract Last and Strike"
   ]
  },
  {
   "cell_type": "code",
   "execution_count": 21,
   "metadata": {},
   "outputs": [
    {
     "name": "stdout",
     "output_type": "stream",
     "text": [
      "48-6s 455-0 0-5s\n",
      "44-1s 460-0 0-7s\n",
      "39-4s 465-0 1-3s\n",
      "35-2s 470-0 2-1s\n",
      "31-1s 475-0 3-0s\n",
      "27-3s 480-0 4-1s\n",
      "23-7s 485-0 5-6s\n",
      "20-7s 490-0 7-5s\n",
      "18-1s 495-0 9-7s\n",
      "15-5s 500-0 12-4s\n",
      "13-4s 505-0 15-2s\n",
      "11-5s 510-0 18-3s\n",
      "10-0s 515-0 21-6s\n",
      "8-6s 520-0 25-3s\n",
      "7-4s 525-0 29-2s\n",
      "6-4s 530-0 33-1s\n",
      "5-5s 535-0 37-2s\n",
      "4-7s 540-0 41-4s\n",
      "4-2s 545-0 45-7s\n",
      "3-5s 550-0 50-2s\n",
      "Last Strike Last\n"
     ]
    }
   ],
   "source": [
    "lp_left = driver.find_elements_by_xpath(\"//td[@class='lastPrice_left']\")\n",
    "strike_price = driver.find_elements_by_xpath(\"//td[@class='strikePrice']\")\n",
    "lp_right = driver.find_elements_by_xpath(\"//td[@class='lastPrice_right']\")\n",
    "\n",
    "for i in range(len(lp_left)):\n",
    "    print(lp_left[i].text,strike_price[i].text,lp_right[i].text)\n"
   ]
  },
  {
   "cell_type": "code",
   "execution_count": 22,
   "metadata": {},
   "outputs": [],
   "source": [
    "def extract_left_strike(webdriver):\n",
    "    lp_left = webdriver.find_elements_by_xpath(\"//td[@class='lastPrice_left']\")\n",
    "    strike_price = webdriver.find_elements_by_xpath(\"//td[@class='strikePrice']\")\n",
    "    lp_right = webdriver.find_elements_by_xpath(\"//td[@class='lastPrice_right']\")\n",
    "    out_list = []\n",
    "    for i in range(len(lp_left)):\n",
    "        out_list.append([lp_left[i].text,strike_price[i].text,lp_right[i].text])\n",
    "    return out_list"
   ]
  },
  {
   "cell_type": "code",
   "execution_count": 23,
   "metadata": {},
   "outputs": [],
   "source": [
    "driver = load_site()\n",
    "test_out = extract_left_strike(webdriver=driver)\n",
    "with open('temp_0.csv', 'w') as csvfile:\n",
    "    writer = csv.writer(csvfile,delimiter=',',quotechar='\"',quoting=csv.QUOTE_NONNUMERIC)\n",
    "    writer.writerow([\"Date\",get_capture_date()])\n",
    "    for i in test_out:\n",
    "        if(i[0]=='Last'):\n",
    "            continue\n",
    "        writer.writerow(i)\n"
   ]
  },
  {
   "cell_type": "code",
   "execution_count": 204,
   "metadata": {},
   "outputs": [],
   "source": [
    "with open('temp_0.csv', 'w') as csvfile:\n",
    "    writer = csv.writer(csvfile,delimiter=',',quotechar='\"',quoting=csv.QUOTE_NONNUMERIC)\n",
    "    for i in range(len(lp_left)):\n",
    "        if(lp_left[i].text=='Last'):\n",
    "            continue\n",
    "        writer.writerow([lp_left[i].text,strike_price[i].text,lp_right[i].text])\n",
    "        \n",
    "\n",
    "    #     for row in test_out:\n",
    "#         writer.writerow(row)"
   ]
  },
  {
   "cell_type": "code",
   "execution_count": 24,
   "metadata": {},
   "outputs": [],
   "source": [
    "def extract_barchart_site(input_url='https://www.barchart.com/futures/quotes/ZW*0/options?futuresOptionsView=split'\\\n",
    "                         ,name='wheat',write_option='a'):\n",
    "    driver = load_site(input_url=input_url)\n",
    "    output_file = name + \".csv\"    \n",
    "    test_out = extract_left_strike(webdriver=driver)\n",
    "    with open(output_file, write_option) as csvfile:\n",
    "        writer = csv.writer(csvfile,delimiter=',',quotechar='\"',quoting=csv.QUOTE_NONNUMERIC)\n",
    "        writer.writerow([\"Date\",get_capture_date()])\n",
    "        writer.writerow([\"Last\",extract_last(webdriver=driver)])\n",
    "        writer.writerow([\"Days to expiration\",extract_days_to_expiration(webdriver=driver)])\n",
    "        writer.writerow([\"IV\",extract_iv(webdriver=driver)])\n",
    "        writer.writerow([\"Time\",get_capture_time()])\n",
    "        writer.writerow([])\n",
    "        writer.writerow([\"Last\",\"Strike\",\"Last\"])\n",
    "        for i in test_out:\n",
    "            if(i[0]=='Last'):\n",
    "                continue\n",
    "            writer.writerow(i)\n",
    "            \n",
    "        writer.writerow([])\n"
   ]
  },
  {
   "cell_type": "code",
   "execution_count": 25,
   "metadata": {},
   "outputs": [],
   "source": [
    "# extract_barchart_site(write_option='w')\n",
    "extract_barchart_site(write_option='a')"
   ]
  },
  {
   "cell_type": "code",
   "execution_count": 27,
   "metadata": {},
   "outputs": [],
   "source": [
    "screenshot_page(webdriver=driver,output_file='wheat.pdf')"
   ]
  },
  {
   "cell_type": "code",
   "execution_count": 28,
   "metadata": {},
   "outputs": [
    {
     "data": {
      "text/plain": [
       "'Tue Jan 01, 2019'"
      ]
     },
     "execution_count": 28,
     "metadata": {},
     "output_type": "execute_result"
    }
   ],
   "source": [
    "get_capture_date()"
   ]
  },
  {
   "cell_type": "code",
   "execution_count": 29,
   "metadata": {},
   "outputs": [
    {
     "data": {
      "text/plain": [
       "'19:28:58 UTC'"
      ]
     },
     "execution_count": 29,
     "metadata": {},
     "output_type": "execute_result"
    }
   ],
   "source": [
    "get_capture_time()"
   ]
  },
  {
   "cell_type": "code",
   "execution_count": 36,
   "metadata": {},
   "outputs": [
    {
     "data": {
      "text/plain": [
       "'2019-01-01_19-31-37-UTC'"
      ]
     },
     "execution_count": 36,
     "metadata": {},
     "output_type": "execute_result"
    }
   ],
   "source": []
  },
  {
   "cell_type": "code",
   "execution_count": null,
   "metadata": {},
   "outputs": [],
   "source": []
  }
 ],
 "metadata": {
  "kernelspec": {
   "display_name": "Python 3",
   "language": "python",
   "name": "python3"
  },
  "language_info": {
   "codemirror_mode": {
    "name": "ipython",
    "version": 3
   },
   "file_extension": ".py",
   "mimetype": "text/x-python",
   "name": "python",
   "nbconvert_exporter": "python",
   "pygments_lexer": "ipython3",
   "version": "3.7.0"
  },
  "widgets": {
   "state": {},
   "version": "1.1.2"
  }
 },
 "nbformat": 4,
 "nbformat_minor": 2
}
